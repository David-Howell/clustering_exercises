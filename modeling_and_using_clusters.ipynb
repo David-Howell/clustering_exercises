{
 "cells": [
  {
   "cell_type": "markdown",
   "id": "a24edb33-1c5c-467f-ad47-1921522d9c78",
   "metadata": {},
   "source": [
    "### Making and Using Clusters:\n",
    " - Goals:\n",
    " - utilize sklearn to create KMeans clusters, and investigate *how to make them useful*"
   ]
  },
  {
   "cell_type": "code",
   "execution_count": 1,
   "id": "a6bf48db-625d-46d3-8bdc-d418c43edba9",
   "metadata": {},
   "outputs": [],
   "source": [
    "import pandas as pd\n",
    "import numpy as np\n",
    "import seaborn as sns\n",
    "import matplotlib.pyplot as plt\n",
    "\n",
    "from sklearn.model_selection import train_test_split\n",
    "from sklearn.preprocessing import MinMaxScaler\n",
    "from sklearn.cluster import KMeans\n"
   ]
  },
  {
   "cell_type": "code",
   "execution_count": 2,
   "id": "bfd07a2b-5aa7-4d94-9f68-3f854779de9d",
   "metadata": {},
   "outputs": [],
   "source": [
    "# let's grab the mall data again:\n",
    "df = pd.read_csv('https://gist.githubusercontent.com/ryanorsinger/cc276eea59e8295204d1f581c8da509f/raw/2388559aef7a0700eb31e7604351364b16e99653/mall_customers.csv', index_col=\"customer_id\")"
   ]
  },
  {
   "cell_type": "code",
   "execution_count": 3,
   "id": "3d5c5e58-ddae-4366-b400-7ca9d4bf5423",
   "metadata": {},
   "outputs": [
    {
     "data": {
      "text/html": [
       "<div>\n",
       "<style scoped>\n",
       "    .dataframe tbody tr th:only-of-type {\n",
       "        vertical-align: middle;\n",
       "    }\n",
       "\n",
       "    .dataframe tbody tr th {\n",
       "        vertical-align: top;\n",
       "    }\n",
       "\n",
       "    .dataframe thead th {\n",
       "        text-align: right;\n",
       "    }\n",
       "</style>\n",
       "<table border=\"1\" class=\"dataframe\">\n",
       "  <thead>\n",
       "    <tr style=\"text-align: right;\">\n",
       "      <th></th>\n",
       "      <th>gender</th>\n",
       "      <th>age</th>\n",
       "      <th>annual_income</th>\n",
       "      <th>spending_score</th>\n",
       "    </tr>\n",
       "    <tr>\n",
       "      <th>customer_id</th>\n",
       "      <th></th>\n",
       "      <th></th>\n",
       "      <th></th>\n",
       "      <th></th>\n",
       "    </tr>\n",
       "  </thead>\n",
       "  <tbody>\n",
       "    <tr>\n",
       "      <th>1</th>\n",
       "      <td>Male</td>\n",
       "      <td>19</td>\n",
       "      <td>15</td>\n",
       "      <td>39</td>\n",
       "    </tr>\n",
       "    <tr>\n",
       "      <th>2</th>\n",
       "      <td>Male</td>\n",
       "      <td>21</td>\n",
       "      <td>15</td>\n",
       "      <td>81</td>\n",
       "    </tr>\n",
       "    <tr>\n",
       "      <th>3</th>\n",
       "      <td>Female</td>\n",
       "      <td>20</td>\n",
       "      <td>16</td>\n",
       "      <td>6</td>\n",
       "    </tr>\n",
       "    <tr>\n",
       "      <th>4</th>\n",
       "      <td>Female</td>\n",
       "      <td>23</td>\n",
       "      <td>16</td>\n",
       "      <td>77</td>\n",
       "    </tr>\n",
       "    <tr>\n",
       "      <th>5</th>\n",
       "      <td>Female</td>\n",
       "      <td>31</td>\n",
       "      <td>17</td>\n",
       "      <td>40</td>\n",
       "    </tr>\n",
       "  </tbody>\n",
       "</table>\n",
       "</div>"
      ],
      "text/plain": [
       "             gender  age  annual_income  spending_score\n",
       "customer_id                                            \n",
       "1              Male   19             15              39\n",
       "2              Male   21             15              81\n",
       "3            Female   20             16               6\n",
       "4            Female   23             16              77\n",
       "5            Female   31             17              40"
      ]
     },
     "execution_count": 3,
     "metadata": {},
     "output_type": "execute_result"
    }
   ],
   "source": [
    "df.head()"
   ]
  },
  {
   "cell_type": "markdown",
   "id": "e4c030cf-da7c-4d16-8eee-cdd110622c73",
   "metadata": {},
   "source": [
    "#### Quick takeaways from this data set:\n",
    " - Gender is not a good candidate for KMeans Clustering.  It is not continuous information (its categorical) and will not provide a ton of value with this specific clustering algorithm\n",
    " - This does not necessarily mean that Gender is not a good candidate for observations about these customers.  Proper analysis and exploration will allow us to provide utility based on our familiar methods of visual exploration and statistical testing"
   ]
  },
  {
   "cell_type": "code",
   "execution_count": 5,
   "id": "21e9feec-c40a-4b4b-8a56-bae15c888a25",
   "metadata": {},
   "outputs": [
    {
     "data": {
      "text/html": [
       "<div>\n",
       "<style scoped>\n",
       "    .dataframe tbody tr th:only-of-type {\n",
       "        vertical-align: middle;\n",
       "    }\n",
       "\n",
       "    .dataframe tbody tr th {\n",
       "        vertical-align: top;\n",
       "    }\n",
       "\n",
       "    .dataframe thead th {\n",
       "        text-align: right;\n",
       "    }\n",
       "</style>\n",
       "<table border=\"1\" class=\"dataframe\">\n",
       "  <thead>\n",
       "    <tr style=\"text-align: right;\">\n",
       "      <th></th>\n",
       "      <th>gender</th>\n",
       "      <th>Female</th>\n",
       "      <th>Male</th>\n",
       "    </tr>\n",
       "  </thead>\n",
       "  <tbody>\n",
       "    <tr>\n",
       "      <th rowspan=\"5\" valign=\"top\">age</th>\n",
       "      <th>min</th>\n",
       "      <td>18.000000</td>\n",
       "      <td>18.000000</td>\n",
       "    </tr>\n",
       "    <tr>\n",
       "      <th>max</th>\n",
       "      <td>68.000000</td>\n",
       "      <td>70.000000</td>\n",
       "    </tr>\n",
       "    <tr>\n",
       "      <th>median</th>\n",
       "      <td>35.000000</td>\n",
       "      <td>37.000000</td>\n",
       "    </tr>\n",
       "    <tr>\n",
       "      <th>std</th>\n",
       "      <td>12.644095</td>\n",
       "      <td>15.514812</td>\n",
       "    </tr>\n",
       "    <tr>\n",
       "      <th>mean</th>\n",
       "      <td>38.098214</td>\n",
       "      <td>39.806818</td>\n",
       "    </tr>\n",
       "    <tr>\n",
       "      <th rowspan=\"5\" valign=\"top\">annual_income</th>\n",
       "      <th>min</th>\n",
       "      <td>16.000000</td>\n",
       "      <td>15.000000</td>\n",
       "    </tr>\n",
       "    <tr>\n",
       "      <th>max</th>\n",
       "      <td>126.000000</td>\n",
       "      <td>137.000000</td>\n",
       "    </tr>\n",
       "    <tr>\n",
       "      <th>median</th>\n",
       "      <td>60.000000</td>\n",
       "      <td>62.500000</td>\n",
       "    </tr>\n",
       "    <tr>\n",
       "      <th>std</th>\n",
       "      <td>26.011952</td>\n",
       "      <td>26.638373</td>\n",
       "    </tr>\n",
       "    <tr>\n",
       "      <th>mean</th>\n",
       "      <td>59.250000</td>\n",
       "      <td>62.227273</td>\n",
       "    </tr>\n",
       "    <tr>\n",
       "      <th rowspan=\"5\" valign=\"top\">spending_score</th>\n",
       "      <th>min</th>\n",
       "      <td>5.000000</td>\n",
       "      <td>1.000000</td>\n",
       "    </tr>\n",
       "    <tr>\n",
       "      <th>max</th>\n",
       "      <td>99.000000</td>\n",
       "      <td>97.000000</td>\n",
       "    </tr>\n",
       "    <tr>\n",
       "      <th>median</th>\n",
       "      <td>50.000000</td>\n",
       "      <td>50.000000</td>\n",
       "    </tr>\n",
       "    <tr>\n",
       "      <th>std</th>\n",
       "      <td>24.114950</td>\n",
       "      <td>27.896770</td>\n",
       "    </tr>\n",
       "    <tr>\n",
       "      <th>mean</th>\n",
       "      <td>51.526786</td>\n",
       "      <td>48.511364</td>\n",
       "    </tr>\n",
       "  </tbody>\n",
       "</table>\n",
       "</div>"
      ],
      "text/plain": [
       "gender                     Female        Male\n",
       "age            min      18.000000   18.000000\n",
       "               max      68.000000   70.000000\n",
       "               median   35.000000   37.000000\n",
       "               std      12.644095   15.514812\n",
       "               mean     38.098214   39.806818\n",
       "annual_income  min      16.000000   15.000000\n",
       "               max     126.000000  137.000000\n",
       "               median   60.000000   62.500000\n",
       "               std      26.011952   26.638373\n",
       "               mean     59.250000   62.227273\n",
       "spending_score min       5.000000    1.000000\n",
       "               max      99.000000   97.000000\n",
       "               median   50.000000   50.000000\n",
       "               std      24.114950   27.896770\n",
       "               mean     51.526786   48.511364"
      ]
     },
     "execution_count": 5,
     "metadata": {},
     "output_type": "execute_result"
    }
   ],
   "source": [
    "df.groupby('gender').agg(\n",
    "    ['min', 'max', 'median', 'std', 'mean']).T"
   ]
  },
  {
   "cell_type": "markdown",
   "id": "5cc1787c-f833-401b-b86e-8607ad1f3f5c",
   "metadata": {},
   "source": [
    " - On initial observation of the descriptive stats for these groups in gender, I'm not seeing immediate disparity. \n",
    " - In order to certify this further I would want to utlize a bit more exploratory data analysis (viz and stats testing)\n",
    " - In the meantime, for my modeling MVP, I am going to proceed with the continuous features that I have present and continue assessing them as appropriate"
   ]
  },
  {
   "cell_type": "code",
   "execution_count": 10,
   "id": "c4181f58-1ab5-4942-92ff-2c06d4ed35b5",
   "metadata": {},
   "outputs": [],
   "source": [
    "# long and short: I'm going to ignore gender for now.\n",
    "# example note: \n",
    "# in production I would not just be yeeting this info\n",
    "df = df.drop(columns='gender')"
   ]
  },
  {
   "cell_type": "code",
   "execution_count": 7,
   "id": "57750f60-727d-4f53-9a34-98ba5d3cd0a7",
   "metadata": {},
   "outputs": [
    {
     "data": {
      "text/html": [
       "<div>\n",
       "<style scoped>\n",
       "    .dataframe tbody tr th:only-of-type {\n",
       "        vertical-align: middle;\n",
       "    }\n",
       "\n",
       "    .dataframe tbody tr th {\n",
       "        vertical-align: top;\n",
       "    }\n",
       "\n",
       "    .dataframe thead th {\n",
       "        text-align: right;\n",
       "    }\n",
       "</style>\n",
       "<table border=\"1\" class=\"dataframe\">\n",
       "  <thead>\n",
       "    <tr style=\"text-align: right;\">\n",
       "      <th></th>\n",
       "      <th>gender</th>\n",
       "      <th>age</th>\n",
       "      <th>annual_income</th>\n",
       "      <th>spending_score</th>\n",
       "    </tr>\n",
       "    <tr>\n",
       "      <th>customer_id</th>\n",
       "      <th></th>\n",
       "      <th></th>\n",
       "      <th></th>\n",
       "      <th></th>\n",
       "    </tr>\n",
       "  </thead>\n",
       "  <tbody>\n",
       "    <tr>\n",
       "      <th>1</th>\n",
       "      <td>Male</td>\n",
       "      <td>19</td>\n",
       "      <td>15</td>\n",
       "      <td>39</td>\n",
       "    </tr>\n",
       "    <tr>\n",
       "      <th>2</th>\n",
       "      <td>Male</td>\n",
       "      <td>21</td>\n",
       "      <td>15</td>\n",
       "      <td>81</td>\n",
       "    </tr>\n",
       "    <tr>\n",
       "      <th>3</th>\n",
       "      <td>Female</td>\n",
       "      <td>20</td>\n",
       "      <td>16</td>\n",
       "      <td>6</td>\n",
       "    </tr>\n",
       "    <tr>\n",
       "      <th>4</th>\n",
       "      <td>Female</td>\n",
       "      <td>23</td>\n",
       "      <td>16</td>\n",
       "      <td>77</td>\n",
       "    </tr>\n",
       "    <tr>\n",
       "      <th>5</th>\n",
       "      <td>Female</td>\n",
       "      <td>31</td>\n",
       "      <td>17</td>\n",
       "      <td>40</td>\n",
       "    </tr>\n",
       "    <tr>\n",
       "      <th>...</th>\n",
       "      <td>...</td>\n",
       "      <td>...</td>\n",
       "      <td>...</td>\n",
       "      <td>...</td>\n",
       "    </tr>\n",
       "    <tr>\n",
       "      <th>196</th>\n",
       "      <td>Female</td>\n",
       "      <td>35</td>\n",
       "      <td>120</td>\n",
       "      <td>79</td>\n",
       "    </tr>\n",
       "    <tr>\n",
       "      <th>197</th>\n",
       "      <td>Female</td>\n",
       "      <td>45</td>\n",
       "      <td>126</td>\n",
       "      <td>28</td>\n",
       "    </tr>\n",
       "    <tr>\n",
       "      <th>198</th>\n",
       "      <td>Male</td>\n",
       "      <td>32</td>\n",
       "      <td>126</td>\n",
       "      <td>74</td>\n",
       "    </tr>\n",
       "    <tr>\n",
       "      <th>199</th>\n",
       "      <td>Male</td>\n",
       "      <td>32</td>\n",
       "      <td>137</td>\n",
       "      <td>18</td>\n",
       "    </tr>\n",
       "    <tr>\n",
       "      <th>200</th>\n",
       "      <td>Male</td>\n",
       "      <td>30</td>\n",
       "      <td>137</td>\n",
       "      <td>83</td>\n",
       "    </tr>\n",
       "  </tbody>\n",
       "</table>\n",
       "<p>200 rows × 4 columns</p>\n",
       "</div>"
      ],
      "text/plain": [
       "             gender  age  annual_income  spending_score\n",
       "customer_id                                            \n",
       "1              Male   19             15              39\n",
       "2              Male   21             15              81\n",
       "3            Female   20             16               6\n",
       "4            Female   23             16              77\n",
       "5            Female   31             17              40\n",
       "...             ...  ...            ...             ...\n",
       "196          Female   35            120              79\n",
       "197          Female   45            126              28\n",
       "198            Male   32            126              74\n",
       "199            Male   32            137              18\n",
       "200            Male   30            137              83\n",
       "\n",
       "[200 rows x 4 columns]"
      ]
     },
     "execution_count": 7,
     "metadata": {},
     "output_type": "execute_result"
    }
   ],
   "source": [
    "df"
   ]
  },
  {
   "cell_type": "code",
   "execution_count": 11,
   "id": "c1c05931-260d-4e0f-aade-ba23078a940e",
   "metadata": {},
   "outputs": [],
   "source": [
    "# example thing again: I'm just going to claim that this is my training\n",
    "# set rather than actually splitting it\n",
    "\n",
    "train = df.copy()"
   ]
  },
  {
   "cell_type": "code",
   "execution_count": 12,
   "id": "554be087-6f9a-498b-a45f-a7768f3ca527",
   "metadata": {},
   "outputs": [
    {
     "data": {
      "text/html": [
       "<div>\n",
       "<style scoped>\n",
       "    .dataframe tbody tr th:only-of-type {\n",
       "        vertical-align: middle;\n",
       "    }\n",
       "\n",
       "    .dataframe tbody tr th {\n",
       "        vertical-align: top;\n",
       "    }\n",
       "\n",
       "    .dataframe thead th {\n",
       "        text-align: right;\n",
       "    }\n",
       "</style>\n",
       "<table border=\"1\" class=\"dataframe\">\n",
       "  <thead>\n",
       "    <tr style=\"text-align: right;\">\n",
       "      <th></th>\n",
       "      <th>age</th>\n",
       "      <th>annual_income</th>\n",
       "      <th>spending_score</th>\n",
       "    </tr>\n",
       "    <tr>\n",
       "      <th>customer_id</th>\n",
       "      <th></th>\n",
       "      <th></th>\n",
       "      <th></th>\n",
       "    </tr>\n",
       "  </thead>\n",
       "  <tbody>\n",
       "    <tr>\n",
       "      <th>1</th>\n",
       "      <td>19</td>\n",
       "      <td>15</td>\n",
       "      <td>39</td>\n",
       "    </tr>\n",
       "    <tr>\n",
       "      <th>2</th>\n",
       "      <td>21</td>\n",
       "      <td>15</td>\n",
       "      <td>81</td>\n",
       "    </tr>\n",
       "    <tr>\n",
       "      <th>3</th>\n",
       "      <td>20</td>\n",
       "      <td>16</td>\n",
       "      <td>6</td>\n",
       "    </tr>\n",
       "    <tr>\n",
       "      <th>4</th>\n",
       "      <td>23</td>\n",
       "      <td>16</td>\n",
       "      <td>77</td>\n",
       "    </tr>\n",
       "    <tr>\n",
       "      <th>5</th>\n",
       "      <td>31</td>\n",
       "      <td>17</td>\n",
       "      <td>40</td>\n",
       "    </tr>\n",
       "    <tr>\n",
       "      <th>...</th>\n",
       "      <td>...</td>\n",
       "      <td>...</td>\n",
       "      <td>...</td>\n",
       "    </tr>\n",
       "    <tr>\n",
       "      <th>196</th>\n",
       "      <td>35</td>\n",
       "      <td>120</td>\n",
       "      <td>79</td>\n",
       "    </tr>\n",
       "    <tr>\n",
       "      <th>197</th>\n",
       "      <td>45</td>\n",
       "      <td>126</td>\n",
       "      <td>28</td>\n",
       "    </tr>\n",
       "    <tr>\n",
       "      <th>198</th>\n",
       "      <td>32</td>\n",
       "      <td>126</td>\n",
       "      <td>74</td>\n",
       "    </tr>\n",
       "    <tr>\n",
       "      <th>199</th>\n",
       "      <td>32</td>\n",
       "      <td>137</td>\n",
       "      <td>18</td>\n",
       "    </tr>\n",
       "    <tr>\n",
       "      <th>200</th>\n",
       "      <td>30</td>\n",
       "      <td>137</td>\n",
       "      <td>83</td>\n",
       "    </tr>\n",
       "  </tbody>\n",
       "</table>\n",
       "<p>200 rows × 3 columns</p>\n",
       "</div>"
      ],
      "text/plain": [
       "             age  annual_income  spending_score\n",
       "customer_id                                    \n",
       "1             19             15              39\n",
       "2             21             15              81\n",
       "3             20             16               6\n",
       "4             23             16              77\n",
       "5             31             17              40\n",
       "...          ...            ...             ...\n",
       "196           35            120              79\n",
       "197           45            126              28\n",
       "198           32            126              74\n",
       "199           32            137              18\n",
       "200           30            137              83\n",
       "\n",
       "[200 rows x 3 columns]"
      ]
     },
     "execution_count": 12,
     "metadata": {},
     "output_type": "execute_result"
    }
   ],
   "source": [
    "train"
   ]
  },
  {
   "cell_type": "code",
   "execution_count": 13,
   "id": "e081becd-b80b-411a-9b32-c754addea645",
   "metadata": {},
   "outputs": [
    {
     "name": "stdout",
     "output_type": "stream",
     "text": [
      "<class 'pandas.core.frame.DataFrame'>\n",
      "Int64Index: 200 entries, 1 to 200\n",
      "Data columns (total 3 columns):\n",
      " #   Column          Non-Null Count  Dtype\n",
      "---  ------          --------------  -----\n",
      " 0   age             200 non-null    int64\n",
      " 1   annual_income   200 non-null    int64\n",
      " 2   spending_score  200 non-null    int64\n",
      "dtypes: int64(3)\n",
      "memory usage: 14.4 KB\n"
     ]
    }
   ],
   "source": [
    "train.info()"
   ]
  },
  {
   "cell_type": "code",
   "execution_count": 14,
   "id": "36cf17cb-c3dc-4511-81b4-f6682663226c",
   "metadata": {},
   "outputs": [],
   "source": [
    "# train is already clean -- no extra need for imputation here\n",
    "# everything is numerical and filled"
   ]
  },
  {
   "cell_type": "code",
   "execution_count": 16,
   "id": "e1347da6-834d-499e-bf28-0626185a7230",
   "metadata": {},
   "outputs": [],
   "source": [
    "# apply scaling so that my distance based algorithms\n",
    "# will properly observe the data present\n",
    "# make, fit, apply:\n",
    "scaler = MinMaxScaler()\n",
    "# train is all numerical so I can call the whole thing\n",
    "train_scaled = pd.DataFrame(\n",
    "    scaler.fit_transform(train),\n",
    "    index = train.index,\n",
    "    columns = train.columns)\n"
   ]
  },
  {
   "cell_type": "code",
   "execution_count": 17,
   "id": "efda2d8d-8e47-4933-8cf8-a6e96921364c",
   "metadata": {},
   "outputs": [
    {
     "data": {
      "text/html": [
       "<div>\n",
       "<style scoped>\n",
       "    .dataframe tbody tr th:only-of-type {\n",
       "        vertical-align: middle;\n",
       "    }\n",
       "\n",
       "    .dataframe tbody tr th {\n",
       "        vertical-align: top;\n",
       "    }\n",
       "\n",
       "    .dataframe thead th {\n",
       "        text-align: right;\n",
       "    }\n",
       "</style>\n",
       "<table border=\"1\" class=\"dataframe\">\n",
       "  <thead>\n",
       "    <tr style=\"text-align: right;\">\n",
       "      <th></th>\n",
       "      <th>age</th>\n",
       "      <th>annual_income</th>\n",
       "      <th>spending_score</th>\n",
       "    </tr>\n",
       "    <tr>\n",
       "      <th>customer_id</th>\n",
       "      <th></th>\n",
       "      <th></th>\n",
       "      <th></th>\n",
       "    </tr>\n",
       "  </thead>\n",
       "  <tbody>\n",
       "    <tr>\n",
       "      <th>1</th>\n",
       "      <td>0.019231</td>\n",
       "      <td>0.000000</td>\n",
       "      <td>0.387755</td>\n",
       "    </tr>\n",
       "    <tr>\n",
       "      <th>2</th>\n",
       "      <td>0.057692</td>\n",
       "      <td>0.000000</td>\n",
       "      <td>0.816327</td>\n",
       "    </tr>\n",
       "    <tr>\n",
       "      <th>3</th>\n",
       "      <td>0.038462</td>\n",
       "      <td>0.008197</td>\n",
       "      <td>0.051020</td>\n",
       "    </tr>\n",
       "    <tr>\n",
       "      <th>4</th>\n",
       "      <td>0.096154</td>\n",
       "      <td>0.008197</td>\n",
       "      <td>0.775510</td>\n",
       "    </tr>\n",
       "    <tr>\n",
       "      <th>5</th>\n",
       "      <td>0.250000</td>\n",
       "      <td>0.016393</td>\n",
       "      <td>0.397959</td>\n",
       "    </tr>\n",
       "    <tr>\n",
       "      <th>...</th>\n",
       "      <td>...</td>\n",
       "      <td>...</td>\n",
       "      <td>...</td>\n",
       "    </tr>\n",
       "    <tr>\n",
       "      <th>196</th>\n",
       "      <td>0.326923</td>\n",
       "      <td>0.860656</td>\n",
       "      <td>0.795918</td>\n",
       "    </tr>\n",
       "    <tr>\n",
       "      <th>197</th>\n",
       "      <td>0.519231</td>\n",
       "      <td>0.909836</td>\n",
       "      <td>0.275510</td>\n",
       "    </tr>\n",
       "    <tr>\n",
       "      <th>198</th>\n",
       "      <td>0.269231</td>\n",
       "      <td>0.909836</td>\n",
       "      <td>0.744898</td>\n",
       "    </tr>\n",
       "    <tr>\n",
       "      <th>199</th>\n",
       "      <td>0.269231</td>\n",
       "      <td>1.000000</td>\n",
       "      <td>0.173469</td>\n",
       "    </tr>\n",
       "    <tr>\n",
       "      <th>200</th>\n",
       "      <td>0.230769</td>\n",
       "      <td>1.000000</td>\n",
       "      <td>0.836735</td>\n",
       "    </tr>\n",
       "  </tbody>\n",
       "</table>\n",
       "<p>200 rows × 3 columns</p>\n",
       "</div>"
      ],
      "text/plain": [
       "                  age  annual_income  spending_score\n",
       "customer_id                                         \n",
       "1            0.019231       0.000000        0.387755\n",
       "2            0.057692       0.000000        0.816327\n",
       "3            0.038462       0.008197        0.051020\n",
       "4            0.096154       0.008197        0.775510\n",
       "5            0.250000       0.016393        0.397959\n",
       "...               ...            ...             ...\n",
       "196          0.326923       0.860656        0.795918\n",
       "197          0.519231       0.909836        0.275510\n",
       "198          0.269231       0.909836        0.744898\n",
       "199          0.269231       1.000000        0.173469\n",
       "200          0.230769       1.000000        0.836735\n",
       "\n",
       "[200 rows x 3 columns]"
      ]
     },
     "execution_count": 17,
     "metadata": {},
     "output_type": "execute_result"
    }
   ],
   "source": [
    "train_scaled"
   ]
  },
  {
   "cell_type": "markdown",
   "id": "d300d27c-0526-48b2-bcaa-40f3dc934619",
   "metadata": {},
   "source": [
    "Lets observe this visually to re-assess if there is any utility in clustering for this specific case"
   ]
  },
  {
   "cell_type": "code",
   "execution_count": 18,
   "id": "8971cf65-ac6b-4d95-a2e4-a23e77bbdaa2",
   "metadata": {},
   "outputs": [
    {
     "data": {
      "image/png": "[encoded data removed]",
      "text/plain": [
       "<Figure size 408.75x360 with 1 Axes>"
      ]
     },
     "metadata": {
      "needs_background": "light"
     },
     "output_type": "display_data"
    }
   ],
   "source": [
    "sns.relplot(\n",
    "    data=train, \n",
    "    x='annual_income', \n",
    "    y='spending_score', hue='age').set(\n",
    "    title='Income v Spending Highlighted with Age');"
   ]
  },
  {
   "cell_type": "code",
   "execution_count": 19,
   "id": "c6934431-5dd2-4485-9953-4516292cfae2",
   "metadata": {},
   "outputs": [
    {
     "data": {
      "image/png": "[encoded data removed]",
      "text/plain": [
       "<Figure size 445.75x360 with 1 Axes>"
      ]
     },
     "metadata": {
      "needs_background": "light"
     },
     "output_type": "display_data"
    }
   ],
   "source": [
    "sns.relplot(\n",
    "    data=train, \n",
    "    x='annual_income', \n",
    "    y='age', hue='spending_score').set(\n",
    "    title='Income v Age Highlighted with Spending Score');"
   ]
  },
  {
   "cell_type": "markdown",
   "id": "46c600f2-d1ec-4666-a74d-6bc0cf3c04cb",
   "metadata": {},
   "source": [
    "#### Basic visualization and exploratory takeaways:\n",
    " - spending_score and income seem to be driving segments of customers in this specific case.\n",
    " - age does not seem to be as relevant.  There are observable patterns in that older customers appear to genderally have a slightly lower spending score, but not totally consistently."
   ]
  },
  {
   "cell_type": "code",
   "execution_count": 21,
   "id": "4d82f5a0-7e52-4e71-99c3-ad4f02cbb78f",
   "metadata": {},
   "outputs": [],
   "source": [
    "# let's make an initial sklearn object \n",
    "# to create a cluster label\n",
    "kmeans = KMeans(n_clusters=5)\n",
    "kmeans.fit(train_scaled)\n",
    "train['cluster'] = kmeans.predict(train_scaled)"
   ]
  },
  {
   "cell_type": "code",
   "execution_count": 33,
   "id": "a85678d5-68d1-4789-b7a3-c9adeb8a3612",
   "metadata": {},
   "outputs": [],
   "source": [
    "train_scaled['cluster'] = kmeans.predict(train_scaled)"
   ]
  },
  {
   "cell_type": "code",
   "execution_count": 22,
   "id": "39a4da75-34af-4647-868d-fb8a146a2e6c",
   "metadata": {},
   "outputs": [
    {
     "data": {
      "text/plain": [
       "3    58\n",
       "4    49\n",
       "0    40\n",
       "2    30\n",
       "1    23\n",
       "Name: cluster, dtype: int64"
      ]
     },
     "execution_count": 22,
     "metadata": {},
     "output_type": "execute_result"
    }
   ],
   "source": [
    "train.cluster.value_counts()"
   ]
  },
  {
   "cell_type": "markdown",
   "id": "89f56675-d2d8-4af6-9c5a-ed2057aab4bc",
   "metadata": {},
   "source": [
    "## New thing: The Elbow Method\n",
    " - The elbow method allows us to examine the average residual from any given centroid out to its population of data points.\n",
    " - If one cluster provides us with our maximum possible interia, and n clusters (n being every row of data) clusters provides us with zero inertia, there should be a sweet spot where we experience dropoff"
   ]
  },
  {
   "cell_type": "markdown",
   "id": "eb810a3e-8cc4-449f-9a35-37420f087dfc",
   "metadata": {},
   "source": [
    " - Vocabulary:\n",
    " - *inertia*: residual error sums of the clusters\n",
    " - *k*: number of clusters established\n",
    " - *centroid*: the anchor point of any given K-Means cluster"
   ]
  },
  {
   "cell_type": "code",
   "execution_count": 24,
   "id": "7adf412e-7fe9-4447-92e1-80502d6a65d1",
   "metadata": {},
   "outputs": [
    {
     "data": {
      "text/plain": [
       "10.303964892534129"
      ]
     },
     "execution_count": 24,
     "metadata": {},
     "output_type": "execute_result"
    }
   ],
   "source": [
    "kmeans.inertia_"
   ]
  },
  {
   "cell_type": "code",
   "execution_count": 26,
   "id": "8f4c4177-409c-462b-b7e7-ebd576fda2b1",
   "metadata": {},
   "outputs": [
    {
     "data": {
      "text/plain": [
       "[0, 1, 2, 3, 4]"
      ]
     },
     "execution_count": 26,
     "metadata": {},
     "output_type": "execute_result"
    }
   ],
   "source": [
    "# quick comprehension recap\n",
    "# previously with lists:\n",
    "# we define an iterable and cram a for-loop\n",
    "# into brackets to generate a list\n",
    "[x for x in range(0,5)]"
   ]
  },
  {
   "cell_type": "code",
   "execution_count": 29,
   "id": "ed9f18b1-a687-4456-a975-bbde4e9e4baf",
   "metadata": {},
   "outputs": [
    {
     "data": {
      "text/plain": [
       "{'number 0': 0, 'number 1': 1, 'number 2': 2, 'number 3': 3, 'number 4': 4}"
      ]
     },
     "execution_count": 29,
     "metadata": {},
     "output_type": "execute_result"
    }
   ],
   "source": [
    "# we can do the exact same thing with a dictionary,\n",
    "# we merely need to define a key/value pair\n",
    "{f'number {x}': x for x in range(0,5)}"
   ]
  },
  {
   "cell_type": "code",
   "execution_count": 32,
   "id": "1a97861d-69d3-4c45-b8c0-2624e2eef18b",
   "metadata": {},
   "outputs": [
    {
     "data": {
      "image/png": "[encoded data removed]",
      "text/plain": [
       "<Figure size 432x288 with 1 Axes>"
      ]
     },
     "metadata": {
      "needs_background": "light"
     },
     "output_type": "display_data"
    }
   ],
   "source": [
    "# let's use a dictionary \n",
    "# comprehension to associate the number of clusters\n",
    "# with the intertia for that specific Kmeans model\n",
    "pd.Series(\n",
    "    {k: KMeans(k).fit(train_scaled).inertia_ \n",
    "     for k in range(2,15)}).plot(marker='x')\n",
    "plt.ylabel('Inertia')\n",
    "plt.xlabel('k number of clusters')\n",
    "plt.title('Change in Inertia as K Increases')\n",
    "plt.show()\n"
   ]
  },
  {
   "cell_type": "code",
   "execution_count": 34,
   "id": "e6fa932c-c809-44db-b2c7-fa71b9c0dc42",
   "metadata": {},
   "outputs": [
    {
     "data": {
      "text/html": [
       "<div>\n",
       "<style scoped>\n",
       "    .dataframe tbody tr th:only-of-type {\n",
       "        vertical-align: middle;\n",
       "    }\n",
       "\n",
       "    .dataframe tbody tr th {\n",
       "        vertical-align: top;\n",
       "    }\n",
       "\n",
       "    .dataframe thead th {\n",
       "        text-align: right;\n",
       "    }\n",
       "</style>\n",
       "<table border=\"1\" class=\"dataframe\">\n",
       "  <thead>\n",
       "    <tr style=\"text-align: right;\">\n",
       "      <th></th>\n",
       "      <th>age</th>\n",
       "      <th>annual_income</th>\n",
       "      <th>spending_score</th>\n",
       "      <th>cluster</th>\n",
       "    </tr>\n",
       "    <tr>\n",
       "      <th>customer_id</th>\n",
       "      <th></th>\n",
       "      <th></th>\n",
       "      <th></th>\n",
       "      <th></th>\n",
       "    </tr>\n",
       "  </thead>\n",
       "  <tbody>\n",
       "    <tr>\n",
       "      <th>1</th>\n",
       "      <td>0.019231</td>\n",
       "      <td>0.000000</td>\n",
       "      <td>0.387755</td>\n",
       "      <td>4</td>\n",
       "    </tr>\n",
       "    <tr>\n",
       "      <th>2</th>\n",
       "      <td>0.057692</td>\n",
       "      <td>0.000000</td>\n",
       "      <td>0.816327</td>\n",
       "      <td>1</td>\n",
       "    </tr>\n",
       "    <tr>\n",
       "      <th>3</th>\n",
       "      <td>0.038462</td>\n",
       "      <td>0.008197</td>\n",
       "      <td>0.051020</td>\n",
       "      <td>4</td>\n",
       "    </tr>\n",
       "    <tr>\n",
       "      <th>4</th>\n",
       "      <td>0.096154</td>\n",
       "      <td>0.008197</td>\n",
       "      <td>0.775510</td>\n",
       "      <td>1</td>\n",
       "    </tr>\n",
       "    <tr>\n",
       "      <th>5</th>\n",
       "      <td>0.250000</td>\n",
       "      <td>0.016393</td>\n",
       "      <td>0.397959</td>\n",
       "      <td>4</td>\n",
       "    </tr>\n",
       "  </tbody>\n",
       "</table>\n",
       "</div>"
      ],
      "text/plain": [
       "                  age  annual_income  spending_score  cluster\n",
       "customer_id                                                  \n",
       "1            0.019231       0.000000        0.387755        4\n",
       "2            0.057692       0.000000        0.816327        1\n",
       "3            0.038462       0.008197        0.051020        4\n",
       "4            0.096154       0.008197        0.775510        1\n",
       "5            0.250000       0.016393        0.397959        4"
      ]
     },
     "execution_count": 34,
     "metadata": {},
     "output_type": "execute_result"
    }
   ],
   "source": [
    "train_scaled.head()"
   ]
  },
  {
   "cell_type": "code",
   "execution_count": 35,
   "id": "4bd81673-041e-44ce-871b-6d7368f4e64a",
   "metadata": {},
   "outputs": [
    {
     "data": {
      "image/png": "[encoded data removed]",
      "text/plain": [
       "<Figure size 402.375x360 with 1 Axes>"
      ]
     },
     "metadata": {
      "needs_background": "light"
     },
     "output_type": "display_data"
    }
   ],
   "source": [
    "sns.relplot(data=train, \n",
    "            x='annual_income', \n",
    "            y='spending_score',\n",
    "           hue='cluster');"
   ]
  },
  {
   "cell_type": "code",
   "execution_count": 36,
   "id": "3893389f-0460-4526-9ca2-2172ae193239",
   "metadata": {},
   "outputs": [
    {
     "data": {
      "text/plain": [
       "<seaborn.axisgrid.FacetGrid at 0x7ff088bb0d90>"
      ]
     },
     "execution_count": 36,
     "metadata": {},
     "output_type": "execute_result"
    },
    {
     "data": {
      "image/png": "[encoded data removed]",
      "text/plain": [
       "<Figure size 1848.75x360 with 5 Axes>"
      ]
     },
     "metadata": {
      "needs_background": "light"
     },
     "output_type": "display_data"
    }
   ],
   "source": [
    "sns.relplot(data=train,\n",
    "           x='annual_income',\n",
    "           y='spending_score',\n",
    "           hue='age',\n",
    "           col='cluster')"
   ]
  },
  {
   "cell_type": "code",
   "execution_count": 38,
   "id": "9438bd41-54f7-4778-a725-137d013004a4",
   "metadata": {},
   "outputs": [],
   "source": [
    "# let's give some extra value to our clusters\n",
    "# (lets name them)\n",
    "train.cluster = train.cluster.map(\n",
    "{\n",
    "    0: 'targets',\n",
    "    1: 'young-thrifty',\n",
    "    2: 'older-frugals',\n",
    "    3: 'older-general',\n",
    "    4: 'younger-general'\n",
    "})"
   ]
  },
  {
   "cell_type": "code",
   "execution_count": 41,
   "id": "ac091526-a672-42a2-b623-81c78c95a438",
   "metadata": {},
   "outputs": [
    {
     "data": {
      "text/html": [
       "<div>\n",
       "<style scoped>\n",
       "    .dataframe tbody tr th:only-of-type {\n",
       "        vertical-align: middle;\n",
       "    }\n",
       "\n",
       "    .dataframe tbody tr th {\n",
       "        vertical-align: top;\n",
       "    }\n",
       "\n",
       "    .dataframe thead th {\n",
       "        text-align: right;\n",
       "    }\n",
       "</style>\n",
       "<table border=\"1\" class=\"dataframe\">\n",
       "  <thead>\n",
       "    <tr style=\"text-align: right;\">\n",
       "      <th></th>\n",
       "      <th>age</th>\n",
       "      <th>annual_income</th>\n",
       "      <th>spending_score</th>\n",
       "      <th>cluster</th>\n",
       "    </tr>\n",
       "    <tr>\n",
       "      <th>customer_id</th>\n",
       "      <th></th>\n",
       "      <th></th>\n",
       "      <th></th>\n",
       "      <th></th>\n",
       "    </tr>\n",
       "  </thead>\n",
       "  <tbody>\n",
       "    <tr>\n",
       "      <th>1</th>\n",
       "      <td>19</td>\n",
       "      <td>15</td>\n",
       "      <td>39</td>\n",
       "      <td>younger-general</td>\n",
       "    </tr>\n",
       "    <tr>\n",
       "      <th>2</th>\n",
       "      <td>21</td>\n",
       "      <td>15</td>\n",
       "      <td>81</td>\n",
       "      <td>young-thrifty</td>\n",
       "    </tr>\n",
       "    <tr>\n",
       "      <th>3</th>\n",
       "      <td>20</td>\n",
       "      <td>16</td>\n",
       "      <td>6</td>\n",
       "      <td>younger-general</td>\n",
       "    </tr>\n",
       "    <tr>\n",
       "      <th>4</th>\n",
       "      <td>23</td>\n",
       "      <td>16</td>\n",
       "      <td>77</td>\n",
       "      <td>young-thrifty</td>\n",
       "    </tr>\n",
       "    <tr>\n",
       "      <th>5</th>\n",
       "      <td>31</td>\n",
       "      <td>17</td>\n",
       "      <td>40</td>\n",
       "      <td>younger-general</td>\n",
       "    </tr>\n",
       "  </tbody>\n",
       "</table>\n",
       "</div>"
      ],
      "text/plain": [
       "             age  annual_income  spending_score          cluster\n",
       "customer_id                                                     \n",
       "1             19             15              39  younger-general\n",
       "2             21             15              81    young-thrifty\n",
       "3             20             16               6  younger-general\n",
       "4             23             16              77    young-thrifty\n",
       "5             31             17              40  younger-general"
      ]
     },
     "execution_count": 41,
     "metadata": {},
     "output_type": "execute_result"
    }
   ],
   "source": [
    "train.head()"
   ]
  },
  {
   "cell_type": "code",
   "execution_count": 42,
   "id": "0289fbd7-62d7-43dc-bd76-b70dd4873677",
   "metadata": {},
   "outputs": [
    {
     "data": {
      "text/html": [
       "<div>\n",
       "<style scoped>\n",
       "    .dataframe tbody tr th:only-of-type {\n",
       "        vertical-align: middle;\n",
       "    }\n",
       "\n",
       "    .dataframe tbody tr th {\n",
       "        vertical-align: top;\n",
       "    }\n",
       "\n",
       "    .dataframe thead tr th {\n",
       "        text-align: left;\n",
       "    }\n",
       "\n",
       "    .dataframe thead tr:last-of-type th {\n",
       "        text-align: right;\n",
       "    }\n",
       "</style>\n",
       "<table border=\"1\" class=\"dataframe\">\n",
       "  <thead>\n",
       "    <tr>\n",
       "      <th></th>\n",
       "      <th colspan=\"3\" halign=\"left\">age</th>\n",
       "      <th colspan=\"3\" halign=\"left\">annual_income</th>\n",
       "      <th colspan=\"3\" halign=\"left\">spending_score</th>\n",
       "    </tr>\n",
       "    <tr>\n",
       "      <th></th>\n",
       "      <th>min</th>\n",
       "      <th>max</th>\n",
       "      <th>mean</th>\n",
       "      <th>min</th>\n",
       "      <th>max</th>\n",
       "      <th>mean</th>\n",
       "      <th>min</th>\n",
       "      <th>max</th>\n",
       "      <th>mean</th>\n",
       "    </tr>\n",
       "    <tr>\n",
       "      <th>cluster</th>\n",
       "      <th></th>\n",
       "      <th></th>\n",
       "      <th></th>\n",
       "      <th></th>\n",
       "      <th></th>\n",
       "      <th></th>\n",
       "      <th></th>\n",
       "      <th></th>\n",
       "      <th></th>\n",
       "    </tr>\n",
       "  </thead>\n",
       "  <tbody>\n",
       "    <tr>\n",
       "      <th>older-frugals</th>\n",
       "      <td>32</td>\n",
       "      <td>59</td>\n",
       "      <td>44.000000</td>\n",
       "      <td>71</td>\n",
       "      <td>137</td>\n",
       "      <td>90.133333</td>\n",
       "      <td>1</td>\n",
       "      <td>39</td>\n",
       "      <td>17.933333</td>\n",
       "    </tr>\n",
       "    <tr>\n",
       "      <th>older-general</th>\n",
       "      <td>42</td>\n",
       "      <td>70</td>\n",
       "      <td>55.551724</td>\n",
       "      <td>19</td>\n",
       "      <td>79</td>\n",
       "      <td>48.482759</td>\n",
       "      <td>3</td>\n",
       "      <td>60</td>\n",
       "      <td>41.775862</td>\n",
       "    </tr>\n",
       "    <tr>\n",
       "      <th>targets</th>\n",
       "      <td>27</td>\n",
       "      <td>40</td>\n",
       "      <td>32.875000</td>\n",
       "      <td>69</td>\n",
       "      <td>137</td>\n",
       "      <td>86.100000</td>\n",
       "      <td>58</td>\n",
       "      <td>97</td>\n",
       "      <td>81.525000</td>\n",
       "    </tr>\n",
       "    <tr>\n",
       "      <th>young-thrifty</th>\n",
       "      <td>18</td>\n",
       "      <td>35</td>\n",
       "      <td>25.521739</td>\n",
       "      <td>15</td>\n",
       "      <td>39</td>\n",
       "      <td>26.304348</td>\n",
       "      <td>61</td>\n",
       "      <td>99</td>\n",
       "      <td>78.565217</td>\n",
       "    </tr>\n",
       "    <tr>\n",
       "      <th>younger-general</th>\n",
       "      <td>18</td>\n",
       "      <td>40</td>\n",
       "      <td>27.061224</td>\n",
       "      <td>15</td>\n",
       "      <td>81</td>\n",
       "      <td>51.979592</td>\n",
       "      <td>5</td>\n",
       "      <td>60</td>\n",
       "      <td>41.040816</td>\n",
       "    </tr>\n",
       "  </tbody>\n",
       "</table>\n",
       "</div>"
      ],
      "text/plain": [
       "                age                annual_income                  \\\n",
       "                min max       mean           min  max       mean   \n",
       "cluster                                                            \n",
       "older-frugals    32  59  44.000000            71  137  90.133333   \n",
       "older-general    42  70  55.551724            19   79  48.482759   \n",
       "targets          27  40  32.875000            69  137  86.100000   \n",
       "young-thrifty    18  35  25.521739            15   39  26.304348   \n",
       "younger-general  18  40  27.061224            15   81  51.979592   \n",
       "\n",
       "                spending_score                 \n",
       "                           min max       mean  \n",
       "cluster                                        \n",
       "older-frugals                1  39  17.933333  \n",
       "older-general                3  60  41.775862  \n",
       "targets                     58  97  81.525000  \n",
       "young-thrifty               61  99  78.565217  \n",
       "younger-general              5  60  41.040816  "
      ]
     },
     "execution_count": 42,
     "metadata": {},
     "output_type": "execute_result"
    }
   ],
   "source": [
    "train.groupby('cluster').agg(\n",
    "    ['min', 'max', 'mean'])"
   ]
  },
  {
   "cell_type": "markdown",
   "id": "7800dee9-a472-4160-8dd0-15bef58dc3b8",
   "metadata": {},
   "source": [
    "## Takeaways:"
   ]
  },
  {
   "cell_type": "markdown",
   "id": "261828a2-cc1f-47ea-b874-9e5f5e7f5bc3",
   "metadata": {},
   "source": [
    "### Roads to take from here:\n",
    " Further explore the disparities and similarities in these groups and/or customer segments!\n",
    " Run statistical tests! Do More Exploration!(TM)"
   ]
  },
  {
   "cell_type": "markdown",
   "id": "698f2a02-e522-4a9e-98c2-cc40c3a6cf70",
   "metadata": {},
   "source": [
    " - Explore further on the segments (does gender play a role in these individual segments where it did not before?)\n",
    " - Model for the segments (predict what type of spender someone is)\n",
    " - Model using the segments as a feature with some target\n",
    " - "
   ]
  },
  {
   "cell_type": "code",
   "execution_count": null,
   "id": "4357aad2-e40e-49af-a3c5-ff8b1a1bd064",
   "metadata": {},
   "outputs": [],
   "source": []
  }
 ],
 "metadata": {
  "kernelspec": {
   "display_name": "Python 3 (ipykernel)",
   "language": "python",
   "name": "python3"
  },
  "language_info": {
   "codemirror_mode": {
    "name": "ipython",
    "version": 3
   },
   "file_extension": ".py",
   "mimetype": "text/x-python",
   "name": "python",
   "nbconvert_exporter": "python",
   "pygments_lexer": "ipython3",
   "version": "3.9.12"
  }
 },
 "nbformat": 4,
 "nbformat_minor": 5
}
