{
 "cells": [
  {
   "cell_type": "code",
   "execution_count": 1,
   "id": "6081efa6",
   "metadata": {},
   "outputs": [],
   "source": [
    "# titles = ['Q_','PLOTS_', 'STAT_TEST_', 'ANS_']\n",
    "\n",
    "# for j in titles:\n",
    "#     for i in range(1,6):\n",
    "#         print(f'[< {j}{i} >](#{j}{i})')"
   ]
  },
  {
   "cell_type": "code",
   "execution_count": 2,
   "id": "8c26c990",
   "metadata": {},
   "outputs": [],
   "source": [
    "# for j in titles:\n",
    "#     for i in range(1,6):\n",
    "#         print(f'''<a id=\"{j}{i}\"> </a>\n",
    "# <div class=\"alert alert-block alert-info\">\n",
    "# </div>\n",
    "\n",
    "# ***''')"
   ]
  },
  {
   "cell_type": "markdown",
   "id": "15ad4dcb",
   "metadata": {},
   "source": [
    "<a id=\"TOP\"> </a>\n",
    "<div class=\"alert alert-block alert-info\">\n",
    "</div>\n",
    "\n",
    "***\n",
    "# Exercises\n",
    "Sourcing the Zillow database as the data source, create a jupyter notebook named `explore_zillow` and do the following:\n",
    "\n",
    "1. [< Q_1 >](#Q_1)\n",
    "  - [< PLOTS_1 >](#PLOTS_1)\n",
    "  - [< STAT_TEST_1 >](#STAT_TEST_1)\n",
    "  - [< ANS_1 >](#ANS_1)\n",
    "2. [< Q_2 >](#Q_2)\n",
    "  - [< PLOTS_2 >](#PLOTS_2)\n",
    "  - [< STAT_TEST_2 >](#STAT_TEST_2)\n",
    "  - [< ANS_2 >](#ANS_2)\n",
    "3. [< Q_3 >](#Q_3)\n",
    "  - [< PLOTS_3 >](#PLOTS_3)\n",
    "  - [< STAT_TEST_3 >](#STAT_TEST_3)\n",
    "  - [< ANS_3 >](#ANS_3)\n",
    "4. [< Q_4 >](#Q_4)\n",
    "  - [< PLOTS_4 >](#PLOTS_4)\n",
    "  - [< STAT_TEST_4 >](#STAT_TEST_4)\n",
    "  - [< ANS_4 >](#ANS_4)\n",
    "5. [< Q_5 >](#Q_5)\n",
    "  - [< PLOTS_5 >](#PLOTS_5)\n",
    "  - [< STAT_TEST_5 >](#STAT_TEST_5)\n",
    "  - [< ANS_5 >](#ANS_5)"
   ]
  },
  {
   "cell_type": "markdown",
   "id": "8bb5f81c",
   "metadata": {},
   "source": [
    "## 1. Ask at least 5 questions about the data, keeping in mind that your target variable is logerror. e.g. Is logerror significantly different for properties in LA County vs Orange County vs Ventura County?"
   ]
  },
  {
   "cell_type": "code",
   "execution_count": 3,
   "id": "5cac0592",
   "metadata": {},
   "outputs": [],
   "source": [
    "import numpy as np\n",
    "import pandas as pd\n",
    "\n",
    "import matplotlib.pyplot as plt\n",
    "import seaborn as sns\n",
    "import plotly.express as px\n",
    "\n",
    "from scipy import stats\n",
    "\n",
    "from wrangle import boxplots, hists\n",
    "from wrangle import strike, bold, underline\n",
    "from wrangle import get_zillow, SFR, remove_outliers, handle_missing_values\n",
    "\n",
    "from wrangle import summarize, column_value_counts\n",
    "\n",
    "from wrangle import split_data_continuous"
   ]
  },
  {
   "cell_type": "code",
   "execution_count": 4,
   "id": "79a3d74e",
   "metadata": {},
   "outputs": [],
   "source": [
    "df = get_zillow()"
   ]
  },
  {
   "cell_type": "code",
   "execution_count": 5,
   "id": "92053645",
   "metadata": {},
   "outputs": [
    {
     "data": {
      "text/markdown": [
       "\n",
       "    DataFrame .head():\n",
       "    -----------------\n",
       "|    |   id |   parcel |    logerror | trans_date          | ac_type   | arch_type   | build_type   | heat_type   | land_use_type             | story_type   | construction_type   |   basementsqft |   bathrooms |   bedrooms |   quality_type |   calc_bath_n_bed |   deck_type |   floor_1_sqft |   tot_sqft |   sqft_12 |   sqft_13 |   sqft_15 |   sqft_50 |   sqft_6 | fips               |   fireplaces |   full_baths |   garages |   garage_sqft |   hot_tub |         lat |          lon |   lot_sqft |   pools |   pool_sqft |   pool_id10 |   pool_id2 |   pool_id7 | county_landuse   | zoning     |   raw_tract_and_block |   city_id |   county_id |   neighborhood |   zip_code |   num_rooms |   stories_type |   three_quarter_baths |   units |   yard_sqft_17 |   yard_sqft_26 |   year_built |   num_stories |   fireplace_flag |   building_tax_value |        tax_value |   year_assesed |   land_tax_value |   tax_amount | tax_delinquency_flag   |   tax_delinquency_year |   tract_and_block |\n",
       "|---:|-----:|---------:|------------:|:--------------------|:----------|:------------|:-------------|:------------|:--------------------------|:-------------|:--------------------|---------------:|------------:|-----------:|---------------:|------------------:|------------:|---------------:|-----------:|----------:|----------:|----------:|----------:|---------:|:-------------------|-------------:|-------------:|----------:|--------------:|----------:|------------:|-------------:|-----------:|--------:|------------:|------------:|-----------:|-----------:|:-----------------|:-----------|----------------------:|----------:|------------:|---------------:|-----------:|------------:|---------------:|----------------------:|--------:|---------------:|---------------:|-------------:|--------------:|-----------------:|---------------------:|-----------------:|---------------:|-----------------:|-------------:|:-----------------------|-----------------------:|------------------:|\n",
       "|  0 |    0 | 14297519 |  0.0255949  | 2017-01-01 00:00:00 |           |             |              |             | Single Family Residential |              |                     |            nan |         3.5 |          4 |            nan |               3.5 |         nan |            nan |       3100 |      3100 |       nan |       nan |       nan |      nan | Orange County      |          nan |            3 |         2 |           633 |       nan | 3.36349e+07 | -1.17869e+08 |       4506 |     nan |         nan |         nan |        nan |        nan | 122              |            |           6.05906e+07 |     53571 |        1286 |            nan |      96978 |           0 |            nan |                     1 |     nan |            nan |            nan |         1998 |           nan |              nan |               485713 |      1.02328e+06 |           2016 |           537569 |     11013.7  |                        |                    nan |       6.05906e+13 |\n",
       "|  1 |    1 | 17052889 |  0.0556191  | 2017-01-01 00:00:00 |           |             |              |             | Single Family Residential |              |                     |            nan |         1   |          2 |            nan |               1   |         nan |           1465 |       1465 |      1465 |       nan |       nan |      1465 |      nan | Ventura County     |            1 |            1 |         1 |             0 |       nan | 3.44493e+07 | -1.19282e+08 |      12647 |     nan |         nan |         nan |        nan |        nan | 1110             |            |           6.111e+07   |     13091 |        2061 |            nan |      97099 |           5 |            nan |                   nan |     nan |            nan |            nan |         1967 |             1 |              nan |                88000 | 464000           |           2016 |           376000 |      5672.48 |                        |                    nan |       6.111e+13   |\n",
       "|  2 |    2 | 14186244 |  0.00538285 | 2017-01-01 00:00:00 |           |             |              |             | Single Family Residential |              |                     |            nan |         2   |          3 |            nan |               2   |         nan |            nan |       1243 |      1243 |       nan |       nan |       nan |      nan | Orange County      |          nan |            2 |         2 |           440 |       nan | 3.38862e+07 | -1.17823e+08 |       8432 |       1 |         nan |         nan |        nan |          1 | 122              |            |           6.05902e+07 |     21412 |        1286 |            nan |      97078 |           6 |            nan |                   nan |     nan |            nan |            nan |         1962 |             1 |              nan |                85289 | 564778           |           2016 |           479489 |      6488.3  |                        |                    nan |       6.05902e+13 |\n",
       "|  3 |    3 | 12177905 | -0.10341    | 2017-01-01 00:00:00 |           |             |              | Central     | Single Family Residential |              |                     |            nan |         3   |          4 |              8 |               3   |         nan |            nan |       2376 |      2376 |       nan |       nan |       nan |      nan | Los Angeles County |          nan |            3 |       nan |           nan |       nan | 3.42452e+07 | -1.18241e+08 |      13038 |       1 |         nan |         nan |        nan |          1 | 0101             | LCR110000* |           6.0373e+07  |    396551 |        3101 |            nan |      96330 |           0 |            nan |                   nan |       1 |            nan |            nan |         1970 |           nan |              nan |               108918 | 145143           |           2016 |            36225 |      1777.51 |                        |                    nan |       6.0373e+13  |\n",
       "|  4 |    4 | 10887214 |  0.00694036 | 2017-01-01 00:00:00 | Central   |             |              | Central     | Condominium               |              |                     |            nan |         3   |          3 |              8 |               3   |         nan |            nan |       1312 |      1312 |       nan |       nan |       nan |      nan | Los Angeles County |          nan |            3 |       nan |           nan |       nan | 3.41851e+07 | -1.18415e+08 |     278581 |       1 |         nan |         nan |        nan |          1 | 010C             | LAR3       |           6.03712e+07 |     12447 |        3101 |         268548 |      96451 |           0 |            nan |                   nan |       1 |            nan |            nan |         1964 |           nan |              nan |                73681 | 119407           |           2016 |            45726 |      1533.89 |                        |                    nan |       6.03712e+13 |\n",
       "    \n",
       "    DataFrame .info():\n",
       "    -----------------\n"
      ],
      "text/plain": [
       "<IPython.core.display.Markdown object>"
      ]
     },
     "metadata": {},
     "output_type": "display_data"
    },
    {
     "name": "stdout",
     "output_type": "stream",
     "text": [
      "<class 'pandas.core.frame.DataFrame'>\n",
      "Int64Index: 76521 entries, 0 to 76711\n",
      "Data columns (total 62 columns):\n",
      " #   Column                Non-Null Count  Dtype         \n",
      "---  ------                --------------  -----         \n",
      " 0   id                    76521 non-null  int64         \n",
      " 1   parcel                76521 non-null  int64         \n",
      " 2   logerror              76521 non-null  float64       \n",
      " 3   trans_date            76521 non-null  datetime64[ns]\n",
      " 4   ac_type               24783 non-null  object        \n",
      " 5   arch_type             206 non-null    object        \n",
      " 6   build_type            0 non-null      object        \n",
      " 7   heat_type             49185 non-null  object        \n",
      " 8   land_use_type         76521 non-null  object        \n",
      " 9   story_type            50 non-null     object        \n",
      " 10  construction_type     222 non-null    object        \n",
      " 11  basementsqft          50 non-null     float64       \n",
      " 12  bathrooms             76521 non-null  float64       \n",
      " 13  bedrooms              76521 non-null  float64       \n",
      " 14  quality_type          49422 non-null  float64       \n",
      " 15  calc_bath_n_bed       76505 non-null  float64       \n",
      " 16  deck_type             612 non-null    float64       \n",
      " 17  floor_1_sqft          6006 non-null   float64       \n",
      " 18  tot_sqft              76521 non-null  float64       \n",
      " 19  sqft_12               73390 non-null  float64       \n",
      " 20  sqft_13               26 non-null     float64       \n",
      " 21  sqft_15               2927 non-null   float64       \n",
      " 22  sqft_50               6006 non-null   float64       \n",
      " 23  sqft_6                178 non-null    float64       \n",
      " 24  fips                  76521 non-null  object        \n",
      " 25  fireplaces            8247 non-null   float64       \n",
      " 26  full_baths            76505 non-null  float64       \n",
      " 27  garages               25287 non-null  float64       \n",
      " 28  garage_sqft           25287 non-null  float64       \n",
      " 29  hot_tub               1538 non-null   float64       \n",
      " 30  lat                   76521 non-null  float64       \n",
      " 31  lon                   76521 non-null  float64       \n",
      " 32  lot_sqft              68390 non-null  float64       \n",
      " 33  pools                 16048 non-null  float64       \n",
      " 34  pool_sqft             862 non-null    float64       \n",
      " 35  pool_id10             464 non-null    float64       \n",
      " 36  pool_id2              1074 non-null   float64       \n",
      " 37  pool_id7              14953 non-null  float64       \n",
      " 38  county_landuse        76521 non-null  object        \n",
      " 39  zoning                49917 non-null  object        \n",
      " 40  raw_tract_and_block   76521 non-null  float64       \n",
      " 41  city_id               75075 non-null  float64       \n",
      " 42  county_id             76521 non-null  float64       \n",
      " 43  neighborhood          30526 non-null  float64       \n",
      " 44  zip_code              76477 non-null  float64       \n",
      " 45  num_rooms             76521 non-null  float64       \n",
      " 46  stories_type          50 non-null     float64       \n",
      " 47  three_quarter_baths   10094 non-null  float64       \n",
      " 48  units                 49985 non-null  float64       \n",
      " 49  yard_sqft_17          2377 non-null   float64       \n",
      " 50  yard_sqft_26          70 non-null     float64       \n",
      " 51  year_built            76464 non-null  object        \n",
      " 52  num_stories           17336 non-null  float64       \n",
      " 53  fireplace_flag        172 non-null    float64       \n",
      " 54  building_tax_value    76437 non-null  float64       \n",
      " 55  tax_value             76521 non-null  float64       \n",
      " 56  year_assesed          76521 non-null  float64       \n",
      " 57  land_tax_value        76521 non-null  float64       \n",
      " 58  tax_amount            76516 non-null  float64       \n",
      " 59  tax_delinquency_flag  2852 non-null   object        \n",
      " 60  tax_delinquency_year  2852 non-null   float64       \n",
      " 61  tract_and_block       76301 non-null  float64       \n",
      "dtypes: datetime64[ns](1), float64(47), int64(2), object(12)\n",
      "memory usage: 36.8+ MB\n",
      "None\n",
      "Number of Columns with nulls: 44\n"
     ]
    },
    {
     "data": {
      "text/markdown": [
       "\n",
       "    \n",
       "    DataFrame .describe():\n",
       "    -----------------\n",
       "|                      |   count |             mean |              std |             min |              25% |              50% |              75% |              max |\n",
       "|:---------------------|--------:|-----------------:|-----------------:|----------------:|-----------------:|-----------------:|-----------------:|-----------------:|\n",
       "| id                   |   76521 |  38851.4         |  22404.5         |     0           |  19465           |  38894           |  58255           |  77612           |\n",
       "| parcel               |   76521 |      1.29929e+07 |      3.31108e+06 |     1.07119e+07 |      1.15321e+07 |      1.25273e+07 |      1.42094e+07 |      1.67689e+08 |\n",
       "| logerror             |   76521 |      0.016456    |      0.168209    |    -4.65542     |     -0.0242734   |      0.0066161   |      0.0390554   |      5.263       |\n",
       "| basementsqft         |      50 |    679.72        |    689.704       |    38           |    273           |    515           |    796.5         |   3560           |\n",
       "| bathrooms            |   76521 |      2.32044     |      0.978789    |     1           |      2           |      2           |      3           |     18           |\n",
       "| bedrooms             |   76521 |      3.08681     |      1.09967     |     1           |      2           |      3           |      4           |     16           |\n",
       "| quality_type         |   49422 |      6.53428     |      1.7211      |     1           |      6           |      6           |      8           |     12           |\n",
       "| calc_bath_n_bed      |   76505 |      2.32044     |      0.978795    |     1           |      2           |      2           |      3           |     18           |\n",
       "| deck_type            |     612 |     66           |      0           |    66           |     66           |     66           |     66           |     66           |\n",
       "| floor_1_sqft         |    6006 |   1364.5         |    668.634       |    44           |    954.25        |   1256           |   1614.75        |   6912           |\n",
       "| tot_sqft             |   76521 |   1784.13        |    940.759       |   152           |   1184           |   1543           |   2109           |  21929           |\n",
       "| sqft_12              |   73390 |   1763.08        |    932.694       |   152           |   1175           |   1525           |   2077           |  21929           |\n",
       "| sqft_13              |      26 |   1375.38        |    128.218       |  1056           |   1344           |   1440           |   1440           |   1560           |\n",
       "| sqft_15              |    2927 |   2347.84        |    968.766       |   598           |   1629.5         |   2100           |   2839.5         |   7990           |\n",
       "| sqft_50              |    6006 |   1379.8         |    724.192       |    44           |    956           |   1259           |   1618.75        |  12467           |\n",
       "| sqft_6               |     178 |   1250.69        |    809.124       |   380           |    790.75        |    982.5         |   1318.25        |   5598           |\n",
       "| fireplaces           |    8247 |      1.18989     |      0.489105    |     1           |      1           |      1           |      1           |      5           |\n",
       "| full_baths           |   76505 |      2.25384     |      0.965785    |     1           |      2           |      2           |      3           |     18           |\n",
       "| garages              |   25287 |      1.82667     |      0.572833    |     0           |      2           |      2           |      2           |     14           |\n",
       "| garage_sqft          |   25287 |    352.331       |    260.98        |     0           |      0           |    437           |    493           |   4251           |\n",
       "| hot_tub              |    1538 |      1           |      0           |     1           |      1           |      1           |      1           |      1           |\n",
       "| lat                  |   76521 |      3.40092e+07 | 265422           |     3.33395e+07 |      3.38157e+07 |      3.40225e+07 |      3.4175e+07  |      3.48188e+07 |\n",
       "| lon                  |   76521 |     -1.18203e+08 | 358549           |    -1.19475e+08 |     -1.18416e+08 |     -1.1818e+08  |     -1.17929e+08 |     -1.17555e+08 |\n",
       "| lot_sqft             |   68390 |  29820.3         | 123294           |   236           |   5700           |   7201           |  11744.5         |      6.97101e+06 |\n",
       "| pools                |   16048 |      1           |      0           |     1           |      1           |      1           |      1           |      1           |\n",
       "| pool_sqft            |     862 |    518.092       |    156.166       |    24           |    424           |    500           |    600           |   1500           |\n",
       "| pool_id10            |     464 |      1           |      0           |     1           |      1           |      1           |      1           |      1           |\n",
       "| pool_id2             |    1074 |      1           |      0           |     1           |      1           |      1           |      1           |      1           |\n",
       "| pool_id7             |   14953 |      1           |      0           |     1           |      1           |      1           |      1           |      1           |\n",
       "| raw_tract_and_block  |   76521 |      6.04905e+07 | 205236           |     6.0371e+07  |      6.03731e+07 |      6.0376e+07  |      6.05904e+07 |      6.11101e+07 |\n",
       "| city_id              |   75075 |  33674           |  47227.3         |  3491           |  12447           |  25218           |  45457           | 396556           |\n",
       "| county_id            |   76521 |   2537.03        |    800.745       |  1286           |   1286           |   3101           |   3101           |   3101           |\n",
       "| neighborhood         |   30526 | 187034           | 165175           |  6952           |  41466           | 118825           | 274765           | 764167           |\n",
       "| zip_code             |   76477 |  96587           |   3819.19        | 95982           |  96193           |  96389           |  96986           | 399675           |\n",
       "| num_rooms            |   76521 |      1.49141     |      2.83431     |     0           |      0           |      0           |      0           |     15           |\n",
       "| stories_type         |      50 |      7           |      0           |     7           |      7           |      7           |      7           |      7           |\n",
       "| three_quarter_baths  |   10094 |      1.00961     |      0.118642    |     1           |      1           |      1           |      1           |      7           |\n",
       "| units                |   49985 |      1.09327     |      0.421759    |     1           |      1           |      1           |      1           |      6           |\n",
       "| yard_sqft_17         |    2377 |    305.218       |    238.711       |    11           |    170           |    250           |    364           |   3191           |\n",
       "| yard_sqft_26         |      70 |    216.386       |    190.178       |    12           |     61.5         |    164.5         |    310.5         |    868           |\n",
       "| num_stories          |   17336 |      1.42957     |      0.544421    |     1           |      1           |      1           |      2           |      6           |\n",
       "| fireplace_flag       |     172 |      1           |      0           |     1           |      1           |      1           |      1           |      1           |\n",
       "| building_tax_value   |   76437 | 188788           | 223511           |    44           |  84476           | 136734           | 218767           |      9.1649e+06  |\n",
       "| tax_value            |   76521 | 488694           | 647844           |  1000           | 207172           | 359000           | 568540           |      4.90612e+07 |\n",
       "| year_assesed         |   76521 |   2016           |      0           |  2016           |   2016           |   2016           |   2016           |   2016           |\n",
       "| land_tax_value       |   76521 | 300114           | 490350           |   161           |  85504           | 203559           | 366162           |      4.89522e+07 |\n",
       "| tax_amount           |   76516 |   5979.33        |   7554.89        |    19.92        |   2720.42        |   4451.27        |   6922           | 586639           |\n",
       "| tax_delinquency_year |    2852 |     14.087       |      2.19198     |     3           |     14           |     15           |     15           |     99           |\n",
       "| tract_and_block      |   76301 |      6.0496e+13  |      1.54339e+12 |     6.0371e+13  |      6.03731e+13 |      6.0376e+13  |      6.05904e+13 |      4.8303e+14  |\n",
       "    \n",
       "    Null Value Assessments:\n",
       "    -----------------\n",
       "        \n",
       "        Nulls By Column:\n",
       "|                      |   num_rows_missing |   percent_missing |\n",
       "|:---------------------|-------------------:|------------------:|\n",
       "| ac_type              |              51738 |       67.6128     |\n",
       "| arch_type            |              76315 |       99.7308     |\n",
       "| build_type           |              76521 |      100          |\n",
       "| heat_type            |              27336 |       35.7235     |\n",
       "| story_type           |              76471 |       99.9347     |\n",
       "| construction_type    |              76299 |       99.7099     |\n",
       "| basementsqft         |              76471 |       99.9347     |\n",
       "| quality_type         |              27099 |       35.4138     |\n",
       "| calc_bath_n_bed      |                 16 |        0.0209093  |\n",
       "| deck_type            |              75909 |       99.2002     |\n",
       "| floor_1_sqft         |              70515 |       92.1512     |\n",
       "| sqft_12              |               3131 |        4.09169    |\n",
       "| sqft_13              |              76495 |       99.966      |\n",
       "| sqft_15              |              73594 |       96.1749     |\n",
       "| sqft_50              |              70515 |       92.1512     |\n",
       "| sqft_6               |              76343 |       99.7674     |\n",
       "| fireplaces           |              68274 |       89.2226     |\n",
       "| full_baths           |                 16 |        0.0209093  |\n",
       "| garages              |              51234 |       66.9542     |\n",
       "| garage_sqft          |              51234 |       66.9542     |\n",
       "| hot_tub              |              74983 |       97.9901     |\n",
       "| lot_sqft             |               8131 |       10.6258     |\n",
       "| pools                |              60473 |       79.028      |\n",
       "| pool_sqft            |              75659 |       98.8735     |\n",
       "| pool_id10            |              76057 |       99.3936     |\n",
       "| pool_id2             |              75447 |       98.5965     |\n",
       "| pool_id7             |              61568 |       80.459      |\n",
       "| zoning               |              26604 |       34.7669     |\n",
       "| city_id              |               1446 |        1.88968    |\n",
       "| neighborhood         |              45995 |       60.1077     |\n",
       "| zip_code             |                 44 |        0.0575006  |\n",
       "| stories_type         |              76471 |       99.9347     |\n",
       "| three_quarter_baths  |              66427 |       86.8088     |\n",
       "| units                |              26536 |       34.6781     |\n",
       "| yard_sqft_17         |              74144 |       96.8937     |\n",
       "| yard_sqft_26         |              76451 |       99.9085     |\n",
       "| year_built           |                 57 |        0.0744894  |\n",
       "| num_stories          |              59185 |       77.3448     |\n",
       "| fireplace_flag       |              76349 |       99.7752     |\n",
       "| building_tax_value   |                 84 |        0.109774   |\n",
       "| tax_amount           |                  5 |        0.00653415 |\n",
       "| tax_delinquency_flag |              73669 |       96.2729     |\n",
       "| tax_delinquency_year |              73669 |       96.2729     |\n",
       "| tract_and_block      |                220 |        0.287503   |\n",
       "    -----------------\n",
       "        \n",
       "        Nulls By Row:\n",
       "|    |   num_cols_missing |   percent_missing |   count |\n",
       "|---:|-------------------:|------------------:|--------:|\n",
       "|  0 |                 19 |           30.6452 |       2 |\n",
       "|  1 |                 20 |           32.2581 |       3 |\n",
       "|  2 |                 21 |           33.871  |      13 |\n",
       "|  3 |                 22 |           35.4839 |      79 |\n",
       "|  4 |                 23 |           37.0968 |     265 |\n",
       "|  5 |                 24 |           38.7097 |     606 |\n",
       "|  6 |                 25 |           40.3226 |     656 |\n",
       "|  7 |                 26 |           41.9355 |    5740 |\n",
       "|  8 |                 27 |           43.5484 |    7939 |\n",
       "|  9 |                 28 |           45.1613 |   12352 |\n",
       "| 10 |                 29 |           46.7742 |   20596 |\n",
       "| 11 |                 30 |           48.3871 |   16035 |\n",
       "| 12 |                 31 |           50      |    6314 |\n",
       "| 13 |                 32 |           51.6129 |    3458 |\n",
       "| 14 |                 33 |           53.2258 |    2043 |\n",
       "| 15 |                 34 |           54.8387 |     246 |\n",
       "| 16 |                 35 |           56.4516 |     168 |\n",
       "| 17 |                 36 |           58.0645 |       6 |\n",
       "    \n",
       "    DataFrame .value_counts():\n",
       "    -----------------\n",
       "    \n",
       "    "
      ],
      "text/plain": [
       "<IPython.core.display.Markdown object>"
      ]
     },
     "metadata": {},
     "output_type": "display_data"
    },
    {
     "name": "stdout",
     "output_type": "stream",
     "text": [
      "Column Name:  id \n",
      "--------------\n",
      "Numerical: Divided by Quartile\n",
      " -  10 bins\n"
     ]
    },
    {
     "data": {
      "text/markdown": [
       "|                    |   id |\n",
       "|:-------------------|-----:|\n",
       "| (-77.613, 7761.2]  | 7640 |\n",
       "| (7761.2, 15522.4]  | 7626 |\n",
       "| (15522.4, 23283.6] | 7632 |\n",
       "| (23283.6, 31044.8] | 7642 |\n",
       "| (31044.8, 38806.0] | 7636 |\n",
       "| (38806.0, 46567.2] | 7661 |\n",
       "| (46567.2, 54328.4] | 7673 |\n",
       "| (54328.4, 62089.6] | 7671 |\n",
       "| (62089.6, 69850.8] | 7673 |\n",
       "| (69850.8, 77612.0] | 7667 |"
      ],
      "text/plain": [
       "<IPython.core.display.Markdown object>"
      ]
     },
     "metadata": {},
     "output_type": "display_data"
    },
    {
     "name": "stdout",
     "output_type": "stream",
     "text": [
      "\n",
      "\n",
      "-------------\n",
      "Column Name:  parcel \n",
      "--------------\n",
      "Numerical: Divided by Quartile\n",
      " -  10 bins\n"
     ]
    },
    {
     "data": {
      "text/markdown": [
       "|                            |   parcel |\n",
       "|:---------------------------|---------:|\n",
       "| (10554878.322, 26409522.7] |    76494 |\n",
       "| (26409522.7, 42107190.4]   |        0 |\n",
       "| (42107190.4, 57804858.1]   |        0 |\n",
       "| (57804858.1, 73502525.8]   |        0 |\n",
       "| (73502525.8, 89200193.5]   |        1 |\n",
       "| (89200193.5, 104897861.2]  |        1 |\n",
       "| (104897861.2, 120595528.9] |        0 |\n",
       "| (120595528.9, 136293196.6] |        0 |\n",
       "| (136293196.6, 151990864.3] |        0 |\n",
       "| (151990864.3, 167688532.0] |       25 |"
      ],
      "text/plain": [
       "<IPython.core.display.Markdown object>"
      ]
     },
     "metadata": {},
     "output_type": "display_data"
    },
    {
     "name": "stdout",
     "output_type": "stream",
     "text": [
      "\n",
      "\n",
      "-------------\n",
      "Column Name:  logerror \n",
      "--------------\n",
      "Numerical: Divided by Quartile\n",
      " -  10 bins\n"
     ]
    },
    {
     "data": {
      "text/markdown": [
       "|                  |   logerror |\n",
       "|:-----------------|-----------:|\n",
       "| (-4.666, -3.664] |          3 |\n",
       "| (-3.664, -2.672] |          1 |\n",
       "| (-2.672, -1.68]  |         36 |\n",
       "| (-1.68, -0.688]  |        135 |\n",
       "| (-0.688, 0.304]  |      74544 |\n",
       "| (0.304, 1.296]   |       1637 |\n",
       "| (1.296, 2.287]   |         95 |\n",
       "| (2.287, 3.279]   |         68 |\n",
       "| (3.279, 4.271]   |          1 |\n",
       "| (4.271, 5.263]   |          1 |"
      ],
      "text/plain": [
       "<IPython.core.display.Markdown object>"
      ]
     },
     "metadata": {},
     "output_type": "display_data"
    },
    {
     "name": "stdout",
     "output_type": "stream",
     "text": [
      "\n",
      "\n",
      "-------------\n",
      "Column Name:  trans_date \n",
      "--------------\n",
      "Numerical: Divided by Quartile\n",
      " -  10 bins\n"
     ]
    },
    {
     "data": {
      "text/markdown": [
       "|                                                      |   trans_date |\n",
       "|:-----------------------------------------------------|-------------:|\n",
       "| (2016-12-31 17:35:31.199999999, 2017-01-27 16:48:00] |         6049 |\n",
       "| (2017-01-27 16:48:00, 2017-02-23 09:36:00]           |         5772 |\n",
       "| (2017-02-23 09:36:00, 2017-03-22 02:24:00]           |         7140 |\n",
       "| (2017-03-22 02:24:00, 2017-04-17 19:12:00]           |         7717 |\n",
       "| (2017-04-17 19:12:00, 2017-05-14 12:00:00]           |         8637 |\n",
       "| (2017-05-14 12:00:00, 2017-06-10 04:48:00]           |         9211 |\n",
       "| (2017-06-10 04:48:00, 2017-07-06 21:36:00]           |         9200 |\n",
       "| (2017-07-06 21:36:00, 2017-08-02 14:24:00]           |         8679 |\n",
       "| (2017-08-02 14:24:00, 2017-08-29 07:12:00]           |         8063 |\n",
       "| (2017-08-29 07:12:00, 2017-09-25]                    |         6053 |"
      ],
      "text/plain": [
       "<IPython.core.display.Markdown object>"
      ]
     },
     "metadata": {},
     "output_type": "display_data"
    },
    {
     "name": "stdout",
     "output_type": "stream",
     "text": [
      "\n",
      "\n",
      "-------------\n",
      "Column Name:  ac_type \n",
      "--------------\n",
      "Categorical:\n",
      " -  6 Categories\n"
     ]
    },
    {
     "data": {
      "text/markdown": [
       "|               |   ac_type |\n",
       "|:--------------|----------:|\n",
       "|               |     51738 |\n",
       "| Central       |     22969 |\n",
       "| Yes           |      1568 |\n",
       "| None          |       167 |\n",
       "| Wall Unit     |        53 |\n",
       "| Refrigeration |        26 |"
      ],
      "text/plain": [
       "<IPython.core.display.Markdown object>"
      ]
     },
     "metadata": {},
     "output_type": "display_data"
    },
    {
     "name": "stdout",
     "output_type": "stream",
     "text": [
      "\n",
      "\n",
      "-------------\n",
      "Column Name:  arch_type \n",
      "--------------\n",
      "Categorical:\n",
      " -  6 Categories\n"
     ]
    },
    {
     "data": {
      "text/markdown": [
       "|               |   arch_type |\n",
       "|:--------------|------------:|\n",
       "|               |       76315 |\n",
       "| Contemporary  |         172 |\n",
       "| Conventional  |          19 |\n",
       "| Ranch/Rambler |           7 |\n",
       "| Bungalow      |           5 |\n",
       "| Cape Cod      |           3 |"
      ],
      "text/plain": [
       "<IPython.core.display.Markdown object>"
      ]
     },
     "metadata": {},
     "output_type": "display_data"
    },
    {
     "name": "stdout",
     "output_type": "stream",
     "text": [
      "\n",
      "\n",
      "-------------\n",
      "Column Name:  build_type \n",
      "--------------\n",
      "Categorical:\n",
      " -  1 Categories\n"
     ]
    },
    {
     "data": {
      "text/markdown": [
       "|    |   build_type |\n",
       "|:---|-------------:|\n",
       "|    |        76521 |"
      ],
      "text/plain": [
       "<IPython.core.display.Markdown object>"
      ]
     },
     "metadata": {},
     "output_type": "display_data"
    },
    {
     "name": "stdout",
     "output_type": "stream",
     "text": [
      "\n",
      "\n",
      "-------------\n",
      "Column Name:  heat_type \n",
      "--------------\n",
      "Categorical:\n",
      " -  11 Categories\n"
     ]
    },
    {
     "data": {
      "text/markdown": [
       "|            |   heat_type |\n",
       "|:-----------|------------:|\n",
       "| Central    |       33353 |\n",
       "|            |       27336 |\n",
       "| Floor/Wall |       14008 |\n",
       "| Yes        |         846 |\n",
       "| Forced air |         775 |\n",
       "| Solar      |         104 |\n",
       "| None       |          59 |\n",
       "| Radiant    |          23 |\n",
       "| Baseboard  |          13 |\n",
       "| Gravity    |           3 |\n",
       "| Heat Pump  |           1 |"
      ],
      "text/plain": [
       "<IPython.core.display.Markdown object>"
      ]
     },
     "metadata": {},
     "output_type": "display_data"
    },
    {
     "name": "stdout",
     "output_type": "stream",
     "text": [
      "\n",
      "\n",
      "-------------\n",
      "Column Name:  land_use_type \n",
      "--------------\n",
      "Categorical:\n",
      " -  12 Categories\n"
     ]
    },
    {
     "data": {
      "text/markdown": [
       "|                                            |   land_use_type |\n",
       "|:-------------------------------------------|----------------:|\n",
       "| Single Family Residential                  |           52160 |\n",
       "| Condominium                                |           19006 |\n",
       "| Planned Unit Development                   |            1940 |\n",
       "| Duplex (2 Units, Any Combination)          |            1843 |\n",
       "| Quadruplex (4 Units, Any Combination)      |             615 |\n",
       "| Triplex (3 Units, Any Combination)         |             485 |\n",
       "| Cluster Home                               |             333 |\n",
       "| Mobile Home                                |              59 |\n",
       "| Manufactured, Modular, Prefabricated Homes |              35 |\n",
       "| Cooperative                                |              29 |\n",
       "| Residential General                        |              10 |\n",
       "| Townhouse                                  |               6 |"
      ],
      "text/plain": [
       "<IPython.core.display.Markdown object>"
      ]
     },
     "metadata": {},
     "output_type": "display_data"
    },
    {
     "name": "stdout",
     "output_type": "stream",
     "text": [
      "\n",
      "\n",
      "-------------\n",
      "Column Name:  story_type \n",
      "--------------\n",
      "Categorical:\n",
      " -  2 Categories\n"
     ]
    },
    {
     "data": {
      "text/markdown": [
       "|          |   story_type |\n",
       "|:---------|-------------:|\n",
       "|          |        76471 |\n",
       "| Basement |           50 |"
      ],
      "text/plain": [
       "<IPython.core.display.Markdown object>"
      ]
     },
     "metadata": {},
     "output_type": "display_data"
    },
    {
     "name": "stdout",
     "output_type": "stream",
     "text": [
      "\n",
      "\n",
      "-------------\n",
      "Column Name:  construction_type \n",
      "--------------\n",
      "Categorical:\n",
      " -  5 Categories\n"
     ]
    },
    {
     "data": {
      "text/markdown": [
       "|          |   construction_type |\n",
       "|:---------|--------------------:|\n",
       "|          |               76299 |\n",
       "| Frame    |                 219 |\n",
       "| Masonry  |                   1 |\n",
       "| Metal    |                   1 |\n",
       "| Concrete |                   1 |"
      ],
      "text/plain": [
       "<IPython.core.display.Markdown object>"
      ]
     },
     "metadata": {},
     "output_type": "display_data"
    },
    {
     "name": "stdout",
     "output_type": "stream",
     "text": [
      "\n",
      "\n",
      "-------------\n",
      "Column Name:  basementsqft \n",
      "--------------\n",
      "Numerical: Divided by Quartile\n",
      " -  10 bins\n"
     ]
    },
    {
     "data": {
      "text/markdown": [
       "|                             |   basementsqft |\n",
       "|:----------------------------|---------------:|\n",
       "| (34.477000000000004, 390.2] |             20 |\n",
       "| (390.2, 742.4]              |             16 |\n",
       "| (742.4, 1094.6]             |              7 |\n",
       "| (1094.6, 1446.8]            |              3 |\n",
       "| (1446.8, 1799.0]            |              0 |\n",
       "| (1799.0, 2151.2]            |              2 |\n",
       "| (2151.2, 2503.4]            |              0 |\n",
       "| (2503.4, 2855.6]            |              0 |\n",
       "| (2855.6, 3207.8]            |              1 |\n",
       "| (3207.8, 3560.0]            |              1 |"
      ],
      "text/plain": [
       "<IPython.core.display.Markdown object>"
      ]
     },
     "metadata": {},
     "output_type": "display_data"
    },
    {
     "name": "stdout",
     "output_type": "stream",
     "text": [
      "\n",
      "\n",
      "-------------\n",
      "Column Name:  bathrooms \n",
      "--------------\n",
      "Numerical: Divided by Quartile\n",
      " -  10 bins\n"
     ]
    },
    {
     "data": {
      "text/markdown": [
       "|              |   bathrooms |\n",
       "|:-------------|------------:|\n",
       "| (0.982, 2.7] |       52153 |\n",
       "| (2.7, 4.4]   |       21686 |\n",
       "| (4.4, 6.1]   |        2360 |\n",
       "| (6.1, 7.8]   |         176 |\n",
       "| (7.8, 9.5]   |         134 |\n",
       "| (9.5, 11.2]  |          10 |\n",
       "| (11.2, 12.9] |           0 |\n",
       "| (12.9, 14.6] |           1 |\n",
       "| (14.6, 16.3] |           0 |\n",
       "| (16.3, 18.0] |           1 |"
      ],
      "text/plain": [
       "<IPython.core.display.Markdown object>"
      ]
     },
     "metadata": {},
     "output_type": "display_data"
    },
    {
     "name": "stdout",
     "output_type": "stream",
     "text": [
      "\n",
      "\n",
      "-------------\n",
      "Column Name:  bedrooms \n",
      "--------------\n",
      "Numerical: Divided by Quartile\n",
      " -  10 bins\n"
     ]
    },
    {
     "data": {
      "text/markdown": [
       "|              |   bedrooms |\n",
       "|:-------------|-----------:|\n",
       "| (0.984, 2.5] |      22534 |\n",
       "| (2.5, 4.0]   |      47860 |\n",
       "| (4.0, 5.5]   |       4542 |\n",
       "| (5.5, 7.0]   |       1206 |\n",
       "| (7.0, 8.5]   |        252 |\n",
       "| (8.5, 10.0]  |        101 |\n",
       "| (10.0, 11.5] |          8 |\n",
       "| (11.5, 13.0] |         16 |\n",
       "| (13.0, 14.5] |          1 |\n",
       "| (14.5, 16.0] |          1 |"
      ],
      "text/plain": [
       "<IPython.core.display.Markdown object>"
      ]
     },
     "metadata": {},
     "output_type": "display_data"
    },
    {
     "name": "stdout",
     "output_type": "stream",
     "text": [
      "\n",
      "\n",
      "-------------\n",
      "Column Name:  quality_type \n",
      "--------------\n",
      "Numerical: Divided by Quartile\n",
      " -  10 bins\n"
     ]
    },
    {
     "data": {
      "text/markdown": [
       "|              |   quality_type |\n",
       "|:-------------|---------------:|\n",
       "| (0.988, 2.1] |             32 |\n",
       "| (2.1, 3.2]   |            322 |\n",
       "| (3.2, 4.3]   |           9443 |\n",
       "| (4.3, 5.4]   |           2071 |\n",
       "| (5.4, 6.5]   |          13421 |\n",
       "| (6.5, 7.6]   |           5923 |\n",
       "| (7.6, 8.7]   |          14582 |\n",
       "| (8.7, 9.8]   |           2277 |\n",
       "| (9.8, 10.9]  |            308 |\n",
       "| (10.9, 12.0] |           1043 |"
      ],
      "text/plain": [
       "<IPython.core.display.Markdown object>"
      ]
     },
     "metadata": {},
     "output_type": "display_data"
    },
    {
     "name": "stdout",
     "output_type": "stream",
     "text": [
      "\n",
      "\n",
      "-------------\n",
      "Column Name:  calc_bath_n_bed \n",
      "--------------\n",
      "Numerical: Divided by Quartile\n",
      " -  10 bins\n"
     ]
    },
    {
     "data": {
      "text/markdown": [
       "|              |   calc_bath_n_bed |\n",
       "|:-------------|------------------:|\n",
       "| (0.982, 2.7] |             52138 |\n",
       "| (2.7, 4.4]   |             21686 |\n",
       "| (4.4, 6.1]   |              2359 |\n",
       "| (6.1, 7.8]   |               176 |\n",
       "| (7.8, 9.5]   |               134 |\n",
       "| (9.5, 11.2]  |                10 |\n",
       "| (11.2, 12.9] |                 0 |\n",
       "| (12.9, 14.6] |                 1 |\n",
       "| (14.6, 16.3] |                 0 |\n",
       "| (16.3, 18.0] |                 1 |"
      ],
      "text/plain": [
       "<IPython.core.display.Markdown object>"
      ]
     },
     "metadata": {},
     "output_type": "display_data"
    },
    {
     "name": "stdout",
     "output_type": "stream",
     "text": [
      "\n",
      "\n",
      "-------------\n",
      "Column Name:  deck_type \n",
      "--------------\n",
      "Numerical: Divided by Quartile\n",
      " -  10 bins\n"
     ]
    },
    {
     "data": {
      "text/markdown": [
       "|                             |   deck_type |\n",
       "|:----------------------------|------------:|\n",
       "| (65.93299999999999, 65.947] |           0 |\n",
       "| (65.947, 65.96]             |           0 |\n",
       "| (65.96, 65.974]             |           0 |\n",
       "| (65.974, 65.987]            |           0 |\n",
       "| (65.987, 66.0]              |         612 |\n",
       "| (66.0, 66.013]              |           0 |\n",
       "| (66.013, 66.026]            |           0 |\n",
       "| (66.026, 66.04]             |           0 |\n",
       "| (66.04, 66.053]             |           0 |\n",
       "| (66.053, 66.066]            |           0 |"
      ],
      "text/plain": [
       "<IPython.core.display.Markdown object>"
      ]
     },
     "metadata": {},
     "output_type": "display_data"
    },
    {
     "name": "stdout",
     "output_type": "stream",
     "text": [
      "\n",
      "\n",
      "-------------\n",
      "Column Name:  floor_1_sqft \n",
      "--------------\n",
      "Numerical: Divided by Quartile\n",
      " -  10 bins\n"
     ]
    },
    {
     "data": {
      "text/markdown": [
       "|                  |   floor_1_sqft |\n",
       "|:-----------------|---------------:|\n",
       "| (37.131, 730.8]  |            701 |\n",
       "| (730.8, 1417.6]  |           3019 |\n",
       "| (1417.6, 2104.4] |           1730 |\n",
       "| (2104.4, 2791.2] |            335 |\n",
       "| (2791.2, 3478.0] |            132 |\n",
       "| (3478.0, 4164.8] |             42 |\n",
       "| (4164.8, 4851.6] |             25 |\n",
       "| (4851.6, 5538.4] |             12 |\n",
       "| (5538.4, 6225.2] |              6 |\n",
       "| (6225.2, 6912.0] |              4 |"
      ],
      "text/plain": [
       "<IPython.core.display.Markdown object>"
      ]
     },
     "metadata": {},
     "output_type": "display_data"
    },
    {
     "name": "stdout",
     "output_type": "stream",
     "text": [
      "\n",
      "\n",
      "-------------\n",
      "Column Name:  tot_sqft \n",
      "--------------\n",
      "Numerical: Divided by Quartile\n",
      " -  10 bins\n"
     ]
    },
    {
     "data": {
      "text/markdown": [
       "|                    |   tot_sqft |\n",
       "|:-------------------|-----------:|\n",
       "| (130.222, 2329.7]  |      61531 |\n",
       "| (2329.7, 4507.4]   |      13630 |\n",
       "| (4507.4, 6685.1]   |       1132 |\n",
       "| (6685.1, 8862.8]   |        165 |\n",
       "| (8862.8, 11040.5]  |         44 |\n",
       "| (11040.5, 13218.2] |         12 |\n",
       "| (13218.2, 15395.9] |          2 |\n",
       "| (15395.9, 17573.6] |          2 |\n",
       "| (17573.6, 19751.3] |          1 |\n",
       "| (19751.3, 21929.0] |          2 |"
      ],
      "text/plain": [
       "<IPython.core.display.Markdown object>"
      ]
     },
     "metadata": {},
     "output_type": "display_data"
    },
    {
     "name": "stdout",
     "output_type": "stream",
     "text": [
      "\n",
      "\n",
      "-------------\n",
      "Column Name:  sqft_12 \n",
      "--------------\n",
      "Numerical: Divided by Quartile\n",
      " -  10 bins\n"
     ]
    },
    {
     "data": {
      "text/markdown": [
       "|                    |   sqft_12 |\n",
       "|:-------------------|----------:|\n",
       "| (130.222, 2329.7]  |     59610 |\n",
       "| (2329.7, 4507.4]   |     12521 |\n",
       "| (4507.4, 6685.1]   |      1037 |\n",
       "| (6685.1, 8862.8]   |       159 |\n",
       "| (8862.8, 11040.5]  |        44 |\n",
       "| (11040.5, 13218.2] |        12 |\n",
       "| (13218.2, 15395.9] |         2 |\n",
       "| (15395.9, 17573.6] |         2 |\n",
       "| (17573.6, 19751.3] |         1 |\n",
       "| (19751.3, 21929.0] |         2 |"
      ],
      "text/plain": [
       "<IPython.core.display.Markdown object>"
      ]
     },
     "metadata": {},
     "output_type": "display_data"
    },
    {
     "name": "stdout",
     "output_type": "stream",
     "text": [
      "\n",
      "\n",
      "-------------\n",
      "Column Name:  sqft_13 \n",
      "--------------\n",
      "Numerical: Divided by Quartile\n",
      " -  10 bins\n"
     ]
    },
    {
     "data": {
      "text/markdown": [
       "|                              |   sqft_13 |\n",
       "|:-----------------------------|----------:|\n",
       "| (1055.4950000000001, 1106.4] |         1 |\n",
       "| (1106.4, 1156.8]             |         2 |\n",
       "| (1156.8, 1207.2]             |         1 |\n",
       "| (1207.2, 1257.6]             |         2 |\n",
       "| (1257.6, 1308.0]             |         0 |\n",
       "| (1308.0, 1358.4]             |         4 |\n",
       "| (1358.4, 1408.8]             |         2 |\n",
       "| (1408.8, 1459.2]             |         9 |\n",
       "| (1459.2, 1509.6]             |         2 |\n",
       "| (1509.6, 1560.0]             |         3 |"
      ],
      "text/plain": [
       "<IPython.core.display.Markdown object>"
      ]
     },
     "metadata": {},
     "output_type": "display_data"
    },
    {
     "name": "stdout",
     "output_type": "stream",
     "text": [
      "\n",
      "\n",
      "-------------\n",
      "Column Name:  sqft_15 \n",
      "--------------\n",
      "Numerical: Divided by Quartile\n",
      " -  10 bins\n"
     ]
    },
    {
     "data": {
      "text/markdown": [
       "|                   |   sqft_15 |\n",
       "|:------------------|----------:|\n",
       "| (590.607, 1337.2] |       253 |\n",
       "| (1337.2, 2076.4]  |      1182 |\n",
       "| (2076.4, 2815.6]  |       740 |\n",
       "| (2815.6, 3554.8]  |       377 |\n",
       "| (3554.8, 4294.0]  |       232 |\n",
       "| (4294.0, 5033.2]  |       100 |\n",
       "| (5033.2, 5772.4]  |        32 |\n",
       "| (5772.4, 6511.6]  |         5 |\n",
       "| (6511.6, 7250.8]  |         4 |\n",
       "| (7250.8, 7990.0]  |         2 |"
      ],
      "text/plain": [
       "<IPython.core.display.Markdown object>"
      ]
     },
     "metadata": {},
     "output_type": "display_data"
    },
    {
     "name": "stdout",
     "output_type": "stream",
     "text": [
      "\n",
      "\n",
      "-------------\n",
      "Column Name:  sqft_50 \n",
      "--------------\n",
      "Numerical: Divided by Quartile\n",
      " -  10 bins\n"
     ]
    },
    {
     "data": {
      "text/markdown": [
       "|                    |   sqft_50 |\n",
       "|:-------------------|----------:|\n",
       "| (31.576, 1286.3]   |      3132 |\n",
       "| (1286.3, 2528.6]   |      2548 |\n",
       "| (2528.6, 3770.9]   |       237 |\n",
       "| (3770.9, 5013.2]   |        61 |\n",
       "| (5013.2, 6255.5]   |        17 |\n",
       "| (6255.5, 7497.8]   |         7 |\n",
       "| (7497.8, 8740.1]   |         2 |\n",
       "| (8740.1, 9982.4]   |         1 |\n",
       "| (9982.4, 11224.7]  |         0 |\n",
       "| (11224.7, 12467.0] |         1 |"
      ],
      "text/plain": [
       "<IPython.core.display.Markdown object>"
      ]
     },
     "metadata": {},
     "output_type": "display_data"
    },
    {
     "name": "stdout",
     "output_type": "stream",
     "text": [
      "\n",
      "\n",
      "-------------\n",
      "Column Name:  sqft_6 \n",
      "--------------\n",
      "Numerical: Divided by Quartile\n",
      " -  10 bins\n"
     ]
    },
    {
     "data": {
      "text/markdown": [
       "|                  |   sqft_6 |\n",
       "|:-----------------|---------:|\n",
       "| (374.781, 901.8] |       61 |\n",
       "| (901.8, 1423.6]  |       80 |\n",
       "| (1423.6, 1945.4] |       15 |\n",
       "| (1945.4, 2467.2] |        8 |\n",
       "| (2467.2, 2989.0] |        4 |\n",
       "| (2989.0, 3510.8] |        3 |\n",
       "| (3510.8, 4032.6] |        3 |\n",
       "| (4032.6, 4554.4] |        3 |\n",
       "| (4554.4, 5076.2] |        0 |\n",
       "| (5076.2, 5598.0] |        1 |"
      ],
      "text/plain": [
       "<IPython.core.display.Markdown object>"
      ]
     },
     "metadata": {},
     "output_type": "display_data"
    },
    {
     "name": "stdout",
     "output_type": "stream",
     "text": [
      "\n",
      "\n",
      "-------------\n",
      "Column Name:  fips \n",
      "--------------\n",
      "Categorical:\n",
      " -  3 Categories\n"
     ]
    },
    {
     "data": {
      "text/markdown": [
       "|                    |   fips |\n",
       "|:-------------------|-------:|\n",
       "| Los Angeles County |  50135 |\n",
       "| Orange County      |  20276 |\n",
       "| Ventura County     |   6110 |"
      ],
      "text/plain": [
       "<IPython.core.display.Markdown object>"
      ]
     },
     "metadata": {},
     "output_type": "display_data"
    },
    {
     "name": "stdout",
     "output_type": "stream",
     "text": [
      "\n",
      "\n",
      "-------------\n",
      "Column Name:  fireplaces \n",
      "--------------\n",
      "Numerical: Divided by Quartile\n",
      " -  10 bins\n"
     ]
    },
    {
     "data": {
      "text/markdown": [
       "|              |   fireplaces |\n",
       "|:-------------|-------------:|\n",
       "| (0.995, 1.4] |         6990 |\n",
       "| (1.4, 1.8]   |            0 |\n",
       "| (1.8, 2.2]   |          988 |\n",
       "| (2.2, 2.6]   |            0 |\n",
       "| (2.6, 3.0]   |          232 |\n",
       "| (3.0, 3.4]   |            0 |\n",
       "| (3.4, 3.8]   |            0 |\n",
       "| (3.8, 4.2]   |           34 |\n",
       "| (4.2, 4.6]   |            0 |\n",
       "| (4.6, 5.0]   |            3 |"
      ],
      "text/plain": [
       "<IPython.core.display.Markdown object>"
      ]
     },
     "metadata": {},
     "output_type": "display_data"
    },
    {
     "name": "stdout",
     "output_type": "stream",
     "text": [
      "\n",
      "\n",
      "-------------\n",
      "Column Name:  full_baths \n",
      "--------------\n",
      "Numerical: Divided by Quartile\n",
      " -  10 bins\n"
     ]
    },
    {
     "data": {
      "text/markdown": [
       "|              |   full_baths |\n",
       "|:-------------|-------------:|\n",
       "| (0.982, 2.7] |        52155 |\n",
       "| (2.7, 4.4]   |        22385 |\n",
       "| (4.4, 6.1]   |         1698 |\n",
       "| (6.1, 7.8]   |          121 |\n",
       "| (7.8, 9.5]   |          134 |\n",
       "| (9.5, 11.2]  |           10 |\n",
       "| (11.2, 12.9] |            0 |\n",
       "| (12.9, 14.6] |            1 |\n",
       "| (14.6, 16.3] |            0 |\n",
       "| (16.3, 18.0] |            1 |"
      ],
      "text/plain": [
       "<IPython.core.display.Markdown object>"
      ]
     },
     "metadata": {},
     "output_type": "display_data"
    },
    {
     "name": "stdout",
     "output_type": "stream",
     "text": [
      "\n",
      "\n",
      "-------------\n",
      "Column Name:  garages \n",
      "--------------\n",
      "Numerical: Divided by Quartile\n",
      " -  10 bins\n"
     ]
    },
    {
     "data": {
      "text/markdown": [
       "|               |   garages |\n",
       "|:--------------|----------:|\n",
       "| (-0.015, 1.4] |      5736 |\n",
       "| (1.4, 2.8]    |     18593 |\n",
       "| (2.8, 4.2]    |       885 |\n",
       "| (4.2, 5.6]    |        45 |\n",
       "| (5.6, 7.0]    |        18 |\n",
       "| (7.0, 8.4]    |         2 |\n",
       "| (8.4, 9.8]    |         2 |\n",
       "| (9.8, 11.2]   |         4 |\n",
       "| (11.2, 12.6]  |         0 |\n",
       "| (12.6, 14.0]  |         2 |"
      ],
      "text/plain": [
       "<IPython.core.display.Markdown object>"
      ]
     },
     "metadata": {},
     "output_type": "display_data"
    },
    {
     "name": "stdout",
     "output_type": "stream",
     "text": [
      "\n",
      "\n",
      "-------------\n",
      "Column Name:  garage_sqft \n",
      "--------------\n",
      "Numerical: Divided by Quartile\n",
      " -  10 bins\n"
     ]
    },
    {
     "data": {
      "text/markdown": [
       "|                             |   garage_sqft |\n",
       "|:----------------------------|--------------:|\n",
       "| (-4.252000000000001, 425.1] |         11763 |\n",
       "| (425.1, 850.2]              |         13148 |\n",
       "| (850.2, 1275.3]             |           322 |\n",
       "| (1275.3, 1700.4]            |            38 |\n",
       "| (1700.4, 2125.5]            |             6 |\n",
       "| (2125.5, 2550.6]            |             2 |\n",
       "| (2550.6, 2975.7]            |             4 |\n",
       "| (2975.7, 3400.8]            |             2 |\n",
       "| (3400.8, 3825.9]            |             1 |\n",
       "| (3825.9, 4251.0]            |             1 |"
      ],
      "text/plain": [
       "<IPython.core.display.Markdown object>"
      ]
     },
     "metadata": {},
     "output_type": "display_data"
    },
    {
     "name": "stdout",
     "output_type": "stream",
     "text": [
      "\n",
      "\n",
      "-------------\n",
      "Column Name:  hot_tub \n",
      "--------------\n",
      "Numerical: Divided by Quartile\n",
      " -  10 bins\n"
     ]
    },
    {
     "data": {
      "text/markdown": [
       "|                  |   hot_tub |\n",
       "|:-----------------|----------:|\n",
       "| (0.9989, 0.9992] |         0 |\n",
       "| (0.9992, 0.9994] |         0 |\n",
       "| (0.9994, 0.9996] |         0 |\n",
       "| (0.9996, 0.9998] |         0 |\n",
       "| (0.9998, 1.0]    |      1538 |\n",
       "| (1.0, 1.0002]    |         0 |\n",
       "| (1.0002, 1.0004] |         0 |\n",
       "| (1.0004, 1.0006] |         0 |\n",
       "| (1.0006, 1.0008] |         0 |\n",
       "| (1.0008, 1.001]  |         0 |"
      ],
      "text/plain": [
       "<IPython.core.display.Markdown object>"
      ]
     },
     "metadata": {},
     "output_type": "display_data"
    },
    {
     "name": "stdout",
     "output_type": "stream",
     "text": [
      "\n",
      "\n",
      "-------------\n",
      "Column Name:  lat \n",
      "--------------\n",
      "Numerical: Divided by Quartile\n",
      " -  10 bins\n"
     ]
    },
    {
     "data": {
      "text/markdown": [
       "|                                  |   lat |\n",
       "|:---------------------------------|------:|\n",
       "| (33338047.759000003, 33487451.0] |  1000 |\n",
       "| (33487451.0, 33635375.0]         |  5254 |\n",
       "| (33635375.0, 33783299.0]         |  9870 |\n",
       "| (33783299.0, 33931223.0]         | 14658 |\n",
       "| (33931223.0, 34079147.0]         | 14031 |\n",
       "| (34079147.0, 34227071.0]         | 18723 |\n",
       "| (34227071.0, 34374995.0]         |  6208 |\n",
       "| (34374995.0, 34522919.0]         |  3128 |\n",
       "| (34522919.0, 34670843.0]         |  2318 |\n",
       "| (34670843.0, 34818767.0]         |  1331 |"
      ],
      "text/plain": [
       "<IPython.core.display.Markdown object>"
      ]
     },
     "metadata": {},
     "output_type": "display_data"
    },
    {
     "name": "stdout",
     "output_type": "stream",
     "text": [
      "\n",
      "\n",
      "-------------\n",
      "Column Name:  lon \n",
      "--------------\n",
      "Numerical: Divided by Quartile\n",
      " -  10 bins\n"
     ]
    },
    {
     "data": {
      "text/markdown": [
       "|                                |   lon |\n",
       "|:-------------------------------|------:|\n",
       "| (-119477336.781, -119283338.0] |   211 |\n",
       "| (-119283338.0, -119091260.0]   |  1940 |\n",
       "| (-119091260.0, -118899182.0]   |  1445 |\n",
       "| (-118899182.0, -118707104.0]   |  2644 |\n",
       "| (-118707104.0, -118515026.0]   |  5911 |\n",
       "| (-118515026.0, -118322948.0]   | 15282 |\n",
       "| (-118322948.0, -118130870.0]   | 15150 |\n",
       "| (-118130870.0, -117938792.0]   | 14116 |\n",
       "| (-117938792.0, -117746714.0]   | 12500 |\n",
       "| (-117746714.0, -117554636.0]   |  7322 |"
      ],
      "text/plain": [
       "<IPython.core.display.Markdown object>"
      ]
     },
     "metadata": {},
     "output_type": "display_data"
    },
    {
     "name": "stdout",
     "output_type": "stream",
     "text": [
      "\n",
      "\n",
      "-------------\n",
      "Column Name:  lot_sqft \n",
      "--------------\n",
      "Numerical: Divided by Quartile\n",
      " -  10 bins\n"
     ]
    },
    {
     "data": {
      "text/markdown": [
       "|                                |   lot_sqft |\n",
       "|:-------------------------------|-----------:|\n",
       "| (-6734.775000000001, 697313.4] |      68112 |\n",
       "| (697313.4, 1394390.8]          |        221 |\n",
       "| (1394390.8, 2091468.2]         |         38 |\n",
       "| (2091468.2, 2788545.6]         |          2 |\n",
       "| (2788545.6, 3485623.0]         |          1 |\n",
       "| (3485623.0, 4182700.4]         |          9 |\n",
       "| (4182700.4, 4879777.8]         |          0 |\n",
       "| (4879777.8, 5576855.2]         |          0 |\n",
       "| (5576855.2, 6273932.6]         |          0 |\n",
       "| (6273932.6, 6971010.0]         |          7 |"
      ],
      "text/plain": [
       "<IPython.core.display.Markdown object>"
      ]
     },
     "metadata": {},
     "output_type": "display_data"
    },
    {
     "name": "stdout",
     "output_type": "stream",
     "text": [
      "\n",
      "\n",
      "-------------\n",
      "Column Name:  pools \n",
      "--------------\n",
      "Numerical: Divided by Quartile\n",
      " -  10 bins\n"
     ]
    },
    {
     "data": {
      "text/markdown": [
       "|                  |   pools |\n",
       "|:-----------------|--------:|\n",
       "| (0.9989, 0.9992] |       0 |\n",
       "| (0.9992, 0.9994] |       0 |\n",
       "| (0.9994, 0.9996] |       0 |\n",
       "| (0.9996, 0.9998] |       0 |\n",
       "| (0.9998, 1.0]    |   16048 |\n",
       "| (1.0, 1.0002]    |       0 |\n",
       "| (1.0002, 1.0004] |       0 |\n",
       "| (1.0004, 1.0006] |       0 |\n",
       "| (1.0006, 1.0008] |       0 |\n",
       "| (1.0008, 1.001]  |       0 |"
      ],
      "text/plain": [
       "<IPython.core.display.Markdown object>"
      ]
     },
     "metadata": {},
     "output_type": "display_data"
    },
    {
     "name": "stdout",
     "output_type": "stream",
     "text": [
      "\n",
      "\n",
      "-------------\n",
      "Column Name:  pool_sqft \n",
      "--------------\n",
      "Numerical: Divided by Quartile\n",
      " -  10 bins\n"
     ]
    },
    {
     "data": {
      "text/markdown": [
       "|                  |   pool_sqft |\n",
       "|:-----------------|------------:|\n",
       "| (22.523, 171.6]  |           6 |\n",
       "| (171.6, 319.2]   |          47 |\n",
       "| (319.2, 466.8]   |         321 |\n",
       "| (466.8, 614.4]   |         305 |\n",
       "| (614.4, 762.0]   |         121 |\n",
       "| (762.0, 909.6]   |          48 |\n",
       "| (909.6, 1057.2]  |           7 |\n",
       "| (1057.2, 1204.8] |           5 |\n",
       "| (1204.8, 1352.4] |           0 |\n",
       "| (1352.4, 1500.0] |           2 |"
      ],
      "text/plain": [
       "<IPython.core.display.Markdown object>"
      ]
     },
     "metadata": {},
     "output_type": "display_data"
    },
    {
     "name": "stdout",
     "output_type": "stream",
     "text": [
      "\n",
      "\n",
      "-------------\n",
      "Column Name:  pool_id10 \n",
      "--------------\n",
      "Numerical: Divided by Quartile\n",
      " -  10 bins\n"
     ]
    },
    {
     "data": {
      "text/markdown": [
       "|                  |   pool_id10 |\n",
       "|:-----------------|------------:|\n",
       "| (0.9989, 0.9992] |           0 |\n",
       "| (0.9992, 0.9994] |           0 |\n",
       "| (0.9994, 0.9996] |           0 |\n",
       "| (0.9996, 0.9998] |           0 |\n",
       "| (0.9998, 1.0]    |         464 |\n",
       "| (1.0, 1.0002]    |           0 |\n",
       "| (1.0002, 1.0004] |           0 |\n",
       "| (1.0004, 1.0006] |           0 |\n",
       "| (1.0006, 1.0008] |           0 |\n",
       "| (1.0008, 1.001]  |           0 |"
      ],
      "text/plain": [
       "<IPython.core.display.Markdown object>"
      ]
     },
     "metadata": {},
     "output_type": "display_data"
    },
    {
     "name": "stdout",
     "output_type": "stream",
     "text": [
      "\n",
      "\n",
      "-------------\n",
      "Column Name:  pool_id2 \n",
      "--------------\n",
      "Numerical: Divided by Quartile\n",
      " -  10 bins\n"
     ]
    },
    {
     "data": {
      "text/markdown": [
       "|                  |   pool_id2 |\n",
       "|:-----------------|-----------:|\n",
       "| (0.9989, 0.9992] |          0 |\n",
       "| (0.9992, 0.9994] |          0 |\n",
       "| (0.9994, 0.9996] |          0 |\n",
       "| (0.9996, 0.9998] |          0 |\n",
       "| (0.9998, 1.0]    |       1074 |\n",
       "| (1.0, 1.0002]    |          0 |\n",
       "| (1.0002, 1.0004] |          0 |\n",
       "| (1.0004, 1.0006] |          0 |\n",
       "| (1.0006, 1.0008] |          0 |\n",
       "| (1.0008, 1.001]  |          0 |"
      ],
      "text/plain": [
       "<IPython.core.display.Markdown object>"
      ]
     },
     "metadata": {},
     "output_type": "display_data"
    },
    {
     "name": "stdout",
     "output_type": "stream",
     "text": [
      "\n",
      "\n",
      "-------------\n",
      "Column Name:  pool_id7 \n",
      "--------------\n",
      "Numerical: Divided by Quartile\n",
      " -  10 bins\n"
     ]
    },
    {
     "data": {
      "text/markdown": [
       "|                  |   pool_id7 |\n",
       "|:-----------------|-----------:|\n",
       "| (0.9989, 0.9992] |          0 |\n",
       "| (0.9992, 0.9994] |          0 |\n",
       "| (0.9994, 0.9996] |          0 |\n",
       "| (0.9996, 0.9998] |          0 |\n",
       "| (0.9998, 1.0]    |      14953 |\n",
       "| (1.0, 1.0002]    |          0 |\n",
       "| (1.0002, 1.0004] |          0 |\n",
       "| (1.0004, 1.0006] |          0 |\n",
       "| (1.0006, 1.0008] |          0 |\n",
       "| (1.0008, 1.001]  |          0 |"
      ],
      "text/plain": [
       "<IPython.core.display.Markdown object>"
      ]
     },
     "metadata": {},
     "output_type": "display_data"
    },
    {
     "name": "stdout",
     "output_type": "stream",
     "text": [
      "\n",
      "\n",
      "-------------\n",
      "Column Name:  county_landuse \n",
      "--------------\n",
      "Categorical:\n",
      " -  61 Categories\n",
      "\n",
      " 0100    26675\n",
      "122     13011\n",
      "010C     8701\n",
      "0101     6398\n",
      "34       4888\n",
      "        ...  \n",
      "0301        1\n",
      "0133        1\n",
      "0204        1\n",
      "0131        1\n",
      "020E        1\n",
      "Name: county_landuse, Length: 61, dtype: int64\n",
      "\n",
      "\n",
      "-------------\n",
      "Column Name:  zoning \n",
      "--------------\n",
      "Categorical:\n",
      " -  1894 Categories\n",
      "\n",
      " None         26604\n",
      "LAR1          6731\n",
      "LAR3          2409\n",
      "LARS          1389\n",
      "LBR1N         1219\n",
      "             ...  \n",
      "AHPRD10*         1\n",
      "RBR4             1\n",
      "HAC2YY           1\n",
      "LCR17500         1\n",
      "BFA15000*        1\n",
      "Name: zoning, Length: 1894, dtype: int64\n",
      "\n",
      "\n",
      "-------------\n",
      "Column Name:  raw_tract_and_block \n",
      "--------------\n",
      "Numerical: Divided by Quartile\n",
      " -  10 bins\n"
     ]
    },
    {
     "data": {
      "text/markdown": [
       "|                                    |   raw_tract_and_block |\n",
       "|:-----------------------------------|----------------------:|\n",
       "| (60370272.019999996, 60444919.091] |                 50135 |\n",
       "| (60444919.091, 60518827.081]       |                     0 |\n",
       "| (60518827.081, 60592735.071]       |                 20276 |\n",
       "| (60592735.071, 60666643.061]       |                     0 |\n",
       "| (60666643.061, 60740551.051]       |                     0 |\n",
       "| (60740551.051, 60814459.041]       |                     0 |\n",
       "| (60814459.041, 60888367.031]       |                     0 |\n",
       "| (60888367.031, 60962275.021]       |                     0 |\n",
       "| (60962275.021, 61036183.011]       |                     0 |\n",
       "| (61036183.011, 61110091.001]       |                  6110 |"
      ],
      "text/plain": [
       "<IPython.core.display.Markdown object>"
      ]
     },
     "metadata": {},
     "output_type": "display_data"
    },
    {
     "name": "stdout",
     "output_type": "stream",
     "text": [
      "\n",
      "\n",
      "-------------\n",
      "Column Name:  city_id \n",
      "--------------\n",
      "Numerical: Divided by Quartile\n",
      " -  10 bins\n"
     ]
    },
    {
     "data": {
      "text/markdown": [
       "|                               |   city_id |\n",
       "|:------------------------------|----------:|\n",
       "| (3097.9339999999997, 42797.5] |     55080 |\n",
       "| (42797.5, 82104.0]            |     17878 |\n",
       "| (82104.0, 121410.5]           |      1046 |\n",
       "| (121410.5, 160717.0]          |         0 |\n",
       "| (160717.0, 200023.5]          |         0 |\n",
       "| (200023.5, 239330.0]          |         0 |\n",
       "| (239330.0, 278636.5]          |        24 |\n",
       "| (278636.5, 317943.0]          |         0 |\n",
       "| (317943.0, 357249.5]          |         0 |\n",
       "| (357249.5, 396556.0]          |      1047 |"
      ],
      "text/plain": [
       "<IPython.core.display.Markdown object>"
      ]
     },
     "metadata": {},
     "output_type": "display_data"
    },
    {
     "name": "stdout",
     "output_type": "stream",
     "text": [
      "\n",
      "\n",
      "-------------\n",
      "Column Name:  county_id \n",
      "--------------\n",
      "Numerical: Divided by Quartile\n",
      " -  10 bins\n"
     ]
    },
    {
     "data": {
      "text/markdown": [
       "|                    |   county_id |\n",
       "|:-------------------|------------:|\n",
       "| (1284.184, 1467.5] |       20276 |\n",
       "| (1467.5, 1649.0]   |           0 |\n",
       "| (1649.0, 1830.5]   |           0 |\n",
       "| (1830.5, 2012.0]   |           0 |\n",
       "| (2012.0, 2193.5]   |        6110 |\n",
       "| (2193.5, 2375.0]   |           0 |\n",
       "| (2375.0, 2556.5]   |           0 |\n",
       "| (2556.5, 2738.0]   |           0 |\n",
       "| (2738.0, 2919.5]   |           0 |\n",
       "| (2919.5, 3101.0]   |       50135 |"
      ],
      "text/plain": [
       "<IPython.core.display.Markdown object>"
      ]
     },
     "metadata": {},
     "output_type": "display_data"
    },
    {
     "name": "stdout",
     "output_type": "stream",
     "text": [
      "\n",
      "\n",
      "-------------\n",
      "Column Name:  neighborhood \n",
      "--------------\n",
      "Numerical: Divided by Quartile\n",
      " -  10 bins\n"
     ]
    },
    {
     "data": {
      "text/markdown": [
       "|                      |   neighborhood |\n",
       "|:---------------------|---------------:|\n",
       "| (6194.784, 82673.5]  |          11481 |\n",
       "| (82673.5, 158395.0]  |           4543 |\n",
       "| (158395.0, 234116.5] |             43 |\n",
       "| (234116.5, 309838.0] |          11360 |\n",
       "| (309838.0, 385559.5] |             72 |\n",
       "| (385559.5, 461281.0] |           1898 |\n",
       "| (461281.0, 537002.5] |              0 |\n",
       "| (537002.5, 612724.0] |              0 |\n",
       "| (612724.0, 688445.5] |             66 |\n",
       "| (688445.5, 764167.0] |           1063 |"
      ],
      "text/plain": [
       "<IPython.core.display.Markdown object>"
      ]
     },
     "metadata": {},
     "output_type": "display_data"
    },
    {
     "name": "stdout",
     "output_type": "stream",
     "text": [
      "\n",
      "\n",
      "-------------\n",
      "Column Name:  zip_code \n",
      "--------------\n",
      "Numerical: Divided by Quartile\n",
      " -  10 bins\n"
     ]
    },
    {
     "data": {
      "text/markdown": [
       "|                       |   zip_code |\n",
       "|:----------------------|-----------:|\n",
       "| (95678.306, 126351.3] |      76465 |\n",
       "| (126351.3, 156720.6]  |          0 |\n",
       "| (156720.6, 187089.9]  |          0 |\n",
       "| (187089.9, 217459.2]  |          0 |\n",
       "| (217459.2, 247828.5]  |          0 |\n",
       "| (247828.5, 278197.8]  |          0 |\n",
       "| (278197.8, 308567.1]  |          0 |\n",
       "| (308567.1, 338936.4]  |          0 |\n",
       "| (338936.4, 369305.7]  |          0 |\n",
       "| (369305.7, 399675.0]  |         12 |"
      ],
      "text/plain": [
       "<IPython.core.display.Markdown object>"
      ]
     },
     "metadata": {},
     "output_type": "display_data"
    },
    {
     "name": "stdout",
     "output_type": "stream",
     "text": [
      "\n",
      "\n",
      "-------------\n",
      "Column Name:  num_rooms \n",
      "--------------\n",
      "Numerical: Divided by Quartile\n",
      " -  10 bins\n"
     ]
    },
    {
     "data": {
      "text/markdown": [
       "|               |   num_rooms |\n",
       "|:--------------|------------:|\n",
       "| (-0.016, 1.5] |       58978 |\n",
       "| (1.5, 3.0]    |         218 |\n",
       "| (3.0, 4.5]    |        1413 |\n",
       "| (4.5, 6.0]    |        7521 |\n",
       "| (6.0, 7.5]    |        3834 |\n",
       "| (7.5, 9.0]    |        4060 |\n",
       "| (9.0, 10.5]   |         339 |\n",
       "| (10.5, 12.0]  |         141 |\n",
       "| (12.0, 13.5]  |          10 |\n",
       "| (13.5, 15.0]  |           7 |"
      ],
      "text/plain": [
       "<IPython.core.display.Markdown object>"
      ]
     },
     "metadata": {},
     "output_type": "display_data"
    },
    {
     "name": "stdout",
     "output_type": "stream",
     "text": [
      "\n",
      "\n",
      "-------------\n",
      "Column Name:  stories_type \n",
      "--------------\n",
      "Numerical: Divided by Quartile\n",
      " -  10 bins\n"
     ]
    },
    {
     "data": {
      "text/markdown": [
       "|                |   stories_type |\n",
       "|:---------------|---------------:|\n",
       "| (6.992, 6.994] |              0 |\n",
       "| (6.994, 6.996] |              0 |\n",
       "| (6.996, 6.997] |              0 |\n",
       "| (6.997, 6.999] |              0 |\n",
       "| (6.999, 7.0]   |             50 |\n",
       "| (7.0, 7.001]   |              0 |\n",
       "| (7.001, 7.003] |              0 |\n",
       "| (7.003, 7.004] |              0 |\n",
       "| (7.004, 7.006] |              0 |\n",
       "| (7.006, 7.007] |              0 |"
      ],
      "text/plain": [
       "<IPython.core.display.Markdown object>"
      ]
     },
     "metadata": {},
     "output_type": "display_data"
    },
    {
     "name": "stdout",
     "output_type": "stream",
     "text": [
      "\n",
      "\n",
      "-------------\n",
      "Column Name:  three_quarter_baths \n",
      "--------------\n",
      "Numerical: Divided by Quartile\n",
      " -  10 bins\n"
     ]
    },
    {
     "data": {
      "text/markdown": [
       "|              |   three_quarter_baths |\n",
       "|:-------------|----------------------:|\n",
       "| (0.993, 1.6] |                 10010 |\n",
       "| (1.6, 2.2]   |                    75 |\n",
       "| (2.2, 2.8]   |                     0 |\n",
       "| (2.8, 3.4]   |                     8 |\n",
       "| (3.4, 4.0]   |                     0 |\n",
       "| (4.0, 4.6]   |                     0 |\n",
       "| (4.6, 5.2]   |                     0 |\n",
       "| (5.2, 5.8]   |                     0 |\n",
       "| (5.8, 6.4]   |                     0 |\n",
       "| (6.4, 7.0]   |                     1 |"
      ],
      "text/plain": [
       "<IPython.core.display.Markdown object>"
      ]
     },
     "metadata": {},
     "output_type": "display_data"
    },
    {
     "name": "stdout",
     "output_type": "stream",
     "text": [
      "\n",
      "\n",
      "-------------\n",
      "Column Name:  units \n",
      "--------------\n",
      "Numerical: Divided by Quartile\n",
      " -  10 bins\n"
     ]
    },
    {
     "data": {
      "text/markdown": [
       "|              |   units |\n",
       "|:-------------|--------:|\n",
       "| (0.994, 1.5] |   47035 |\n",
       "| (1.5, 2.0]   |    1855 |\n",
       "| (2.0, 2.5]   |       0 |\n",
       "| (2.5, 3.0]   |     480 |\n",
       "| (3.0, 3.5]   |       0 |\n",
       "| (3.5, 4.0]   |     614 |\n",
       "| (4.0, 4.5]   |       0 |\n",
       "| (4.5, 5.0]   |       0 |\n",
       "| (5.0, 5.5]   |       0 |\n",
       "| (5.5, 6.0]   |       1 |"
      ],
      "text/plain": [
       "<IPython.core.display.Markdown object>"
      ]
     },
     "metadata": {},
     "output_type": "display_data"
    },
    {
     "name": "stdout",
     "output_type": "stream",
     "text": [
      "\n",
      "\n",
      "-------------\n",
      "Column Name:  yard_sqft_17 \n",
      "--------------\n",
      "Numerical: Divided by Quartile\n",
      " -  10 bins\n"
     ]
    },
    {
     "data": {
      "text/markdown": [
       "|                  |   yard_sqft_17 |\n",
       "|:-----------------|---------------:|\n",
       "| (7.819, 329.0]   |           1629 |\n",
       "| (329.0, 647.0]   |            603 |\n",
       "| (647.0, 965.0]   |             94 |\n",
       "| (965.0, 1283.0]  |             34 |\n",
       "| (1283.0, 1601.0] |              9 |\n",
       "| (1601.0, 1919.0] |              1 |\n",
       "| (1919.0, 2237.0] |              2 |\n",
       "| (2237.0, 2555.0] |              2 |\n",
       "| (2555.0, 2873.0] |              1 |\n",
       "| (2873.0, 3191.0] |              2 |"
      ],
      "text/plain": [
       "<IPython.core.display.Markdown object>"
      ]
     },
     "metadata": {},
     "output_type": "display_data"
    },
    {
     "name": "stdout",
     "output_type": "stream",
     "text": [
      "\n",
      "\n",
      "-------------\n",
      "Column Name:  yard_sqft_26 \n",
      "--------------\n",
      "Numerical: Divided by Quartile\n",
      " -  10 bins\n"
     ]
    },
    {
     "data": {
      "text/markdown": [
       "|                |   yard_sqft_26 |\n",
       "|:---------------|---------------:|\n",
       "| (11.143, 97.6] |             24 |\n",
       "| (97.6, 183.2]  |             14 |\n",
       "| (183.2, 268.8] |             10 |\n",
       "| (268.8, 354.4] |              7 |\n",
       "| (354.4, 440.0] |              4 |\n",
       "| (440.0, 525.6] |              6 |\n",
       "| (525.6, 611.2] |              2 |\n",
       "| (611.2, 696.8] |              1 |\n",
       "| (696.8, 782.4] |              1 |\n",
       "| (782.4, 868.0] |              1 |"
      ],
      "text/plain": [
       "<IPython.core.display.Markdown object>"
      ]
     },
     "metadata": {},
     "output_type": "display_data"
    },
    {
     "name": "stdout",
     "output_type": "stream",
     "text": [
      "\n",
      "\n",
      "-------------\n",
      "Column Name:  year_built \n",
      "--------------\n",
      "Categorical:\n",
      " -  137 Categories\n",
      "\n",
      " 1955.0    1956\n",
      "1989.0    1786\n",
      "1950.0    1663\n",
      "1964.0    1611\n",
      "1954.0    1580\n",
      "          ... \n",
      "1866.0       1\n",
      "1824.0       1\n",
      "1882.0       1\n",
      "1894.0       1\n",
      "1880.0       1\n",
      "Name: year_built, Length: 137, dtype: int64\n",
      "\n",
      "\n",
      "-------------\n",
      "Column Name:  num_stories \n",
      "--------------\n",
      "Numerical: Divided by Quartile\n",
      " -  10 bins\n"
     ]
    },
    {
     "data": {
      "text/markdown": [
       "|              |   num_stories |\n",
       "|:-------------|--------------:|\n",
       "| (0.994, 1.5] |         10328 |\n",
       "| (1.5, 2.0]   |          6572 |\n",
       "| (2.0, 2.5]   |             0 |\n",
       "| (2.5, 3.0]   |           435 |\n",
       "| (3.0, 3.5]   |             0 |\n",
       "| (3.5, 4.0]   |             0 |\n",
       "| (4.0, 4.5]   |             0 |\n",
       "| (4.5, 5.0]   |             0 |\n",
       "| (5.0, 5.5]   |             0 |\n",
       "| (5.5, 6.0]   |             1 |"
      ],
      "text/plain": [
       "<IPython.core.display.Markdown object>"
      ]
     },
     "metadata": {},
     "output_type": "display_data"
    },
    {
     "name": "stdout",
     "output_type": "stream",
     "text": [
      "\n",
      "\n",
      "-------------\n",
      "Column Name:  fireplace_flag \n",
      "--------------\n",
      "Numerical: Divided by Quartile\n",
      " -  10 bins\n"
     ]
    },
    {
     "data": {
      "text/markdown": [
       "|                  |   fireplace_flag |\n",
       "|:-----------------|-----------------:|\n",
       "| (0.9989, 0.9992] |                0 |\n",
       "| (0.9992, 0.9994] |                0 |\n",
       "| (0.9994, 0.9996] |                0 |\n",
       "| (0.9996, 0.9998] |                0 |\n",
       "| (0.9998, 1.0]    |              172 |\n",
       "| (1.0, 1.0002]    |                0 |\n",
       "| (1.0002, 1.0004] |                0 |\n",
       "| (1.0004, 1.0006] |                0 |\n",
       "| (1.0006, 1.0008] |                0 |\n",
       "| (1.0008, 1.001]  |                0 |"
      ],
      "text/plain": [
       "<IPython.core.display.Markdown object>"
      ]
     },
     "metadata": {},
     "output_type": "display_data"
    },
    {
     "name": "stdout",
     "output_type": "stream",
     "text": [
      "\n",
      "\n",
      "-------------\n",
      "Column Name:  building_tax_value \n",
      "--------------\n",
      "Numerical: Divided by Quartile\n",
      " -  10 bins\n"
     ]
    },
    {
     "data": {
      "text/markdown": [
       "|                        |   building_tax_value |\n",
       "|:-----------------------|---------------------:|\n",
       "| (-9120.858, 916529.7]  |                75431 |\n",
       "| (916529.7, 1833015.4]  |                  834 |\n",
       "| (1833015.4, 2749501.1] |                  109 |\n",
       "| (2749501.1, 3665986.8] |                   38 |\n",
       "| (3665986.8, 4582472.5] |                    9 |\n",
       "| (4582472.5, 5498958.2] |                    7 |\n",
       "| (5498958.2, 6415443.9] |                    2 |\n",
       "| (6415443.9, 7331929.6] |                    2 |\n",
       "| (7331929.6, 8248415.3] |                    4 |\n",
       "| (8248415.3, 9164901.0] |                    1 |"
      ],
      "text/plain": [
       "<IPython.core.display.Markdown object>"
      ]
     },
     "metadata": {},
     "output_type": "display_data"
    },
    {
     "name": "stdout",
     "output_type": "stream",
     "text": [
      "\n",
      "\n",
      "-------------\n",
      "Column Name:  tax_value \n",
      "--------------\n",
      "Numerical: Divided by Quartile\n",
      " -  10 bins\n"
     ]
    },
    {
     "data": {
      "text/markdown": [
       "|                                  |   tax_value |\n",
       "|:---------------------------------|------------:|\n",
       "| (-48060.236999999994, 4907023.6] |       76311 |\n",
       "| (4907023.6, 9813047.2]           |         172 |\n",
       "| (9813047.2, 14719070.8]          |          24 |\n",
       "| (14719070.8, 19625094.4]         |           8 |\n",
       "| (19625094.4, 24531118.0]         |           4 |\n",
       "| (24531118.0, 29437141.6]         |           1 |\n",
       "| (29437141.6, 34343165.2]         |           0 |\n",
       "| (34343165.2, 39249188.8]         |           0 |\n",
       "| (39249188.8, 44155212.4]         |           0 |\n",
       "| (44155212.4, 49061236.0]         |           1 |"
      ],
      "text/plain": [
       "<IPython.core.display.Markdown object>"
      ]
     },
     "metadata": {},
     "output_type": "display_data"
    },
    {
     "name": "stdout",
     "output_type": "stream",
     "text": [
      "\n",
      "\n",
      "-------------\n",
      "Column Name:  year_assesed \n",
      "--------------\n",
      "Numerical: Divided by Quartile\n",
      " -  10 bins\n"
     ]
    },
    {
     "data": {
      "text/markdown": [
       "|                      |   year_assesed |\n",
       "|:---------------------|---------------:|\n",
       "| (2013.983, 2014.387] |              0 |\n",
       "| (2014.387, 2014.79]  |              0 |\n",
       "| (2014.79, 2015.194]  |              0 |\n",
       "| (2015.194, 2015.597] |              0 |\n",
       "| (2015.597, 2016.0]   |          76521 |\n",
       "| (2016.0, 2016.403]   |              0 |\n",
       "| (2016.403, 2016.806] |              0 |\n",
       "| (2016.806, 2017.21]  |              0 |\n",
       "| (2017.21, 2017.613]  |              0 |\n",
       "| (2017.613, 2018.016] |              0 |"
      ],
      "text/plain": [
       "<IPython.core.display.Markdown object>"
      ]
     },
     "metadata": {},
     "output_type": "display_data"
    },
    {
     "name": "stdout",
     "output_type": "stream",
     "text": [
      "\n",
      "\n",
      "-------------\n",
      "Column Name:  land_tax_value \n",
      "--------------\n",
      "Numerical: Divided by Quartile\n",
      " -  10 bins\n"
     ]
    },
    {
     "data": {
      "text/markdown": [
       "|                                 |   land_tax_value |\n",
       "|:--------------------------------|-----------------:|\n",
       "| (-48791.03799999999, 4895364.7] |            76414 |\n",
       "| (4895364.7, 9790568.4]          |               86 |\n",
       "| (9790568.4, 14685772.1]         |               14 |\n",
       "| (14685772.1, 19580975.8]        |                5 |\n",
       "| (19580975.8, 24476179.5]        |                1 |\n",
       "| (24476179.5, 29371383.2]        |                0 |\n",
       "| (29371383.2, 34266586.9]        |                0 |\n",
       "| (34266586.9, 39161790.6]        |                0 |\n",
       "| (39161790.6, 44056994.3]        |                0 |\n",
       "| (44056994.3, 48952198.0]        |                1 |"
      ],
      "text/plain": [
       "<IPython.core.display.Markdown object>"
      ]
     },
     "metadata": {},
     "output_type": "display_data"
    },
    {
     "name": "stdout",
     "output_type": "stream",
     "text": [
      "\n",
      "\n",
      "-------------\n",
      "Column Name:  tax_amount \n",
      "--------------\n",
      "Numerical: Divided by Quartile\n",
      " -  10 bins\n"
     ]
    },
    {
     "data": {
      "text/markdown": [
       "|                                 |   tax_amount |\n",
       "|:--------------------------------|-------------:|\n",
       "| (-566.6999999999999, 58681.858] |        76315 |\n",
       "| (58681.858, 117343.796]         |          167 |\n",
       "| (117343.796, 176005.734]        |           20 |\n",
       "| (176005.734, 234667.672]        |            9 |\n",
       "| (234667.672, 293329.61]         |            4 |\n",
       "| (293329.61, 351991.548]         |            0 |\n",
       "| (351991.548, 410653.486]        |            0 |\n",
       "| (410653.486, 469315.424]        |            0 |\n",
       "| (469315.424, 527977.362]        |            0 |\n",
       "| (527977.362, 586639.3]          |            1 |"
      ],
      "text/plain": [
       "<IPython.core.display.Markdown object>"
      ]
     },
     "metadata": {},
     "output_type": "display_data"
    },
    {
     "name": "stdout",
     "output_type": "stream",
     "text": [
      "\n",
      "\n",
      "-------------\n",
      "Column Name:  tax_delinquency_flag \n",
      "--------------\n",
      "Categorical:\n",
      " -  2 Categories\n"
     ]
    },
    {
     "data": {
      "text/markdown": [
       "|    |   tax_delinquency_flag |\n",
       "|:---|-----------------------:|\n",
       "|    |                  73669 |\n",
       "| Y  |                   2852 |"
      ],
      "text/plain": [
       "<IPython.core.display.Markdown object>"
      ]
     },
     "metadata": {},
     "output_type": "display_data"
    },
    {
     "name": "stdout",
     "output_type": "stream",
     "text": [
      "\n",
      "\n",
      "-------------\n",
      "Column Name:  tax_delinquency_year \n",
      "--------------\n",
      "Numerical: Divided by Quartile\n",
      " -  10 bins\n"
     ]
    },
    {
     "data": {
      "text/markdown": [
       "|               |   tax_delinquency_year |\n",
       "|:--------------|-----------------------:|\n",
       "| (2.903, 12.6] |                    348 |\n",
       "| (12.6, 22.2]  |                   2503 |\n",
       "| (22.2, 31.8]  |                      0 |\n",
       "| (31.8, 41.4]  |                      0 |\n",
       "| (41.4, 51.0]  |                      0 |\n",
       "| (51.0, 60.6]  |                      0 |\n",
       "| (60.6, 70.2]  |                      0 |\n",
       "| (70.2, 79.8]  |                      0 |\n",
       "| (79.8, 89.4]  |                      0 |\n",
       "| (89.4, 99.0]  |                      1 |"
      ],
      "text/plain": [
       "<IPython.core.display.Markdown object>"
      ]
     },
     "metadata": {},
     "output_type": "display_data"
    },
    {
     "name": "stdout",
     "output_type": "stream",
     "text": [
      "\n",
      "\n",
      "-------------\n",
      "Column Name:  tract_and_block \n",
      "--------------\n",
      "Numerical: Divided by Quartile\n",
      " -  10 bins\n"
     ]
    },
    {
     "data": {
      "text/markdown": [
       "|                                         |   tract_and_block |\n",
       "|:----------------------------------------|------------------:|\n",
       "| (59948352007016.984, 102636920499301.5] |             76300 |\n",
       "| (102636920499301.5, 144902829897603.0]  |                 0 |\n",
       "| (144902829897603.0, 187168739295904.5]  |                 0 |\n",
       "| (187168739295904.5, 229434648694206.03] |                 0 |\n",
       "| (229434648694206.03, 271700558092507.5] |                 0 |\n",
       "| (271700558092507.5, 313966467490809.0]  |                 0 |\n",
       "| (313966467490809.0, 356232376889110.5]  |                 0 |\n",
       "| (356232376889110.5, 398498286287411.94] |                 0 |\n",
       "| (398498286287411.94, 440764195685713.5] |                 0 |\n",
       "| (440764195685713.5, 483030105084015.0]  |                 1 |"
      ],
      "text/plain": [
       "<IPython.core.display.Markdown object>"
      ]
     },
     "metadata": {},
     "output_type": "display_data"
    },
    {
     "name": "stdout",
     "output_type": "stream",
     "text": [
      "\n",
      "\n",
      "-------------\n",
      "-----------------\n",
      "---End of Line---\n"
     ]
    }
   ],
   "source": [
    "summarize(df)"
   ]
  },
  {
   "cell_type": "code",
   "execution_count": 6,
   "id": "577a580e",
   "metadata": {
    "scrolled": true
   },
   "outputs": [
    {
     "name": "stdout",
     "output_type": "stream",
     "text": [
      "<class 'pandas.core.frame.DataFrame'>\n",
      "Int64Index: 76521 entries, 0 to 76711\n",
      "Data columns (total 62 columns):\n",
      " #   Column                Non-Null Count  Dtype         \n",
      "---  ------                --------------  -----         \n",
      " 0   id                    76521 non-null  int64         \n",
      " 1   parcel                76521 non-null  int64         \n",
      " 2   logerror              76521 non-null  float64       \n",
      " 3   trans_date            76521 non-null  datetime64[ns]\n",
      " 4   ac_type               24783 non-null  object        \n",
      " 5   arch_type             206 non-null    object        \n",
      " 6   build_type            0 non-null      object        \n",
      " 7   heat_type             49185 non-null  object        \n",
      " 8   land_use_type         76521 non-null  object        \n",
      " 9   story_type            50 non-null     object        \n",
      " 10  construction_type     222 non-null    object        \n",
      " 11  basementsqft          50 non-null     float64       \n",
      " 12  bathrooms             76521 non-null  float64       \n",
      " 13  bedrooms              76521 non-null  float64       \n",
      " 14  quality_type          49422 non-null  float64       \n",
      " 15  calc_bath_n_bed       76505 non-null  float64       \n",
      " 16  deck_type             612 non-null    float64       \n",
      " 17  floor_1_sqft          6006 non-null   float64       \n",
      " 18  tot_sqft              76521 non-null  float64       \n",
      " 19  sqft_12               73390 non-null  float64       \n",
      " 20  sqft_13               26 non-null     float64       \n",
      " 21  sqft_15               2927 non-null   float64       \n",
      " 22  sqft_50               6006 non-null   float64       \n",
      " 23  sqft_6                178 non-null    float64       \n",
      " 24  fips                  76521 non-null  object        \n",
      " 25  fireplaces            8247 non-null   float64       \n",
      " 26  full_baths            76505 non-null  float64       \n",
      " 27  garages               25287 non-null  float64       \n",
      " 28  garage_sqft           25287 non-null  float64       \n",
      " 29  hot_tub               1538 non-null   float64       \n",
      " 30  lat                   76521 non-null  float64       \n",
      " 31  lon                   76521 non-null  float64       \n",
      " 32  lot_sqft              68390 non-null  float64       \n",
      " 33  pools                 16048 non-null  float64       \n",
      " 34  pool_sqft             862 non-null    float64       \n",
      " 35  pool_id10             464 non-null    float64       \n",
      " 36  pool_id2              1074 non-null   float64       \n",
      " 37  pool_id7              14953 non-null  float64       \n",
      " 38  county_landuse        76521 non-null  object        \n",
      " 39  zoning                49917 non-null  object        \n",
      " 40  raw_tract_and_block   76521 non-null  float64       \n",
      " 41  city_id               75075 non-null  float64       \n",
      " 42  county_id             76521 non-null  float64       \n",
      " 43  neighborhood          30526 non-null  float64       \n",
      " 44  zip_code              76477 non-null  float64       \n",
      " 45  num_rooms             76521 non-null  float64       \n",
      " 46  stories_type          50 non-null     float64       \n",
      " 47  three_quarter_baths   10094 non-null  float64       \n",
      " 48  units                 49985 non-null  float64       \n",
      " 49  yard_sqft_17          2377 non-null   float64       \n",
      " 50  yard_sqft_26          70 non-null     float64       \n",
      " 51  year_built            76464 non-null  object        \n",
      " 52  num_stories           17336 non-null  float64       \n",
      " 53  fireplace_flag        172 non-null    float64       \n",
      " 54  building_tax_value    76437 non-null  float64       \n",
      " 55  tax_value             76521 non-null  float64       \n",
      " 56  year_assesed          76521 non-null  float64       \n",
      " 57  land_tax_value        76521 non-null  float64       \n",
      " 58  tax_amount            76516 non-null  float64       \n",
      " 59  tax_delinquency_flag  2852 non-null   object        \n",
      " 60  tax_delinquency_year  2852 non-null   float64       \n",
      " 61  tract_and_block       76301 non-null  float64       \n",
      "dtypes: datetime64[ns](1), float64(47), int64(2), object(12)\n",
      "memory usage: 36.8+ MB\n"
     ]
    }
   ],
   "source": [
    "df.info()"
   ]
  },
  {
   "cell_type": "code",
   "execution_count": 7,
   "id": "ecf92aff",
   "metadata": {},
   "outputs": [],
   "source": [
    "df = SFR(df)"
   ]
  },
  {
   "cell_type": "code",
   "execution_count": 8,
   "id": "6547687c",
   "metadata": {
    "scrolled": true
   },
   "outputs": [
    {
     "name": "stdout",
     "output_type": "stream",
     "text": [
      "<class 'pandas.core.frame.DataFrame'>\n",
      "Int64Index: 52086 entries, 0 to 76711\n",
      "Data columns (total 62 columns):\n",
      " #   Column                Non-Null Count  Dtype         \n",
      "---  ------                --------------  -----         \n",
      " 0   id                    52086 non-null  int64         \n",
      " 1   parcel                52086 non-null  int64         \n",
      " 2   logerror              52086 non-null  float64       \n",
      " 3   trans_date            52086 non-null  datetime64[ns]\n",
      " 4   ac_type               13600 non-null  object        \n",
      " 5   arch_type             70 non-null     object        \n",
      " 6   build_type            0 non-null      object        \n",
      " 7   heat_type             33808 non-null  object        \n",
      " 8   land_use_type         52086 non-null  object        \n",
      " 9   story_type            0 non-null      object        \n",
      " 10  construction_type     76 non-null     object        \n",
      " 11  basementsqft          0 non-null      float64       \n",
      " 12  bathrooms             52086 non-null  float64       \n",
      " 13  bedrooms              52086 non-null  float64       \n",
      " 14  quality_type          33605 non-null  float64       \n",
      " 15  calc_bath_n_bed       52071 non-null  float64       \n",
      " 16  deck_type             372 non-null    float64       \n",
      " 17  floor_1_sqft          4304 non-null   float64       \n",
      " 18  tot_sqft              52086 non-null  float64       \n",
      " 19  sqft_12               51928 non-null  float64       \n",
      " 20  sqft_13               0 non-null      float64       \n",
      " 21  sqft_15               0 non-null      float64       \n",
      " 22  sqft_50               4304 non-null   float64       \n",
      " 23  sqft_6                158 non-null    float64       \n",
      " 24  fips                  52086 non-null  object        \n",
      " 25  fireplaces            7175 non-null   float64       \n",
      " 26  full_baths            52071 non-null  float64       \n",
      " 27  garages               17920 non-null  float64       \n",
      " 28  garage_sqft           17920 non-null  float64       \n",
      " 29  hot_tub               1514 non-null   float64       \n",
      " 30  lat                   52086 non-null  float64       \n",
      " 31  lon                   52086 non-null  float64       \n",
      " 32  lot_sqft              51736 non-null  float64       \n",
      " 33  pools                 11045 non-null  float64       \n",
      " 34  pool_sqft             847 non-null    float64       \n",
      " 35  pool_id10             443 non-null    float64       \n",
      " 36  pool_id2              1071 non-null   float64       \n",
      " 37  pool_id7              9958 non-null   float64       \n",
      " 38  county_landuse        52086 non-null  object        \n",
      " 39  zoning                33666 non-null  object        \n",
      " 40  raw_tract_and_block   52086 non-null  float64       \n",
      " 41  city_id               51058 non-null  float64       \n",
      " 42  county_id             52086 non-null  float64       \n",
      " 43  neighborhood          18907 non-null  float64       \n",
      " 44  zip_code              52063 non-null  float64       \n",
      " 45  num_rooms             52086 non-null  float64       \n",
      " 46  stories_type          0 non-null      float64       \n",
      " 47  three_quarter_baths   6694 non-null   float64       \n",
      " 48  units                 33691 non-null  float64       \n",
      " 49  yard_sqft_17          1916 non-null   float64       \n",
      " 50  yard_sqft_26          58 non-null     float64       \n",
      " 51  year_built            52053 non-null  object        \n",
      " 52  num_stories           14455 non-null  float64       \n",
      " 53  fireplace_flag        81 non-null     float64       \n",
      " 54  building_tax_value    52018 non-null  float64       \n",
      " 55  tax_value             52086 non-null  float64       \n",
      " 56  year_assesed          52086 non-null  float64       \n",
      " 57  land_tax_value        52086 non-null  float64       \n",
      " 58  tax_amount            52082 non-null  float64       \n",
      " 59  tax_delinquency_flag  2058 non-null   object        \n",
      " 60  tax_delinquency_year  2058 non-null   float64       \n",
      " 61  tract_and_block       51977 non-null  float64       \n",
      "dtypes: datetime64[ns](1), float64(47), int64(2), object(12)\n",
      "memory usage: 25.0+ MB\n"
     ]
    }
   ],
   "source": [
    "df.info()"
   ]
  },
  {
   "cell_type": "code",
   "execution_count": 9,
   "id": "35123cbc",
   "metadata": {
    "scrolled": true
   },
   "outputs": [
    {
     "data": {
      "text/plain": [
       "['id',\n",
       " 'parcel',\n",
       " 'logerror',\n",
       " 'trans_date',\n",
       " 'ac_type',\n",
       " 'arch_type',\n",
       " 'build_type',\n",
       " 'heat_type',\n",
       " 'land_use_type',\n",
       " 'story_type',\n",
       " 'construction_type',\n",
       " 'basementsqft',\n",
       " 'bathrooms',\n",
       " 'bedrooms',\n",
       " 'quality_type',\n",
       " 'calc_bath_n_bed',\n",
       " 'deck_type',\n",
       " 'floor_1_sqft',\n",
       " 'tot_sqft',\n",
       " 'sqft_12',\n",
       " 'sqft_13',\n",
       " 'sqft_15',\n",
       " 'sqft_50',\n",
       " 'sqft_6',\n",
       " 'fips',\n",
       " 'fireplaces',\n",
       " 'full_baths',\n",
       " 'garages',\n",
       " 'garage_sqft',\n",
       " 'hot_tub',\n",
       " 'lat',\n",
       " 'lon',\n",
       " 'lot_sqft',\n",
       " 'pools',\n",
       " 'pool_sqft',\n",
       " 'pool_id10',\n",
       " 'pool_id2',\n",
       " 'pool_id7',\n",
       " 'county_landuse',\n",
       " 'zoning',\n",
       " 'raw_tract_and_block',\n",
       " 'city_id',\n",
       " 'county_id',\n",
       " 'neighborhood',\n",
       " 'zip_code',\n",
       " 'num_rooms',\n",
       " 'stories_type',\n",
       " 'three_quarter_baths',\n",
       " 'units',\n",
       " 'yard_sqft_17',\n",
       " 'yard_sqft_26',\n",
       " 'year_built',\n",
       " 'num_stories',\n",
       " 'fireplace_flag',\n",
       " 'building_tax_value',\n",
       " 'tax_value',\n",
       " 'year_assesed',\n",
       " 'land_tax_value',\n",
       " 'tax_amount',\n",
       " 'tax_delinquency_flag',\n",
       " 'tax_delinquency_year',\n",
       " 'tract_and_block']"
      ]
     },
     "execution_count": 9,
     "metadata": {},
     "output_type": "execute_result"
    }
   ],
   "source": [
    "df.columns.tolist()"
   ]
  },
  {
   "cell_type": "code",
   "execution_count": 10,
   "id": "d83a5717",
   "metadata": {},
   "outputs": [],
   "source": [
    "outlier_cols = ['bathrooms',\n",
    " 'bedrooms',\n",
    " 'tot_sqft',\n",
    " 'fireplaces',\n",
    " 'full_baths',\n",
    " 'garages',\n",
    " 'garage_sqft',\n",
    " 'lot_sqft',\n",
    " 'tax_value',\n",
    " 'land_tax_value',\n",
    "]"
   ]
  },
  {
   "cell_type": "code",
   "execution_count": 11,
   "id": "88c5a71f",
   "metadata": {},
   "outputs": [
    {
     "name": "stdout",
     "output_type": "stream",
     "text": [
      "Number of observations removed: 12223\n"
     ]
    }
   ],
   "source": [
    "df = remove_outliers(df, col_list=outlier_cols)"
   ]
  },
  {
   "cell_type": "code",
   "execution_count": 12,
   "id": "361074ec",
   "metadata": {},
   "outputs": [],
   "source": [
    "df = handle_missing_values(df)"
   ]
  },
  {
   "cell_type": "code",
   "execution_count": 13,
   "id": "df7933bb",
   "metadata": {
    "scrolled": true
   },
   "outputs": [
    {
     "name": "stdout",
     "output_type": "stream",
     "text": [
      "<class 'pandas.core.frame.DataFrame'>\n",
      "Int64Index: 39863 entries, 0 to 76711\n",
      "Data columns (total 32 columns):\n",
      " #   Column               Non-Null Count  Dtype         \n",
      "---  ------               --------------  -----         \n",
      " 0   id                   39863 non-null  int64         \n",
      " 1   parcel               39863 non-null  int64         \n",
      " 2   logerror             39863 non-null  float64       \n",
      " 3   trans_date           39863 non-null  datetime64[ns]\n",
      " 4   heat_type            27403 non-null  object        \n",
      " 5   land_use_type        39863 non-null  object        \n",
      " 6   bathrooms            39863 non-null  float64       \n",
      " 7   bedrooms             39863 non-null  float64       \n",
      " 8   quality_type         27405 non-null  float64       \n",
      " 9   calc_bath_n_bed      39857 non-null  float64       \n",
      " 10  tot_sqft             39863 non-null  float64       \n",
      " 11  sqft_12              39792 non-null  float64       \n",
      " 12  fips                 39863 non-null  object        \n",
      " 13  full_baths           39857 non-null  float64       \n",
      " 14  lat                  39863 non-null  float64       \n",
      " 15  lon                  39863 non-null  float64       \n",
      " 16  lot_sqft             39659 non-null  float64       \n",
      " 17  county_landuse       39863 non-null  object        \n",
      " 18  zoning               27371 non-null  object        \n",
      " 19  raw_tract_and_block  39863 non-null  float64       \n",
      " 20  city_id              39134 non-null  float64       \n",
      " 21  county_id            39863 non-null  float64       \n",
      " 22  zip_code             39847 non-null  float64       \n",
      " 23  num_rooms            39863 non-null  float64       \n",
      " 24  units                27388 non-null  float64       \n",
      " 25  year_built           39849 non-null  object        \n",
      " 26  building_tax_value   39843 non-null  float64       \n",
      " 27  tax_value            39863 non-null  float64       \n",
      " 28  year_assesed         39863 non-null  float64       \n",
      " 29  land_tax_value       39863 non-null  float64       \n",
      " 30  tax_amount           39860 non-null  float64       \n",
      " 31  tract_and_block      39789 non-null  float64       \n",
      "dtypes: datetime64[ns](1), float64(23), int64(2), object(6)\n",
      "memory usage: 10.0+ MB\n"
     ]
    }
   ],
   "source": [
    "df.info()"
   ]
  },
  {
   "cell_type": "code",
   "execution_count": 14,
   "id": "6c6500b4",
   "metadata": {
    "scrolled": false
   },
   "outputs": [
    {
     "data": {
      "text/markdown": [
       "\n",
       "    DataFrame .head():\n",
       "    -----------------\n",
       "|    |   id |   parcel |    logerror | trans_date          | heat_type   | land_use_type             |   bathrooms |   bedrooms |   quality_type |   calc_bath_n_bed |   tot_sqft |   sqft_12 | fips               |   full_baths |         lat |          lon |   lot_sqft |   county_landuse | zoning     |   raw_tract_and_block |   city_id |   county_id |   zip_code |   num_rooms |   units |   year_built |   building_tax_value |        tax_value |   year_assesed |   land_tax_value |   tax_amount |   tract_and_block |\n",
       "|---:|-----:|---------:|------------:|:--------------------|:------------|:--------------------------|------------:|-----------:|---------------:|------------------:|-----------:|----------:|:-------------------|-------------:|------------:|-------------:|-----------:|-----------------:|:-----------|----------------------:|----------:|------------:|-----------:|------------:|--------:|-------------:|---------------------:|-----------------:|---------------:|-----------------:|-------------:|------------------:|\n",
       "|  0 |    0 | 14297519 |  0.0255949  | 2017-01-01 00:00:00 |             | Single Family Residential |         3.5 |          4 |            nan |               3.5 |       3100 |      3100 | Orange County      |            3 | 3.36349e+07 | -1.17869e+08 |       4506 |              122 |            |           6.05906e+07 |     53571 |        1286 |      96978 |           0 |     nan |         1998 |               485713 |      1.02328e+06 |           2016 |           537569 |     11013.7  |       6.05906e+13 |\n",
       "|  2 |    2 | 14186244 |  0.00538285 | 2017-01-01 00:00:00 |             | Single Family Residential |         2   |          3 |            nan |               2   |       1243 |      1243 | Orange County      |            2 | 3.38862e+07 | -1.17823e+08 |       8432 |              122 |            |           6.05902e+07 |     21412 |        1286 |      97078 |           6 |     nan |         1962 |                85289 | 564778           |           2016 |           479489 |      6488.3  |       6.05902e+13 |\n",
       "|  3 |    3 | 12177905 | -0.10341    | 2017-01-01 00:00:00 | Central     | Single Family Residential |         3   |          4 |              8 |               3   |       2376 |      2376 | Los Angeles County |            3 | 3.42452e+07 | -1.18241e+08 |      13038 |             0101 | LCR110000* |           6.0373e+07  |    396551 |        3101 |      96330 |           0 |       1 |         1970 |               108918 | 145143           |           2016 |            36225 |      1777.51 |       6.0373e+13  |\n",
       "|  7 |    7 | 12069064 |  0.101723   | 2017-01-01 00:00:00 |             | Single Family Residential |         1   |          2 |              5 |               1   |        738 |       738 | Los Angeles County |            1 | 3.41492e+07 | -1.18239e+08 |       4214 |             0100 | GLR4YY     |           6.0373e+07  |     45457 |        3101 |      96325 |           0 |       1 |         1922 |                18890 | 218552           |           2016 |           199662 |      2366.08 |       6.0373e+13  |\n",
       "| 10 |   10 | 11104527 |  0.00596317 | 2017-01-02 00:00:00 | Central     | Single Family Residential |         3   |          4 |              8 |               3   |       2540 |      2540 | Los Angeles County |            3 | 3.4435e+07  | -1.18464e+08 |      10384 |             0101 | SCUR2      |           6.03792e+07 |     54311 |        3101 |      96374 |           0 |       1 |         1999 |               271715 | 430108           |           2016 |           158393 |      6103.36 |       6.03792e+13 |\n",
       "    \n",
       "    DataFrame .info():\n",
       "    -----------------\n"
      ],
      "text/plain": [
       "<IPython.core.display.Markdown object>"
      ]
     },
     "metadata": {},
     "output_type": "display_data"
    },
    {
     "name": "stdout",
     "output_type": "stream",
     "text": [
      "<class 'pandas.core.frame.DataFrame'>\n",
      "Int64Index: 39863 entries, 0 to 76711\n",
      "Data columns (total 32 columns):\n",
      " #   Column               Non-Null Count  Dtype         \n",
      "---  ------               --------------  -----         \n",
      " 0   id                   39863 non-null  int64         \n",
      " 1   parcel               39863 non-null  int64         \n",
      " 2   logerror             39863 non-null  float64       \n",
      " 3   trans_date           39863 non-null  datetime64[ns]\n",
      " 4   heat_type            27403 non-null  object        \n",
      " 5   land_use_type        39863 non-null  object        \n",
      " 6   bathrooms            39863 non-null  float64       \n",
      " 7   bedrooms             39863 non-null  float64       \n",
      " 8   quality_type         27405 non-null  float64       \n",
      " 9   calc_bath_n_bed      39857 non-null  float64       \n",
      " 10  tot_sqft             39863 non-null  float64       \n",
      " 11  sqft_12              39792 non-null  float64       \n",
      " 12  fips                 39863 non-null  object        \n",
      " 13  full_baths           39857 non-null  float64       \n",
      " 14  lat                  39863 non-null  float64       \n",
      " 15  lon                  39863 non-null  float64       \n",
      " 16  lot_sqft             39659 non-null  float64       \n",
      " 17  county_landuse       39863 non-null  object        \n",
      " 18  zoning               27371 non-null  object        \n",
      " 19  raw_tract_and_block  39863 non-null  float64       \n",
      " 20  city_id              39134 non-null  float64       \n",
      " 21  county_id            39863 non-null  float64       \n",
      " 22  zip_code             39847 non-null  float64       \n",
      " 23  num_rooms            39863 non-null  float64       \n",
      " 24  units                27388 non-null  float64       \n",
      " 25  year_built           39849 non-null  object        \n",
      " 26  building_tax_value   39843 non-null  float64       \n",
      " 27  tax_value            39863 non-null  float64       \n",
      " 28  year_assesed         39863 non-null  float64       \n",
      " 29  land_tax_value       39863 non-null  float64       \n",
      " 30  tax_amount           39860 non-null  float64       \n",
      " 31  tract_and_block      39789 non-null  float64       \n",
      "dtypes: datetime64[ns](1), float64(23), int64(2), object(6)\n",
      "memory usage: 10.0+ MB\n",
      "None\n",
      "Number of Columns with nulls: 14\n"
     ]
    },
    {
     "data": {
      "text/markdown": [
       "\n",
       "    \n",
       "    DataFrame .describe():\n",
       "    -----------------\n",
       "|                     |   count |             mean |              std |             min |              25% |              50% |              75% |              max |\n",
       "|:--------------------|--------:|-----------------:|-----------------:|----------------:|-----------------:|-----------------:|-----------------:|-----------------:|\n",
       "| id                  |   39863 |  38978.3         |  22390           |     0           |  19602.5         |  39099           |  58360           |  77612           |\n",
       "| parcel              |   39863 |      1.28716e+07 |      3.05872e+06 |     1.07119e+07 |      1.14581e+07 |      1.24894e+07 |      1.40494e+07 |      1.67638e+08 |\n",
       "| logerror            |   39863 |      0.015948    |      0.162379    |    -4.65542     |     -0.0244688   |      0.00561069  |      0.0359896   |      3.17569     |\n",
       "| bathrooms           |   39863 |      2.09746     |      0.739846    |     1           |      2           |      2           |      2.5         |      4.5         |\n",
       "| bedrooms            |   39863 |      3.20681     |      0.789892    |     2           |      3           |      3           |      4           |      5           |\n",
       "| quality_type        |   27405 |      5.97635     |      1.54572     |     1           |      4           |      6           |      8           |     12           |\n",
       "| calc_bath_n_bed     |   39857 |      2.09752     |      0.739869    |     1           |      2           |      2           |      2.5         |      4.5         |\n",
       "| tot_sqft            |   39863 |   1685.65        |    610.41        |   152           |   1237           |   1558           |   2024           |   3858           |\n",
       "| sqft_12             |   39792 |   1686.81        |    610.158       |   152           |   1238           |   1559           |   2025           |   3858           |\n",
       "| full_baths          |   39857 |      2.04506     |      0.723159    |     1           |      2           |      2           |      2           |      4           |\n",
       "| lat                 |   39863 |      3.40273e+07 | 270730           |     3.33406e+07 |      3.38374e+07 |      3.40137e+07 |      3.41886e+07 |      3.47184e+07 |\n",
       "| lon                 |   39863 |     -1.18184e+08 | 334740           |    -1.19475e+08 |     -1.18377e+08 |     -1.18148e+08 |     -1.17949e+08 |     -1.17555e+08 |\n",
       "| lot_sqft            |   39659 |   6698.37        |   2173.44        |   804           |   5400           |   6503           |   7744           |  13555           |\n",
       "| raw_tract_and_block |   39863 |      6.04779e+07 | 195024           |     6.0371e+07  |      6.0374e+07  |      6.03757e+07 |      6.05903e+07 |      6.11101e+07 |\n",
       "| city_id             |   39134 |  34784.4         |  53445.6         |  3491           |  12447           |  24812           |  42150           | 396556           |\n",
       "| county_id           |   39863 |   2587.71        |    782.629       |  1286           |   2061           |   3101           |   3101           |   3101           |\n",
       "| zip_code            |   39847 |  96552           |   1574.58        | 95982           |  96203           |  96398           |  96989           | 399675           |\n",
       "| num_rooms           |   39863 |      1.66741     |      2.97867     |     0           |      0           |      0           |      0           |     12           |\n",
       "| units               |   27388 |      1           |      0           |     1           |      1           |      1           |      1           |      1           |\n",
       "| building_tax_value  |   39843 | 142878           |  99033.9         |   302           |  73410           | 119085           | 185466           | 858693           |\n",
       "| tax_value           |   39863 | 372983           | 249602           |  3254           | 172958           | 333425           | 518706           |      1.25202e+06 |\n",
       "| year_assesed        |   39863 |   2016           |      0           |  2016           |   2016           |   2016           |   2016           |   2016           |\n",
       "| land_tax_value      |   39863 | 230177           | 189757           |  2250           |  62620.5         | 190053           | 345364           | 905416           |\n",
       "| tax_amount          |   39860 |   4673.5         |   2934.98        |    49.18        |   2457.45        |   4223.74        |   6263           |  24234.6         |\n",
       "| tract_and_block     |   39789 |      6.04884e+13 |      2.1273e+12  |     6.0371e+13  |      6.0374e+13  |      6.03757e+13 |      6.05903e+13 |      4.8303e+14  |\n",
       "    \n",
       "    Null Value Assessments:\n",
       "    -----------------\n",
       "        \n",
       "        Nulls By Column:\n",
       "|                    |   num_rows_missing |   percent_missing |\n",
       "|:-------------------|-------------------:|------------------:|\n",
       "| heat_type          |              12460 |       31.2571     |\n",
       "| quality_type       |              12458 |       31.252      |\n",
       "| calc_bath_n_bed    |                  6 |        0.0150516  |\n",
       "| sqft_12            |                 71 |        0.17811    |\n",
       "| full_baths         |                  6 |        0.0150516  |\n",
       "| lot_sqft           |                204 |        0.511753   |\n",
       "| zoning             |              12492 |       31.3373     |\n",
       "| city_id            |                729 |        1.82876    |\n",
       "| zip_code           |                 16 |        0.0401375  |\n",
       "| units              |              12475 |       31.2947     |\n",
       "| year_built         |                 14 |        0.0351203  |\n",
       "| building_tax_value |                 20 |        0.0501718  |\n",
       "| tax_amount         |                  3 |        0.00752578 |\n",
       "| tract_and_block    |                 74 |        0.185636   |\n",
       "    -----------------\n",
       "        \n",
       "        Nulls By Row:\n",
       "|    |   num_cols_missing |   percent_missing |   count |\n",
       "|---:|-------------------:|------------------:|--------:|\n",
       "|  0 |                  0 |             0     |   26256 |\n",
       "|  1 |                  1 |             3.125 |    1087 |\n",
       "|  2 |                  2 |             6.25  |      56 |\n",
       "|  3 |                  3 |             9.375 |     393 |\n",
       "|  4 |                  4 |            12.5   |   11743 |\n",
       "|  5 |                  5 |            15.625 |     309 |\n",
       "|  6 |                  6 |            18.75  |       4 |\n",
       "|  7 |                  7 |            21.875 |      11 |\n",
       "|  8 |                  8 |            25     |       4 |\n",
       "    \n",
       "    DataFrame .value_counts():\n",
       "    -----------------\n",
       "    \n",
       "    "
      ],
      "text/plain": [
       "<IPython.core.display.Markdown object>"
      ]
     },
     "metadata": {},
     "output_type": "display_data"
    },
    {
     "name": "stdout",
     "output_type": "stream",
     "text": [
      "Column Name:  id \n",
      "--------------\n",
      "Numerical: Divided by Quartile\n",
      " -  10 bins\n"
     ]
    },
    {
     "data": {
      "text/markdown": [
       "|                    |   id |\n",
       "|:-------------------|-----:|\n",
       "| (-77.613, 7761.2]  | 3964 |\n",
       "| (7761.2, 15522.4]  | 3923 |\n",
       "| (15522.4, 23283.6] | 3947 |\n",
       "| (23283.6, 31044.8] | 3984 |\n",
       "| (31044.8, 38806.0] | 3956 |\n",
       "| (38806.0, 46567.2] | 4008 |\n",
       "| (46567.2, 54328.4] | 4052 |\n",
       "| (54328.4, 62089.6] | 3995 |\n",
       "| (62089.6, 69850.8] | 3993 |\n",
       "| (69850.8, 77612.0] | 4041 |"
      ],
      "text/plain": [
       "<IPython.core.display.Markdown object>"
      ]
     },
     "metadata": {},
     "output_type": "display_data"
    },
    {
     "name": "stdout",
     "output_type": "stream",
     "text": [
      "\n",
      "\n",
      "-------------\n",
      "Column Name:  parcel \n",
      "--------------\n",
      "Numerical: Divided by Quartile\n",
      " -  10 bins\n"
     ]
    },
    {
     "data": {
      "text/markdown": [
       "|                            |   parcel |\n",
       "|:---------------------------|---------:|\n",
       "| (10554928.851, 26404469.8] |    39851 |\n",
       "| (26404469.8, 42097084.6]   |        0 |\n",
       "| (42097084.6, 57789699.4]   |        0 |\n",
       "| (57789699.4, 73482314.2]   |        0 |\n",
       "| (73482314.2, 89174929.0]   |        1 |\n",
       "| (89174929.0, 104867543.8]  |        0 |\n",
       "| (104867543.8, 120560158.6] |        0 |\n",
       "| (120560158.6, 136252773.4] |        0 |\n",
       "| (136252773.4, 151945388.2] |        0 |\n",
       "| (151945388.2, 167638003.0] |       11 |"
      ],
      "text/plain": [
       "<IPython.core.display.Markdown object>"
      ]
     },
     "metadata": {},
     "output_type": "display_data"
    },
    {
     "name": "stdout",
     "output_type": "stream",
     "text": [
      "\n",
      "\n",
      "-------------\n",
      "Column Name:  logerror \n",
      "--------------\n",
      "Numerical: Divided by Quartile\n",
      " -  10 bins\n"
     ]
    },
    {
     "data": {
      "text/markdown": [
       "|                              |   logerror |\n",
       "|:-----------------------------|-----------:|\n",
       "| (-4.664000000000001, -3.872] |          2 |\n",
       "| (-3.872, -3.089]             |          0 |\n",
       "| (-3.089, -2.306]             |          4 |\n",
       "| (-2.306, -1.523]             |         15 |\n",
       "| (-1.523, -0.74]              |         57 |\n",
       "| (-0.74, 0.0432]              |      31194 |\n",
       "| (0.0432, 0.826]              |       8425 |\n",
       "| (0.826, 1.609]               |         98 |\n",
       "| (1.609, 2.393]               |         59 |\n",
       "| (2.393, 3.176]               |          9 |"
      ],
      "text/plain": [
       "<IPython.core.display.Markdown object>"
      ]
     },
     "metadata": {},
     "output_type": "display_data"
    },
    {
     "name": "stdout",
     "output_type": "stream",
     "text": [
      "\n",
      "\n",
      "-------------\n",
      "Column Name:  trans_date \n",
      "--------------\n",
      "Numerical: Divided by Quartile\n",
      " -  10 bins\n"
     ]
    },
    {
     "data": {
      "text/markdown": [
       "|                                                      |   trans_date |\n",
       "|:-----------------------------------------------------|-------------:|\n",
       "| (2016-12-31 17:35:31.199999999, 2017-01-27 16:48:00] |         3124 |\n",
       "| (2017-01-27 16:48:00, 2017-02-23 09:36:00]           |         2929 |\n",
       "| (2017-02-23 09:36:00, 2017-03-22 02:24:00]           |         3750 |\n",
       "| (2017-03-22 02:24:00, 2017-04-17 19:12:00]           |         3982 |\n",
       "| (2017-04-17 19:12:00, 2017-05-14 12:00:00]           |         4493 |\n",
       "| (2017-05-14 12:00:00, 2017-06-10 04:48:00]           |         4774 |\n",
       "| (2017-06-10 04:48:00, 2017-07-06 21:36:00]           |         4894 |\n",
       "| (2017-07-06 21:36:00, 2017-08-02 14:24:00]           |         4505 |\n",
       "| (2017-08-02 14:24:00, 2017-08-29 07:12:00]           |         4246 |\n",
       "| (2017-08-29 07:12:00, 2017-09-25]                    |         3166 |"
      ],
      "text/plain": [
       "<IPython.core.display.Markdown object>"
      ]
     },
     "metadata": {},
     "output_type": "display_data"
    },
    {
     "name": "stdout",
     "output_type": "stream",
     "text": [
      "\n",
      "\n",
      "-------------\n",
      "Column Name:  heat_type \n",
      "--------------\n",
      "Categorical:\n",
      " -  9 Categories\n"
     ]
    },
    {
     "data": {
      "text/markdown": [
       "|            |   heat_type |\n",
       "|:-----------|------------:|\n",
       "| Central    |       15424 |\n",
       "|            |       12460 |\n",
       "| Floor/Wall |       11537 |\n",
       "| Forced air |         356 |\n",
       "| Solar      |          63 |\n",
       "| None       |          16 |\n",
       "| Baseboard  |           5 |\n",
       "| Gravity    |           1 |\n",
       "| Radiant    |           1 |"
      ],
      "text/plain": [
       "<IPython.core.display.Markdown object>"
      ]
     },
     "metadata": {},
     "output_type": "display_data"
    },
    {
     "name": "stdout",
     "output_type": "stream",
     "text": [
      "\n",
      "\n",
      "-------------\n",
      "Column Name:  land_use_type \n",
      "--------------\n",
      "Categorical:\n",
      " -  1 Categories\n"
     ]
    },
    {
     "data": {
      "text/markdown": [
       "|                           |   land_use_type |\n",
       "|:--------------------------|----------------:|\n",
       "| Single Family Residential |           39863 |"
      ],
      "text/plain": [
       "<IPython.core.display.Markdown object>"
      ]
     },
     "metadata": {},
     "output_type": "display_data"
    },
    {
     "name": "stdout",
     "output_type": "stream",
     "text": [
      "\n",
      "\n",
      "-------------\n",
      "Column Name:  bathrooms \n",
      "--------------\n",
      "Numerical: Divided by Quartile\n",
      " -  10 bins\n"
     ]
    },
    {
     "data": {
      "text/markdown": [
       "|               |   bathrooms |\n",
       "|:--------------|------------:|\n",
       "| (0.995, 1.35] |        8047 |\n",
       "| (1.35, 1.7]   |         487 |\n",
       "| (1.7, 2.05]   |       18910 |\n",
       "| (2.05, 2.4]   |           0 |\n",
       "| (2.4, 2.75]   |        3121 |\n",
       "| (2.75, 3.1]   |        7842 |\n",
       "| (3.1, 3.45]   |           0 |\n",
       "| (3.45, 3.8]   |         417 |\n",
       "| (3.8, 4.15]   |         900 |\n",
       "| (4.15, 4.5]   |         139 |"
      ],
      "text/plain": [
       "<IPython.core.display.Markdown object>"
      ]
     },
     "metadata": {},
     "output_type": "display_data"
    },
    {
     "name": "stdout",
     "output_type": "stream",
     "text": [
      "\n",
      "\n",
      "-------------\n",
      "Column Name:  bedrooms \n",
      "--------------\n",
      "Numerical: Divided by Quartile\n",
      " -  10 bins\n"
     ]
    },
    {
     "data": {
      "text/markdown": [
       "|                           |   bedrooms |\n",
       "|:--------------------------|-----------:|\n",
       "| (1.9960000000000002, 2.3] |       7137 |\n",
       "| (2.3, 2.6]                |          0 |\n",
       "| (2.6, 2.9]                |          0 |\n",
       "| (2.9, 3.2]                |      19374 |\n",
       "| (3.2, 3.5]                |          0 |\n",
       "| (3.5, 3.8]                |          0 |\n",
       "| (3.8, 4.1]                |      11323 |\n",
       "| (4.1, 4.4]                |          0 |\n",
       "| (4.4, 4.7]                |          0 |\n",
       "| (4.7, 5.0]                |       2029 |"
      ],
      "text/plain": [
       "<IPython.core.display.Markdown object>"
      ]
     },
     "metadata": {},
     "output_type": "display_data"
    },
    {
     "name": "stdout",
     "output_type": "stream",
     "text": [
      "\n",
      "\n",
      "-------------\n",
      "Column Name:  quality_type \n",
      "--------------\n",
      "Numerical: Divided by Quartile\n",
      " -  10 bins\n"
     ]
    },
    {
     "data": {
      "text/markdown": [
       "|              |   quality_type |\n",
       "|:-------------|---------------:|\n",
       "| (0.988, 2.1] |              5 |\n",
       "| (2.1, 3.2]   |            106 |\n",
       "| (3.2, 4.3]   |           7711 |\n",
       "| (4.3, 5.4]   |           1226 |\n",
       "| (5.4, 6.5]   |           9469 |\n",
       "| (6.5, 7.6]   |           1842 |\n",
       "| (7.6, 8.7]   |           6734 |\n",
       "| (8.7, 9.8]   |            261 |\n",
       "| (9.8, 10.9]  |              7 |\n",
       "| (10.9, 12.0] |             44 |"
      ],
      "text/plain": [
       "<IPython.core.display.Markdown object>"
      ]
     },
     "metadata": {},
     "output_type": "display_data"
    },
    {
     "name": "stdout",
     "output_type": "stream",
     "text": [
      "\n",
      "\n",
      "-------------\n",
      "Column Name:  calc_bath_n_bed \n",
      "--------------\n",
      "Numerical: Divided by Quartile\n",
      " -  10 bins\n"
     ]
    },
    {
     "data": {
      "text/markdown": [
       "|               |   calc_bath_n_bed |\n",
       "|:--------------|------------------:|\n",
       "| (0.995, 1.35] |              8047 |\n",
       "| (1.35, 1.7]   |               482 |\n",
       "| (1.7, 2.05]   |             18910 |\n",
       "| (2.05, 2.4]   |                 0 |\n",
       "| (2.4, 2.75]   |              3120 |\n",
       "| (2.75, 3.1]   |              7842 |\n",
       "| (3.1, 3.45]   |                 0 |\n",
       "| (3.45, 3.8]   |               417 |\n",
       "| (3.8, 4.15]   |               900 |\n",
       "| (4.15, 4.5]   |               139 |"
      ],
      "text/plain": [
       "<IPython.core.display.Markdown object>"
      ]
     },
     "metadata": {},
     "output_type": "display_data"
    },
    {
     "name": "stdout",
     "output_type": "stream",
     "text": [
      "\n",
      "\n",
      "-------------\n",
      "Column Name:  tot_sqft \n",
      "--------------\n",
      "Numerical: Divided by Quartile\n",
      " -  10 bins\n"
     ]
    },
    {
     "data": {
      "text/markdown": [
       "|                  |   tot_sqft |\n",
       "|:-----------------|-----------:|\n",
       "| (148.293, 522.6] |         17 |\n",
       "| (522.6, 893.2]   |       1929 |\n",
       "| (893.2, 1263.8]  |       8969 |\n",
       "| (1263.8, 1634.4] |      11159 |\n",
       "| (1634.4, 2005.0] |       7554 |\n",
       "| (2005.0, 2375.6] |       4611 |\n",
       "| (2375.6, 2746.2] |       2832 |\n",
       "| (2746.2, 3116.8] |       1581 |\n",
       "| (3116.8, 3487.4] |        858 |\n",
       "| (3487.4, 3858.0] |        353 |"
      ],
      "text/plain": [
       "<IPython.core.display.Markdown object>"
      ]
     },
     "metadata": {},
     "output_type": "display_data"
    },
    {
     "name": "stdout",
     "output_type": "stream",
     "text": [
      "\n",
      "\n",
      "-------------\n",
      "Column Name:  sqft_12 \n",
      "--------------\n",
      "Numerical: Divided by Quartile\n",
      " -  10 bins\n"
     ]
    },
    {
     "data": {
      "text/markdown": [
       "|                  |   sqft_12 |\n",
       "|:-----------------|----------:|\n",
       "| (148.293, 522.6] |        16 |\n",
       "| (522.6, 893.2]   |      1908 |\n",
       "| (893.2, 1263.8]  |      8931 |\n",
       "| (1263.8, 1634.4] |     11151 |\n",
       "| (1634.4, 2005.0] |      7553 |\n",
       "| (2005.0, 2375.6] |      4611 |\n",
       "| (2375.6, 2746.2] |      2831 |\n",
       "| (2746.2, 3116.8] |      1580 |\n",
       "| (3116.8, 3487.4] |       858 |\n",
       "| (3487.4, 3858.0] |       353 |"
      ],
      "text/plain": [
       "<IPython.core.display.Markdown object>"
      ]
     },
     "metadata": {},
     "output_type": "display_data"
    },
    {
     "name": "stdout",
     "output_type": "stream",
     "text": [
      "\n",
      "\n",
      "-------------\n",
      "Column Name:  fips \n",
      "--------------\n",
      "Categorical:\n",
      " -  3 Categories\n"
     ]
    },
    {
     "data": {
      "text/markdown": [
       "|                    |   fips |\n",
       "|:-------------------|-------:|\n",
       "| Los Angeles County |  27414 |\n",
       "| Orange County      |   9696 |\n",
       "| Ventura County     |   2753 |"
      ],
      "text/plain": [
       "<IPython.core.display.Markdown object>"
      ]
     },
     "metadata": {},
     "output_type": "display_data"
    },
    {
     "name": "stdout",
     "output_type": "stream",
     "text": [
      "\n",
      "\n",
      "-------------\n",
      "Column Name:  full_baths \n",
      "--------------\n",
      "Numerical: Divided by Quartile\n",
      " -  10 bins\n"
     ]
    },
    {
     "data": {
      "text/markdown": [
       "|              |   full_baths |\n",
       "|:-------------|-------------:|\n",
       "| (0.996, 1.3] |         8529 |\n",
       "| (1.3, 1.6]   |            0 |\n",
       "| (1.6, 1.9]   |            0 |\n",
       "| (1.9, 2.2]   |        22038 |\n",
       "| (2.2, 2.5]   |            0 |\n",
       "| (2.5, 2.8]   |            0 |\n",
       "| (2.8, 3.1]   |         8255 |\n",
       "| (3.1, 3.4]   |            0 |\n",
       "| (3.4, 3.7]   |            0 |\n",
       "| (3.7, 4.0]   |         1035 |"
      ],
      "text/plain": [
       "<IPython.core.display.Markdown object>"
      ]
     },
     "metadata": {},
     "output_type": "display_data"
    },
    {
     "name": "stdout",
     "output_type": "stream",
     "text": [
      "\n",
      "\n",
      "-------------\n",
      "Column Name:  lat \n",
      "--------------\n",
      "Numerical: Divided by Quartile\n",
      " -  10 bins\n"
     ]
    },
    {
     "data": {
      "text/markdown": [
       "|                            |   lat |\n",
       "|:---------------------------|------:|\n",
       "| (33339242.263, 33478393.6] |   405 |\n",
       "| (33478393.6, 33616167.2]   |  1632 |\n",
       "| (33616167.2, 33753940.8]   |  3742 |\n",
       "| (33753940.8, 33891714.4]   |  7585 |\n",
       "| (33891714.4, 34029488.0]   |  7316 |\n",
       "| (34029488.0, 34167261.6]   |  7601 |\n",
       "| (34167261.6, 34305035.2]   |  7262 |\n",
       "| (34305035.2, 34442808.8]   |   912 |\n",
       "| (34442808.8, 34580582.4]   |  1403 |\n",
       "| (34580582.4, 34718356.0]   |  2005 |"
      ],
      "text/plain": [
       "<IPython.core.display.Markdown object>"
      ]
     },
     "metadata": {},
     "output_type": "display_data"
    },
    {
     "name": "stdout",
     "output_type": "stream",
     "text": [
      "\n",
      "\n",
      "-------------\n",
      "Column Name:  lon \n",
      "--------------\n",
      "Numerical: Divided by Quartile\n",
      " -  10 bins\n"
     ]
    },
    {
     "data": {
      "text/markdown": [
       "|                               |   lon |\n",
       "|:------------------------------|------:|\n",
       "| (-119477185.63, -119283202.1] |    60 |\n",
       "| (-119283202.1, -119091139.2]  |   826 |\n",
       "| (-119091139.2, -118899076.3]  |   682 |\n",
       "| (-118899076.3, -118707013.4]  |  1061 |\n",
       "| (-118707013.4, -118514950.5]  |  2840 |\n",
       "| (-118514950.5, -118322887.6]  |  6774 |\n",
       "| (-118322887.6, -118130824.7]  |  8651 |\n",
       "| (-118130824.7, -117938761.8]  |  9379 |\n",
       "| (-117938761.8, -117746698.9]  |  6222 |\n",
       "| (-117746698.9, -117554636.0]  |  3368 |"
      ],
      "text/plain": [
       "<IPython.core.display.Markdown object>"
      ]
     },
     "metadata": {},
     "output_type": "display_data"
    },
    {
     "name": "stdout",
     "output_type": "stream",
     "text": [
      "\n",
      "\n",
      "-------------\n",
      "Column Name:  lot_sqft \n",
      "--------------\n",
      "Numerical: Divided by Quartile\n",
      " -  10 bins\n"
     ]
    },
    {
     "data": {
      "text/markdown": [
       "|                    |   lot_sqft |\n",
       "|:-------------------|-----------:|\n",
       "| (791.248, 2079.1]  |        786 |\n",
       "| (2079.1, 3354.2]   |       1580 |\n",
       "| (3354.2, 4629.3]   |       2515 |\n",
       "| (4629.3, 5904.4]   |       8501 |\n",
       "| (5904.4, 7179.5]   |      11866 |\n",
       "| (7179.5, 8454.6]   |       7640 |\n",
       "| (8454.6, 9729.7]   |       3012 |\n",
       "| (9729.7, 11004.8]  |       1930 |\n",
       "| (11004.8, 12279.9] |       1167 |\n",
       "| (12279.9, 13555.0] |        662 |"
      ],
      "text/plain": [
       "<IPython.core.display.Markdown object>"
      ]
     },
     "metadata": {},
     "output_type": "display_data"
    },
    {
     "name": "stdout",
     "output_type": "stream",
     "text": [
      "\n",
      "\n",
      "-------------\n",
      "Column Name:  county_landuse \n",
      "--------------\n",
      "Categorical:\n",
      " -  15 Categories\n"
     ]
    },
    {
     "data": {
      "text/markdown": [
       "|      |   county_landuse |\n",
       "|:-----|-----------------:|\n",
       "| 0100 |            23115 |\n",
       "| 122  |             9073 |\n",
       "| 0101 |             3944 |\n",
       "| 1111 |             2478 |\n",
       "| 1    |              623 |\n",
       "| 1110 |              275 |\n",
       "| 0104 |              245 |\n",
       "| 010M |               36 |\n",
       "| 0108 |               33 |\n",
       "| 0103 |               16 |\n",
       "| 010G |               15 |\n",
       "| 0141 |                4 |\n",
       "| 0109 |                3 |\n",
       "| 0102 |                2 |\n",
       "| 0131 |                1 |"
      ],
      "text/plain": [
       "<IPython.core.display.Markdown object>"
      ]
     },
     "metadata": {},
     "output_type": "display_data"
    },
    {
     "name": "stdout",
     "output_type": "stream",
     "text": [
      "\n",
      "\n",
      "-------------\n",
      "Column Name:  zoning \n",
      "--------------\n",
      "Categorical:\n",
      " -  1081 Categories\n",
      "\n",
      " None          12492\n",
      "LAR1           5520\n",
      "LARS           1307\n",
      "LBR1N          1077\n",
      "SCUR2           618\n",
      "              ...  \n",
      "WARPD28500        1\n",
      "GLR1-1*           1\n",
      "LRRA 6000         1\n",
      "SRR3YY            1\n",
      "BFA15000*         1\n",
      "Name: zoning, Length: 1081, dtype: int64\n",
      "\n",
      "\n",
      "-------------\n",
      "Column Name:  raw_tract_and_block \n",
      "--------------\n",
      "Numerical: Divided by Quartile\n",
      " -  10 bins\n"
     ]
    },
    {
     "data": {
      "text/markdown": [
       "|                                    |   raw_tract_and_block |\n",
       "|:-----------------------------------|----------------------:|\n",
       "| (60370272.019999996, 60444919.091] |                 27414 |\n",
       "| (60444919.091, 60518827.081]       |                     0 |\n",
       "| (60518827.081, 60592735.071]       |                  9696 |\n",
       "| (60592735.071, 60666643.061]       |                     0 |\n",
       "| (60666643.061, 60740551.051]       |                     0 |\n",
       "| (60740551.051, 60814459.041]       |                     0 |\n",
       "| (60814459.041, 60888367.031]       |                     0 |\n",
       "| (60888367.031, 60962275.021]       |                     0 |\n",
       "| (60962275.021, 61036183.011]       |                     0 |\n",
       "| (61036183.011, 61110091.001]       |                  2753 |"
      ],
      "text/plain": [
       "<IPython.core.display.Markdown object>"
      ]
     },
     "metadata": {},
     "output_type": "display_data"
    },
    {
     "name": "stdout",
     "output_type": "stream",
     "text": [
      "\n",
      "\n",
      "-------------\n",
      "Column Name:  city_id \n",
      "--------------\n",
      "Numerical: Divided by Quartile\n",
      " -  10 bins\n"
     ]
    },
    {
     "data": {
      "text/markdown": [
       "|                               |   city_id |\n",
       "|:------------------------------|----------:|\n",
       "| (3097.9339999999997, 42797.5] |     29510 |\n",
       "| (42797.5, 82104.0]            |      8104 |\n",
       "| (82104.0, 121410.5]           |       788 |\n",
       "| (121410.5, 160717.0]          |         0 |\n",
       "| (160717.0, 200023.5]          |         0 |\n",
       "| (200023.5, 239330.0]          |         0 |\n",
       "| (239330.0, 278636.5]          |        15 |\n",
       "| (278636.5, 317943.0]          |         0 |\n",
       "| (317943.0, 357249.5]          |         0 |\n",
       "| (357249.5, 396556.0]          |       717 |"
      ],
      "text/plain": [
       "<IPython.core.display.Markdown object>"
      ]
     },
     "metadata": {},
     "output_type": "display_data"
    },
    {
     "name": "stdout",
     "output_type": "stream",
     "text": [
      "\n",
      "\n",
      "-------------\n",
      "Column Name:  county_id \n",
      "--------------\n",
      "Numerical: Divided by Quartile\n",
      " -  10 bins\n"
     ]
    },
    {
     "data": {
      "text/markdown": [
       "|                    |   county_id |\n",
       "|:-------------------|------------:|\n",
       "| (1284.184, 1467.5] |        9696 |\n",
       "| (1467.5, 1649.0]   |           0 |\n",
       "| (1649.0, 1830.5]   |           0 |\n",
       "| (1830.5, 2012.0]   |           0 |\n",
       "| (2012.0, 2193.5]   |        2753 |\n",
       "| (2193.5, 2375.0]   |           0 |\n",
       "| (2375.0, 2556.5]   |           0 |\n",
       "| (2556.5, 2738.0]   |           0 |\n",
       "| (2738.0, 2919.5]   |           0 |\n",
       "| (2919.5, 3101.0]   |       27414 |"
      ],
      "text/plain": [
       "<IPython.core.display.Markdown object>"
      ]
     },
     "metadata": {},
     "output_type": "display_data"
    },
    {
     "name": "stdout",
     "output_type": "stream",
     "text": [
      "\n",
      "\n",
      "-------------\n",
      "Column Name:  zip_code \n",
      "--------------\n",
      "Numerical: Divided by Quartile\n",
      " -  10 bins\n"
     ]
    },
    {
     "data": {
      "text/markdown": [
       "|                       |   zip_code |\n",
       "|:----------------------|-----------:|\n",
       "| (95678.306, 126351.3] |      39846 |\n",
       "| (126351.3, 156720.6]  |          0 |\n",
       "| (156720.6, 187089.9]  |          0 |\n",
       "| (187089.9, 217459.2]  |          0 |\n",
       "| (217459.2, 247828.5]  |          0 |\n",
       "| (247828.5, 278197.8]  |          0 |\n",
       "| (278197.8, 308567.1]  |          0 |\n",
       "| (308567.1, 338936.4]  |          0 |\n",
       "| (338936.4, 369305.7]  |          0 |\n",
       "| (369305.7, 399675.0]  |          1 |"
      ],
      "text/plain": [
       "<IPython.core.display.Markdown object>"
      ]
     },
     "metadata": {},
     "output_type": "display_data"
    },
    {
     "name": "stdout",
     "output_type": "stream",
     "text": [
      "\n",
      "\n",
      "-------------\n",
      "Column Name:  num_rooms \n",
      "--------------\n",
      "Numerical: Divided by Quartile\n",
      " -  10 bins\n"
     ]
    },
    {
     "data": {
      "text/markdown": [
       "|                              |   num_rooms |\n",
       "|:-----------------------------|------------:|\n",
       "| (-0.013000000000000001, 1.2] |       30036 |\n",
       "| (1.2, 2.4]                   |           7 |\n",
       "| (2.4, 3.6]                   |           5 |\n",
       "| (3.6, 4.8]                   |         199 |\n",
       "| (4.8, 6.0]                   |        4136 |\n",
       "| (6.0, 7.2]                   |        2721 |\n",
       "| (7.2, 8.4]                   |        1974 |\n",
       "| (8.4, 9.6]                   |         678 |\n",
       "| (9.6, 10.8]                  |          98 |\n",
       "| (10.8, 12.0]                 |           9 |"
      ],
      "text/plain": [
       "<IPython.core.display.Markdown object>"
      ]
     },
     "metadata": {},
     "output_type": "display_data"
    },
    {
     "name": "stdout",
     "output_type": "stream",
     "text": [
      "\n",
      "\n",
      "-------------\n",
      "Column Name:  units \n",
      "--------------\n",
      "Numerical: Divided by Quartile\n",
      " -  10 bins\n"
     ]
    },
    {
     "data": {
      "text/markdown": [
       "|                  |   units |\n",
       "|:-----------------|--------:|\n",
       "| (0.9989, 0.9992] |       0 |\n",
       "| (0.9992, 0.9994] |       0 |\n",
       "| (0.9994, 0.9996] |       0 |\n",
       "| (0.9996, 0.9998] |       0 |\n",
       "| (0.9998, 1.0]    |   27388 |\n",
       "| (1.0, 1.0002]    |       0 |\n",
       "| (1.0002, 1.0004] |       0 |\n",
       "| (1.0004, 1.0006] |       0 |\n",
       "| (1.0006, 1.0008] |       0 |\n",
       "| (1.0008, 1.001]  |       0 |"
      ],
      "text/plain": [
       "<IPython.core.display.Markdown object>"
      ]
     },
     "metadata": {},
     "output_type": "display_data"
    },
    {
     "name": "stdout",
     "output_type": "stream",
     "text": [
      "\n",
      "\n",
      "-------------\n",
      "Column Name:  year_built \n",
      "--------------\n",
      "Categorical:\n",
      " -  130 Categories\n",
      "\n",
      " 1955.0    1458\n",
      "1950.0    1366\n",
      "1953.0    1209\n",
      "1954.0    1164\n",
      "1956.0    1136\n",
      "          ... \n",
      "1887.0       2\n",
      "1897.0       1\n",
      "1878.0       1\n",
      "1882.0       1\n",
      "1894.0       1\n",
      "Name: year_built, Length: 130, dtype: int64\n",
      "\n",
      "\n",
      "-------------\n",
      "Column Name:  building_tax_value \n",
      "--------------\n",
      "Numerical: Divided by Quartile\n",
      " -  10 bins\n"
     ]
    },
    {
     "data": {
      "text/markdown": [
       "|                               |   building_tax_value |\n",
       "|:------------------------------|---------------------:|\n",
       "| (-556.3919999999999, 86141.1] |                12839 |\n",
       "| (86141.1, 171980.2]           |                15442 |\n",
       "| (171980.2, 257819.3]          |                 6929 |\n",
       "| (257819.3, 343658.4]          |                 2655 |\n",
       "| (343658.4, 429497.5]          |                 1218 |\n",
       "| (429497.5, 515336.6]          |                  497 |\n",
       "| (515336.6, 601175.7]          |                  185 |\n",
       "| (601175.7, 687014.8]          |                   56 |\n",
       "| (687014.8, 772853.9]          |                   14 |\n",
       "| (772853.9, 858693.0]          |                    8 |"
      ],
      "text/plain": [
       "<IPython.core.display.Markdown object>"
      ]
     },
     "metadata": {},
     "output_type": "display_data"
    },
    {
     "name": "stdout",
     "output_type": "stream",
     "text": [
      "\n",
      "\n",
      "-------------\n",
      "Column Name:  tax_value \n",
      "--------------\n",
      "Numerical: Divided by Quartile\n",
      " -  10 bins\n"
     ]
    },
    {
     "data": {
      "text/markdown": [
       "|                        |   tax_value |\n",
       "|:-----------------------|------------:|\n",
       "| (2005.228, 128131.1]   |        7389 |\n",
       "| (128131.1, 253008.2]   |        7523 |\n",
       "| (253008.2, 377885.3]   |        7680 |\n",
       "| (377885.3, 502762.4]   |        6654 |\n",
       "| (502762.4, 627639.5]   |        4363 |\n",
       "| (627639.5, 752516.6]   |        2781 |\n",
       "| (752516.6, 877393.7]   |        1673 |\n",
       "| (877393.7, 1002270.8]  |         956 |\n",
       "| (1002270.8, 1127147.9] |         567 |\n",
       "| (1127147.9, 1252025.0] |         277 |"
      ],
      "text/plain": [
       "<IPython.core.display.Markdown object>"
      ]
     },
     "metadata": {},
     "output_type": "display_data"
    },
    {
     "name": "stdout",
     "output_type": "stream",
     "text": [
      "\n",
      "\n",
      "-------------\n",
      "Column Name:  year_assesed \n",
      "--------------\n",
      "Numerical: Divided by Quartile\n",
      " -  10 bins\n"
     ]
    },
    {
     "data": {
      "text/markdown": [
       "|                      |   year_assesed |\n",
       "|:---------------------|---------------:|\n",
       "| (2013.983, 2014.387] |              0 |\n",
       "| (2014.387, 2014.79]  |              0 |\n",
       "| (2014.79, 2015.194]  |              0 |\n",
       "| (2015.194, 2015.597] |              0 |\n",
       "| (2015.597, 2016.0]   |          39863 |\n",
       "| (2016.0, 2016.403]   |              0 |\n",
       "| (2016.403, 2016.806] |              0 |\n",
       "| (2016.806, 2017.21]  |              0 |\n",
       "| (2017.21, 2017.613]  |              0 |\n",
       "| (2017.613, 2018.016] |              0 |"
      ],
      "text/plain": [
       "<IPython.core.display.Markdown object>"
      ]
     },
     "metadata": {},
     "output_type": "display_data"
    },
    {
     "name": "stdout",
     "output_type": "stream",
     "text": [
      "\n",
      "\n",
      "-------------\n",
      "Column Name:  land_tax_value \n",
      "--------------\n",
      "Numerical: Divided by Quartile\n",
      " -  10 bins\n"
     ]
    },
    {
     "data": {
      "text/markdown": [
       "|                      |   land_tax_value |\n",
       "|:---------------------|-----------------:|\n",
       "| (1346.833, 92566.6]  |            12283 |\n",
       "| (92566.6, 182883.2]  |             7116 |\n",
       "| (182883.2, 273199.8] |             6409 |\n",
       "| (273199.8, 363516.4] |             5001 |\n",
       "| (363516.4, 453833.0] |             3652 |\n",
       "| (453833.0, 544149.6] |             2415 |\n",
       "| (544149.6, 634466.2] |             1436 |\n",
       "| (634466.2, 724782.8] |              787 |\n",
       "| (724782.8, 815099.4] |              483 |\n",
       "| (815099.4, 905416.0] |              281 |"
      ],
      "text/plain": [
       "<IPython.core.display.Markdown object>"
      ]
     },
     "metadata": {},
     "output_type": "display_data"
    },
    {
     "name": "stdout",
     "output_type": "stream",
     "text": [
      "\n",
      "\n",
      "-------------\n",
      "Column Name:  tax_amount \n",
      "--------------\n",
      "Numerical: Divided by Quartile\n",
      " -  10 bins\n"
     ]
    },
    {
     "data": {
      "text/markdown": [
       "|                        |   tax_amount |\n",
       "|:-----------------------|-------------:|\n",
       "| (24.994, 2467.724]     |        10011 |\n",
       "| (2467.724, 4886.268]   |        13542 |\n",
       "| (4886.268, 7304.812]   |         9604 |\n",
       "| (7304.812, 9723.356]   |         4093 |\n",
       "| (9723.356, 12141.9]    |         1724 |\n",
       "| (12141.9, 14560.444]   |          699 |\n",
       "| (14560.444, 16978.988] |          134 |\n",
       "| (16978.988, 19397.532] |           43 |\n",
       "| (19397.532, 21816.076] |            8 |\n",
       "| (21816.076, 24234.62]  |            2 |"
      ],
      "text/plain": [
       "<IPython.core.display.Markdown object>"
      ]
     },
     "metadata": {},
     "output_type": "display_data"
    },
    {
     "name": "stdout",
     "output_type": "stream",
     "text": [
      "\n",
      "\n",
      "-------------\n",
      "Column Name:  tract_and_block \n",
      "--------------\n",
      "Numerical: Divided by Quartile\n",
      " -  10 bins\n"
     ]
    },
    {
     "data": {
      "text/markdown": [
       "|                                         |   tract_and_block |\n",
       "|:----------------------------------------|------------------:|\n",
       "| (59948352007016.984, 102636920499301.5] |             39788 |\n",
       "| (102636920499301.5, 144902829897603.0]  |                 0 |\n",
       "| (144902829897603.0, 187168739295904.5]  |                 0 |\n",
       "| (187168739295904.5, 229434648694206.03] |                 0 |\n",
       "| (229434648694206.03, 271700558092507.5] |                 0 |\n",
       "| (271700558092507.5, 313966467490809.0]  |                 0 |\n",
       "| (313966467490809.0, 356232376889110.5]  |                 0 |\n",
       "| (356232376889110.5, 398498286287411.94] |                 0 |\n",
       "| (398498286287411.94, 440764195685713.5] |                 0 |\n",
       "| (440764195685713.5, 483030105084015.0]  |                 1 |"
      ],
      "text/plain": [
       "<IPython.core.display.Markdown object>"
      ]
     },
     "metadata": {},
     "output_type": "display_data"
    },
    {
     "name": "stdout",
     "output_type": "stream",
     "text": [
      "\n",
      "\n",
      "-------------\n",
      "-----------------\n",
      "---End of Line---\n"
     ]
    }
   ],
   "source": [
    "summarize(df)"
   ]
  },
  {
   "cell_type": "markdown",
   "id": "7570f021",
   "metadata": {},
   "source": [
    "# logerror min is -0.122292 and max is .138162\n",
    "\n",
    "# Bathrooms bins (1,..., 4.5)\n",
    "# bedrooms bins (1,..., 5)\n",
    "# tot_sqft min is 152 and max is 3858\n",
    "# units can be dropped now\n",
    "# year assessed can be dropped\n",
    "# <!-- zoning can be dropped ...maybe not... but maybe, theres 1030 types of zoning -->\n",
    "# land use type can be dropped now\n",
    "# city id needs to be categorized\n",
    "# county id can be dropped in favor fo fips--> rename to county\n",
    "# fix the one zip code and change to categorical\n",
    "# 129 different years... keep numerical?\n",
    "# tract_and_block should have the fips removed to make more sense"
   ]
  },
  {
   "cell_type": "markdown",
   "id": "c6f2534e",
   "metadata": {},
   "source": [
    "<a id=\"Q_1\"> </a>\n",
    "<div class=\"alert alert-block alert-info\">\n",
    "</div>\n",
    "\n",
    "***\n",
    "### 1. Q1:\n",
    "[__< TOP >__](#TOP)"
   ]
  },
  {
   "cell_type": "markdown",
   "id": "0400d152",
   "metadata": {},
   "source": [
    "# Is there a relationship between the bathroom categories and the logerror?"
   ]
  },
  {
   "cell_type": "code",
   "execution_count": null,
   "id": "583a912b",
   "metadata": {},
   "outputs": [],
   "source": []
  },
  {
   "cell_type": "code",
   "execution_count": 15,
   "id": "e05c16e9",
   "metadata": {},
   "outputs": [
    {
     "data": {
      "text/plain": [
       "3.0    19374\n",
       "4.0    11323\n",
       "2.0     7137\n",
       "5.0     2029\n",
       "Name: bedrooms, dtype: int64"
      ]
     },
     "execution_count": 15,
     "metadata": {},
     "output_type": "execute_result"
    }
   ],
   "source": [
    "df.bedrooms.value_counts()"
   ]
  },
  {
   "cell_type": "code",
   "execution_count": 16,
   "id": "c4e444f2",
   "metadata": {},
   "outputs": [],
   "source": [
    "# pd.cut(df.bedrooms, bins=(2,3,4,5), labels=('_2_', '_3_', '_4_', '_5_'))\n",
    "df.bedrooms = df.bedrooms.map({2: '_2_',\n",
    "                 3: '_3_',\n",
    "                 4: '_4_',\n",
    "                 5: '_5_'\n",
    "                })"
   ]
  },
  {
   "cell_type": "code",
   "execution_count": 17,
   "id": "b6d2ab22",
   "metadata": {},
   "outputs": [
    {
     "data": {
      "text/plain": [
       "_3_    19374\n",
       "_4_    11323\n",
       "_2_     7137\n",
       "_5_     2029\n",
       "Name: bedrooms, dtype: int64"
      ]
     },
     "execution_count": 17,
     "metadata": {},
     "output_type": "execute_result"
    }
   ],
   "source": [
    "df.bedrooms.value_counts()"
   ]
  },
  {
   "cell_type": "code",
   "execution_count": 18,
   "id": "b3ff172e",
   "metadata": {},
   "outputs": [
    {
     "data": {
      "text/plain": [
       "2.0    18910\n",
       "1.0     8047\n",
       "3.0     7842\n",
       "2.5     3121\n",
       "4.0      900\n",
       "1.5      487\n",
       "3.5      417\n",
       "4.5      139\n",
       "Name: bathrooms, dtype: int64"
      ]
     },
     "execution_count": 18,
     "metadata": {},
     "output_type": "execute_result"
    }
   ],
   "source": [
    "df.bathrooms.value_counts()"
   ]
  },
  {
   "cell_type": "code",
   "execution_count": 19,
   "id": "8359db51",
   "metadata": {},
   "outputs": [],
   "source": [
    "df.bathrooms = pd.cut(df.bathrooms,\n",
    "                      bins = (0,1,2,3,4,5), \n",
    "                      labels=('_1_', '_2_', '_3_', '_4_', '_5_')\n",
    "                     )"
   ]
  },
  {
   "cell_type": "code",
   "execution_count": 20,
   "id": "445c3e1b",
   "metadata": {},
   "outputs": [
    {
     "data": {
      "text/plain": [
       "_1_     8047\n",
       "_2_    19397\n",
       "_3_    10963\n",
       "_4_     1317\n",
       "_5_      139\n",
       "Name: bathrooms, dtype: int64"
      ]
     },
     "execution_count": 20,
     "metadata": {},
     "output_type": "execute_result"
    }
   ],
   "source": [
    "df.bathrooms.value_counts(sort=False)"
   ]
  },
  {
   "cell_type": "code",
   "execution_count": null,
   "id": "8e77c287",
   "metadata": {},
   "outputs": [],
   "source": []
  },
  {
   "cell_type": "code",
   "execution_count": 21,
   "id": "722ba336",
   "metadata": {},
   "outputs": [
    {
     "name": "stdout",
     "output_type": "stream",
     "text": [
      "Prepared df: (39863, 32)\n",
      "\n",
      "Train: (23917, 32)\n",
      "Validate: (7973, 32)\n",
      "Test: (7973, 32)\n"
     ]
    }
   ],
   "source": [
    "train, validate, test = split_data_continuous(df)"
   ]
  },
  {
   "cell_type": "markdown",
   "id": "762feb80",
   "metadata": {},
   "source": [
    "<a id=\"PLOTS_1\"> </a>\n",
    "<div class=\"alert alert-block alert-info\">\n",
    "</div>\n",
    "\n",
    "***\n",
    "#### - Plots:"
   ]
  },
  {
   "cell_type": "code",
   "execution_count": 22,
   "id": "5f96d4cb",
   "metadata": {},
   "outputs": [
    {
     "data": {
      "image/png": "[encoded data removed]",
      "text/plain": [
       "<Figure size 432x288 with 1 Axes>"
      ]
     },
     "metadata": {
      "needs_background": "light"
     },
     "output_type": "display_data"
    }
   ],
   "source": [
    "sns.barplot(x=train.bathrooms,\n",
    "            y= train.logerror\n",
    "           )\n",
    "plt.title('There seems to be a larger log error with more bathrooms',\n",
    "          fontdict={'fontsize': 16},\n",
    "          y= 1.05\n",
    "         )\n",
    "plt.show()"
   ]
  },
  {
   "cell_type": "code",
   "execution_count": 23,
   "id": "a8189204",
   "metadata": {},
   "outputs": [
    {
     "data": {
      "image/png": "[encoded data removed]",
      "text/plain": [
       "<Figure size 432x288 with 1 Axes>"
      ]
     },
     "metadata": {
      "needs_background": "light"
     },
     "output_type": "display_data"
    }
   ],
   "source": [
    "sns.violinplot(x=train.bathrooms,\n",
    "            y= train.logerror\n",
    "           )\n",
    "plt.title('The Violin plots look very much the same though...???',\n",
    "          fontdict={'fontsize': 16},\n",
    "          y= 1.05\n",
    "         )\n",
    "plt.show()"
   ]
  },
  {
   "cell_type": "code",
   "execution_count": 24,
   "id": "73cc3916",
   "metadata": {},
   "outputs": [
    {
     "data": {
      "image/png": "[encoded data removed]",
      "text/plain": [
       "<Figure size 432x288 with 1 Axes>"
      ]
     },
     "metadata": {
      "needs_background": "light"
     },
     "output_type": "display_data"
    }
   ],
   "source": [
    "sns.boxenplot(x=train.bathrooms,\n",
    "            y= train.logerror\n",
    "           )\n",
    "plt.title('The distribution of the log error seems \\\n",
    "to \\nhave a lot more outliers in both directions with 5 bathrooms',\n",
    "          fontdict={'fontsize': 16},\n",
    "          y= 1.05\n",
    "     )\n",
    "plt.show()"
   ]
  },
  {
   "cell_type": "code",
   "execution_count": 25,
   "id": "8c089b97",
   "metadata": {},
   "outputs": [
    {
     "data": {
      "image/png": "[encoded data removed]",
      "text/plain": [
       "<Figure size 432x288 with 1 Axes>"
      ]
     },
     "metadata": {
      "needs_background": "light"
     },
     "output_type": "display_data"
    }
   ],
   "source": [
    "sns.boxplot(x=train.bathrooms,\n",
    "            y= train.logerror\n",
    "           )\n",
    "plt.title('And Here the σ of each looks very different',\n",
    "          fontdict={'fontsize': 16},\n",
    "          y= 1.05\n",
    "         )\n",
    "plt.show()"
   ]
  },
  {
   "cell_type": "markdown",
   "id": "23f6eb23",
   "metadata": {},
   "source": [
    "<a id=\"STAT_TEST_1\"> </a>\n",
    "<div class=\"alert alert-block alert-info\">\n",
    "</div>\n",
    "\n",
    "***\n",
    "#### - Statistical Tests:"
   ]
  },
  {
   "cell_type": "code",
   "execution_count": 26,
   "id": "a975084e",
   "metadata": {},
   "outputs": [
    {
     "data": {
      "text/plain": [
       "['_1_', '_2_', '_3_', '_4_', '_5_']"
      ]
     },
     "execution_count": 26,
     "metadata": {},
     "output_type": "execute_result"
    }
   ],
   "source": [
    "# baths = \n",
    "train.bathrooms.sort_values().unique().tolist()"
   ]
  },
  {
   "cell_type": "code",
   "execution_count": 27,
   "id": "a5521f2b",
   "metadata": {},
   "outputs": [],
   "source": [
    "# baths = ['_1_', '_2_', '_3_', '_4_', '_5_']"
   ]
  },
  {
   "cell_type": "code",
   "execution_count": 28,
   "id": "e5007327",
   "metadata": {},
   "outputs": [],
   "source": [
    "# r, p_value = stats.levene(train.logerror[train.bathrooms == baths[0]],\n",
    "#                           train.logerror[train.bathrooms == baths[1]]\n",
    "#                          )\n",
    "# α = .05\n",
    "\n",
    "# if p_value > α: print('we CANNOT reject our null Hₒ: The varience is similar')\n",
    "# else: print(f\"We can REJECT the null {strike('Hₒ: The varience is similar')}\\\n",
    "# \\nFor Bathrooms {baths[0]}, and {baths[1]}\")"
   ]
  },
  {
   "cell_type": "code",
   "execution_count": 29,
   "id": "6881a8ed",
   "metadata": {},
   "outputs": [],
   "source": [
    "# baths = ['_1_', '_2_', '_3_', '_4_', '_5_']\n",
    "\n",
    "# for i in range(0,5):\n",
    "\n",
    "#     for j in range(i,5):\n",
    "#         if i == j: continue\n",
    "\n",
    "\n",
    "#         r, p_value = stats.levene(train.logerror[train.bathrooms == baths[i]],\n",
    "#                                   train.logerror[train.bathrooms == baths[j]]\n",
    "#                                  )\n",
    "#         α = .05\n",
    "\n",
    "#         print('-------------\\n')\n",
    "\n",
    "#         if p_value > α: \n",
    "#             print(f'we CANNOT reject our null Hₒ: The varience is similar\\\n",
    "#             \\n  For Bathrooms ({baths[i]}, {baths[j]})')\n",
    "#             var_equal = True\n",
    "\n",
    "#         else: \n",
    "#             print(f\"We can REJECT the null {strike('Hₒ: The varience is similar')}\\\n",
    "#             \\n  For Bathrooms ({baths[i]}, {baths[j]})\")\n",
    "#             var_equal = False\n",
    "\n",
    "\n",
    "#         t, p = stats.ttest_ind(train[train.bathrooms == baths[i]].logerror, \n",
    "#                 train[train.bathrooms == baths[j]].logerror,\n",
    "#                equal_var=var_equal)\n",
    "\n",
    "#         print('---\\n')\n",
    "\n",
    "#         if p > α:\n",
    "#             print(f'We CANNOT reject our Null Hₒ: The means are similar\\\n",
    "#             \\n  For Bathrooms ({baths[i]}, {baths[j]})')\n",
    "\n",
    "#         else:\n",
    "#             print(f\"We can REJECT the Null {strike('Hₒ: The means are similar')}\\\n",
    "#             \\n For Bathrooms ({baths[i]}, {baths[j]})\")"
   ]
  },
  {
   "cell_type": "code",
   "execution_count": 30,
   "id": "5f55a05b",
   "metadata": {},
   "outputs": [],
   "source": [
    "def stats_for_ind_t_tests(train_, ind_var_, target_):\n",
    "    '''\n",
    "    Takes in a DataFrame, \n",
    "    which independent categorical variable groups you want to test,\n",
    "    and the target variable for the test.\n",
    "    \n",
    "    Parameters:\n",
    "    ---------------\n",
    "    train_    : the DataFrame\n",
    "    ind_var_  : the independent Categorical variable\n",
    "    target_   : the dependent or target variable you are testing \n",
    "    \n",
    "    Uses the scipy.stats.levene() test for equal variance, and uses the result\n",
    "    \n",
    "    When using scipy.stats.ttest_ind() to test the T-statistic and p-value\n",
    "    \n",
    "    α is set to .05\n",
    "    \n",
    "    Prints the Null Hypotheses and whether they are rejected or not\n",
    "    '''\n",
    "\n",
    "    ind_vars_ = train_[ind_var_].sort_values().unique().tolist() #= ['_1_', '_2_', '_3_', '_4_', '_5_']\n",
    "\n",
    "    for i in range(0,len(ind_vars_)):\n",
    "\n",
    "        for j in range(i,len(ind_vars_)):\n",
    "            if i == j: continue\n",
    "\n",
    "\n",
    "            r, p_value = stats.levene(train_[target_][train_[ind_var_] == ind_vars_[i]],\n",
    "                                      train_[target_][train_[ind_var_] == ind_vars_[j]]\n",
    "                                     )\n",
    "            α = .05\n",
    "\n",
    "            print('-------------\\n')\n",
    "\n",
    "            if p_value > α: \n",
    "                print(f'----> We CANNOT reject our null Hₒ: The varience is similar\\\n",
    "                \\n  ----> For {ind_var_.capitalize()} ({ind_vars_[i]}, {ind_vars_[j]})')\n",
    "                var_equal = True\n",
    "\n",
    "            else: \n",
    "                print(f\"We can REJECT the null {strike('Hₒ: The varience is similar')}\\\n",
    "                \\n  For {ind_var_.capitalize()} ({ind_vars_[i]}, {ind_vars_[j]})\")\n",
    "                var_equal = False\n",
    "\n",
    "\n",
    "            t, p = stats.ttest_ind(train_[target_][train_[ind_var_] == ind_vars_[i]], \n",
    "                    train_[target_][train_[ind_var_] == ind_vars_[j]],\n",
    "                   equal_var=var_equal)\n",
    "\n",
    "            print('---\\n')\n",
    "\n",
    "            if p > α:\n",
    "                print(f'----> We CANNOT reject our Null Hₒ: The means are similar\\\n",
    "                \\n  ----> For {ind_var_.capitalize()} ({ind_vars_[i]}, {ind_vars_[j]})')\n",
    "\n",
    "            else:\n",
    "                print(f\"We can REJECT the Null {strike('Hₒ: The means are similar')}\\\n",
    "                \\n For {ind_var_.capitalize()} ({ind_vars_[i]}, {ind_vars_[j]})\")"
   ]
  },
  {
   "cell_type": "code",
   "execution_count": 31,
   "id": "00c06e68",
   "metadata": {},
   "outputs": [
    {
     "name": "stdout",
     "output_type": "stream",
     "text": [
      "-------------\n",
      "\n",
      "We can REJECT the null H̶ₒ̶:̶ ̶T̶h̶e̶ ̶v̶a̶r̶i̶e̶n̶c̶e̶ ̶i̶s̶ ̶s̶i̶m̶i̶l̶a̶r̶                \n",
      "  For Bathrooms (_1_, _2_)\n",
      "---\n",
      "\n",
      "----> We CANNOT reject our Null Hₒ: The means are similar                \n",
      "  ----> For Bathrooms (_1_, _2_)\n",
      "-------------\n",
      "\n",
      "We can REJECT the null H̶ₒ̶:̶ ̶T̶h̶e̶ ̶v̶a̶r̶i̶e̶n̶c̶e̶ ̶i̶s̶ ̶s̶i̶m̶i̶l̶a̶r̶                \n",
      "  For Bathrooms (_1_, _3_)\n",
      "---\n",
      "\n",
      "We can REJECT the Null H̶ₒ̶:̶ ̶T̶h̶e̶ ̶m̶e̶a̶n̶s̶ ̶a̶r̶e̶ ̶s̶i̶m̶i̶l̶a̶r̶                \n",
      " For Bathrooms (_1_, _3_)\n",
      "-------------\n",
      "\n",
      "----> We CANNOT reject our null Hₒ: The varience is similar                \n",
      "  ----> For Bathrooms (_1_, _4_)\n",
      "---\n",
      "\n",
      "We can REJECT the Null H̶ₒ̶:̶ ̶T̶h̶e̶ ̶m̶e̶a̶n̶s̶ ̶a̶r̶e̶ ̶s̶i̶m̶i̶l̶a̶r̶                \n",
      " For Bathrooms (_1_, _4_)\n",
      "-------------\n",
      "\n",
      "We can REJECT the null H̶ₒ̶:̶ ̶T̶h̶e̶ ̶v̶a̶r̶i̶e̶n̶c̶e̶ ̶i̶s̶ ̶s̶i̶m̶i̶l̶a̶r̶                \n",
      "  For Bathrooms (_1_, _5_)\n",
      "---\n",
      "\n",
      "----> We CANNOT reject our Null Hₒ: The means are similar                \n",
      "  ----> For Bathrooms (_1_, _5_)\n",
      "-------------\n",
      "\n",
      "We can REJECT the null H̶ₒ̶:̶ ̶T̶h̶e̶ ̶v̶a̶r̶i̶e̶n̶c̶e̶ ̶i̶s̶ ̶s̶i̶m̶i̶l̶a̶r̶                \n",
      "  For Bathrooms (_2_, _3_)\n",
      "---\n",
      "\n",
      "We can REJECT the Null H̶ₒ̶:̶ ̶T̶h̶e̶ ̶m̶e̶a̶n̶s̶ ̶a̶r̶e̶ ̶s̶i̶m̶i̶l̶a̶r̶                \n",
      " For Bathrooms (_2_, _3_)\n",
      "-------------\n",
      "\n",
      "We can REJECT the null H̶ₒ̶:̶ ̶T̶h̶e̶ ̶v̶a̶r̶i̶e̶n̶c̶e̶ ̶i̶s̶ ̶s̶i̶m̶i̶l̶a̶r̶                \n",
      "  For Bathrooms (_2_, _4_)\n",
      "---\n",
      "\n",
      "We can REJECT the Null H̶ₒ̶:̶ ̶T̶h̶e̶ ̶m̶e̶a̶n̶s̶ ̶a̶r̶e̶ ̶s̶i̶m̶i̶l̶a̶r̶                \n",
      " For Bathrooms (_2_, _4_)\n",
      "-------------\n",
      "\n",
      "----> We CANNOT reject our null Hₒ: The varience is similar                \n",
      "  ----> For Bathrooms (_2_, _5_)\n",
      "---\n",
      "\n",
      "----> We CANNOT reject our Null Hₒ: The means are similar                \n",
      "  ----> For Bathrooms (_2_, _5_)\n",
      "-------------\n",
      "\n",
      "We can REJECT the null H̶ₒ̶:̶ ̶T̶h̶e̶ ̶v̶a̶r̶i̶e̶n̶c̶e̶ ̶i̶s̶ ̶s̶i̶m̶i̶l̶a̶r̶                \n",
      "  For Bathrooms (_3_, _4_)\n",
      "---\n",
      "\n",
      "----> We CANNOT reject our Null Hₒ: The means are similar                \n",
      "  ----> For Bathrooms (_3_, _4_)\n",
      "-------------\n",
      "\n",
      "----> We CANNOT reject our null Hₒ: The varience is similar                \n",
      "  ----> For Bathrooms (_3_, _5_)\n",
      "---\n",
      "\n",
      "----> We CANNOT reject our Null Hₒ: The means are similar                \n",
      "  ----> For Bathrooms (_3_, _5_)\n",
      "-------------\n",
      "\n",
      "----> We CANNOT reject our null Hₒ: The varience is similar                \n",
      "  ----> For Bathrooms (_4_, _5_)\n",
      "---\n",
      "\n",
      "----> We CANNOT reject our Null Hₒ: The means are similar                \n",
      "  ----> For Bathrooms (_4_, _5_)\n"
     ]
    }
   ],
   "source": [
    "stats_for_ind_t_tests(train, 'bathrooms', 'logerror')"
   ]
  },
  {
   "cell_type": "code",
   "execution_count": null,
   "id": "fd5b7a72",
   "metadata": {},
   "outputs": [],
   "source": []
  },
  {
   "cell_type": "code",
   "execution_count": 32,
   "id": "d1903a4c",
   "metadata": {},
   "outputs": [],
   "source": [
    "# stats.ttest_ind(train[train.bathrooms == baths[i]].logerror, \n",
    "#                 train[train.bathrooms == baths[j]]..logerror,\n",
    "#                equal_var=var_equal)"
   ]
  },
  {
   "cell_type": "markdown",
   "id": "4b5583c5",
   "metadata": {},
   "source": [
    "<a id=\"ANS_1\"> </a>\n",
    "<div class=\"alert alert-block alert-info\">\n",
    "</div>\n",
    "\n",
    "***\n",
    "#### - Answers/More Questions:"
   ]
  },
  {
   "cell_type": "markdown",
   "id": "f8f4e92e",
   "metadata": {},
   "source": [
    "### The varience between most of the different categories is different...\n",
    "- Interstingly, the varience and means are similar between (4 and 5) baths and (3 and 5) baths, but not betweeen (3 and 4)"
   ]
  },
  {
   "cell_type": "markdown",
   "id": "a30d8b62",
   "metadata": {},
   "source": [
    "<a id=\"Q_2\"> </a>\n",
    "<div class=\"alert alert-block alert-info\">\n",
    "</div>\n",
    "\n",
    "***\n",
    "### 2. Q2:\n",
    "[__< TOP >__](#TOP)"
   ]
  },
  {
   "cell_type": "markdown",
   "id": "906b9ef2",
   "metadata": {},
   "source": [
    "### Since we already looked at bathrooms, let's look at bedrooms too!"
   ]
  },
  {
   "cell_type": "markdown",
   "id": "887b09c2",
   "metadata": {},
   "source": [
    "<a id=\"PLOTS_2\"> </a>\n",
    "<div class=\"alert alert-block alert-info\">\n",
    "</div>\n",
    "\n",
    "***\n",
    "#### - Plots:"
   ]
  },
  {
   "cell_type": "code",
   "execution_count": 33,
   "id": "d15229a8",
   "metadata": {},
   "outputs": [
    {
     "data": {
      "image/png": "[encoded data removed]",
      "text/plain": [
       "<Figure size 432x288 with 1 Axes>"
      ]
     },
     "metadata": {
      "needs_background": "light"
     },
     "output_type": "display_data"
    }
   ],
   "source": [
    "sns.barplot(x=train.bedrooms,\n",
    "            y= train.logerror\n",
    "           )\n",
    "plt.title('There seems to be a larger log error with more bedrooms',\n",
    "          fontdict={'fontsize': 16},\n",
    "          y= 1.05\n",
    "         )\n",
    "plt.show()"
   ]
  },
  {
   "cell_type": "code",
   "execution_count": 34,
   "id": "d1ac41aa",
   "metadata": {},
   "outputs": [
    {
     "data": {
      "image/png": "[encoded data removed]",
      "text/plain": [
       "<Figure size 432x288 with 1 Axes>"
      ]
     },
     "metadata": {
      "needs_background": "light"
     },
     "output_type": "display_data"
    }
   ],
   "source": [
    "sns.violinplot(x=train.bedrooms,\n",
    "            y= train.logerror\n",
    "           )\n",
    "plt.title('The Violin plots look very much the same though...???',\n",
    "          fontdict={'fontsize': 16},\n",
    "          y= 1.05\n",
    "         )\n",
    "plt.show()"
   ]
  },
  {
   "cell_type": "code",
   "execution_count": 35,
   "id": "69c91e47",
   "metadata": {},
   "outputs": [
    {
     "data": {
      "image/png": "[encoded data removed]",
      "text/plain": [
       "<Figure size 432x288 with 1 Axes>"
      ]
     },
     "metadata": {
      "needs_background": "light"
     },
     "output_type": "display_data"
    }
   ],
   "source": [
    "sns.boxenplot(x=train.bedrooms,\n",
    "            y= train.logerror\n",
    "           )\n",
    "plt.title('The distribution of the log error seems \\\n",
    "to \\nhave a lot more outliers in both directions with 5 bedrooms',\n",
    "          fontdict={'fontsize': 16},\n",
    "          y= 1.05\n",
    "     )\n",
    "plt.show()"
   ]
  },
  {
   "cell_type": "code",
   "execution_count": null,
   "id": "2fa2bb06",
   "metadata": {},
   "outputs": [],
   "source": [
    "from scipy.stats import lo"
   ]
  },
  {
   "cell_type": "code",
   "execution_count": 67,
   "id": "fb2ce3c7",
   "metadata": {},
   "outputs": [
    {
     "data": {
      "text/plain": [
       "count    23917.000000\n",
       "mean         0.016017\n",
       "std          0.165517\n",
       "min         -4.655420\n",
       "25%         -0.024295\n",
       "50%          0.005599\n",
       "75%          0.036134\n",
       "max          3.069365\n",
       "Name: logerror, dtype: float64"
      ]
     },
     "execution_count": 67,
     "metadata": {},
     "output_type": "execute_result"
    }
   ],
   "source": [
    "train.logerror.describe()"
   ]
  },
  {
   "cell_type": "code",
   "execution_count": 52,
   "id": "4633f828",
   "metadata": {},
   "outputs": [],
   "source": [
    "train['alog_error'] = np.exp(train.logerror + 5)"
   ]
  },
  {
   "cell_type": "code",
   "execution_count": 53,
   "id": "355f42fb",
   "metadata": {},
   "outputs": [
    {
     "data": {
      "text/plain": [
       "count    23917.000000\n",
       "mean       153.782910\n",
       "std         59.121573\n",
       "min          1.411396\n",
       "25%        144.850860\n",
       "50%        149.246401\n",
       "75%        153.874040\n",
       "max       3195.071848\n",
       "Name: alog_error, dtype: float64"
      ]
     },
     "execution_count": 53,
     "metadata": {},
     "output_type": "execute_result"
    }
   ],
   "source": [
    "train.alog_error.describe()"
   ]
  },
  {
   "cell_type": "code",
   "execution_count": 46,
   "id": "015b9f5d",
   "metadata": {},
   "outputs": [
    {
     "data": {
      "text/plain": [
       "<AxesSubplot:>"
      ]
     },
     "execution_count": 46,
     "metadata": {},
     "output_type": "execute_result"
    },
    {
     "data": {
      "image/png": "[encoded data removed]",
      "text/plain": [
       "<Figure size 864x864 with 1 Axes>"
      ]
     },
     "metadata": {
      "needs_background": "light"
     },
     "output_type": "display_data"
    }
   ],
   "source": [
    "train.logerror.hist(grid= False, figsize=(12,12), bins= 251)"
   ]
  },
  {
   "cell_type": "code",
   "execution_count": 54,
   "id": "02305433",
   "metadata": {},
   "outputs": [
    {
     "data": {
      "text/plain": [
       "<AxesSubplot:>"
      ]
     },
     "execution_count": 54,
     "metadata": {},
     "output_type": "execute_result"
    },
    {
     "data": {
      "image/png": "[encoded data removed]",
      "text/plain": [
       "<Figure size 864x864 with 1 Axes>"
      ]
     },
     "metadata": {
      "needs_background": "light"
     },
     "output_type": "display_data"
    }
   ],
   "source": [
    "train.alog_error.hist(grid= False, figsize=(12,12), bins= 251)"
   ]
  },
  {
   "cell_type": "code",
   "execution_count": 78,
   "id": "355be28d",
   "metadata": {},
   "outputs": [],
   "source": [
    "train['alog_error'] = np.exp(train.logerror)"
   ]
  },
  {
   "cell_type": "code",
   "execution_count": 79,
   "id": "cfae3dcf",
   "metadata": {},
   "outputs": [
    {
     "data": {
      "text/plain": [
       "count    23917.000000\n",
       "mean         1.036181\n",
       "std          0.398358\n",
       "min          0.009510\n",
       "25%          0.975997\n",
       "50%          1.005614\n",
       "75%          1.036795\n",
       "max         21.528225\n",
       "Name: alog_error, dtype: float64"
      ]
     },
     "execution_count": 79,
     "metadata": {},
     "output_type": "execute_result"
    }
   ],
   "source": [
    "train.alog_error.describe()"
   ]
  },
  {
   "cell_type": "code",
   "execution_count": 70,
   "id": "3f343f0c",
   "metadata": {},
   "outputs": [
    {
     "data": {
      "text/plain": [
       "<AxesSubplot:>"
      ]
     },
     "execution_count": 70,
     "metadata": {},
     "output_type": "execute_result"
    },
    {
     "data": {
      "image/png": "[encoded data removed]",
      "text/plain": [
       "<Figure size 864x864 with 1 Axes>"
      ]
     },
     "metadata": {
      "needs_background": "light"
     },
     "output_type": "display_data"
    }
   ],
   "source": [
    "train.logerror.hist(grid= False, figsize=(12,12), bins= 251)"
   ]
  },
  {
   "cell_type": "code",
   "execution_count": 77,
   "id": "a8511078",
   "metadata": {},
   "outputs": [
    {
     "data": {
      "text/plain": [
       "<AxesSubplot:>"
      ]
     },
     "execution_count": 77,
     "metadata": {},
     "output_type": "execute_result"
    },
    {
     "data": {
      "image/png": "[encoded data removed]",
      "text/plain": [
       "<Figure size 864x864 with 1 Axes>"
      ]
     },
     "metadata": {
      "needs_background": "light"
     },
     "output_type": "display_data"
    }
   ],
   "source": [
    "train.alog_error.hist(grid= False, figsize=(12,12), bins= 251)"
   ]
  },
  {
   "cell_type": "code",
   "execution_count": 42,
   "id": "8af6e3ec",
   "metadata": {},
   "outputs": [
    {
     "data": {
      "image/png": "[encoded data removed]",
      "text/plain": [
       "<Figure size 864x1440 with 1 Axes>"
      ]
     },
     "metadata": {
      "needs_background": "light"
     },
     "output_type": "display_data"
    }
   ],
   "source": [
    "plt.figure(figsize=(12,20))\n",
    "sns.boxplot(x=train.bedrooms,\n",
    "            y= train.logerror\n",
    "           )\n",
    "plt.title('And Here the σ of each looks very different',\n",
    "          fontdict={'fontsize': 16},\n",
    "          y= 1.05\n",
    "         )\n",
    "plt.show()"
   ]
  },
  {
   "cell_type": "code",
   "execution_count": 37,
   "id": "4e9e099c",
   "metadata": {},
   "outputs": [
    {
     "data": {
      "image/png": "[encoded data removed]",
      "text/plain": [
       "<Figure size 360x360 with 1 Axes>"
      ]
     },
     "metadata": {
      "needs_background": "light"
     },
     "output_type": "display_data"
    }
   ],
   "source": [
    "sns.catplot(data=train,\n",
    "            x= 'bedrooms',\n",
    "            y= 'logerror'\n",
    "           )\n",
    "plt.title('And Here the σ of each looks very different',\n",
    "          fontdict={'fontsize': 16},\n",
    "          y= 1.05\n",
    "         )\n",
    "plt.show()"
   ]
  },
  {
   "cell_type": "code",
   "execution_count": null,
   "id": "c4259bad",
   "metadata": {},
   "outputs": [],
   "source": []
  },
  {
   "cell_type": "markdown",
   "id": "f881abd1",
   "metadata": {},
   "source": [
    "<a id=\"STAT_TEST_2\"> </a>\n",
    "<div class=\"alert alert-block alert-info\">\n",
    "</div>\n",
    "\n",
    "***\n",
    "#### - Statistical Tests:"
   ]
  },
  {
   "cell_type": "code",
   "execution_count": 38,
   "id": "21e6a920",
   "metadata": {},
   "outputs": [
    {
     "name": "stdout",
     "output_type": "stream",
     "text": [
      "-------------\n",
      "\n",
      "We can REJECT the null H̶ₒ̶:̶ ̶T̶h̶e̶ ̶v̶a̶r̶i̶e̶n̶c̶e̶ ̶i̶s̶ ̶s̶i̶m̶i̶l̶a̶r̶                \n",
      "  For Bedrooms (_2_, _3_)\n",
      "---\n",
      "\n",
      "We can REJECT the Null H̶ₒ̶:̶ ̶T̶h̶e̶ ̶m̶e̶a̶n̶s̶ ̶a̶r̶e̶ ̶s̶i̶m̶i̶l̶a̶r̶                \n",
      " For Bedrooms (_2_, _3_)\n",
      "-------------\n",
      "\n",
      "We can REJECT the null H̶ₒ̶:̶ ̶T̶h̶e̶ ̶v̶a̶r̶i̶e̶n̶c̶e̶ ̶i̶s̶ ̶s̶i̶m̶i̶l̶a̶r̶                \n",
      "  For Bedrooms (_2_, _4_)\n",
      "---\n",
      "\n",
      "We can REJECT the Null H̶ₒ̶:̶ ̶T̶h̶e̶ ̶m̶e̶a̶n̶s̶ ̶a̶r̶e̶ ̶s̶i̶m̶i̶l̶a̶r̶                \n",
      " For Bedrooms (_2_, _4_)\n",
      "-------------\n",
      "\n",
      "We can REJECT the null H̶ₒ̶:̶ ̶T̶h̶e̶ ̶v̶a̶r̶i̶e̶n̶c̶e̶ ̶i̶s̶ ̶s̶i̶m̶i̶l̶a̶r̶                \n",
      "  For Bedrooms (_2_, _5_)\n",
      "---\n",
      "\n",
      "We can REJECT the Null H̶ₒ̶:̶ ̶T̶h̶e̶ ̶m̶e̶a̶n̶s̶ ̶a̶r̶e̶ ̶s̶i̶m̶i̶l̶a̶r̶                \n",
      " For Bedrooms (_2_, _5_)\n",
      "-------------\n",
      "\n",
      "We can REJECT the null H̶ₒ̶:̶ ̶T̶h̶e̶ ̶v̶a̶r̶i̶e̶n̶c̶e̶ ̶i̶s̶ ̶s̶i̶m̶i̶l̶a̶r̶                \n",
      "  For Bedrooms (_3_, _4_)\n",
      "---\n",
      "\n",
      "We can REJECT the Null H̶ₒ̶:̶ ̶T̶h̶e̶ ̶m̶e̶a̶n̶s̶ ̶a̶r̶e̶ ̶s̶i̶m̶i̶l̶a̶r̶                \n",
      " For Bedrooms (_3_, _4_)\n",
      "-------------\n",
      "\n",
      "----> We CANNOT reject our null Hₒ: The varience is similar                \n",
      "  ----> For Bedrooms (_3_, _5_)\n",
      "---\n",
      "\n",
      "We can REJECT the Null H̶ₒ̶:̶ ̶T̶h̶e̶ ̶m̶e̶a̶n̶s̶ ̶a̶r̶e̶ ̶s̶i̶m̶i̶l̶a̶r̶                \n",
      " For Bedrooms (_3_, _5_)\n",
      "-------------\n",
      "\n",
      "----> We CANNOT reject our null Hₒ: The varience is similar                \n",
      "  ----> For Bedrooms (_4_, _5_)\n",
      "---\n",
      "\n",
      "----> We CANNOT reject our Null Hₒ: The means are similar                \n",
      "  ----> For Bedrooms (_4_, _5_)\n"
     ]
    }
   ],
   "source": [
    "stats_for_ind_t_tests(train, 'bedrooms', 'logerror')"
   ]
  },
  {
   "cell_type": "code",
   "execution_count": null,
   "id": "87c31b18",
   "metadata": {},
   "outputs": [],
   "source": []
  },
  {
   "cell_type": "markdown",
   "id": "940f9b55",
   "metadata": {},
   "source": [
    "<a id=\"ANS_2\"> </a>\n",
    "<div class=\"alert alert-block alert-info\">\n",
    "</div>\n",
    "\n",
    "***\n",
    "#### - Answers/More Questions:"
   ]
  },
  {
   "cell_type": "markdown",
   "id": "f2ee8da3",
   "metadata": {},
   "source": [
    "### Looks like I can maybe put 2 and 3 bedrooms into one category and look at 4 and 5 separately"
   ]
  },
  {
   "cell_type": "markdown",
   "id": "d904131b",
   "metadata": {},
   "source": [
    "<a id=\"Q_3\"> </a>\n",
    "<div class=\"alert alert-block alert-info\">\n",
    "</div>\n",
    "\n",
    "***\n",
    "### 3. Q3:\n",
    "[__< TOP >__](#TOP)"
   ]
  },
  {
   "cell_type": "code",
   "execution_count": null,
   "id": "e9c3cf04",
   "metadata": {},
   "outputs": [],
   "source": []
  },
  {
   "cell_type": "markdown",
   "id": "de37c875",
   "metadata": {},
   "source": [
    "<a id=\"PLOTS_3\"> </a>\n",
    "<div class=\"alert alert-block alert-info\">\n",
    "</div>\n",
    "\n",
    "***\n",
    "#### - Plots:"
   ]
  },
  {
   "cell_type": "code",
   "execution_count": null,
   "id": "45972188",
   "metadata": {},
   "outputs": [],
   "source": []
  },
  {
   "cell_type": "markdown",
   "id": "892b8732",
   "metadata": {},
   "source": [
    "<a id=\"STAT_TEST_3\"> </a>\n",
    "<div class=\"alert alert-block alert-info\">\n",
    "</div>\n",
    "\n",
    "***\n",
    "#### - Statistical Tests:"
   ]
  },
  {
   "cell_type": "code",
   "execution_count": null,
   "id": "260bda69",
   "metadata": {},
   "outputs": [],
   "source": []
  },
  {
   "cell_type": "markdown",
   "id": "db3cdacc",
   "metadata": {},
   "source": [
    "<a id=\"ANS_3\"> </a>\n",
    "<div class=\"alert alert-block alert-info\">\n",
    "</div>\n",
    "\n",
    "***\n",
    "#### - Answers/More Questions:"
   ]
  },
  {
   "cell_type": "code",
   "execution_count": null,
   "id": "e544a86f",
   "metadata": {},
   "outputs": [],
   "source": []
  },
  {
   "cell_type": "markdown",
   "id": "88208fdb",
   "metadata": {},
   "source": [
    "<a id=\"Q_4\"> </a>\n",
    "<div class=\"alert alert-block alert-info\">\n",
    "</div>\n",
    "\n",
    "***\n",
    "### 4. Q4:\n",
    "[__< TOP >__](#TOP)"
   ]
  },
  {
   "cell_type": "code",
   "execution_count": null,
   "id": "66ed5b4e",
   "metadata": {},
   "outputs": [],
   "source": []
  },
  {
   "cell_type": "markdown",
   "id": "5c4a1375",
   "metadata": {},
   "source": [
    "<a id=\"PLOTS_4\"> </a>\n",
    "<div class=\"alert alert-block alert-info\">\n",
    "</div>\n",
    "\n",
    "***\n",
    "#### - Plots:"
   ]
  },
  {
   "cell_type": "code",
   "execution_count": null,
   "id": "cdf135cb",
   "metadata": {},
   "outputs": [],
   "source": []
  },
  {
   "cell_type": "markdown",
   "id": "b3d9220b",
   "metadata": {},
   "source": [
    "<a id=\"STAT_TEST_4\"> </a>\n",
    "<div class=\"alert alert-block alert-info\">\n",
    "</div>\n",
    "\n",
    "***\n",
    "#### - Statistical Tests:"
   ]
  },
  {
   "cell_type": "code",
   "execution_count": null,
   "id": "37ba9803",
   "metadata": {},
   "outputs": [],
   "source": []
  },
  {
   "cell_type": "markdown",
   "id": "6523a24d",
   "metadata": {},
   "source": [
    "<a id=\"ANS_4\"> </a>\n",
    "<div class=\"alert alert-block alert-info\">\n",
    "</div>\n",
    "\n",
    "***\n",
    "#### - Answers/More Questions:"
   ]
  },
  {
   "cell_type": "code",
   "execution_count": null,
   "id": "d5173bac",
   "metadata": {},
   "outputs": [],
   "source": []
  },
  {
   "cell_type": "markdown",
   "id": "101bbe8a",
   "metadata": {},
   "source": [
    "<a id=\"Q_5\"> </a>\n",
    "<div class=\"alert alert-block alert-info\">\n",
    "</div>\n",
    "\n",
    "***\n",
    "### 5. Q5:\n",
    "[__< TOP >__](#TOP)"
   ]
  },
  {
   "cell_type": "code",
   "execution_count": null,
   "id": "68cb10ac",
   "metadata": {},
   "outputs": [],
   "source": []
  },
  {
   "cell_type": "markdown",
   "id": "d2424714",
   "metadata": {},
   "source": [
    "<a id=\"PLOTS_5\"> </a>\n",
    "<div class=\"alert alert-block alert-info\">\n",
    "</div>\n",
    "\n",
    "***\n",
    "#### - Plots:"
   ]
  },
  {
   "cell_type": "code",
   "execution_count": null,
   "id": "cbc85745",
   "metadata": {},
   "outputs": [],
   "source": []
  },
  {
   "cell_type": "markdown",
   "id": "1fe66c47",
   "metadata": {},
   "source": [
    "<a id=\"STAT_TEST_5\"> </a>\n",
    "<div class=\"alert alert-block alert-info\">\n",
    "</div>\n",
    "\n",
    "***\n",
    "#### - Statistical Tests:"
   ]
  },
  {
   "cell_type": "code",
   "execution_count": null,
   "id": "891ac376",
   "metadata": {},
   "outputs": [],
   "source": []
  },
  {
   "cell_type": "markdown",
   "id": "4c8f2b30",
   "metadata": {},
   "source": [
    "<a id=\"ANS_5\"> </a>\n",
    "<div class=\"alert alert-block alert-info\">\n",
    "</div>\n",
    "\n",
    "***\n",
    "#### - Answers/More Questions:"
   ]
  },
  {
   "cell_type": "code",
   "execution_count": null,
   "id": "ffa4671d",
   "metadata": {},
   "outputs": [],
   "source": []
  },
  {
   "cell_type": "markdown",
   "id": "7a3537a0",
   "metadata": {},
   "source": [
    "## 2. Answer those questions through a mix of statistical tests and visualizations.\n",
    "\n",
    "[__< TOP >__](#TOP)"
   ]
  },
  {
   "cell_type": "code",
   "execution_count": null,
   "id": "28caffe5",
   "metadata": {},
   "outputs": [],
   "source": []
  },
  {
   "cell_type": "markdown",
   "id": "910f3c2e",
   "metadata": {},
   "source": [
    "# Bonus:\n",
    "\n",
    "- **Compute the mean(logerror) by zipcode and the overall mean(logerror). Write a loop that will run a t-test between the overall mean and the mean for each zip code. We want to identify the zip codes where the error is significantly higher or lower than the expected error.**"
   ]
  },
  {
   "cell_type": "code",
   "execution_count": null,
   "id": "014848a4",
   "metadata": {},
   "outputs": [],
   "source": []
  }
 ],
 "metadata": {
  "kernelspec": {
   "display_name": "Python 3 (ipykernel)",
   "language": "python",
   "name": "python3"
  },
  "language_info": {
   "codemirror_mode": {
    "name": "ipython",
    "version": 3
   },
   "file_extension": ".py",
   "mimetype": "text/x-python",
   "name": "python",
   "nbconvert_exporter": "python",
   "pygments_lexer": "ipython3",
   "version": "3.9.12"
  }
 },
 "nbformat": 4,
 "nbformat_minor": 5
}
