{
 "cells": [
  {
   "cell_type": "markdown",
   "id": "f0c571af",
   "metadata": {},
   "source": [
    "Column Name:  ac_type \n",
    "--------------\n",
    "- None             52606\n",
    "- Central          23186\n",
    "- Yes               1575\n",
    "- None               167\n",
    "- Wall Unit           53\n",
    "- Refrigeration       26\n",
    "\n",
    "### The Refrigeration shouldn't be SFRs"
   ]
  },
  {
   "cell_type": "markdown",
   "id": "a9d68ade",
   "metadata": {},
   "source": [
    "Column Name:  arch_type \n",
    "--------------\n",
    "- None             77406\n",
    "- Contemporary       173\n",
    "- Conventional        19\n",
    "- Ranch/Rambler        7\n",
    "- Bungalow             5\n",
    "- Cape Cod             3\n",
    "\n",
    "### The designations are so few, that I think they're talking about mansions\n",
    "- Let's drop all of those before we drop the column"
   ]
  },
  {
   "cell_type": "markdown",
   "id": "6a010223",
   "metadata": {},
   "source": [
    "Column Name:  build_type \n",
    "--------------\n",
    "- None 77598\n",
    "- Buildings having wood or wood and steel frames 14\n",
    "- Buildings having exterior walls built of a non-combustible material such as brick, concrete, block or poured concrete. Interior partitions and roof structures are built of combustible materials. Floor may be concrete or wood frame. 1"
   ]
  },
  {
   "cell_type": "markdown",
   "id": "347ee751",
   "metadata": {},
   "source": [
    "### These are also probably not SFRs"
   ]
  },
  {
   "cell_type": "markdown",
   "id": "d765b96e",
   "metadata": {},
   "source": [
    "Column Name:  heat_type \n",
    "--------------\n",
    "- Central       33633\n",
    "- None          28042\n",
    "- Floor/Wall    14107\n",
    "- Yes             850\n",
    "- Forced air      777\n",
    "- Solar           104\n",
    "- None             60\n",
    "- Radiant          23\n",
    "- Baseboard        13\n",
    "- Gravity           3\n",
    "- Heat Pump         1\n",
    "\n",
    "### The 'Yes' on down look like they were gathered from a different source and are probably not SFRs"
   ]
  },
  {
   "cell_type": "markdown",
   "id": "044aa05f",
   "metadata": {},
   "source": [
    "Column Name:  land_use_type \n",
    "--------------\n",
    "- Single Family Residential                     52441\n",
    "- Condominium                                   19342\n",
    "- Duplex (2 Units, Any Combination)              2021\n",
    "- Planned Unit Development                       1947\n",
    "- Quadruplex (4 Units, Any Combination)           729\n",
    "- Triplex (3 Units, Any Combination)              539\n",
    "- Cluster Home                                    335\n",
    "- Mobile Home                                      74\n",
    "- Manufactured, Modular, Prefabricated Homes       59\n",
    "- Residential General                              42\n",
    "- None                                             34\n",
    "- Cooperative                                      29\n",
    "- Commercial/Office/Residential Mixed Used         15\n",
    "- Townhouse                                         6\n",
    "\n",
    "### Obviously we could kill everything that isn't SFR or Condo...?"
   ]
  },
  {
   "cell_type": "markdown",
   "id": "0103a61d",
   "metadata": {},
   "source": [
    "Column Name:  bathrooms \n",
    "--------------\n",
    "- (-0.019, 1.8]    14963\n",
    "- (1.8, 3.6]       56572\n",
    "- (3.6, 5.4]        5078\n",
    "- (5.4, 7.2]         804\n",
    "- (7.2, 9.0]         150\n",
    "- (9.0, 10.8]          7\n",
    "- (10.8, 12.6]         3\n",
    "- (12.6, 14.4]         1\n",
    "- (14.4, 16.2]         0\n",
    "- (16.2, 18.0]         1\n",
    "\n",
    "### We could cap bathrooms at maybe 5?"
   ]
  },
  {
   "cell_type": "markdown",
   "id": "8e4517de",
   "metadata": {},
   "source": [
    "Column Name:  bedrooms \n",
    "--------------\n",
    "- (-0.017, 1.6]     4228\n",
    "- (1.6, 3.2]       49659\n",
    "- (3.2, 4.8]       17551\n",
    "- (4.8, 6.4]        5550\n",
    "- (6.4, 8.0]         461\n",
    "- (8.0, 9.6]          70\n",
    "- (9.6, 11.2]         40\n",
    "- (11.2, 12.8]        16\n",
    "- (12.8, 14.4]         3\n",
    "- (14.4, 16.0]         1\n",
    "\n",
    "### Same with bedrooms at 5 or 6?"
   ]
  },
  {
   "cell_type": "markdown",
   "id": "53383325",
   "metadata": {},
   "source": [
    "Column Name:  fireplaces \n",
    "--------------\n",
    "- (0.995, 1.4]    7018\n",
    "- (1.4, 1.8]         0\n",
    "- (1.8, 2.2]       998\n",
    "- (2.2, 2.6]         0\n",
    "- (2.6, 3.0]       235\n",
    "- (3.0, 3.4]         0\n",
    "- (3.4, 3.8]         0\n",
    "- (3.8, 4.2]        35\n",
    "- (4.2, 4.6]         0\n",
    "- (4.6, 5.0]         3\n",
    "\n",
    "### Probably more than 1 or 2 fireplaces isn't really an SFR"
   ]
  },
  {
   "cell_type": "markdown",
   "id": "b75043d9",
   "metadata": {},
   "source": [
    "Column Name:  garages \n",
    "--------------\n",
    "(-0.015, 1.4]     5921\n",
    "(1.4, 2.8]       18638\n",
    "(2.8, 4.2]         888\n",
    "(4.2, 5.6]          45\n",
    "(5.6, 7.0]          18\n",
    "(7.0, 8.4]           2\n",
    "(8.4, 9.8]           2\n",
    "(9.8, 11.2]          4\n",
    "(11.2, 12.6]         0\n",
    "(12.6, 14.0]         2\n",
    "\n",
    "### More than 2 garages... maybe more than 1?"
   ]
  },
  {
   "cell_type": "markdown",
   "id": "eab76270",
   "metadata": {},
   "source": [
    "Column Name:  zoning \n",
    "--------------\n",
    "- None         27137\n",
    "- LAR1          6766\n",
    "- LAR3          2450\n",
    "- LARS          1394\n",
    "- LBR1N         1225\n",
    "-             ...  \n",
    "- LCCM*            1\n",
    "- BFA16000*        1\n",
    "- LCPR*            1\n",
    "- LYR2             1\n",
    "- BFA15000*        1\n",
    "\n",
    "### Could look into zoning and cut things out"
   ]
  },
  {
   "cell_type": "markdown",
   "id": "4d795034",
   "metadata": {},
   "source": [
    "Column Name:  stories_type \n",
    "--------------\n",
    "- (6.992, 6.994]     0\n",
    "- (6.994, 6.996]     0\n",
    "- (6.996, 6.997]     0\n",
    "- (6.997, 6.999]     0\n",
    "- (6.999, 7.0]      50\n",
    "- (7.0, 7.001]       0\n",
    "- (7.001, 7.003]     0\n",
    "- (7.003, 7.004]     0\n",
    "- (7.004, 7.006]     0\n",
    "- (7.006, 7.007]     0\n",
    "\n",
    "### 7 stories is definitely out"
   ]
  },
  {
   "cell_type": "markdown",
   "id": "0fc6a069",
   "metadata": {},
   "source": [
    "Column Name:  units \n",
    "--------------\n",
    "- (0.763, 24.6]     50700\n",
    "\n",
    "### units greater than 1"
   ]
  },
  {
   "cell_type": "code",
   "execution_count": 9,
   "id": "4326e1a5",
   "metadata": {
    "scrolled": true
   },
   "outputs": [
    {
     "data": {
      "text/plain": [
       "169"
      ]
     },
     "execution_count": 9,
     "metadata": {},
     "output_type": "execute_result"
    }
   ],
   "source": [
    "((9*7)+(14*7))\n",
    "\n",
    "13**2\n"
   ]
  },
  {
   "cell_type": "markdown",
   "id": "731dd04d",
   "metadata": {},
   "source": [
    "logerror min is -0.122292 and max is .138162\n",
    "\n",
    "Bathrooms bins (1,..., 4.5)\n",
    "bedrooms bins (1,..., 5)\n",
    "tot_sqft min is 152 and max is 3858\n",
    "units can be dropped now\n",
    "year assessed can be dropped\n",
    "<!-- zoning can be dropped ...maybe not... but maybe, theres 1030 types of zoning -->\n",
    "land use type can be dropped now\n",
    "city id needs to be categorized\n",
    "county id can be dropped in favor fo fips--> rename to county\n",
    "fix the one zip code and change to categorical\n",
    "129 different years... keep numerical?\n",
    "tract_and_block should have the fips removed to make more sense"
   ]
  },
  {
   "cell_type": "markdown",
   "id": "b961737a",
   "metadata": {},
   "source": [
    "logerror min is -0.122292 and max is .138162\n",
    "\n",
    "Bathrooms bins (1,..., 4.5)\n",
    "bedrooms bins (1,..., 5)\n",
    "tot_sqft min is 152 and max is 3858\n",
    "units can be dropped now\n",
    "year assessed can be dropped\n",
    "<!-- zoning can be dropped ...maybe not... but maybe, theres 1030 types of zoning -->\n",
    "land use type can be dropped now\n",
    "city id needs to be categorized\n",
    "county id can be dropped in favor fo fips--> rename to county\n",
    "fix the one zip code and change to categorical\n",
    "129 different years... keep numerical?\n",
    "tract_and_block should have the fips removed to make more sense"
   ]
  },
  {
   "cell_type": "code",
   "execution_count": null,
   "id": "d3cd12d9",
   "metadata": {},
   "outputs": [],
   "source": []
  },
  {
   "cell_type": "code",
   "execution_count": null,
   "id": "d7b422f7",
   "metadata": {},
   "outputs": [],
   "source": [
    "df.fips = df.fips.astype(object)\n",
    "    df.fips = df.fips.map({6037.0: 'Los Angeles County',\n",
    "                6059.0: 'Orange County',\n",
    "                6111.0: 'Ventura County'\n",
    "               })\n",
    "    df.yr_built = df.yr_built.astype(object)"
   ]
  }
 ],
 "metadata": {
  "kernelspec": {
   "display_name": "Python 3 (ipykernel)",
   "language": "python",
   "name": "python3"
  },
  "language_info": {
   "codemirror_mode": {
    "name": "ipython",
    "version": 3
   },
   "file_extension": ".py",
   "mimetype": "text/x-python",
   "name": "python",
   "nbconvert_exporter": "python",
   "pygments_lexer": "ipython3",
   "version": "3.9.12"
  }
 },
 "nbformat": 4,
 "nbformat_minor": 5
}
