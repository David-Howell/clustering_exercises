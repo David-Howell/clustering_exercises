{
 "cells": [
  {
   "cell_type": "code",
   "execution_count": 1,
   "id": "b91f036c",
   "metadata": {},
   "outputs": [],
   "source": [
    "from wrangle import bold, strike, underline"
   ]
  },
  {
   "cell_type": "code",
   "execution_count": null,
   "id": "166c8c40",
   "metadata": {},
   "outputs": [],
   "source": []
  },
  {
   "cell_type": "code",
   "execution_count": 2,
   "id": "74d1eed4",
   "metadata": {},
   "outputs": [
    {
     "name": "stdout",
     "output_type": "stream",
     "text": [
      "If I did this right, we can get \u001b[1mbold\u001b[0m letters in a print statement...\n"
     ]
    }
   ],
   "source": [
    "this = \"the statement\"\n",
    "\n",
    "print(f\"If I did this right, we can get {bold('bold')} letters in a print statement...\")"
   ]
  },
  {
   "cell_type": "code",
   "execution_count": 3,
   "id": "f7791004",
   "metadata": {},
   "outputs": [
    {
     "name": "stdout",
     "output_type": "stream",
     "text": [
      "If I did this right, we can get \u001b[1mb̲o̲l̲d̲ ̲a̲n̲d̲ ̲u̲n̲d̲e̲r̲l̲i̲n̲e̲d̲\u001b[0m letters in a print statement...\n"
     ]
    }
   ],
   "source": [
    "this = \"the statement\"\n",
    "\n",
    "print(f\"If I did this right, we can get {bold(underline('bold and underlined'))} letters in a print statement...\")"
   ]
  },
  {
   "cell_type": "code",
   "execution_count": 4,
   "id": "298c40c4",
   "metadata": {},
   "outputs": [],
   "source": [
    "from pprint import pp"
   ]
  },
  {
   "cell_type": "code",
   "execution_count": 6,
   "id": "a1a950b8",
   "metadata": {},
   "outputs": [
    {
     "name": "stdout",
     "output_type": "stream",
     "text": [
      "'This is the statement'\n"
     ]
    }
   ],
   "source": [
    "pp(f'This is {this}')"
   ]
  },
  {
   "cell_type": "code",
   "execution_count": 7,
   "id": "aabe481e",
   "metadata": {},
   "outputs": [],
   "source": [
    "import numpy as np\n",
    "import pandas as pd\n",
    "from scipy import stats\n",
    "from wrangle import get_zillow, summarize"
   ]
  },
  {
   "cell_type": "code",
   "execution_count": 8,
   "id": "fc10f929",
   "metadata": {},
   "outputs": [],
   "source": [
    "df = get_zillow()"
   ]
  },
  {
   "cell_type": "code",
   "execution_count": 9,
   "id": "7c84e873",
   "metadata": {},
   "outputs": [
    {
     "data": {
      "text/html": [
       "<div>\n",
       "<style scoped>\n",
       "    .dataframe tbody tr th:only-of-type {\n",
       "        vertical-align: middle;\n",
       "    }\n",
       "\n",
       "    .dataframe tbody tr th {\n",
       "        vertical-align: top;\n",
       "    }\n",
       "\n",
       "    .dataframe thead th {\n",
       "        text-align: right;\n",
       "    }\n",
       "</style>\n",
       "<table border=\"1\" class=\"dataframe\">\n",
       "  <thead>\n",
       "    <tr style=\"text-align: right;\">\n",
       "      <th></th>\n",
       "      <th>id</th>\n",
       "      <th>parcel</th>\n",
       "      <th>logerror</th>\n",
       "      <th>trans_date</th>\n",
       "      <th>ac_type</th>\n",
       "      <th>arch_type</th>\n",
       "      <th>build_type</th>\n",
       "      <th>heat_type</th>\n",
       "      <th>land_use_type</th>\n",
       "      <th>story_type</th>\n",
       "      <th>...</th>\n",
       "      <th>num_stories</th>\n",
       "      <th>fireplace_flag</th>\n",
       "      <th>building_tax_value</th>\n",
       "      <th>tax_value</th>\n",
       "      <th>year_assesed</th>\n",
       "      <th>land_tax_value</th>\n",
       "      <th>tax_amount</th>\n",
       "      <th>tax_delinquency_flag</th>\n",
       "      <th>tax_delinquency_year</th>\n",
       "      <th>tract_and_block</th>\n",
       "    </tr>\n",
       "  </thead>\n",
       "  <tbody>\n",
       "    <tr>\n",
       "      <th>0</th>\n",
       "      <td>0</td>\n",
       "      <td>14297519</td>\n",
       "      <td>0.025595</td>\n",
       "      <td>2017-01-01</td>\n",
       "      <td>None</td>\n",
       "      <td>None</td>\n",
       "      <td>None</td>\n",
       "      <td>None</td>\n",
       "      <td>Single Family Residential</td>\n",
       "      <td>None</td>\n",
       "      <td>...</td>\n",
       "      <td>NaN</td>\n",
       "      <td>NaN</td>\n",
       "      <td>485713.0</td>\n",
       "      <td>1023282.0</td>\n",
       "      <td>2016.0</td>\n",
       "      <td>537569.0</td>\n",
       "      <td>11013.72</td>\n",
       "      <td>None</td>\n",
       "      <td>NaN</td>\n",
       "      <td>6.059063e+13</td>\n",
       "    </tr>\n",
       "    <tr>\n",
       "      <th>1</th>\n",
       "      <td>1</td>\n",
       "      <td>17052889</td>\n",
       "      <td>0.055619</td>\n",
       "      <td>2017-01-01</td>\n",
       "      <td>None</td>\n",
       "      <td>None</td>\n",
       "      <td>None</td>\n",
       "      <td>None</td>\n",
       "      <td>Single Family Residential</td>\n",
       "      <td>None</td>\n",
       "      <td>...</td>\n",
       "      <td>1.0</td>\n",
       "      <td>NaN</td>\n",
       "      <td>88000.0</td>\n",
       "      <td>464000.0</td>\n",
       "      <td>2016.0</td>\n",
       "      <td>376000.0</td>\n",
       "      <td>5672.48</td>\n",
       "      <td>None</td>\n",
       "      <td>NaN</td>\n",
       "      <td>6.111001e+13</td>\n",
       "    </tr>\n",
       "    <tr>\n",
       "      <th>2</th>\n",
       "      <td>2</td>\n",
       "      <td>14186244</td>\n",
       "      <td>0.005383</td>\n",
       "      <td>2017-01-01</td>\n",
       "      <td>None</td>\n",
       "      <td>None</td>\n",
       "      <td>None</td>\n",
       "      <td>None</td>\n",
       "      <td>Single Family Residential</td>\n",
       "      <td>None</td>\n",
       "      <td>...</td>\n",
       "      <td>1.0</td>\n",
       "      <td>NaN</td>\n",
       "      <td>85289.0</td>\n",
       "      <td>564778.0</td>\n",
       "      <td>2016.0</td>\n",
       "      <td>479489.0</td>\n",
       "      <td>6488.30</td>\n",
       "      <td>None</td>\n",
       "      <td>NaN</td>\n",
       "      <td>6.059022e+13</td>\n",
       "    </tr>\n",
       "    <tr>\n",
       "      <th>3</th>\n",
       "      <td>3</td>\n",
       "      <td>12177905</td>\n",
       "      <td>-0.103410</td>\n",
       "      <td>2017-01-01</td>\n",
       "      <td>None</td>\n",
       "      <td>None</td>\n",
       "      <td>None</td>\n",
       "      <td>Central</td>\n",
       "      <td>Single Family Residential</td>\n",
       "      <td>None</td>\n",
       "      <td>...</td>\n",
       "      <td>NaN</td>\n",
       "      <td>NaN</td>\n",
       "      <td>108918.0</td>\n",
       "      <td>145143.0</td>\n",
       "      <td>2016.0</td>\n",
       "      <td>36225.0</td>\n",
       "      <td>1777.51</td>\n",
       "      <td>None</td>\n",
       "      <td>NaN</td>\n",
       "      <td>6.037300e+13</td>\n",
       "    </tr>\n",
       "    <tr>\n",
       "      <th>4</th>\n",
       "      <td>4</td>\n",
       "      <td>10887214</td>\n",
       "      <td>0.006940</td>\n",
       "      <td>2017-01-01</td>\n",
       "      <td>Central</td>\n",
       "      <td>None</td>\n",
       "      <td>None</td>\n",
       "      <td>Central</td>\n",
       "      <td>Condominium</td>\n",
       "      <td>None</td>\n",
       "      <td>...</td>\n",
       "      <td>NaN</td>\n",
       "      <td>NaN</td>\n",
       "      <td>73681.0</td>\n",
       "      <td>119407.0</td>\n",
       "      <td>2016.0</td>\n",
       "      <td>45726.0</td>\n",
       "      <td>1533.89</td>\n",
       "      <td>None</td>\n",
       "      <td>NaN</td>\n",
       "      <td>6.037124e+13</td>\n",
       "    </tr>\n",
       "    <tr>\n",
       "      <th>...</th>\n",
       "      <td>...</td>\n",
       "      <td>...</td>\n",
       "      <td>...</td>\n",
       "      <td>...</td>\n",
       "      <td>...</td>\n",
       "      <td>...</td>\n",
       "      <td>...</td>\n",
       "      <td>...</td>\n",
       "      <td>...</td>\n",
       "      <td>...</td>\n",
       "      <td>...</td>\n",
       "      <td>...</td>\n",
       "      <td>...</td>\n",
       "      <td>...</td>\n",
       "      <td>...</td>\n",
       "      <td>...</td>\n",
       "      <td>...</td>\n",
       "      <td>...</td>\n",
       "      <td>...</td>\n",
       "      <td>...</td>\n",
       "      <td>...</td>\n",
       "    </tr>\n",
       "    <tr>\n",
       "      <th>76707</th>\n",
       "      <td>77608</td>\n",
       "      <td>10833991</td>\n",
       "      <td>-0.002245</td>\n",
       "      <td>2017-09-20</td>\n",
       "      <td>Central</td>\n",
       "      <td>None</td>\n",
       "      <td>None</td>\n",
       "      <td>Central</td>\n",
       "      <td>Condominium</td>\n",
       "      <td>None</td>\n",
       "      <td>...</td>\n",
       "      <td>NaN</td>\n",
       "      <td>NaN</td>\n",
       "      <td>265000.0</td>\n",
       "      <td>379000.0</td>\n",
       "      <td>2016.0</td>\n",
       "      <td>114000.0</td>\n",
       "      <td>4685.34</td>\n",
       "      <td>None</td>\n",
       "      <td>NaN</td>\n",
       "      <td>6.037132e+13</td>\n",
       "    </tr>\n",
       "    <tr>\n",
       "      <th>76708</th>\n",
       "      <td>77609</td>\n",
       "      <td>11000655</td>\n",
       "      <td>0.020615</td>\n",
       "      <td>2017-09-20</td>\n",
       "      <td>None</td>\n",
       "      <td>None</td>\n",
       "      <td>None</td>\n",
       "      <td>Central</td>\n",
       "      <td>Single Family Residential</td>\n",
       "      <td>None</td>\n",
       "      <td>...</td>\n",
       "      <td>NaN</td>\n",
       "      <td>NaN</td>\n",
       "      <td>70917.0</td>\n",
       "      <td>354621.0</td>\n",
       "      <td>2016.0</td>\n",
       "      <td>283704.0</td>\n",
       "      <td>4478.43</td>\n",
       "      <td>None</td>\n",
       "      <td>NaN</td>\n",
       "      <td>6.037101e+13</td>\n",
       "    </tr>\n",
       "    <tr>\n",
       "      <th>76709</th>\n",
       "      <td>77610</td>\n",
       "      <td>17239384</td>\n",
       "      <td>0.013209</td>\n",
       "      <td>2017-09-21</td>\n",
       "      <td>None</td>\n",
       "      <td>None</td>\n",
       "      <td>None</td>\n",
       "      <td>None</td>\n",
       "      <td>Single Family Residential</td>\n",
       "      <td>None</td>\n",
       "      <td>...</td>\n",
       "      <td>1.0</td>\n",
       "      <td>NaN</td>\n",
       "      <td>50683.0</td>\n",
       "      <td>67205.0</td>\n",
       "      <td>2016.0</td>\n",
       "      <td>16522.0</td>\n",
       "      <td>1107.48</td>\n",
       "      <td>None</td>\n",
       "      <td>NaN</td>\n",
       "      <td>6.111008e+13</td>\n",
       "    </tr>\n",
       "    <tr>\n",
       "      <th>76710</th>\n",
       "      <td>77611</td>\n",
       "      <td>12773139</td>\n",
       "      <td>0.037129</td>\n",
       "      <td>2017-09-21</td>\n",
       "      <td>Central</td>\n",
       "      <td>None</td>\n",
       "      <td>None</td>\n",
       "      <td>Central</td>\n",
       "      <td>Single Family Residential</td>\n",
       "      <td>None</td>\n",
       "      <td>...</td>\n",
       "      <td>NaN</td>\n",
       "      <td>NaN</td>\n",
       "      <td>32797.0</td>\n",
       "      <td>49546.0</td>\n",
       "      <td>2016.0</td>\n",
       "      <td>16749.0</td>\n",
       "      <td>876.43</td>\n",
       "      <td>None</td>\n",
       "      <td>NaN</td>\n",
       "      <td>6.037434e+13</td>\n",
       "    </tr>\n",
       "    <tr>\n",
       "      <th>76711</th>\n",
       "      <td>77612</td>\n",
       "      <td>12826780</td>\n",
       "      <td>0.007204</td>\n",
       "      <td>2017-09-25</td>\n",
       "      <td>None</td>\n",
       "      <td>None</td>\n",
       "      <td>None</td>\n",
       "      <td>Central</td>\n",
       "      <td>Single Family Residential</td>\n",
       "      <td>None</td>\n",
       "      <td>...</td>\n",
       "      <td>NaN</td>\n",
       "      <td>NaN</td>\n",
       "      <td>140000.0</td>\n",
       "      <td>522000.0</td>\n",
       "      <td>2016.0</td>\n",
       "      <td>382000.0</td>\n",
       "      <td>6317.15</td>\n",
       "      <td>None</td>\n",
       "      <td>NaN</td>\n",
       "      <td>6.037503e+13</td>\n",
       "    </tr>\n",
       "  </tbody>\n",
       "</table>\n",
       "<p>76521 rows × 62 columns</p>\n",
       "</div>"
      ],
      "text/plain": [
       "          id    parcel  logerror trans_date  ac_type arch_type build_type  \\\n",
       "0          0  14297519  0.025595 2017-01-01     None      None       None   \n",
       "1          1  17052889  0.055619 2017-01-01     None      None       None   \n",
       "2          2  14186244  0.005383 2017-01-01     None      None       None   \n",
       "3          3  12177905 -0.103410 2017-01-01     None      None       None   \n",
       "4          4  10887214  0.006940 2017-01-01  Central      None       None   \n",
       "...      ...       ...       ...        ...      ...       ...        ...   \n",
       "76707  77608  10833991 -0.002245 2017-09-20  Central      None       None   \n",
       "76708  77609  11000655  0.020615 2017-09-20     None      None       None   \n",
       "76709  77610  17239384  0.013209 2017-09-21     None      None       None   \n",
       "76710  77611  12773139  0.037129 2017-09-21  Central      None       None   \n",
       "76711  77612  12826780  0.007204 2017-09-25     None      None       None   \n",
       "\n",
       "      heat_type              land_use_type story_type  ... num_stories  \\\n",
       "0          None  Single Family Residential       None  ...         NaN   \n",
       "1          None  Single Family Residential       None  ...         1.0   \n",
       "2          None  Single Family Residential       None  ...         1.0   \n",
       "3       Central  Single Family Residential       None  ...         NaN   \n",
       "4       Central                Condominium       None  ...         NaN   \n",
       "...         ...                        ...        ...  ...         ...   \n",
       "76707   Central                Condominium       None  ...         NaN   \n",
       "76708   Central  Single Family Residential       None  ...         NaN   \n",
       "76709      None  Single Family Residential       None  ...         1.0   \n",
       "76710   Central  Single Family Residential       None  ...         NaN   \n",
       "76711   Central  Single Family Residential       None  ...         NaN   \n",
       "\n",
       "       fireplace_flag  building_tax_value  tax_value  year_assesed  \\\n",
       "0                 NaN            485713.0  1023282.0        2016.0   \n",
       "1                 NaN             88000.0   464000.0        2016.0   \n",
       "2                 NaN             85289.0   564778.0        2016.0   \n",
       "3                 NaN            108918.0   145143.0        2016.0   \n",
       "4                 NaN             73681.0   119407.0        2016.0   \n",
       "...               ...                 ...        ...           ...   \n",
       "76707             NaN            265000.0   379000.0        2016.0   \n",
       "76708             NaN             70917.0   354621.0        2016.0   \n",
       "76709             NaN             50683.0    67205.0        2016.0   \n",
       "76710             NaN             32797.0    49546.0        2016.0   \n",
       "76711             NaN            140000.0   522000.0        2016.0   \n",
       "\n",
       "       land_tax_value  tax_amount  tax_delinquency_flag  tax_delinquency_year  \\\n",
       "0            537569.0    11013.72                  None                   NaN   \n",
       "1            376000.0     5672.48                  None                   NaN   \n",
       "2            479489.0     6488.30                  None                   NaN   \n",
       "3             36225.0     1777.51                  None                   NaN   \n",
       "4             45726.0     1533.89                  None                   NaN   \n",
       "...               ...         ...                   ...                   ...   \n",
       "76707        114000.0     4685.34                  None                   NaN   \n",
       "76708        283704.0     4478.43                  None                   NaN   \n",
       "76709         16522.0     1107.48                  None                   NaN   \n",
       "76710         16749.0      876.43                  None                   NaN   \n",
       "76711        382000.0     6317.15                  None                   NaN   \n",
       "\n",
       "       tract_and_block  \n",
       "0         6.059063e+13  \n",
       "1         6.111001e+13  \n",
       "2         6.059022e+13  \n",
       "3         6.037300e+13  \n",
       "4         6.037124e+13  \n",
       "...                ...  \n",
       "76707     6.037132e+13  \n",
       "76708     6.037101e+13  \n",
       "76709     6.111008e+13  \n",
       "76710     6.037434e+13  \n",
       "76711     6.037503e+13  \n",
       "\n",
       "[76521 rows x 62 columns]"
      ]
     },
     "execution_count": 9,
     "metadata": {},
     "output_type": "execute_result"
    }
   ],
   "source": [
    "df"
   ]
  },
  {
   "cell_type": "code",
   "execution_count": 12,
   "id": "824235e1",
   "metadata": {},
   "outputs": [
    {
     "name": "stdout",
     "output_type": "stream",
     "text": [
      "|    |   id |   parcel |    logerror | trans_date          | ac_type   | arch_type   | build_type   | heat_type   | land_use_type             | story_type   | construction_type   |   basementsqft |   bathrooms |   bedrooms |   quality_type |   calc_bath_n_bed |   deck_type |   floor_1_sqft |   tot_sqft |   sqft_12 |   sqft_13 |   sqft_15 |   sqft_50 |   sqft_6 | fips               |   fireplaces |   full_baths |   garages |   garage_sqft |   hot_tub |         lat |          lon |   lot_sqft |   pools |   pool_sqft |   pool_id10 |   pool_id2 |   pool_id7 | county_landuse   | zoning     |   raw_tract_and_block |   city_id |   county_id |   neighborhood |   zip_code |   num_rooms |   stories_type |   three_quarter_baths |   units |   yard_sqft_17 |   yard_sqft_26 |   year_built |   num_stories |   fireplace_flag |   building_tax_value |        tax_value |   year_assesed |   land_tax_value |   tax_amount | tax_delinquency_flag   |   tax_delinquency_year |   tract_and_block |\n",
      "|---:|-----:|---------:|------------:|:--------------------|:----------|:------------|:-------------|:------------|:--------------------------|:-------------|:--------------------|---------------:|------------:|-----------:|---------------:|------------------:|------------:|---------------:|-----------:|----------:|----------:|----------:|----------:|---------:|:-------------------|-------------:|-------------:|----------:|--------------:|----------:|------------:|-------------:|-----------:|--------:|------------:|------------:|-----------:|-----------:|:-----------------|:-----------|----------------------:|----------:|------------:|---------------:|-----------:|------------:|---------------:|----------------------:|--------:|---------------:|---------------:|-------------:|--------------:|-----------------:|---------------------:|-----------------:|---------------:|-----------------:|-------------:|:-----------------------|-----------------------:|------------------:|\n",
      "|  0 |    0 | 14297519 |  0.0255949  | 2017-01-01 00:00:00 |           |             |              |             | Single Family Residential |              |                     |            nan |         3.5 |          4 |            nan |               3.5 |         nan |            nan |       3100 |      3100 |       nan |       nan |       nan |      nan | Orange County      |          nan |            3 |         2 |           633 |       nan | 3.36349e+07 | -1.17869e+08 |       4506 |     nan |         nan |         nan |        nan |        nan | 122              |            |           6.05906e+07 |     53571 |        1286 |            nan |      96978 |           0 |            nan |                     1 |     nan |            nan |            nan |         1998 |           nan |              nan |               485713 |      1.02328e+06 |           2016 |           537569 |     11013.7  |                        |                    nan |       6.05906e+13 |\n",
      "|  1 |    1 | 17052889 |  0.0556191  | 2017-01-01 00:00:00 |           |             |              |             | Single Family Residential |              |                     |            nan |         1   |          2 |            nan |               1   |         nan |           1465 |       1465 |      1465 |       nan |       nan |      1465 |      nan | Ventura County     |            1 |            1 |         1 |             0 |       nan | 3.44493e+07 | -1.19282e+08 |      12647 |     nan |         nan |         nan |        nan |        nan | 1110             |            |           6.111e+07   |     13091 |        2061 |            nan |      97099 |           5 |            nan |                   nan |     nan |            nan |            nan |         1967 |             1 |              nan |                88000 | 464000           |           2016 |           376000 |      5672.48 |                        |                    nan |       6.111e+13   |\n",
      "|  2 |    2 | 14186244 |  0.00538285 | 2017-01-01 00:00:00 |           |             |              |             | Single Family Residential |              |                     |            nan |         2   |          3 |            nan |               2   |         nan |            nan |       1243 |      1243 |       nan |       nan |       nan |      nan | Orange County      |          nan |            2 |         2 |           440 |       nan | 3.38862e+07 | -1.17823e+08 |       8432 |       1 |         nan |         nan |        nan |          1 | 122              |            |           6.05902e+07 |     21412 |        1286 |            nan |      97078 |           6 |            nan |                   nan |     nan |            nan |            nan |         1962 |             1 |              nan |                85289 | 564778           |           2016 |           479489 |      6488.3  |                        |                    nan |       6.05902e+13 |\n",
      "|  3 |    3 | 12177905 | -0.10341    | 2017-01-01 00:00:00 |           |             |              | Central     | Single Family Residential |              |                     |            nan |         3   |          4 |              8 |               3   |         nan |            nan |       2376 |      2376 |       nan |       nan |       nan |      nan | Los Angeles County |          nan |            3 |       nan |           nan |       nan | 3.42452e+07 | -1.18241e+08 |      13038 |       1 |         nan |         nan |        nan |          1 | 0101             | LCR110000* |           6.0373e+07  |    396551 |        3101 |            nan |      96330 |           0 |            nan |                   nan |       1 |            nan |            nan |         1970 |           nan |              nan |               108918 | 145143           |           2016 |            36225 |      1777.51 |                        |                    nan |       6.0373e+13  |\n",
      "|  4 |    4 | 10887214 |  0.00694036 | 2017-01-01 00:00:00 | Central   |             |              | Central     | Condominium               |              |                     |            nan |         3   |          3 |              8 |               3   |         nan |            nan |       1312 |      1312 |       nan |       nan |       nan |      nan | Los Angeles County |          nan |            3 |       nan |           nan |       nan | 3.41851e+07 | -1.18415e+08 |     278581 |       1 |         nan |         nan |        nan |          1 | 010C             | LAR3       |           6.03712e+07 |     12447 |        3101 |         268548 |      96451 |           0 |            nan |                   nan |       1 |            nan |            nan |         1964 |           nan |              nan |                73681 | 119407           |           2016 |            45726 |      1533.89 |                        |                    nan |       6.03712e+13 |\n"
     ]
    }
   ],
   "source": [
    "print(df.head().to_markdown())"
   ]
  },
  {
   "cell_type": "markdown",
   "id": "4b314a2d",
   "metadata": {},
   "source": [
    "|    |   id |   parcel |    logerror | trans_date          | ac_type   | arch_type   | build_type   | heat_type   | land_use_type             | story_type   | construction_type   |   basementsqft |   bathrooms |   bedrooms |   quality_type |   calc_bath_n_bed |   deck_type |   floor_1_sqft |   tot_sqft |   sqft_12 |   sqft_13 |   sqft_15 |   sqft_50 |   sqft_6 | fips               |   fireplaces |   full_baths |   garages |   garage_sqft |   hot_tub |         lat |          lon |   lot_sqft |   pools |   pool_sqft |   pool_id10 |   pool_id2 |   pool_id7 | county_landuse   | zoning     |   raw_tract_and_block |   city_id |   county_id |   neighborhood |   zip_code |   num_rooms |   stories_type |   three_quarter_baths |   units |   yard_sqft_17 |   yard_sqft_26 |   year_built |   num_stories |   fireplace_flag |   building_tax_value |        tax_value |   year_assesed |   land_tax_value |   tax_amount | tax_delinquency_flag   |   tax_delinquency_year |   tract_and_block |\n",
    "|---:|-----:|---------:|------------:|:--------------------|:----------|:------------|:-------------|:------------|:--------------------------|:-------------|:--------------------|---------------:|------------:|-----------:|---------------:|------------------:|------------:|---------------:|-----------:|----------:|----------:|----------:|----------:|---------:|:-------------------|-------------:|-------------:|----------:|--------------:|----------:|------------:|-------------:|-----------:|--------:|------------:|------------:|-----------:|-----------:|:-----------------|:-----------|----------------------:|----------:|------------:|---------------:|-----------:|------------:|---------------:|----------------------:|--------:|---------------:|---------------:|-------------:|--------------:|-----------------:|---------------------:|-----------------:|---------------:|-----------------:|-------------:|:-----------------------|-----------------------:|------------------:|\n",
    "|  0 |    0 | 14297519 |  0.0255949  | 2017-01-01 00:00:00 |           |             |              |             | Single Family Residential |              |                     |            nan |         3.5 |          4 |            nan |               3.5 |         nan |            nan |       3100 |      3100 |       nan |       nan |       nan |      nan | Orange County      |          nan |            3 |         2 |           633 |       nan | 3.36349e+07 | -1.17869e+08 |       4506 |     nan |         nan |         nan |        nan |        nan | 122              |            |           6.05906e+07 |     53571 |        1286 |            nan |      96978 |           0 |            nan |                     1 |     nan |            nan |            nan |         1998 |           nan |              nan |               485713 |      1.02328e+06 |           2016 |           537569 |     11013.7  |                        |                    nan |       6.05906e+13 |\n",
    "|  1 |    1 | 17052889 |  0.0556191  | 2017-01-01 00:00:00 |           |             |              |             | Single Family Residential |              |                     |            nan |         1   |          2 |            nan |               1   |         nan |           1465 |       1465 |      1465 |       nan |       nan |      1465 |      nan | Ventura County     |            1 |            1 |         1 |             0 |       nan | 3.44493e+07 | -1.19282e+08 |      12647 |     nan |         nan |         nan |        nan |        nan | 1110             |            |           6.111e+07   |     13091 |        2061 |            nan |      97099 |           5 |            nan |                   nan |     nan |            nan |            nan |         1967 |             1 |              nan |                88000 | 464000           |           2016 |           376000 |      5672.48 |                        |                    nan |       6.111e+13   |\n",
    "|  2 |    2 | 14186244 |  0.00538285 | 2017-01-01 00:00:00 |           |             |              |             | Single Family Residential |              |                     |            nan |         2   |          3 |            nan |               2   |         nan |            nan |       1243 |      1243 |       nan |       nan |       nan |      nan | Orange County      |          nan |            2 |         2 |           440 |       nan | 3.38862e+07 | -1.17823e+08 |       8432 |       1 |         nan |         nan |        nan |          1 | 122              |            |           6.05902e+07 |     21412 |        1286 |            nan |      97078 |           6 |            nan |                   nan |     nan |            nan |            nan |         1962 |             1 |              nan |                85289 | 564778           |           2016 |           479489 |      6488.3  |                        |                    nan |       6.05902e+13 |\n",
    "|  3 |    3 | 12177905 | -0.10341    | 2017-01-01 00:00:00 |           |             |              | Central     | Single Family Residential |              |                     |            nan |         3   |          4 |              8 |               3   |         nan |            nan |       2376 |      2376 |       nan |       nan |       nan |      nan | Los Angeles County |          nan |            3 |       nan |           nan |       nan | 3.42452e+07 | -1.18241e+08 |      13038 |       1 |         nan |         nan |        nan |          1 | 0101             | LCR110000* |           6.0373e+07  |    396551 |        3101 |            nan |      96330 |           0 |            nan |                   nan |       1 |            nan |            nan |         1970 |           nan |              nan |               108918 | 145143           |           2016 |            36225 |      1777.51 |                        |                    nan |       6.0373e+13  |\n",
    "|  4 |    4 | 10887214 |  0.00694036 | 2017-01-01 00:00:00 | Central   |             |              | Central     | Condominium               |              |                     |            nan |         3   |          3 |              8 |               3   |         nan |            nan |       1312 |      1312 |       nan |       nan |       nan |      nan | Los Angeles County |          nan |            3 |       nan |           nan |       nan | 3.41851e+07 | -1.18415e+08 |     278581 |       1 |         nan |         nan |        nan |          1 | 010C             | LAR3       |           6.03712e+07 |     12447 |        3101 |         268548 |      96451 |           0 |            nan |                   nan |       1 |            nan |            nan |         1964 |           nan |              nan |                73681 | 119407           |           2016 |            45726 |      1533.89 |                        |                    nan |       6.03712e+13 |"
   ]
  },
  {
   "cell_type": "code",
   "execution_count": 11,
   "id": "643df755",
   "metadata": {
    "scrolled": true
   },
   "outputs": [
    {
     "name": "stdout",
     "output_type": "stream",
     "text": [
      "   id    parcel  logerror trans_date  ac_type arch_type build_type heat_type  \\\n",
      "0   0  14297519  0.025595 2017-01-01     None      None       None      None   \n",
      "1   1  17052889  0.055619 2017-01-01     None      None       None      None   \n",
      "2   2  14186244  0.005383 2017-01-01     None      None       None      None   \n",
      "3   3  12177905 -0.103410 2017-01-01     None      None       None   Central   \n",
      "4   4  10887214  0.006940 2017-01-01  Central      None       None   Central   \n",
      "\n",
      "               land_use_type story_type  ... num_stories  fireplace_flag  \\\n",
      "0  Single Family Residential       None  ...         NaN             NaN   \n",
      "1  Single Family Residential       None  ...         1.0             NaN   \n",
      "2  Single Family Residential       None  ...         1.0             NaN   \n",
      "3  Single Family Residential       None  ...         NaN             NaN   \n",
      "4                Condominium       None  ...         NaN             NaN   \n",
      "\n",
      "   building_tax_value  tax_value  year_assesed  land_tax_value  tax_amount  \\\n",
      "0            485713.0  1023282.0        2016.0        537569.0    11013.72   \n",
      "1             88000.0   464000.0        2016.0        376000.0     5672.48   \n",
      "2             85289.0   564778.0        2016.0        479489.0     6488.30   \n",
      "3            108918.0   145143.0        2016.0         36225.0     1777.51   \n",
      "4             73681.0   119407.0        2016.0         45726.0     1533.89   \n",
      "\n",
      "   tax_delinquency_flag  tax_delinquency_year  tract_and_block  \n",
      "0                  None                   NaN     6.059063e+13  \n",
      "1                  None                   NaN     6.111001e+13  \n",
      "2                  None                   NaN     6.059022e+13  \n",
      "3                  None                   NaN     6.037300e+13  \n",
      "4                  None                   NaN     6.037124e+13  \n",
      "\n",
      "[5 rows x 62 columns]\n"
     ]
    }
   ],
   "source": [
    "pp(df.head())"
   ]
  },
  {
   "cell_type": "code",
   "execution_count": 15,
   "id": "d9b0e712",
   "metadata": {},
   "outputs": [
    {
     "data": {
      "text/markdown": [
       "*some markdown* $\\phi$"
      ],
      "text/plain": [
       "<IPython.core.display.Markdown object>"
      ]
     },
     "metadata": {},
     "output_type": "display_data"
    }
   ],
   "source": [
    "from IPython.display import display, Markdown, Latex\n",
    "display(Markdown('*some markdown* $\\phi$'))"
   ]
  },
  {
   "cell_type": "code",
   "execution_count": 17,
   "id": "ce0a1912",
   "metadata": {},
   "outputs": [
    {
     "data": {
      "text/latex": [
       "$\\phi$"
      ],
      "text/plain": [
       "<IPython.core.display.Latex object>"
      ]
     },
     "metadata": {},
     "output_type": "display_data"
    }
   ],
   "source": [
    "# If you particularly want to display maths, this is more direct:\n",
    "display(Latex('$\\phi$'))"
   ]
  },
  {
   "cell_type": "code",
   "execution_count": 21,
   "id": "2b9bcc7f",
   "metadata": {},
   "outputs": [
    {
     "data": {
      "text/markdown": [
       "|    |   id |   parcel |    logerror | trans_date          | ac_type   | arch_type   | build_type   | heat_type   | land_use_type             | story_type   | construction_type   |   basementsqft |   bathrooms |   bedrooms |   quality_type |   calc_bath_n_bed |   deck_type |   floor_1_sqft |   tot_sqft |   sqft_12 |   sqft_13 |   sqft_15 |   sqft_50 |   sqft_6 | fips               |   fireplaces |   full_baths |   garages |   garage_sqft |   hot_tub |         lat |          lon |   lot_sqft |   pools |   pool_sqft |   pool_id10 |   pool_id2 |   pool_id7 | county_landuse   | zoning     |   raw_tract_and_block |   city_id |   county_id |   neighborhood |   zip_code |   num_rooms |   stories_type |   three_quarter_baths |   units |   yard_sqft_17 |   yard_sqft_26 |   year_built |   num_stories |   fireplace_flag |   building_tax_value |        tax_value |   year_assesed |   land_tax_value |   tax_amount | tax_delinquency_flag   |   tax_delinquency_year |   tract_and_block |\n",
       "|---:|-----:|---------:|------------:|:--------------------|:----------|:------------|:-------------|:------------|:--------------------------|:-------------|:--------------------|---------------:|------------:|-----------:|---------------:|------------------:|------------:|---------------:|-----------:|----------:|----------:|----------:|----------:|---------:|:-------------------|-------------:|-------------:|----------:|--------------:|----------:|------------:|-------------:|-----------:|--------:|------------:|------------:|-----------:|-----------:|:-----------------|:-----------|----------------------:|----------:|------------:|---------------:|-----------:|------------:|---------------:|----------------------:|--------:|---------------:|---------------:|-------------:|--------------:|-----------------:|---------------------:|-----------------:|---------------:|-----------------:|-------------:|:-----------------------|-----------------------:|------------------:|\n",
       "|  0 |    0 | 14297519 |  0.0255949  | 2017-01-01 00:00:00 |           |             |              |             | Single Family Residential |              |                     |            nan |         3.5 |          4 |            nan |               3.5 |         nan |            nan |       3100 |      3100 |       nan |       nan |       nan |      nan | Orange County      |          nan |            3 |         2 |           633 |       nan | 3.36349e+07 | -1.17869e+08 |       4506 |     nan |         nan |         nan |        nan |        nan | 122              |            |           6.05906e+07 |     53571 |        1286 |            nan |      96978 |           0 |            nan |                     1 |     nan |            nan |            nan |         1998 |           nan |              nan |               485713 |      1.02328e+06 |           2016 |           537569 |     11013.7  |                        |                    nan |       6.05906e+13 |\n",
       "|  1 |    1 | 17052889 |  0.0556191  | 2017-01-01 00:00:00 |           |             |              |             | Single Family Residential |              |                     |            nan |         1   |          2 |            nan |               1   |         nan |           1465 |       1465 |      1465 |       nan |       nan |      1465 |      nan | Ventura County     |            1 |            1 |         1 |             0 |       nan | 3.44493e+07 | -1.19282e+08 |      12647 |     nan |         nan |         nan |        nan |        nan | 1110             |            |           6.111e+07   |     13091 |        2061 |            nan |      97099 |           5 |            nan |                   nan |     nan |            nan |            nan |         1967 |             1 |              nan |                88000 | 464000           |           2016 |           376000 |      5672.48 |                        |                    nan |       6.111e+13   |\n",
       "|  2 |    2 | 14186244 |  0.00538285 | 2017-01-01 00:00:00 |           |             |              |             | Single Family Residential |              |                     |            nan |         2   |          3 |            nan |               2   |         nan |            nan |       1243 |      1243 |       nan |       nan |       nan |      nan | Orange County      |          nan |            2 |         2 |           440 |       nan | 3.38862e+07 | -1.17823e+08 |       8432 |       1 |         nan |         nan |        nan |          1 | 122              |            |           6.05902e+07 |     21412 |        1286 |            nan |      97078 |           6 |            nan |                   nan |     nan |            nan |            nan |         1962 |             1 |              nan |                85289 | 564778           |           2016 |           479489 |      6488.3  |                        |                    nan |       6.05902e+13 |\n",
       "|  3 |    3 | 12177905 | -0.10341    | 2017-01-01 00:00:00 |           |             |              | Central     | Single Family Residential |              |                     |            nan |         3   |          4 |              8 |               3   |         nan |            nan |       2376 |      2376 |       nan |       nan |       nan |      nan | Los Angeles County |          nan |            3 |       nan |           nan |       nan | 3.42452e+07 | -1.18241e+08 |      13038 |       1 |         nan |         nan |        nan |          1 | 0101             | LCR110000* |           6.0373e+07  |    396551 |        3101 |            nan |      96330 |           0 |            nan |                   nan |       1 |            nan |            nan |         1970 |           nan |              nan |               108918 | 145143           |           2016 |            36225 |      1777.51 |                        |                    nan |       6.0373e+13  |\n",
       "|  4 |    4 | 10887214 |  0.00694036 | 2017-01-01 00:00:00 | Central   |             |              | Central     | Condominium               |              |                     |            nan |         3   |          3 |              8 |               3   |         nan |            nan |       1312 |      1312 |       nan |       nan |       nan |      nan | Los Angeles County |          nan |            3 |       nan |           nan |       nan | 3.41851e+07 | -1.18415e+08 |     278581 |       1 |         nan |         nan |        nan |          1 | 010C             | LAR3       |           6.03712e+07 |     12447 |        3101 |         268548 |      96451 |           0 |            nan |                   nan |       1 |            nan |            nan |         1964 |           nan |              nan |                73681 | 119407           |           2016 |            45726 |      1533.89 |                        |                    nan |       6.03712e+13 |"
      ],
      "text/plain": [
       "<IPython.core.display.Markdown object>"
      ]
     },
     "metadata": {},
     "output_type": "display_data"
    }
   ],
   "source": [
    "\n",
    "display(Markdown(f'{df.head().to_markdown()}'))"
   ]
  },
  {
   "cell_type": "markdown",
   "id": "c0285451",
   "metadata": {},
   "source": [
    "'   id    parcel  logerror trans_date  ac_type arch_type build_type heat_type  \\\\\\n0   0  14297519  0.025595 2017-01-01     None      None       None      None   \\n1   1  17052889  0.055619 2017-01-01     None      None       None      None   \\n2   2  14186244  0.005383 2017-01-01     None      None       None      None   \\n3   3  12177905 -0.103410 2017-01-01     None      None       None   Central   \\n4   4  10887214  0.006940 2017-01-01  Central      None       None   Central   \\n\\n               land_use_type story_type  ... num_stories  fireplace_flag  \\\\\\n0  Single Family Residential       None  ...         NaN             NaN   \\n1  Single Family Residential       None  ...         1.0             NaN   \\n2  Single Family Residential       None  ...         1.0             NaN   \\n3  Single Family Residential       None  ...         NaN             NaN   \\n4                Condominium       None  ...         NaN             NaN   \\n\\n   building_tax_value  tax_value  year_assesed  land_tax_value  tax_amount  \\\\\\n0            485713.0  1023282.0        2016.0        537569.0    11013.72   \\n1             88000.0   464000.0        2016.0        376000.0     5672.48   \\n2             85289.0   564778.0        2016.0        479489.0     6488.30   \\n3            108918.0   145143.0        2016.0         36225.0     1777.51   \\n4             73681.0   119407.0        2016.0         45726.0     1533.89   \\n\\n   tax_delinquency_flag  tax_delinquency_year  tract_and_block  \\n0                  None                   NaN     6.059063e+13  \\n1                  None                   NaN     6.111001e+13  \\n2                  None                   NaN     6.059022e+13  \\n3                  None                   NaN     6.037300e+13  \\n4                  None                   NaN     6.037124e+13  \\n\\n[5 rows x 62 columns]'"
   ]
  },
  {
   "cell_type": "code",
   "execution_count": 74,
   "id": "91a85bac",
   "metadata": {},
   "outputs": [],
   "source": [
    "def summarize(df, cat_cols= None, too_long= 50, show_all= False, q= 10):\n",
    "    '''\n",
    "    Takes in a DataFrame and provides a summary of whats going on\n",
    "\n",
    "    Parameters:\n",
    "    ------------\n",
    "    a Dataframe :\n",
    "    \n",
    "    cat_cols= None  : if you have them, otherwise they will be taken from object column types\n",
    "    \n",
    "    show_all= False :  if set to true:\n",
    "                       it will print out the longest of the \n",
    "                       long markdown dataframes...BEWARE\n",
    "    \n",
    "    too_long= 50    : how many rows are too many rows in column.value_counts()??\n",
    "    \n",
    "    q = 10          : how many quartiles should numerical data be divided into?\n",
    "\n",
    "    no return: just prints the:\n",
    "    --------------\n",
    "    df.head()\n",
    "    df.info()\n",
    "    df.describe()\n",
    "    \n",
    "    Null Values:\n",
    "        By Column:\n",
    "        By Row:\n",
    "\n",
    "    df[each_separate_column].value_counts()\n",
    "        Note: The object variables are not binned, the numerical variables are\n",
    "        v1.1 -- Now you can control how much is displayed in long Markdown\n",
    "    '''\n",
    "#     print('test')\n",
    "    display(Markdown(\n",
    "    f'''\n",
    "    DataFrame .head():\n",
    "    -----------------\n",
    "{df.head().to_markdown()}\n",
    "    \n",
    "    DataFrame .info():\n",
    "    -----------------\\n'''))\n",
    "    print(df.info())\n",
    "    display(Markdown(f'''\\n    \n",
    "    DataFrame .describe():\n",
    "    -----------------\n",
    "{df.describe().to_markdown()}\n",
    "    \n",
    "    Null Value Assessments:\n",
    "    -----------------\n",
    "        \n",
    "        Nulls By Column:\n",
    "{nulls_by_col(df).to_markdown()}\n",
    "    -----------------\n",
    "        \n",
    "        Nulls By Row:\n",
    "{nulls_by_row(df).to_markdown()}\n",
    "    \n",
    "    DataFrame .value_counts():\n",
    "    -----------------\n",
    "    \n",
    "    '''))\n",
    "    column_value_counts(df= df,\n",
    "                        cat_cols= cat_cols, \n",
    "                        too_long= too_long, \n",
    "                        show_all= show_all, \n",
    "                        q=q\n",
    "                       )                    \n",
    "                    "
   ]
  },
  {
   "cell_type": "code",
   "execution_count": 75,
   "id": "c21033a1",
   "metadata": {},
   "outputs": [],
   "source": [
    "def column_value_counts(df, cat_cols=None, too_long=50, show_all=False, q= 10):\n",
    "    \n",
    "    if cat_cols == None:\n",
    "        num_cols = [col for col in df.columns if df[col].dtype != 'O']\n",
    "        cat_cols = [col for col in df.columns if col not in num_cols]\n",
    "\n",
    "    for col in df.columns:\n",
    "        \n",
    "        print('Column Name: ', col,'\\n--------------')\n",
    "        \n",
    "        if col in cat_cols:\n",
    "            print_this = df[col].value_counts(dropna=False)\n",
    "            \n",
    "            print('Categorical:\\n - ', len(print_this), 'Categories')\n",
    "            \n",
    "            if (len(print_this) < too_long) | (show_all == True):\n",
    "                \n",
    "                display(Markdown(print_this.to_markdown()))\n",
    "            \n",
    "            else:\n",
    "                print('\\n',print_this)\n",
    "            \n",
    "            print('\\n\\n-------------')\n",
    "        else: \n",
    "            print_this = df[col].value_counts(bins= q, sort=False, dropna=False)\n",
    "            \n",
    "            print('Numerical: Divided by Quartile\\n - ', len(print_this), 'bins')\n",
    "            \n",
    "            if (len(print_this) < too_long) | (show_all == True):\n",
    "                \n",
    "                display(Markdown(print_this.to_markdown()))\n",
    "            \n",
    "            else:\n",
    "                print(print_this)\n",
    "                \n",
    "            print('\\n\\n-------------')\n",
    "    print('-----------------\\n---End of Line---')"
   ]
  },
  {
   "cell_type": "code",
   "execution_count": 71,
   "id": "b4107990",
   "metadata": {
    "scrolled": true
   },
   "outputs": [
    {
     "name": "stdout",
     "output_type": "stream",
     "text": [
      "Column Name:  id \n",
      "--------------\n",
      "Numerical: Divided by Quartile\n",
      " -  10 bins\n"
     ]
    },
    {
     "data": {
      "text/markdown": [
       "|                    |   id |\n",
       "|:-------------------|-----:|\n",
       "| (-77.613, 7761.2]  | 7640 |\n",
       "| (7761.2, 15522.4]  | 7626 |\n",
       "| (15522.4, 23283.6] | 7632 |\n",
       "| (23283.6, 31044.8] | 7642 |\n",
       "| (31044.8, 38806.0] | 7636 |\n",
       "| (38806.0, 46567.2] | 7661 |\n",
       "| (46567.2, 54328.4] | 7673 |\n",
       "| (54328.4, 62089.6] | 7671 |\n",
       "| (62089.6, 69850.8] | 7673 |\n",
       "| (69850.8, 77612.0] | 7667 |"
      ],
      "text/plain": [
       "<IPython.core.display.Markdown object>"
      ]
     },
     "metadata": {},
     "output_type": "display_data"
    },
    {
     "name": "stdout",
     "output_type": "stream",
     "text": [
      "\n",
      "\n",
      "-------------\n",
      "Column Name:  parcel \n",
      "--------------\n",
      "Numerical: Divided by Quartile\n",
      " -  10 bins\n"
     ]
    },
    {
     "data": {
      "text/markdown": [
       "|                            |   parcel |\n",
       "|:---------------------------|---------:|\n",
       "| (10554878.322, 26409522.7] |    76494 |\n",
       "| (26409522.7, 42107190.4]   |        0 |\n",
       "| (42107190.4, 57804858.1]   |        0 |\n",
       "| (57804858.1, 73502525.8]   |        0 |\n",
       "| (73502525.8, 89200193.5]   |        1 |\n",
       "| (89200193.5, 104897861.2]  |        1 |\n",
       "| (104897861.2, 120595528.9] |        0 |\n",
       "| (120595528.9, 136293196.6] |        0 |\n",
       "| (136293196.6, 151990864.3] |        0 |\n",
       "| (151990864.3, 167688532.0] |       25 |"
      ],
      "text/plain": [
       "<IPython.core.display.Markdown object>"
      ]
     },
     "metadata": {},
     "output_type": "display_data"
    },
    {
     "name": "stdout",
     "output_type": "stream",
     "text": [
      "\n",
      "\n",
      "-------------\n",
      "Column Name:  logerror \n",
      "--------------\n",
      "Numerical: Divided by Quartile\n",
      " -  10 bins\n"
     ]
    },
    {
     "data": {
      "text/markdown": [
       "|                  |   logerror |\n",
       "|:-----------------|-----------:|\n",
       "| (-4.666, -3.664] |          3 |\n",
       "| (-3.664, -2.672] |          1 |\n",
       "| (-2.672, -1.68]  |         36 |\n",
       "| (-1.68, -0.688]  |        135 |\n",
       "| (-0.688, 0.304]  |      74544 |\n",
       "| (0.304, 1.296]   |       1637 |\n",
       "| (1.296, 2.287]   |         95 |\n",
       "| (2.287, 3.279]   |         68 |\n",
       "| (3.279, 4.271]   |          1 |\n",
       "| (4.271, 5.263]   |          1 |"
      ],
      "text/plain": [
       "<IPython.core.display.Markdown object>"
      ]
     },
     "metadata": {},
     "output_type": "display_data"
    },
    {
     "name": "stdout",
     "output_type": "stream",
     "text": [
      "\n",
      "\n",
      "-------------\n",
      "Column Name:  trans_date \n",
      "--------------\n",
      "Numerical: Divided by Quartile\n",
      " -  10 bins\n"
     ]
    },
    {
     "data": {
      "text/markdown": [
       "|                                                      |   trans_date |\n",
       "|:-----------------------------------------------------|-------------:|\n",
       "| (2016-12-31 17:35:31.199999999, 2017-01-27 16:48:00] |         6049 |\n",
       "| (2017-01-27 16:48:00, 2017-02-23 09:36:00]           |         5772 |\n",
       "| (2017-02-23 09:36:00, 2017-03-22 02:24:00]           |         7140 |\n",
       "| (2017-03-22 02:24:00, 2017-04-17 19:12:00]           |         7717 |\n",
       "| (2017-04-17 19:12:00, 2017-05-14 12:00:00]           |         8637 |\n",
       "| (2017-05-14 12:00:00, 2017-06-10 04:48:00]           |         9211 |\n",
       "| (2017-06-10 04:48:00, 2017-07-06 21:36:00]           |         9200 |\n",
       "| (2017-07-06 21:36:00, 2017-08-02 14:24:00]           |         8679 |\n",
       "| (2017-08-02 14:24:00, 2017-08-29 07:12:00]           |         8063 |\n",
       "| (2017-08-29 07:12:00, 2017-09-25]                    |         6053 |"
      ],
      "text/plain": [
       "<IPython.core.display.Markdown object>"
      ]
     },
     "metadata": {},
     "output_type": "display_data"
    },
    {
     "name": "stdout",
     "output_type": "stream",
     "text": [
      "\n",
      "\n",
      "-------------\n",
      "Column Name:  ac_type \n",
      "--------------\n",
      "Categorical:\n",
      " -  6 Categories\n"
     ]
    },
    {
     "data": {
      "text/markdown": [
       "|               |   ac_type |\n",
       "|:--------------|----------:|\n",
       "|               |     51738 |\n",
       "| Central       |     22969 |\n",
       "| Yes           |      1568 |\n",
       "| None          |       167 |\n",
       "| Wall Unit     |        53 |\n",
       "| Refrigeration |        26 |"
      ],
      "text/plain": [
       "<IPython.core.display.Markdown object>"
      ]
     },
     "metadata": {},
     "output_type": "display_data"
    },
    {
     "name": "stdout",
     "output_type": "stream",
     "text": [
      "\n",
      "\n",
      "-------------\n",
      "Column Name:  arch_type \n",
      "--------------\n",
      "Categorical:\n",
      " -  6 Categories\n"
     ]
    },
    {
     "data": {
      "text/markdown": [
       "|               |   arch_type |\n",
       "|:--------------|------------:|\n",
       "|               |       76315 |\n",
       "| Contemporary  |         172 |\n",
       "| Conventional  |          19 |\n",
       "| Ranch/Rambler |           7 |\n",
       "| Bungalow      |           5 |\n",
       "| Cape Cod      |           3 |"
      ],
      "text/plain": [
       "<IPython.core.display.Markdown object>"
      ]
     },
     "metadata": {},
     "output_type": "display_data"
    },
    {
     "name": "stdout",
     "output_type": "stream",
     "text": [
      "\n",
      "\n",
      "-------------\n",
      "Column Name:  build_type \n",
      "--------------\n",
      "Categorical:\n",
      " -  1 Categories\n"
     ]
    },
    {
     "data": {
      "text/markdown": [
       "|    |   build_type |\n",
       "|:---|-------------:|\n",
       "|    |        76521 |"
      ],
      "text/plain": [
       "<IPython.core.display.Markdown object>"
      ]
     },
     "metadata": {},
     "output_type": "display_data"
    },
    {
     "name": "stdout",
     "output_type": "stream",
     "text": [
      "\n",
      "\n",
      "-------------\n",
      "Column Name:  heat_type \n",
      "--------------\n",
      "Categorical:\n",
      " -  11 Categories\n"
     ]
    },
    {
     "data": {
      "text/markdown": [
       "|            |   heat_type |\n",
       "|:-----------|------------:|\n",
       "| Central    |       33353 |\n",
       "|            |       27336 |\n",
       "| Floor/Wall |       14008 |\n",
       "| Yes        |         846 |\n",
       "| Forced air |         775 |\n",
       "| Solar      |         104 |\n",
       "| None       |          59 |\n",
       "| Radiant    |          23 |\n",
       "| Baseboard  |          13 |\n",
       "| Gravity    |           3 |\n",
       "| Heat Pump  |           1 |"
      ],
      "text/plain": [
       "<IPython.core.display.Markdown object>"
      ]
     },
     "metadata": {},
     "output_type": "display_data"
    },
    {
     "name": "stdout",
     "output_type": "stream",
     "text": [
      "\n",
      "\n",
      "-------------\n",
      "Column Name:  land_use_type \n",
      "--------------\n",
      "Categorical:\n",
      " -  12 Categories\n"
     ]
    },
    {
     "data": {
      "text/markdown": [
       "|                                            |   land_use_type |\n",
       "|:-------------------------------------------|----------------:|\n",
       "| Single Family Residential                  |           52160 |\n",
       "| Condominium                                |           19006 |\n",
       "| Planned Unit Development                   |            1940 |\n",
       "| Duplex (2 Units, Any Combination)          |            1843 |\n",
       "| Quadruplex (4 Units, Any Combination)      |             615 |\n",
       "| Triplex (3 Units, Any Combination)         |             485 |\n",
       "| Cluster Home                               |             333 |\n",
       "| Mobile Home                                |              59 |\n",
       "| Manufactured, Modular, Prefabricated Homes |              35 |\n",
       "| Cooperative                                |              29 |\n",
       "| Residential General                        |              10 |\n",
       "| Townhouse                                  |               6 |"
      ],
      "text/plain": [
       "<IPython.core.display.Markdown object>"
      ]
     },
     "metadata": {},
     "output_type": "display_data"
    },
    {
     "name": "stdout",
     "output_type": "stream",
     "text": [
      "\n",
      "\n",
      "-------------\n",
      "Column Name:  story_type \n",
      "--------------\n",
      "Categorical:\n",
      " -  2 Categories\n"
     ]
    },
    {
     "data": {
      "text/markdown": [
       "|          |   story_type |\n",
       "|:---------|-------------:|\n",
       "|          |        76471 |\n",
       "| Basement |           50 |"
      ],
      "text/plain": [
       "<IPython.core.display.Markdown object>"
      ]
     },
     "metadata": {},
     "output_type": "display_data"
    },
    {
     "name": "stdout",
     "output_type": "stream",
     "text": [
      "\n",
      "\n",
      "-------------\n",
      "Column Name:  construction_type \n",
      "--------------\n",
      "Categorical:\n",
      " -  5 Categories\n"
     ]
    },
    {
     "data": {
      "text/markdown": [
       "|          |   construction_type |\n",
       "|:---------|--------------------:|\n",
       "|          |               76299 |\n",
       "| Frame    |                 219 |\n",
       "| Masonry  |                   1 |\n",
       "| Metal    |                   1 |\n",
       "| Concrete |                   1 |"
      ],
      "text/plain": [
       "<IPython.core.display.Markdown object>"
      ]
     },
     "metadata": {},
     "output_type": "display_data"
    },
    {
     "name": "stdout",
     "output_type": "stream",
     "text": [
      "\n",
      "\n",
      "-------------\n",
      "Column Name:  basementsqft \n",
      "--------------\n",
      "Numerical: Divided by Quartile\n",
      " -  10 bins\n"
     ]
    },
    {
     "data": {
      "text/markdown": [
       "|                             |   basementsqft |\n",
       "|:----------------------------|---------------:|\n",
       "| (34.477000000000004, 390.2] |             20 |\n",
       "| (390.2, 742.4]              |             16 |\n",
       "| (742.4, 1094.6]             |              7 |\n",
       "| (1094.6, 1446.8]            |              3 |\n",
       "| (1446.8, 1799.0]            |              0 |\n",
       "| (1799.0, 2151.2]            |              2 |\n",
       "| (2151.2, 2503.4]            |              0 |\n",
       "| (2503.4, 2855.6]            |              0 |\n",
       "| (2855.6, 3207.8]            |              1 |\n",
       "| (3207.8, 3560.0]            |              1 |"
      ],
      "text/plain": [
       "<IPython.core.display.Markdown object>"
      ]
     },
     "metadata": {},
     "output_type": "display_data"
    },
    {
     "name": "stdout",
     "output_type": "stream",
     "text": [
      "\n",
      "\n",
      "-------------\n",
      "Column Name:  bathrooms \n",
      "--------------\n",
      "Numerical: Divided by Quartile\n",
      " -  10 bins\n"
     ]
    },
    {
     "data": {
      "text/markdown": [
       "|              |   bathrooms |\n",
       "|:-------------|------------:|\n",
       "| (0.982, 2.7] |       52153 |\n",
       "| (2.7, 4.4]   |       21686 |\n",
       "| (4.4, 6.1]   |        2360 |\n",
       "| (6.1, 7.8]   |         176 |\n",
       "| (7.8, 9.5]   |         134 |\n",
       "| (9.5, 11.2]  |          10 |\n",
       "| (11.2, 12.9] |           0 |\n",
       "| (12.9, 14.6] |           1 |\n",
       "| (14.6, 16.3] |           0 |\n",
       "| (16.3, 18.0] |           1 |"
      ],
      "text/plain": [
       "<IPython.core.display.Markdown object>"
      ]
     },
     "metadata": {},
     "output_type": "display_data"
    },
    {
     "name": "stdout",
     "output_type": "stream",
     "text": [
      "\n",
      "\n",
      "-------------\n",
      "Column Name:  bedrooms \n",
      "--------------\n",
      "Numerical: Divided by Quartile\n",
      " -  10 bins\n"
     ]
    },
    {
     "data": {
      "text/markdown": [
       "|              |   bedrooms |\n",
       "|:-------------|-----------:|\n",
       "| (0.984, 2.5] |      22534 |\n",
       "| (2.5, 4.0]   |      47860 |\n",
       "| (4.0, 5.5]   |       4542 |\n",
       "| (5.5, 7.0]   |       1206 |\n",
       "| (7.0, 8.5]   |        252 |\n",
       "| (8.5, 10.0]  |        101 |\n",
       "| (10.0, 11.5] |          8 |\n",
       "| (11.5, 13.0] |         16 |\n",
       "| (13.0, 14.5] |          1 |\n",
       "| (14.5, 16.0] |          1 |"
      ],
      "text/plain": [
       "<IPython.core.display.Markdown object>"
      ]
     },
     "metadata": {},
     "output_type": "display_data"
    },
    {
     "name": "stdout",
     "output_type": "stream",
     "text": [
      "\n",
      "\n",
      "-------------\n",
      "Column Name:  quality_type \n",
      "--------------\n",
      "Numerical: Divided by Quartile\n",
      " -  10 bins\n"
     ]
    },
    {
     "data": {
      "text/markdown": [
       "|              |   quality_type |\n",
       "|:-------------|---------------:|\n",
       "| (0.988, 2.1] |             32 |\n",
       "| (2.1, 3.2]   |            322 |\n",
       "| (3.2, 4.3]   |           9443 |\n",
       "| (4.3, 5.4]   |           2071 |\n",
       "| (5.4, 6.5]   |          13421 |\n",
       "| (6.5, 7.6]   |           5923 |\n",
       "| (7.6, 8.7]   |          14582 |\n",
       "| (8.7, 9.8]   |           2277 |\n",
       "| (9.8, 10.9]  |            308 |\n",
       "| (10.9, 12.0] |           1043 |"
      ],
      "text/plain": [
       "<IPython.core.display.Markdown object>"
      ]
     },
     "metadata": {},
     "output_type": "display_data"
    },
    {
     "name": "stdout",
     "output_type": "stream",
     "text": [
      "\n",
      "\n",
      "-------------\n",
      "Column Name:  calc_bath_n_bed \n",
      "--------------\n",
      "Numerical: Divided by Quartile\n",
      " -  10 bins\n"
     ]
    },
    {
     "data": {
      "text/markdown": [
       "|              |   calc_bath_n_bed |\n",
       "|:-------------|------------------:|\n",
       "| (0.982, 2.7] |             52138 |\n",
       "| (2.7, 4.4]   |             21686 |\n",
       "| (4.4, 6.1]   |              2359 |\n",
       "| (6.1, 7.8]   |               176 |\n",
       "| (7.8, 9.5]   |               134 |\n",
       "| (9.5, 11.2]  |                10 |\n",
       "| (11.2, 12.9] |                 0 |\n",
       "| (12.9, 14.6] |                 1 |\n",
       "| (14.6, 16.3] |                 0 |\n",
       "| (16.3, 18.0] |                 1 |"
      ],
      "text/plain": [
       "<IPython.core.display.Markdown object>"
      ]
     },
     "metadata": {},
     "output_type": "display_data"
    },
    {
     "name": "stdout",
     "output_type": "stream",
     "text": [
      "\n",
      "\n",
      "-------------\n",
      "Column Name:  deck_type \n",
      "--------------\n",
      "Numerical: Divided by Quartile\n",
      " -  10 bins\n"
     ]
    },
    {
     "data": {
      "text/markdown": [
       "|                             |   deck_type |\n",
       "|:----------------------------|------------:|\n",
       "| (65.93299999999999, 65.947] |           0 |\n",
       "| (65.947, 65.96]             |           0 |\n",
       "| (65.96, 65.974]             |           0 |\n",
       "| (65.974, 65.987]            |           0 |\n",
       "| (65.987, 66.0]              |         612 |\n",
       "| (66.0, 66.013]              |           0 |\n",
       "| (66.013, 66.026]            |           0 |\n",
       "| (66.026, 66.04]             |           0 |\n",
       "| (66.04, 66.053]             |           0 |\n",
       "| (66.053, 66.066]            |           0 |"
      ],
      "text/plain": [
       "<IPython.core.display.Markdown object>"
      ]
     },
     "metadata": {},
     "output_type": "display_data"
    },
    {
     "name": "stdout",
     "output_type": "stream",
     "text": [
      "\n",
      "\n",
      "-------------\n",
      "Column Name:  floor_1_sqft \n",
      "--------------\n",
      "Numerical: Divided by Quartile\n",
      " -  10 bins\n"
     ]
    },
    {
     "data": {
      "text/markdown": [
       "|                  |   floor_1_sqft |\n",
       "|:-----------------|---------------:|\n",
       "| (37.131, 730.8]  |            701 |\n",
       "| (730.8, 1417.6]  |           3019 |\n",
       "| (1417.6, 2104.4] |           1730 |\n",
       "| (2104.4, 2791.2] |            335 |\n",
       "| (2791.2, 3478.0] |            132 |\n",
       "| (3478.0, 4164.8] |             42 |\n",
       "| (4164.8, 4851.6] |             25 |\n",
       "| (4851.6, 5538.4] |             12 |\n",
       "| (5538.4, 6225.2] |              6 |\n",
       "| (6225.2, 6912.0] |              4 |"
      ],
      "text/plain": [
       "<IPython.core.display.Markdown object>"
      ]
     },
     "metadata": {},
     "output_type": "display_data"
    },
    {
     "name": "stdout",
     "output_type": "stream",
     "text": [
      "\n",
      "\n",
      "-------------\n",
      "Column Name:  tot_sqft \n",
      "--------------\n",
      "Numerical: Divided by Quartile\n",
      " -  10 bins\n"
     ]
    },
    {
     "data": {
      "text/markdown": [
       "|                    |   tot_sqft |\n",
       "|:-------------------|-----------:|\n",
       "| (130.222, 2329.7]  |      61531 |\n",
       "| (2329.7, 4507.4]   |      13630 |\n",
       "| (4507.4, 6685.1]   |       1132 |\n",
       "| (6685.1, 8862.8]   |        165 |\n",
       "| (8862.8, 11040.5]  |         44 |\n",
       "| (11040.5, 13218.2] |         12 |\n",
       "| (13218.2, 15395.9] |          2 |\n",
       "| (15395.9, 17573.6] |          2 |\n",
       "| (17573.6, 19751.3] |          1 |\n",
       "| (19751.3, 21929.0] |          2 |"
      ],
      "text/plain": [
       "<IPython.core.display.Markdown object>"
      ]
     },
     "metadata": {},
     "output_type": "display_data"
    },
    {
     "name": "stdout",
     "output_type": "stream",
     "text": [
      "\n",
      "\n",
      "-------------\n",
      "Column Name:  sqft_12 \n",
      "--------------\n",
      "Numerical: Divided by Quartile\n",
      " -  10 bins\n"
     ]
    },
    {
     "data": {
      "text/markdown": [
       "|                    |   sqft_12 |\n",
       "|:-------------------|----------:|\n",
       "| (130.222, 2329.7]  |     59610 |\n",
       "| (2329.7, 4507.4]   |     12521 |\n",
       "| (4507.4, 6685.1]   |      1037 |\n",
       "| (6685.1, 8862.8]   |       159 |\n",
       "| (8862.8, 11040.5]  |        44 |\n",
       "| (11040.5, 13218.2] |        12 |\n",
       "| (13218.2, 15395.9] |         2 |\n",
       "| (15395.9, 17573.6] |         2 |\n",
       "| (17573.6, 19751.3] |         1 |\n",
       "| (19751.3, 21929.0] |         2 |"
      ],
      "text/plain": [
       "<IPython.core.display.Markdown object>"
      ]
     },
     "metadata": {},
     "output_type": "display_data"
    },
    {
     "name": "stdout",
     "output_type": "stream",
     "text": [
      "\n",
      "\n",
      "-------------\n",
      "Column Name:  sqft_13 \n",
      "--------------\n",
      "Numerical: Divided by Quartile\n",
      " -  10 bins\n"
     ]
    },
    {
     "data": {
      "text/markdown": [
       "|                              |   sqft_13 |\n",
       "|:-----------------------------|----------:|\n",
       "| (1055.4950000000001, 1106.4] |         1 |\n",
       "| (1106.4, 1156.8]             |         2 |\n",
       "| (1156.8, 1207.2]             |         1 |\n",
       "| (1207.2, 1257.6]             |         2 |\n",
       "| (1257.6, 1308.0]             |         0 |\n",
       "| (1308.0, 1358.4]             |         4 |\n",
       "| (1358.4, 1408.8]             |         2 |\n",
       "| (1408.8, 1459.2]             |         9 |\n",
       "| (1459.2, 1509.6]             |         2 |\n",
       "| (1509.6, 1560.0]             |         3 |"
      ],
      "text/plain": [
       "<IPython.core.display.Markdown object>"
      ]
     },
     "metadata": {},
     "output_type": "display_data"
    },
    {
     "name": "stdout",
     "output_type": "stream",
     "text": [
      "\n",
      "\n",
      "-------------\n",
      "Column Name:  sqft_15 \n",
      "--------------\n",
      "Numerical: Divided by Quartile\n",
      " -  10 bins\n"
     ]
    },
    {
     "data": {
      "text/markdown": [
       "|                   |   sqft_15 |\n",
       "|:------------------|----------:|\n",
       "| (590.607, 1337.2] |       253 |\n",
       "| (1337.2, 2076.4]  |      1182 |\n",
       "| (2076.4, 2815.6]  |       740 |\n",
       "| (2815.6, 3554.8]  |       377 |\n",
       "| (3554.8, 4294.0]  |       232 |\n",
       "| (4294.0, 5033.2]  |       100 |\n",
       "| (5033.2, 5772.4]  |        32 |\n",
       "| (5772.4, 6511.6]  |         5 |\n",
       "| (6511.6, 7250.8]  |         4 |\n",
       "| (7250.8, 7990.0]  |         2 |"
      ],
      "text/plain": [
       "<IPython.core.display.Markdown object>"
      ]
     },
     "metadata": {},
     "output_type": "display_data"
    },
    {
     "name": "stdout",
     "output_type": "stream",
     "text": [
      "\n",
      "\n",
      "-------------\n",
      "Column Name:  sqft_50 \n",
      "--------------\n",
      "Numerical: Divided by Quartile\n",
      " -  10 bins\n"
     ]
    },
    {
     "data": {
      "text/markdown": [
       "|                    |   sqft_50 |\n",
       "|:-------------------|----------:|\n",
       "| (31.576, 1286.3]   |      3132 |\n",
       "| (1286.3, 2528.6]   |      2548 |\n",
       "| (2528.6, 3770.9]   |       237 |\n",
       "| (3770.9, 5013.2]   |        61 |\n",
       "| (5013.2, 6255.5]   |        17 |\n",
       "| (6255.5, 7497.8]   |         7 |\n",
       "| (7497.8, 8740.1]   |         2 |\n",
       "| (8740.1, 9982.4]   |         1 |\n",
       "| (9982.4, 11224.7]  |         0 |\n",
       "| (11224.7, 12467.0] |         1 |"
      ],
      "text/plain": [
       "<IPython.core.display.Markdown object>"
      ]
     },
     "metadata": {},
     "output_type": "display_data"
    },
    {
     "name": "stdout",
     "output_type": "stream",
     "text": [
      "\n",
      "\n",
      "-------------\n",
      "Column Name:  sqft_6 \n",
      "--------------\n",
      "Numerical: Divided by Quartile\n",
      " -  10 bins\n"
     ]
    },
    {
     "data": {
      "text/markdown": [
       "|                  |   sqft_6 |\n",
       "|:-----------------|---------:|\n",
       "| (374.781, 901.8] |       61 |\n",
       "| (901.8, 1423.6]  |       80 |\n",
       "| (1423.6, 1945.4] |       15 |\n",
       "| (1945.4, 2467.2] |        8 |\n",
       "| (2467.2, 2989.0] |        4 |\n",
       "| (2989.0, 3510.8] |        3 |\n",
       "| (3510.8, 4032.6] |        3 |\n",
       "| (4032.6, 4554.4] |        3 |\n",
       "| (4554.4, 5076.2] |        0 |\n",
       "| (5076.2, 5598.0] |        1 |"
      ],
      "text/plain": [
       "<IPython.core.display.Markdown object>"
      ]
     },
     "metadata": {},
     "output_type": "display_data"
    },
    {
     "name": "stdout",
     "output_type": "stream",
     "text": [
      "\n",
      "\n",
      "-------------\n",
      "Column Name:  fips \n",
      "--------------\n",
      "Categorical:\n",
      " -  3 Categories\n"
     ]
    },
    {
     "data": {
      "text/markdown": [
       "|                    |   fips |\n",
       "|:-------------------|-------:|\n",
       "| Los Angeles County |  50135 |\n",
       "| Orange County      |  20276 |\n",
       "| Ventura County     |   6110 |"
      ],
      "text/plain": [
       "<IPython.core.display.Markdown object>"
      ]
     },
     "metadata": {},
     "output_type": "display_data"
    },
    {
     "name": "stdout",
     "output_type": "stream",
     "text": [
      "\n",
      "\n",
      "-------------\n",
      "Column Name:  fireplaces \n",
      "--------------\n",
      "Numerical: Divided by Quartile\n",
      " -  10 bins\n"
     ]
    },
    {
     "data": {
      "text/markdown": [
       "|              |   fireplaces |\n",
       "|:-------------|-------------:|\n",
       "| (0.995, 1.4] |         6990 |\n",
       "| (1.4, 1.8]   |            0 |\n",
       "| (1.8, 2.2]   |          988 |\n",
       "| (2.2, 2.6]   |            0 |\n",
       "| (2.6, 3.0]   |          232 |\n",
       "| (3.0, 3.4]   |            0 |\n",
       "| (3.4, 3.8]   |            0 |\n",
       "| (3.8, 4.2]   |           34 |\n",
       "| (4.2, 4.6]   |            0 |\n",
       "| (4.6, 5.0]   |            3 |"
      ],
      "text/plain": [
       "<IPython.core.display.Markdown object>"
      ]
     },
     "metadata": {},
     "output_type": "display_data"
    },
    {
     "name": "stdout",
     "output_type": "stream",
     "text": [
      "\n",
      "\n",
      "-------------\n",
      "Column Name:  full_baths \n",
      "--------------\n",
      "Numerical: Divided by Quartile\n",
      " -  10 bins\n"
     ]
    },
    {
     "data": {
      "text/markdown": [
       "|              |   full_baths |\n",
       "|:-------------|-------------:|\n",
       "| (0.982, 2.7] |        52155 |\n",
       "| (2.7, 4.4]   |        22385 |\n",
       "| (4.4, 6.1]   |         1698 |\n",
       "| (6.1, 7.8]   |          121 |\n",
       "| (7.8, 9.5]   |          134 |\n",
       "| (9.5, 11.2]  |           10 |\n",
       "| (11.2, 12.9] |            0 |\n",
       "| (12.9, 14.6] |            1 |\n",
       "| (14.6, 16.3] |            0 |\n",
       "| (16.3, 18.0] |            1 |"
      ],
      "text/plain": [
       "<IPython.core.display.Markdown object>"
      ]
     },
     "metadata": {},
     "output_type": "display_data"
    },
    {
     "name": "stdout",
     "output_type": "stream",
     "text": [
      "\n",
      "\n",
      "-------------\n",
      "Column Name:  garages \n",
      "--------------\n",
      "Numerical: Divided by Quartile\n",
      " -  10 bins\n"
     ]
    },
    {
     "data": {
      "text/markdown": [
       "|               |   garages |\n",
       "|:--------------|----------:|\n",
       "| (-0.015, 1.4] |      5736 |\n",
       "| (1.4, 2.8]    |     18593 |\n",
       "| (2.8, 4.2]    |       885 |\n",
       "| (4.2, 5.6]    |        45 |\n",
       "| (5.6, 7.0]    |        18 |\n",
       "| (7.0, 8.4]    |         2 |\n",
       "| (8.4, 9.8]    |         2 |\n",
       "| (9.8, 11.2]   |         4 |\n",
       "| (11.2, 12.6]  |         0 |\n",
       "| (12.6, 14.0]  |         2 |"
      ],
      "text/plain": [
       "<IPython.core.display.Markdown object>"
      ]
     },
     "metadata": {},
     "output_type": "display_data"
    },
    {
     "name": "stdout",
     "output_type": "stream",
     "text": [
      "\n",
      "\n",
      "-------------\n",
      "Column Name:  garage_sqft \n",
      "--------------\n",
      "Numerical: Divided by Quartile\n",
      " -  10 bins\n"
     ]
    },
    {
     "data": {
      "text/markdown": [
       "|                             |   garage_sqft |\n",
       "|:----------------------------|--------------:|\n",
       "| (-4.252000000000001, 425.1] |         11763 |\n",
       "| (425.1, 850.2]              |         13148 |\n",
       "| (850.2, 1275.3]             |           322 |\n",
       "| (1275.3, 1700.4]            |            38 |\n",
       "| (1700.4, 2125.5]            |             6 |\n",
       "| (2125.5, 2550.6]            |             2 |\n",
       "| (2550.6, 2975.7]            |             4 |\n",
       "| (2975.7, 3400.8]            |             2 |\n",
       "| (3400.8, 3825.9]            |             1 |\n",
       "| (3825.9, 4251.0]            |             1 |"
      ],
      "text/plain": [
       "<IPython.core.display.Markdown object>"
      ]
     },
     "metadata": {},
     "output_type": "display_data"
    },
    {
     "name": "stdout",
     "output_type": "stream",
     "text": [
      "\n",
      "\n",
      "-------------\n",
      "Column Name:  hot_tub \n",
      "--------------\n",
      "Numerical: Divided by Quartile\n",
      " -  10 bins\n"
     ]
    },
    {
     "data": {
      "text/markdown": [
       "|                  |   hot_tub |\n",
       "|:-----------------|----------:|\n",
       "| (0.9989, 0.9992] |         0 |\n",
       "| (0.9992, 0.9994] |         0 |\n",
       "| (0.9994, 0.9996] |         0 |\n",
       "| (0.9996, 0.9998] |         0 |\n",
       "| (0.9998, 1.0]    |      1538 |\n",
       "| (1.0, 1.0002]    |         0 |\n",
       "| (1.0002, 1.0004] |         0 |\n",
       "| (1.0004, 1.0006] |         0 |\n",
       "| (1.0006, 1.0008] |         0 |\n",
       "| (1.0008, 1.001]  |         0 |"
      ],
      "text/plain": [
       "<IPython.core.display.Markdown object>"
      ]
     },
     "metadata": {},
     "output_type": "display_data"
    },
    {
     "name": "stdout",
     "output_type": "stream",
     "text": [
      "\n",
      "\n",
      "-------------\n",
      "Column Name:  lat \n",
      "--------------\n",
      "Numerical: Divided by Quartile\n",
      " -  10 bins\n"
     ]
    },
    {
     "data": {
      "text/markdown": [
       "|                                  |   lat |\n",
       "|:---------------------------------|------:|\n",
       "| (33338047.759000003, 33487451.0] |  1000 |\n",
       "| (33487451.0, 33635375.0]         |  5254 |\n",
       "| (33635375.0, 33783299.0]         |  9870 |\n",
       "| (33783299.0, 33931223.0]         | 14658 |\n",
       "| (33931223.0, 34079147.0]         | 14031 |\n",
       "| (34079147.0, 34227071.0]         | 18723 |\n",
       "| (34227071.0, 34374995.0]         |  6208 |\n",
       "| (34374995.0, 34522919.0]         |  3128 |\n",
       "| (34522919.0, 34670843.0]         |  2318 |\n",
       "| (34670843.0, 34818767.0]         |  1331 |"
      ],
      "text/plain": [
       "<IPython.core.display.Markdown object>"
      ]
     },
     "metadata": {},
     "output_type": "display_data"
    },
    {
     "name": "stdout",
     "output_type": "stream",
     "text": [
      "\n",
      "\n",
      "-------------\n",
      "Column Name:  lon \n",
      "--------------\n",
      "Numerical: Divided by Quartile\n",
      " -  10 bins\n"
     ]
    },
    {
     "data": {
      "text/markdown": [
       "|                                |   lon |\n",
       "|:-------------------------------|------:|\n",
       "| (-119477336.781, -119283338.0] |   211 |\n",
       "| (-119283338.0, -119091260.0]   |  1940 |\n",
       "| (-119091260.0, -118899182.0]   |  1445 |\n",
       "| (-118899182.0, -118707104.0]   |  2644 |\n",
       "| (-118707104.0, -118515026.0]   |  5911 |\n",
       "| (-118515026.0, -118322948.0]   | 15282 |\n",
       "| (-118322948.0, -118130870.0]   | 15150 |\n",
       "| (-118130870.0, -117938792.0]   | 14116 |\n",
       "| (-117938792.0, -117746714.0]   | 12500 |\n",
       "| (-117746714.0, -117554636.0]   |  7322 |"
      ],
      "text/plain": [
       "<IPython.core.display.Markdown object>"
      ]
     },
     "metadata": {},
     "output_type": "display_data"
    },
    {
     "name": "stdout",
     "output_type": "stream",
     "text": [
      "\n",
      "\n",
      "-------------\n",
      "Column Name:  lot_sqft \n",
      "--------------\n",
      "Numerical: Divided by Quartile\n",
      " -  10 bins\n"
     ]
    },
    {
     "data": {
      "text/markdown": [
       "|                                |   lot_sqft |\n",
       "|:-------------------------------|-----------:|\n",
       "| (-6734.775000000001, 697313.4] |      68112 |\n",
       "| (697313.4, 1394390.8]          |        221 |\n",
       "| (1394390.8, 2091468.2]         |         38 |\n",
       "| (2091468.2, 2788545.6]         |          2 |\n",
       "| (2788545.6, 3485623.0]         |          1 |\n",
       "| (3485623.0, 4182700.4]         |          9 |\n",
       "| (4182700.4, 4879777.8]         |          0 |\n",
       "| (4879777.8, 5576855.2]         |          0 |\n",
       "| (5576855.2, 6273932.6]         |          0 |\n",
       "| (6273932.6, 6971010.0]         |          7 |"
      ],
      "text/plain": [
       "<IPython.core.display.Markdown object>"
      ]
     },
     "metadata": {},
     "output_type": "display_data"
    },
    {
     "name": "stdout",
     "output_type": "stream",
     "text": [
      "\n",
      "\n",
      "-------------\n",
      "Column Name:  pools \n",
      "--------------\n",
      "Numerical: Divided by Quartile\n",
      " -  10 bins\n"
     ]
    },
    {
     "data": {
      "text/markdown": [
       "|                  |   pools |\n",
       "|:-----------------|--------:|\n",
       "| (0.9989, 0.9992] |       0 |\n",
       "| (0.9992, 0.9994] |       0 |\n",
       "| (0.9994, 0.9996] |       0 |\n",
       "| (0.9996, 0.9998] |       0 |\n",
       "| (0.9998, 1.0]    |   16048 |\n",
       "| (1.0, 1.0002]    |       0 |\n",
       "| (1.0002, 1.0004] |       0 |\n",
       "| (1.0004, 1.0006] |       0 |\n",
       "| (1.0006, 1.0008] |       0 |\n",
       "| (1.0008, 1.001]  |       0 |"
      ],
      "text/plain": [
       "<IPython.core.display.Markdown object>"
      ]
     },
     "metadata": {},
     "output_type": "display_data"
    },
    {
     "name": "stdout",
     "output_type": "stream",
     "text": [
      "\n",
      "\n",
      "-------------\n",
      "Column Name:  pool_sqft \n",
      "--------------\n",
      "Numerical: Divided by Quartile\n",
      " -  10 bins\n"
     ]
    },
    {
     "data": {
      "text/markdown": [
       "|                  |   pool_sqft |\n",
       "|:-----------------|------------:|\n",
       "| (22.523, 171.6]  |           6 |\n",
       "| (171.6, 319.2]   |          47 |\n",
       "| (319.2, 466.8]   |         321 |\n",
       "| (466.8, 614.4]   |         305 |\n",
       "| (614.4, 762.0]   |         121 |\n",
       "| (762.0, 909.6]   |          48 |\n",
       "| (909.6, 1057.2]  |           7 |\n",
       "| (1057.2, 1204.8] |           5 |\n",
       "| (1204.8, 1352.4] |           0 |\n",
       "| (1352.4, 1500.0] |           2 |"
      ],
      "text/plain": [
       "<IPython.core.display.Markdown object>"
      ]
     },
     "metadata": {},
     "output_type": "display_data"
    },
    {
     "name": "stdout",
     "output_type": "stream",
     "text": [
      "\n",
      "\n",
      "-------------\n",
      "Column Name:  pool_id10 \n",
      "--------------\n",
      "Numerical: Divided by Quartile\n",
      " -  10 bins\n"
     ]
    },
    {
     "data": {
      "text/markdown": [
       "|                  |   pool_id10 |\n",
       "|:-----------------|------------:|\n",
       "| (0.9989, 0.9992] |           0 |\n",
       "| (0.9992, 0.9994] |           0 |\n",
       "| (0.9994, 0.9996] |           0 |\n",
       "| (0.9996, 0.9998] |           0 |\n",
       "| (0.9998, 1.0]    |         464 |\n",
       "| (1.0, 1.0002]    |           0 |\n",
       "| (1.0002, 1.0004] |           0 |\n",
       "| (1.0004, 1.0006] |           0 |\n",
       "| (1.0006, 1.0008] |           0 |\n",
       "| (1.0008, 1.001]  |           0 |"
      ],
      "text/plain": [
       "<IPython.core.display.Markdown object>"
      ]
     },
     "metadata": {},
     "output_type": "display_data"
    },
    {
     "name": "stdout",
     "output_type": "stream",
     "text": [
      "\n",
      "\n",
      "-------------\n",
      "Column Name:  pool_id2 \n",
      "--------------\n",
      "Numerical: Divided by Quartile\n",
      " -  10 bins\n"
     ]
    },
    {
     "data": {
      "text/markdown": [
       "|                  |   pool_id2 |\n",
       "|:-----------------|-----------:|\n",
       "| (0.9989, 0.9992] |          0 |\n",
       "| (0.9992, 0.9994] |          0 |\n",
       "| (0.9994, 0.9996] |          0 |\n",
       "| (0.9996, 0.9998] |          0 |\n",
       "| (0.9998, 1.0]    |       1074 |\n",
       "| (1.0, 1.0002]    |          0 |\n",
       "| (1.0002, 1.0004] |          0 |\n",
       "| (1.0004, 1.0006] |          0 |\n",
       "| (1.0006, 1.0008] |          0 |\n",
       "| (1.0008, 1.001]  |          0 |"
      ],
      "text/plain": [
       "<IPython.core.display.Markdown object>"
      ]
     },
     "metadata": {},
     "output_type": "display_data"
    },
    {
     "name": "stdout",
     "output_type": "stream",
     "text": [
      "\n",
      "\n",
      "-------------\n",
      "Column Name:  pool_id7 \n",
      "--------------\n",
      "Numerical: Divided by Quartile\n",
      " -  10 bins\n"
     ]
    },
    {
     "data": {
      "text/markdown": [
       "|                  |   pool_id7 |\n",
       "|:-----------------|-----------:|\n",
       "| (0.9989, 0.9992] |          0 |\n",
       "| (0.9992, 0.9994] |          0 |\n",
       "| (0.9994, 0.9996] |          0 |\n",
       "| (0.9996, 0.9998] |          0 |\n",
       "| (0.9998, 1.0]    |      14953 |\n",
       "| (1.0, 1.0002]    |          0 |\n",
       "| (1.0002, 1.0004] |          0 |\n",
       "| (1.0004, 1.0006] |          0 |\n",
       "| (1.0006, 1.0008] |          0 |\n",
       "| (1.0008, 1.001]  |          0 |"
      ],
      "text/plain": [
       "<IPython.core.display.Markdown object>"
      ]
     },
     "metadata": {},
     "output_type": "display_data"
    },
    {
     "name": "stdout",
     "output_type": "stream",
     "text": [
      "\n",
      "\n",
      "-------------\n",
      "Column Name:  county_landuse \n",
      "--------------\n",
      "Categorical:\n",
      " -  61 Categories\n"
     ]
    },
    {
     "data": {
      "text/markdown": [
       "|      |   county_landuse |\n",
       "|:-----|-----------------:|\n",
       "| 0100 |            26675 |\n",
       "| 122  |            13011 |\n",
       "| 010C |             8701 |\n",
       "| 0101 |             6398 |\n",
       "| 34   |             4888 |\n",
       "| 1111 |             3347 |\n",
       "| 1    |             2353 |\n",
       "| 010D |             1940 |\n",
       "| 010E |             1933 |\n",
       "| 0200 |             1800 |\n",
       "| 1129 |             1378 |\n",
       "| 1110 |             1007 |\n",
       "| 0400 |              606 |\n",
       "| 0300 |              475 |\n",
       "| 012C |              383 |\n",
       "| 0104 |              367 |\n",
       "| 1128 |              333 |\n",
       "| 01DC |              211 |\n",
       "| 01HC |              135 |\n",
       "| 0103 |               91 |\n",
       "| 010G |               75 |\n",
       "| 0108 |               57 |\n",
       "| 010H |               57 |\n",
       "| 010M |               52 |\n",
       "| 0700 |               50 |\n",
       "| 1117 |               32 |\n",
       "| 010F |               29 |\n",
       "| 0201 |               23 |\n",
       "| 38   |               13 |\n",
       "| 010V |               10 |\n",
       "| 01HE |                9 |\n",
       "| 0109 |                8 |\n",
       "| 135  |                8 |\n",
       "| 1116 |                7 |\n",
       "| 0110 |                6 |\n",
       "| 0113 |                6 |\n",
       "| 012E |                5 |\n",
       "| 0141 |                4 |\n",
       "| 0401 |                4 |\n",
       "| 1120 |                3 |\n",
       "| 96   |                3 |\n",
       "| 0102 |                3 |\n",
       "| 0105 |                3 |\n",
       "| 1222 |                2 |\n",
       "| 0111 |                2 |\n",
       "| 0130 |                2 |\n",
       "| 070D |                2 |\n",
       "| 040G |                1 |\n",
       "| 020M |                1 |\n",
       "| 020G |                1 |\n",
       "| 030G |                1 |\n",
       "| 0203 |                1 |\n",
       "| 0114 |                1 |\n",
       "| 1112 |                1 |\n",
       "| 012D |                1 |\n",
       "| 040B |                1 |\n",
       "| 0301 |                1 |\n",
       "| 0133 |                1 |\n",
       "| 0204 |                1 |\n",
       "| 0131 |                1 |\n",
       "| 020E |                1 |"
      ],
      "text/plain": [
       "<IPython.core.display.Markdown object>"
      ]
     },
     "metadata": {},
     "output_type": "display_data"
    },
    {
     "name": "stdout",
     "output_type": "stream",
     "text": [
      "\n",
      "\n",
      "-------------\n",
      "Column Name:  zoning \n",
      "--------------\n",
      "Categorical:\n",
      " -  1894 Categories\n",
      "None         26604\n",
      "LAR1          6731\n",
      "LAR3          2409\n",
      "LARS          1389\n",
      "LBR1N         1219\n",
      "             ...  \n",
      "AHPRD10*         1\n",
      "RBR4             1\n",
      "HAC2YY           1\n",
      "LCR17500         1\n",
      "BFA15000*        1\n",
      "Name: zoning, Length: 1894, dtype: int64\n",
      "\n",
      "\n",
      "-------------\n",
      "Column Name:  raw_tract_and_block \n",
      "--------------\n",
      "Numerical: Divided by Quartile\n",
      " -  10 bins\n"
     ]
    },
    {
     "data": {
      "text/markdown": [
       "|                                    |   raw_tract_and_block |\n",
       "|:-----------------------------------|----------------------:|\n",
       "| (60370272.019999996, 60444919.091] |                 50135 |\n",
       "| (60444919.091, 60518827.081]       |                     0 |\n",
       "| (60518827.081, 60592735.071]       |                 20276 |\n",
       "| (60592735.071, 60666643.061]       |                     0 |\n",
       "| (60666643.061, 60740551.051]       |                     0 |\n",
       "| (60740551.051, 60814459.041]       |                     0 |\n",
       "| (60814459.041, 60888367.031]       |                     0 |\n",
       "| (60888367.031, 60962275.021]       |                     0 |\n",
       "| (60962275.021, 61036183.011]       |                     0 |\n",
       "| (61036183.011, 61110091.001]       |                  6110 |"
      ],
      "text/plain": [
       "<IPython.core.display.Markdown object>"
      ]
     },
     "metadata": {},
     "output_type": "display_data"
    },
    {
     "name": "stdout",
     "output_type": "stream",
     "text": [
      "\n",
      "\n",
      "-------------\n",
      "Column Name:  city_id \n",
      "--------------\n",
      "Numerical: Divided by Quartile\n",
      " -  10 bins\n"
     ]
    },
    {
     "data": {
      "text/markdown": [
       "|                               |   city_id |\n",
       "|:------------------------------|----------:|\n",
       "| (3097.9339999999997, 42797.5] |     55080 |\n",
       "| (42797.5, 82104.0]            |     17878 |\n",
       "| (82104.0, 121410.5]           |      1046 |\n",
       "| (121410.5, 160717.0]          |         0 |\n",
       "| (160717.0, 200023.5]          |         0 |\n",
       "| (200023.5, 239330.0]          |         0 |\n",
       "| (239330.0, 278636.5]          |        24 |\n",
       "| (278636.5, 317943.0]          |         0 |\n",
       "| (317943.0, 357249.5]          |         0 |\n",
       "| (357249.5, 396556.0]          |      1047 |"
      ],
      "text/plain": [
       "<IPython.core.display.Markdown object>"
      ]
     },
     "metadata": {},
     "output_type": "display_data"
    },
    {
     "name": "stdout",
     "output_type": "stream",
     "text": [
      "\n",
      "\n",
      "-------------\n",
      "Column Name:  county_id \n",
      "--------------\n",
      "Numerical: Divided by Quartile\n",
      " -  10 bins\n"
     ]
    },
    {
     "data": {
      "text/markdown": [
       "|                    |   county_id |\n",
       "|:-------------------|------------:|\n",
       "| (1284.184, 1467.5] |       20276 |\n",
       "| (1467.5, 1649.0]   |           0 |\n",
       "| (1649.0, 1830.5]   |           0 |\n",
       "| (1830.5, 2012.0]   |           0 |\n",
       "| (2012.0, 2193.5]   |        6110 |\n",
       "| (2193.5, 2375.0]   |           0 |\n",
       "| (2375.0, 2556.5]   |           0 |\n",
       "| (2556.5, 2738.0]   |           0 |\n",
       "| (2738.0, 2919.5]   |           0 |\n",
       "| (2919.5, 3101.0]   |       50135 |"
      ],
      "text/plain": [
       "<IPython.core.display.Markdown object>"
      ]
     },
     "metadata": {},
     "output_type": "display_data"
    },
    {
     "name": "stdout",
     "output_type": "stream",
     "text": [
      "\n",
      "\n",
      "-------------\n",
      "Column Name:  neighborhood \n",
      "--------------\n",
      "Numerical: Divided by Quartile\n",
      " -  10 bins\n"
     ]
    },
    {
     "data": {
      "text/markdown": [
       "|                      |   neighborhood |\n",
       "|:---------------------|---------------:|\n",
       "| (6194.784, 82673.5]  |          11481 |\n",
       "| (82673.5, 158395.0]  |           4543 |\n",
       "| (158395.0, 234116.5] |             43 |\n",
       "| (234116.5, 309838.0] |          11360 |\n",
       "| (309838.0, 385559.5] |             72 |\n",
       "| (385559.5, 461281.0] |           1898 |\n",
       "| (461281.0, 537002.5] |              0 |\n",
       "| (537002.5, 612724.0] |              0 |\n",
       "| (612724.0, 688445.5] |             66 |\n",
       "| (688445.5, 764167.0] |           1063 |"
      ],
      "text/plain": [
       "<IPython.core.display.Markdown object>"
      ]
     },
     "metadata": {},
     "output_type": "display_data"
    },
    {
     "name": "stdout",
     "output_type": "stream",
     "text": [
      "\n",
      "\n",
      "-------------\n",
      "Column Name:  zip_code \n",
      "--------------\n",
      "Numerical: Divided by Quartile\n",
      " -  10 bins\n"
     ]
    },
    {
     "data": {
      "text/markdown": [
       "|                       |   zip_code |\n",
       "|:----------------------|-----------:|\n",
       "| (95678.306, 126351.3] |      76465 |\n",
       "| (126351.3, 156720.6]  |          0 |\n",
       "| (156720.6, 187089.9]  |          0 |\n",
       "| (187089.9, 217459.2]  |          0 |\n",
       "| (217459.2, 247828.5]  |          0 |\n",
       "| (247828.5, 278197.8]  |          0 |\n",
       "| (278197.8, 308567.1]  |          0 |\n",
       "| (308567.1, 338936.4]  |          0 |\n",
       "| (338936.4, 369305.7]  |          0 |\n",
       "| (369305.7, 399675.0]  |         12 |"
      ],
      "text/plain": [
       "<IPython.core.display.Markdown object>"
      ]
     },
     "metadata": {},
     "output_type": "display_data"
    },
    {
     "name": "stdout",
     "output_type": "stream",
     "text": [
      "\n",
      "\n",
      "-------------\n",
      "Column Name:  num_rooms \n",
      "--------------\n",
      "Numerical: Divided by Quartile\n",
      " -  10 bins\n"
     ]
    },
    {
     "data": {
      "text/markdown": [
       "|               |   num_rooms |\n",
       "|:--------------|------------:|\n",
       "| (-0.016, 1.5] |       58978 |\n",
       "| (1.5, 3.0]    |         218 |\n",
       "| (3.0, 4.5]    |        1413 |\n",
       "| (4.5, 6.0]    |        7521 |\n",
       "| (6.0, 7.5]    |        3834 |\n",
       "| (7.5, 9.0]    |        4060 |\n",
       "| (9.0, 10.5]   |         339 |\n",
       "| (10.5, 12.0]  |         141 |\n",
       "| (12.0, 13.5]  |          10 |\n",
       "| (13.5, 15.0]  |           7 |"
      ],
      "text/plain": [
       "<IPython.core.display.Markdown object>"
      ]
     },
     "metadata": {},
     "output_type": "display_data"
    },
    {
     "name": "stdout",
     "output_type": "stream",
     "text": [
      "\n",
      "\n",
      "-------------\n",
      "Column Name:  stories_type \n",
      "--------------\n",
      "Numerical: Divided by Quartile\n",
      " -  10 bins\n"
     ]
    },
    {
     "data": {
      "text/markdown": [
       "|                |   stories_type |\n",
       "|:---------------|---------------:|\n",
       "| (6.992, 6.994] |              0 |\n",
       "| (6.994, 6.996] |              0 |\n",
       "| (6.996, 6.997] |              0 |\n",
       "| (6.997, 6.999] |              0 |\n",
       "| (6.999, 7.0]   |             50 |\n",
       "| (7.0, 7.001]   |              0 |\n",
       "| (7.001, 7.003] |              0 |\n",
       "| (7.003, 7.004] |              0 |\n",
       "| (7.004, 7.006] |              0 |\n",
       "| (7.006, 7.007] |              0 |"
      ],
      "text/plain": [
       "<IPython.core.display.Markdown object>"
      ]
     },
     "metadata": {},
     "output_type": "display_data"
    },
    {
     "name": "stdout",
     "output_type": "stream",
     "text": [
      "\n",
      "\n",
      "-------------\n",
      "Column Name:  three_quarter_baths \n",
      "--------------\n",
      "Numerical: Divided by Quartile\n",
      " -  10 bins\n"
     ]
    },
    {
     "data": {
      "text/markdown": [
       "|              |   three_quarter_baths |\n",
       "|:-------------|----------------------:|\n",
       "| (0.993, 1.6] |                 10010 |\n",
       "| (1.6, 2.2]   |                    75 |\n",
       "| (2.2, 2.8]   |                     0 |\n",
       "| (2.8, 3.4]   |                     8 |\n",
       "| (3.4, 4.0]   |                     0 |\n",
       "| (4.0, 4.6]   |                     0 |\n",
       "| (4.6, 5.2]   |                     0 |\n",
       "| (5.2, 5.8]   |                     0 |\n",
       "| (5.8, 6.4]   |                     0 |\n",
       "| (6.4, 7.0]   |                     1 |"
      ],
      "text/plain": [
       "<IPython.core.display.Markdown object>"
      ]
     },
     "metadata": {},
     "output_type": "display_data"
    },
    {
     "name": "stdout",
     "output_type": "stream",
     "text": [
      "\n",
      "\n",
      "-------------\n",
      "Column Name:  units \n",
      "--------------\n",
      "Numerical: Divided by Quartile\n",
      " -  10 bins\n"
     ]
    },
    {
     "data": {
      "text/markdown": [
       "|              |   units |\n",
       "|:-------------|--------:|\n",
       "| (0.994, 1.5] |   47035 |\n",
       "| (1.5, 2.0]   |    1855 |\n",
       "| (2.0, 2.5]   |       0 |\n",
       "| (2.5, 3.0]   |     480 |\n",
       "| (3.0, 3.5]   |       0 |\n",
       "| (3.5, 4.0]   |     614 |\n",
       "| (4.0, 4.5]   |       0 |\n",
       "| (4.5, 5.0]   |       0 |\n",
       "| (5.0, 5.5]   |       0 |\n",
       "| (5.5, 6.0]   |       1 |"
      ],
      "text/plain": [
       "<IPython.core.display.Markdown object>"
      ]
     },
     "metadata": {},
     "output_type": "display_data"
    },
    {
     "name": "stdout",
     "output_type": "stream",
     "text": [
      "\n",
      "\n",
      "-------------\n",
      "Column Name:  yard_sqft_17 \n",
      "--------------\n",
      "Numerical: Divided by Quartile\n",
      " -  10 bins\n"
     ]
    },
    {
     "data": {
      "text/markdown": [
       "|                  |   yard_sqft_17 |\n",
       "|:-----------------|---------------:|\n",
       "| (7.819, 329.0]   |           1629 |\n",
       "| (329.0, 647.0]   |            603 |\n",
       "| (647.0, 965.0]   |             94 |\n",
       "| (965.0, 1283.0]  |             34 |\n",
       "| (1283.0, 1601.0] |              9 |\n",
       "| (1601.0, 1919.0] |              1 |\n",
       "| (1919.0, 2237.0] |              2 |\n",
       "| (2237.0, 2555.0] |              2 |\n",
       "| (2555.0, 2873.0] |              1 |\n",
       "| (2873.0, 3191.0] |              2 |"
      ],
      "text/plain": [
       "<IPython.core.display.Markdown object>"
      ]
     },
     "metadata": {},
     "output_type": "display_data"
    },
    {
     "name": "stdout",
     "output_type": "stream",
     "text": [
      "\n",
      "\n",
      "-------------\n",
      "Column Name:  yard_sqft_26 \n",
      "--------------\n",
      "Numerical: Divided by Quartile\n",
      " -  10 bins\n"
     ]
    },
    {
     "data": {
      "text/markdown": [
       "|                |   yard_sqft_26 |\n",
       "|:---------------|---------------:|\n",
       "| (11.143, 97.6] |             24 |\n",
       "| (97.6, 183.2]  |             14 |\n",
       "| (183.2, 268.8] |             10 |\n",
       "| (268.8, 354.4] |              7 |\n",
       "| (354.4, 440.0] |              4 |\n",
       "| (440.0, 525.6] |              6 |\n",
       "| (525.6, 611.2] |              2 |\n",
       "| (611.2, 696.8] |              1 |\n",
       "| (696.8, 782.4] |              1 |\n",
       "| (782.4, 868.0] |              1 |"
      ],
      "text/plain": [
       "<IPython.core.display.Markdown object>"
      ]
     },
     "metadata": {},
     "output_type": "display_data"
    },
    {
     "name": "stdout",
     "output_type": "stream",
     "text": [
      "\n",
      "\n",
      "-------------\n",
      "Column Name:  year_built \n",
      "--------------\n",
      "Categorical:\n",
      " -  137 Categories\n",
      "1955.0    1956\n",
      "1989.0    1786\n",
      "1950.0    1663\n",
      "1964.0    1611\n",
      "1954.0    1580\n",
      "          ... \n",
      "1866.0       1\n",
      "1824.0       1\n",
      "1882.0       1\n",
      "1894.0       1\n",
      "1880.0       1\n",
      "Name: year_built, Length: 137, dtype: int64\n",
      "\n",
      "\n",
      "-------------\n",
      "Column Name:  num_stories \n",
      "--------------\n",
      "Numerical: Divided by Quartile\n",
      " -  10 bins\n"
     ]
    },
    {
     "data": {
      "text/markdown": [
       "|              |   num_stories |\n",
       "|:-------------|--------------:|\n",
       "| (0.994, 1.5] |         10328 |\n",
       "| (1.5, 2.0]   |          6572 |\n",
       "| (2.0, 2.5]   |             0 |\n",
       "| (2.5, 3.0]   |           435 |\n",
       "| (3.0, 3.5]   |             0 |\n",
       "| (3.5, 4.0]   |             0 |\n",
       "| (4.0, 4.5]   |             0 |\n",
       "| (4.5, 5.0]   |             0 |\n",
       "| (5.0, 5.5]   |             0 |\n",
       "| (5.5, 6.0]   |             1 |"
      ],
      "text/plain": [
       "<IPython.core.display.Markdown object>"
      ]
     },
     "metadata": {},
     "output_type": "display_data"
    },
    {
     "name": "stdout",
     "output_type": "stream",
     "text": [
      "\n",
      "\n",
      "-------------\n",
      "Column Name:  fireplace_flag \n",
      "--------------\n",
      "Numerical: Divided by Quartile\n",
      " -  10 bins\n"
     ]
    },
    {
     "data": {
      "text/markdown": [
       "|                  |   fireplace_flag |\n",
       "|:-----------------|-----------------:|\n",
       "| (0.9989, 0.9992] |                0 |\n",
       "| (0.9992, 0.9994] |                0 |\n",
       "| (0.9994, 0.9996] |                0 |\n",
       "| (0.9996, 0.9998] |                0 |\n",
       "| (0.9998, 1.0]    |              172 |\n",
       "| (1.0, 1.0002]    |                0 |\n",
       "| (1.0002, 1.0004] |                0 |\n",
       "| (1.0004, 1.0006] |                0 |\n",
       "| (1.0006, 1.0008] |                0 |\n",
       "| (1.0008, 1.001]  |                0 |"
      ],
      "text/plain": [
       "<IPython.core.display.Markdown object>"
      ]
     },
     "metadata": {},
     "output_type": "display_data"
    },
    {
     "name": "stdout",
     "output_type": "stream",
     "text": [
      "\n",
      "\n",
      "-------------\n",
      "Column Name:  building_tax_value \n",
      "--------------\n",
      "Numerical: Divided by Quartile\n",
      " -  10 bins\n"
     ]
    },
    {
     "data": {
      "text/markdown": [
       "|                        |   building_tax_value |\n",
       "|:-----------------------|---------------------:|\n",
       "| (-9120.858, 916529.7]  |                75431 |\n",
       "| (916529.7, 1833015.4]  |                  834 |\n",
       "| (1833015.4, 2749501.1] |                  109 |\n",
       "| (2749501.1, 3665986.8] |                   38 |\n",
       "| (3665986.8, 4582472.5] |                    9 |\n",
       "| (4582472.5, 5498958.2] |                    7 |\n",
       "| (5498958.2, 6415443.9] |                    2 |\n",
       "| (6415443.9, 7331929.6] |                    2 |\n",
       "| (7331929.6, 8248415.3] |                    4 |\n",
       "| (8248415.3, 9164901.0] |                    1 |"
      ],
      "text/plain": [
       "<IPython.core.display.Markdown object>"
      ]
     },
     "metadata": {},
     "output_type": "display_data"
    },
    {
     "name": "stdout",
     "output_type": "stream",
     "text": [
      "\n",
      "\n",
      "-------------\n",
      "Column Name:  tax_value \n",
      "--------------\n",
      "Numerical: Divided by Quartile\n",
      " -  10 bins\n"
     ]
    },
    {
     "data": {
      "text/markdown": [
       "|                                  |   tax_value |\n",
       "|:---------------------------------|------------:|\n",
       "| (-48060.236999999994, 4907023.6] |       76311 |\n",
       "| (4907023.6, 9813047.2]           |         172 |\n",
       "| (9813047.2, 14719070.8]          |          24 |\n",
       "| (14719070.8, 19625094.4]         |           8 |\n",
       "| (19625094.4, 24531118.0]         |           4 |\n",
       "| (24531118.0, 29437141.6]         |           1 |\n",
       "| (29437141.6, 34343165.2]         |           0 |\n",
       "| (34343165.2, 39249188.8]         |           0 |\n",
       "| (39249188.8, 44155212.4]         |           0 |\n",
       "| (44155212.4, 49061236.0]         |           1 |"
      ],
      "text/plain": [
       "<IPython.core.display.Markdown object>"
      ]
     },
     "metadata": {},
     "output_type": "display_data"
    },
    {
     "name": "stdout",
     "output_type": "stream",
     "text": [
      "\n",
      "\n",
      "-------------\n",
      "Column Name:  year_assesed \n",
      "--------------\n",
      "Numerical: Divided by Quartile\n",
      " -  10 bins\n"
     ]
    },
    {
     "data": {
      "text/markdown": [
       "|                      |   year_assesed |\n",
       "|:---------------------|---------------:|\n",
       "| (2013.983, 2014.387] |              0 |\n",
       "| (2014.387, 2014.79]  |              0 |\n",
       "| (2014.79, 2015.194]  |              0 |\n",
       "| (2015.194, 2015.597] |              0 |\n",
       "| (2015.597, 2016.0]   |          76521 |\n",
       "| (2016.0, 2016.403]   |              0 |\n",
       "| (2016.403, 2016.806] |              0 |\n",
       "| (2016.806, 2017.21]  |              0 |\n",
       "| (2017.21, 2017.613]  |              0 |\n",
       "| (2017.613, 2018.016] |              0 |"
      ],
      "text/plain": [
       "<IPython.core.display.Markdown object>"
      ]
     },
     "metadata": {},
     "output_type": "display_data"
    },
    {
     "name": "stdout",
     "output_type": "stream",
     "text": [
      "\n",
      "\n",
      "-------------\n",
      "Column Name:  land_tax_value \n",
      "--------------\n",
      "Numerical: Divided by Quartile\n",
      " -  10 bins\n"
     ]
    },
    {
     "data": {
      "text/markdown": [
       "|                                 |   land_tax_value |\n",
       "|:--------------------------------|-----------------:|\n",
       "| (-48791.03799999999, 4895364.7] |            76414 |\n",
       "| (4895364.7, 9790568.4]          |               86 |\n",
       "| (9790568.4, 14685772.1]         |               14 |\n",
       "| (14685772.1, 19580975.8]        |                5 |\n",
       "| (19580975.8, 24476179.5]        |                1 |\n",
       "| (24476179.5, 29371383.2]        |                0 |\n",
       "| (29371383.2, 34266586.9]        |                0 |\n",
       "| (34266586.9, 39161790.6]        |                0 |\n",
       "| (39161790.6, 44056994.3]        |                0 |\n",
       "| (44056994.3, 48952198.0]        |                1 |"
      ],
      "text/plain": [
       "<IPython.core.display.Markdown object>"
      ]
     },
     "metadata": {},
     "output_type": "display_data"
    },
    {
     "name": "stdout",
     "output_type": "stream",
     "text": [
      "\n",
      "\n",
      "-------------\n",
      "Column Name:  tax_amount \n",
      "--------------\n",
      "Numerical: Divided by Quartile\n",
      " -  10 bins\n"
     ]
    },
    {
     "data": {
      "text/markdown": [
       "|                                 |   tax_amount |\n",
       "|:--------------------------------|-------------:|\n",
       "| (-566.6999999999999, 58681.858] |        76315 |\n",
       "| (58681.858, 117343.796]         |          167 |\n",
       "| (117343.796, 176005.734]        |           20 |\n",
       "| (176005.734, 234667.672]        |            9 |\n",
       "| (234667.672, 293329.61]         |            4 |\n",
       "| (293329.61, 351991.548]         |            0 |\n",
       "| (351991.548, 410653.486]        |            0 |\n",
       "| (410653.486, 469315.424]        |            0 |\n",
       "| (469315.424, 527977.362]        |            0 |\n",
       "| (527977.362, 586639.3]          |            1 |"
      ],
      "text/plain": [
       "<IPython.core.display.Markdown object>"
      ]
     },
     "metadata": {},
     "output_type": "display_data"
    },
    {
     "name": "stdout",
     "output_type": "stream",
     "text": [
      "\n",
      "\n",
      "-------------\n",
      "Column Name:  tax_delinquency_flag \n",
      "--------------\n",
      "Categorical:\n",
      " -  2 Categories\n"
     ]
    },
    {
     "data": {
      "text/markdown": [
       "|    |   tax_delinquency_flag |\n",
       "|:---|-----------------------:|\n",
       "|    |                  73669 |\n",
       "| Y  |                   2852 |"
      ],
      "text/plain": [
       "<IPython.core.display.Markdown object>"
      ]
     },
     "metadata": {},
     "output_type": "display_data"
    },
    {
     "name": "stdout",
     "output_type": "stream",
     "text": [
      "\n",
      "\n",
      "-------------\n",
      "Column Name:  tax_delinquency_year \n",
      "--------------\n",
      "Numerical: Divided by Quartile\n",
      " -  10 bins\n"
     ]
    },
    {
     "data": {
      "text/markdown": [
       "|               |   tax_delinquency_year |\n",
       "|:--------------|-----------------------:|\n",
       "| (2.903, 12.6] |                    348 |\n",
       "| (12.6, 22.2]  |                   2503 |\n",
       "| (22.2, 31.8]  |                      0 |\n",
       "| (31.8, 41.4]  |                      0 |\n",
       "| (41.4, 51.0]  |                      0 |\n",
       "| (51.0, 60.6]  |                      0 |\n",
       "| (60.6, 70.2]  |                      0 |\n",
       "| (70.2, 79.8]  |                      0 |\n",
       "| (79.8, 89.4]  |                      0 |\n",
       "| (89.4, 99.0]  |                      1 |"
      ],
      "text/plain": [
       "<IPython.core.display.Markdown object>"
      ]
     },
     "metadata": {},
     "output_type": "display_data"
    },
    {
     "name": "stdout",
     "output_type": "stream",
     "text": [
      "\n",
      "\n",
      "-------------\n",
      "Column Name:  tract_and_block \n",
      "--------------\n",
      "Numerical: Divided by Quartile\n",
      " -  10 bins\n"
     ]
    },
    {
     "data": {
      "text/markdown": [
       "|                                         |   tract_and_block |\n",
       "|:----------------------------------------|------------------:|\n",
       "| (59948352007016.984, 102636920499301.5] |             76300 |\n",
       "| (102636920499301.5, 144902829897603.0]  |                 0 |\n",
       "| (144902829897603.0, 187168739295904.5]  |                 0 |\n",
       "| (187168739295904.5, 229434648694206.03] |                 0 |\n",
       "| (229434648694206.03, 271700558092507.5] |                 0 |\n",
       "| (271700558092507.5, 313966467490809.0]  |                 0 |\n",
       "| (313966467490809.0, 356232376889110.5]  |                 0 |\n",
       "| (356232376889110.5, 398498286287411.94] |                 0 |\n",
       "| (398498286287411.94, 440764195685713.5] |                 0 |\n",
       "| (440764195685713.5, 483030105084015.0]  |                 1 |"
      ],
      "text/plain": [
       "<IPython.core.display.Markdown object>"
      ]
     },
     "metadata": {},
     "output_type": "display_data"
    },
    {
     "name": "stdout",
     "output_type": "stream",
     "text": [
      "\n",
      "\n",
      "-------------\n",
      "-----------------\n",
      "---End of Line---\n"
     ]
    }
   ],
   "source": [
    "column_value_counts(df, show_all=False, too_long=62)"
   ]
  },
  {
   "cell_type": "code",
   "execution_count": 77,
   "id": "946a7fd0",
   "metadata": {
    "scrolled": true
   },
   "outputs": [
    {
     "data": {
      "text/markdown": [
       "\n",
       "    DataFrame .head():\n",
       "    -----------------\n",
       "|    |   id |   parcel |    logerror | trans_date          | ac_type   | arch_type   | build_type   | heat_type   | land_use_type             | story_type   | construction_type   |   basementsqft |   bathrooms |   bedrooms |   quality_type |   calc_bath_n_bed |   deck_type |   floor_1_sqft |   tot_sqft |   sqft_12 |   sqft_13 |   sqft_15 |   sqft_50 |   sqft_6 | fips               |   fireplaces |   full_baths |   garages |   garage_sqft |   hot_tub |         lat |          lon |   lot_sqft |   pools |   pool_sqft |   pool_id10 |   pool_id2 |   pool_id7 | county_landuse   | zoning     |   raw_tract_and_block |   city_id |   county_id |   neighborhood |   zip_code |   num_rooms |   stories_type |   three_quarter_baths |   units |   yard_sqft_17 |   yard_sqft_26 |   year_built |   num_stories |   fireplace_flag |   building_tax_value |        tax_value |   year_assesed |   land_tax_value |   tax_amount | tax_delinquency_flag   |   tax_delinquency_year |   tract_and_block |\n",
       "|---:|-----:|---------:|------------:|:--------------------|:----------|:------------|:-------------|:------------|:--------------------------|:-------------|:--------------------|---------------:|------------:|-----------:|---------------:|------------------:|------------:|---------------:|-----------:|----------:|----------:|----------:|----------:|---------:|:-------------------|-------------:|-------------:|----------:|--------------:|----------:|------------:|-------------:|-----------:|--------:|------------:|------------:|-----------:|-----------:|:-----------------|:-----------|----------------------:|----------:|------------:|---------------:|-----------:|------------:|---------------:|----------------------:|--------:|---------------:|---------------:|-------------:|--------------:|-----------------:|---------------------:|-----------------:|---------------:|-----------------:|-------------:|:-----------------------|-----------------------:|------------------:|\n",
       "|  0 |    0 | 14297519 |  0.0255949  | 2017-01-01 00:00:00 |           |             |              |             | Single Family Residential |              |                     |            nan |         3.5 |          4 |            nan |               3.5 |         nan |            nan |       3100 |      3100 |       nan |       nan |       nan |      nan | Orange County      |          nan |            3 |         2 |           633 |       nan | 3.36349e+07 | -1.17869e+08 |       4506 |     nan |         nan |         nan |        nan |        nan | 122              |            |           6.05906e+07 |     53571 |        1286 |            nan |      96978 |           0 |            nan |                     1 |     nan |            nan |            nan |         1998 |           nan |              nan |               485713 |      1.02328e+06 |           2016 |           537569 |     11013.7  |                        |                    nan |       6.05906e+13 |\n",
       "|  1 |    1 | 17052889 |  0.0556191  | 2017-01-01 00:00:00 |           |             |              |             | Single Family Residential |              |                     |            nan |         1   |          2 |            nan |               1   |         nan |           1465 |       1465 |      1465 |       nan |       nan |      1465 |      nan | Ventura County     |            1 |            1 |         1 |             0 |       nan | 3.44493e+07 | -1.19282e+08 |      12647 |     nan |         nan |         nan |        nan |        nan | 1110             |            |           6.111e+07   |     13091 |        2061 |            nan |      97099 |           5 |            nan |                   nan |     nan |            nan |            nan |         1967 |             1 |              nan |                88000 | 464000           |           2016 |           376000 |      5672.48 |                        |                    nan |       6.111e+13   |\n",
       "|  2 |    2 | 14186244 |  0.00538285 | 2017-01-01 00:00:00 |           |             |              |             | Single Family Residential |              |                     |            nan |         2   |          3 |            nan |               2   |         nan |            nan |       1243 |      1243 |       nan |       nan |       nan |      nan | Orange County      |          nan |            2 |         2 |           440 |       nan | 3.38862e+07 | -1.17823e+08 |       8432 |       1 |         nan |         nan |        nan |          1 | 122              |            |           6.05902e+07 |     21412 |        1286 |            nan |      97078 |           6 |            nan |                   nan |     nan |            nan |            nan |         1962 |             1 |              nan |                85289 | 564778           |           2016 |           479489 |      6488.3  |                        |                    nan |       6.05902e+13 |\n",
       "|  3 |    3 | 12177905 | -0.10341    | 2017-01-01 00:00:00 |           |             |              | Central     | Single Family Residential |              |                     |            nan |         3   |          4 |              8 |               3   |         nan |            nan |       2376 |      2376 |       nan |       nan |       nan |      nan | Los Angeles County |          nan |            3 |       nan |           nan |       nan | 3.42452e+07 | -1.18241e+08 |      13038 |       1 |         nan |         nan |        nan |          1 | 0101             | LCR110000* |           6.0373e+07  |    396551 |        3101 |            nan |      96330 |           0 |            nan |                   nan |       1 |            nan |            nan |         1970 |           nan |              nan |               108918 | 145143           |           2016 |            36225 |      1777.51 |                        |                    nan |       6.0373e+13  |\n",
       "|  4 |    4 | 10887214 |  0.00694036 | 2017-01-01 00:00:00 | Central   |             |              | Central     | Condominium               |              |                     |            nan |         3   |          3 |              8 |               3   |         nan |            nan |       1312 |      1312 |       nan |       nan |       nan |      nan | Los Angeles County |          nan |            3 |       nan |           nan |       nan | 3.41851e+07 | -1.18415e+08 |     278581 |       1 |         nan |         nan |        nan |          1 | 010C             | LAR3       |           6.03712e+07 |     12447 |        3101 |         268548 |      96451 |           0 |            nan |                   nan |       1 |            nan |            nan |         1964 |           nan |              nan |                73681 | 119407           |           2016 |            45726 |      1533.89 |                        |                    nan |       6.03712e+13 |\n",
       "    \n",
       "    DataFrame .info():\n",
       "    -----------------\n"
      ],
      "text/plain": [
       "<IPython.core.display.Markdown object>"
      ]
     },
     "metadata": {},
     "output_type": "display_data"
    },
    {
     "name": "stdout",
     "output_type": "stream",
     "text": [
      "<class 'pandas.core.frame.DataFrame'>\n",
      "Int64Index: 76521 entries, 0 to 76711\n",
      "Data columns (total 62 columns):\n",
      " #   Column                Non-Null Count  Dtype         \n",
      "---  ------                --------------  -----         \n",
      " 0   id                    76521 non-null  int64         \n",
      " 1   parcel                76521 non-null  int64         \n",
      " 2   logerror              76521 non-null  float64       \n",
      " 3   trans_date            76521 non-null  datetime64[ns]\n",
      " 4   ac_type               24783 non-null  object        \n",
      " 5   arch_type             206 non-null    object        \n",
      " 6   build_type            0 non-null      object        \n",
      " 7   heat_type             49185 non-null  object        \n",
      " 8   land_use_type         76521 non-null  object        \n",
      " 9   story_type            50 non-null     object        \n",
      " 10  construction_type     222 non-null    object        \n",
      " 11  basementsqft          50 non-null     float64       \n",
      " 12  bathrooms             76521 non-null  float64       \n",
      " 13  bedrooms              76521 non-null  float64       \n",
      " 14  quality_type          49422 non-null  float64       \n",
      " 15  calc_bath_n_bed       76505 non-null  float64       \n",
      " 16  deck_type             612 non-null    float64       \n",
      " 17  floor_1_sqft          6006 non-null   float64       \n",
      " 18  tot_sqft              76521 non-null  float64       \n",
      " 19  sqft_12               73390 non-null  float64       \n",
      " 20  sqft_13               26 non-null     float64       \n",
      " 21  sqft_15               2927 non-null   float64       \n",
      " 22  sqft_50               6006 non-null   float64       \n",
      " 23  sqft_6                178 non-null    float64       \n",
      " 24  fips                  76521 non-null  object        \n",
      " 25  fireplaces            8247 non-null   float64       \n",
      " 26  full_baths            76505 non-null  float64       \n",
      " 27  garages               25287 non-null  float64       \n",
      " 28  garage_sqft           25287 non-null  float64       \n",
      " 29  hot_tub               1538 non-null   float64       \n",
      " 30  lat                   76521 non-null  float64       \n",
      " 31  lon                   76521 non-null  float64       \n",
      " 32  lot_sqft              68390 non-null  float64       \n",
      " 33  pools                 16048 non-null  float64       \n",
      " 34  pool_sqft             862 non-null    float64       \n",
      " 35  pool_id10             464 non-null    float64       \n",
      " 36  pool_id2              1074 non-null   float64       \n",
      " 37  pool_id7              14953 non-null  float64       \n",
      " 38  county_landuse        76521 non-null  object        \n",
      " 39  zoning                49917 non-null  object        \n",
      " 40  raw_tract_and_block   76521 non-null  float64       \n",
      " 41  city_id               75075 non-null  float64       \n",
      " 42  county_id             76521 non-null  float64       \n",
      " 43  neighborhood          30526 non-null  float64       \n",
      " 44  zip_code              76477 non-null  float64       \n",
      " 45  num_rooms             76521 non-null  float64       \n",
      " 46  stories_type          50 non-null     float64       \n",
      " 47  three_quarter_baths   10094 non-null  float64       \n",
      " 48  units                 49985 non-null  float64       \n",
      " 49  yard_sqft_17          2377 non-null   float64       \n",
      " 50  yard_sqft_26          70 non-null     float64       \n",
      " 51  year_built            76464 non-null  object        \n",
      " 52  num_stories           17336 non-null  float64       \n",
      " 53  fireplace_flag        172 non-null    float64       \n",
      " 54  building_tax_value    76437 non-null  float64       \n",
      " 55  tax_value             76521 non-null  float64       \n",
      " 56  year_assesed          76521 non-null  float64       \n",
      " 57  land_tax_value        76521 non-null  float64       \n",
      " 58  tax_amount            76516 non-null  float64       \n",
      " 59  tax_delinquency_flag  2852 non-null   object        \n",
      " 60  tax_delinquency_year  2852 non-null   float64       \n",
      " 61  tract_and_block       76301 non-null  float64       \n",
      "dtypes: datetime64[ns](1), float64(47), int64(2), object(12)\n",
      "memory usage: 36.8+ MB\n",
      "None\n",
      "Number of Columns with nulls: 44\n"
     ]
    },
    {
     "data": {
      "text/markdown": [
       "\n",
       "    \n",
       "    DataFrame .describe():\n",
       "    -----------------\n",
       "|       |      id |          parcel |      logerror |   basementsqft |    bathrooms |    bedrooms |   quality_type |   calc_bath_n_bed |   deck_type |   floor_1_sqft |   tot_sqft |   sqft_12 |   sqft_13 |   sqft_15 |   sqft_50 |   sqft_6 |   fireplaces |   full_baths |      garages |   garage_sqft |   hot_tub |              lat |              lon |         lot_sqft |   pools |   pool_sqft |   pool_id10 |   pool_id2 |   pool_id7 |   raw_tract_and_block |   city_id |   county_id |   neighborhood |   zip_code |   num_rooms |   stories_type |   three_quarter_baths |        units |   yard_sqft_17 |   yard_sqft_26 |   num_stories |   fireplace_flag |   building_tax_value |        tax_value |   year_assesed |   land_tax_value |   tax_amount |   tax_delinquency_year |   tract_and_block |\n",
       "|:------|--------:|----------------:|--------------:|---------------:|-------------:|------------:|---------------:|------------------:|------------:|---------------:|-----------:|----------:|----------:|----------:|----------:|---------:|-------------:|-------------:|-------------:|--------------:|----------:|-----------------:|-----------------:|-----------------:|--------:|------------:|------------:|-----------:|-----------:|----------------------:|----------:|------------:|---------------:|-----------:|------------:|---------------:|----------------------:|-------------:|---------------:|---------------:|--------------:|-----------------:|---------------------:|-----------------:|---------------:|-----------------:|-------------:|-----------------------:|------------------:|\n",
       "| count | 76521   | 76521           | 76521         |         50     | 76521        | 76521       |    49422       |      76505        |         612 |       6006     |  76521     | 73390     |    26     |  2927     |  6006     |  178     |  8247        | 76505        | 25287        |     25287     |      1538 |  76521           |  76521           |  68390           |   16048 |     862     |         464 |       1074 |      14953 |       76521           |   75075   |   76521     |          30526 |   76477    | 76521       |             50 |          10094        | 49985        |       2377     |         70     |  17336        |              172 |       76437          |  76521           |          76521 |  76521           |     76516    |             2852       |   76301           |\n",
       "| mean  | 38851.4 |     1.29929e+07 |     0.016456  |        679.72  |     2.32044  |     3.08681 |        6.53428 |          2.32044  |          66 |       1364.5   |   1784.13  |  1763.08  |  1375.38  |  2347.84  |  1379.8   | 1250.69  |     1.18989  |     2.25384  |     1.82667  |       352.331 |         1 |      3.40092e+07 |     -1.18203e+08 |  29820.3         |       1 |     518.092 |           1 |          1 |          1 |           6.04905e+07 |   33674   |    2537.03  |         187034 |   96587    |     1.49141 |              7 |              1.00961  |     1.09327  |        305.218 |        216.386 |      1.42957  |                1 |      188788          | 488694           |           2016 | 300114           |      5979.33 |               14.087   |       6.0496e+13  |\n",
       "| std   | 22404.5 |     3.31108e+06 |     0.168209  |        689.704 |     0.978789 |     1.09967 |        1.7211  |          0.978795 |           0 |        668.634 |    940.759 |   932.694 |   128.218 |   968.766 |   724.192 |  809.124 |     0.489105 |     0.965785 |     0.572833 |       260.98  |         0 | 265422           | 358549           | 123294           |       0 |     156.166 |           0 |          0 |          0 |      205236           |   47227.3 |     800.745 |         165175 |    3819.19 |     2.83431 |              0 |              0.118642 |     0.421759 |        238.711 |        190.178 |      0.544421 |                0 |      223511          | 647844           |              0 | 490350           |      7554.89 |                2.19198 |       1.54339e+12 |\n",
       "| min   |     0   |     1.07119e+07 |    -4.65542   |         38     |     1        |     1       |        1       |          1        |          66 |         44     |    152     |   152     |  1056     |   598     |    44     |  380     |     1        |     1        |     0        |         0     |         1 |      3.33395e+07 |     -1.19475e+08 |    236           |       1 |      24     |           1 |          1 |          1 |           6.0371e+07  |    3491   |    1286     |           6952 |   95982    |     0       |              7 |              1        |     1        |         11     |         12     |      1        |                1 |          44          |   1000           |           2016 |    161           |        19.92 |                3       |       6.0371e+13  |\n",
       "| 25%   | 19465   |     1.15321e+07 |    -0.0242734 |        273     |     2        |     2       |        6       |          2        |          66 |        954.25  |   1184     |  1175     |  1344     |  1629.5   |   956     |  790.75  |     1        |     2        |     2        |         0     |         1 |      3.38157e+07 |     -1.18416e+08 |   5700           |       1 |     424     |           1 |          1 |          1 |           6.03731e+07 |   12447   |    1286     |          41466 |   96193    |     0       |              7 |              1        |     1        |        170     |         61.5   |      1        |                1 |       84476          | 207172           |           2016 |  85504           |      2720.42 |               14       |       6.03731e+13 |\n",
       "| 50%   | 38894   |     1.25273e+07 |     0.0066161 |        515     |     2        |     3       |        6       |          2        |          66 |       1256     |   1543     |  1525     |  1440     |  2100     |  1259     |  982.5   |     1        |     2        |     2        |       437     |         1 |      3.40225e+07 |     -1.1818e+08  |   7201           |       1 |     500     |           1 |          1 |          1 |           6.0376e+07  |   25218   |    3101     |         118825 |   96389    |     0       |              7 |              1        |     1        |        250     |        164.5   |      1        |                1 |      136734          | 359000           |           2016 | 203559           |      4451.27 |               15       |       6.0376e+13  |\n",
       "| 75%   | 58255   |     1.42094e+07 |     0.0390554 |        796.5   |     3        |     4       |        8       |          3        |          66 |       1614.75  |   2109     |  2077     |  1440     |  2839.5   |  1618.75  | 1318.25  |     1        |     3        |     2        |       493     |         1 |      3.4175e+07  |     -1.17929e+08 |  11744.5         |       1 |     600     |           1 |          1 |          1 |           6.05904e+07 |   45457   |    3101     |         274765 |   96986    |     0       |              7 |              1        |     1        |        364     |        310.5   |      2        |                1 |      218767          | 568540           |           2016 | 366162           |      6922    |               15       |       6.05904e+13 |\n",
       "| max   | 77612   |     1.67689e+08 |     5.263     |       3560     |    18        |    16       |       12       |         18        |          66 |       6912     |  21929     | 21929     |  1560     |  7990     | 12467     | 5598     |     5        |    18        |    14        |      4251     |         1 |      3.48188e+07 |     -1.17555e+08 |      6.97101e+06 |       1 |    1500     |           1 |          1 |          1 |           6.11101e+07 |  396556   |    3101     |         764167 |  399675    |    15       |              7 |              7        |     6        |       3191     |        868     |      6        |                1 |           9.1649e+06 |      4.90612e+07 |           2016 |      4.89522e+07 |    586639    |               99       |       4.8303e+14  |\n",
       "    \n",
       "    Null Value Assessments:\n",
       "    -----------------\n",
       "        \n",
       "        Nulls By Column:\n",
       "|                      |   num_rows_missing |   percent_missing |\n",
       "|:---------------------|-------------------:|------------------:|\n",
       "| ac_type              |              51738 |       67.6128     |\n",
       "| arch_type            |              76315 |       99.7308     |\n",
       "| build_type           |              76521 |      100          |\n",
       "| heat_type            |              27336 |       35.7235     |\n",
       "| story_type           |              76471 |       99.9347     |\n",
       "| construction_type    |              76299 |       99.7099     |\n",
       "| basementsqft         |              76471 |       99.9347     |\n",
       "| quality_type         |              27099 |       35.4138     |\n",
       "| calc_bath_n_bed      |                 16 |        0.0209093  |\n",
       "| deck_type            |              75909 |       99.2002     |\n",
       "| floor_1_sqft         |              70515 |       92.1512     |\n",
       "| sqft_12              |               3131 |        4.09169    |\n",
       "| sqft_13              |              76495 |       99.966      |\n",
       "| sqft_15              |              73594 |       96.1749     |\n",
       "| sqft_50              |              70515 |       92.1512     |\n",
       "| sqft_6               |              76343 |       99.7674     |\n",
       "| fireplaces           |              68274 |       89.2226     |\n",
       "| full_baths           |                 16 |        0.0209093  |\n",
       "| garages              |              51234 |       66.9542     |\n",
       "| garage_sqft          |              51234 |       66.9542     |\n",
       "| hot_tub              |              74983 |       97.9901     |\n",
       "| lot_sqft             |               8131 |       10.6258     |\n",
       "| pools                |              60473 |       79.028      |\n",
       "| pool_sqft            |              75659 |       98.8735     |\n",
       "| pool_id10            |              76057 |       99.3936     |\n",
       "| pool_id2             |              75447 |       98.5965     |\n",
       "| pool_id7             |              61568 |       80.459      |\n",
       "| zoning               |              26604 |       34.7669     |\n",
       "| city_id              |               1446 |        1.88968    |\n",
       "| neighborhood         |              45995 |       60.1077     |\n",
       "| zip_code             |                 44 |        0.0575006  |\n",
       "| stories_type         |              76471 |       99.9347     |\n",
       "| three_quarter_baths  |              66427 |       86.8088     |\n",
       "| units                |              26536 |       34.6781     |\n",
       "| yard_sqft_17         |              74144 |       96.8937     |\n",
       "| yard_sqft_26         |              76451 |       99.9085     |\n",
       "| year_built           |                 57 |        0.0744894  |\n",
       "| num_stories          |              59185 |       77.3448     |\n",
       "| fireplace_flag       |              76349 |       99.7752     |\n",
       "| building_tax_value   |                 84 |        0.109774   |\n",
       "| tax_amount           |                  5 |        0.00653415 |\n",
       "| tax_delinquency_flag |              73669 |       96.2729     |\n",
       "| tax_delinquency_year |              73669 |       96.2729     |\n",
       "| tract_and_block      |                220 |        0.287503   |\n",
       "    -----------------\n",
       "        \n",
       "        Nulls By Row:\n",
       "|    |   num_cols_missing |   percent_missing |   count |\n",
       "|---:|-------------------:|------------------:|--------:|\n",
       "|  0 |                 19 |           30.6452 |       2 |\n",
       "|  1 |                 20 |           32.2581 |       3 |\n",
       "|  2 |                 21 |           33.871  |      13 |\n",
       "|  3 |                 22 |           35.4839 |      79 |\n",
       "|  4 |                 23 |           37.0968 |     265 |\n",
       "|  5 |                 24 |           38.7097 |     606 |\n",
       "|  6 |                 25 |           40.3226 |     656 |\n",
       "|  7 |                 26 |           41.9355 |    5740 |\n",
       "|  8 |                 27 |           43.5484 |    7939 |\n",
       "|  9 |                 28 |           45.1613 |   12352 |\n",
       "| 10 |                 29 |           46.7742 |   20596 |\n",
       "| 11 |                 30 |           48.3871 |   16035 |\n",
       "| 12 |                 31 |           50      |    6314 |\n",
       "| 13 |                 32 |           51.6129 |    3458 |\n",
       "| 14 |                 33 |           53.2258 |    2043 |\n",
       "| 15 |                 34 |           54.8387 |     246 |\n",
       "| 16 |                 35 |           56.4516 |     168 |\n",
       "| 17 |                 36 |           58.0645 |       6 |\n",
       "    \n",
       "    DataFrame .value_counts():\n",
       "    -----------------\n",
       "    \n",
       "    "
      ],
      "text/plain": [
       "<IPython.core.display.Markdown object>"
      ]
     },
     "metadata": {},
     "output_type": "display_data"
    },
    {
     "name": "stdout",
     "output_type": "stream",
     "text": [
      "Column Name:  id \n",
      "--------------\n",
      "Numerical: Divided by Quartile\n",
      " -  5 bins\n"
     ]
    },
    {
     "data": {
      "text/markdown": [
       "|                    |    id |\n",
       "|:-------------------|------:|\n",
       "| (-77.613, 15522.4] | 15266 |\n",
       "| (15522.4, 31044.8] | 15274 |\n",
       "| (31044.8, 46567.2] | 15297 |\n",
       "| (46567.2, 62089.6] | 15344 |\n",
       "| (62089.6, 77612.0] | 15340 |"
      ],
      "text/plain": [
       "<IPython.core.display.Markdown object>"
      ]
     },
     "metadata": {},
     "output_type": "display_data"
    },
    {
     "name": "stdout",
     "output_type": "stream",
     "text": [
      "\n",
      "\n",
      "-------------\n",
      "Column Name:  parcel \n",
      "--------------\n",
      "Numerical: Divided by Quartile\n",
      " -  5 bins\n"
     ]
    },
    {
     "data": {
      "text/markdown": [
       "|                            |   parcel |\n",
       "|:---------------------------|---------:|\n",
       "| (10554878.322, 42107190.4] |    76494 |\n",
       "| (42107190.4, 73502525.8]   |        0 |\n",
       "| (73502525.8, 104897861.2]  |        2 |\n",
       "| (104897861.2, 136293196.6] |        0 |\n",
       "| (136293196.6, 167688532.0] |       25 |"
      ],
      "text/plain": [
       "<IPython.core.display.Markdown object>"
      ]
     },
     "metadata": {},
     "output_type": "display_data"
    },
    {
     "name": "stdout",
     "output_type": "stream",
     "text": [
      "\n",
      "\n",
      "-------------\n",
      "Column Name:  logerror \n",
      "--------------\n",
      "Numerical: Divided by Quartile\n",
      " -  5 bins\n"
     ]
    },
    {
     "data": {
      "text/markdown": [
       "|                  |   logerror |\n",
       "|:-----------------|-----------:|\n",
       "| (-4.666, -2.672] |          4 |\n",
       "| (-2.672, -0.688] |        171 |\n",
       "| (-0.688, 1.296]  |      76181 |\n",
       "| (1.296, 3.279]   |        163 |\n",
       "| (3.279, 5.263]   |          2 |"
      ],
      "text/plain": [
       "<IPython.core.display.Markdown object>"
      ]
     },
     "metadata": {},
     "output_type": "display_data"
    },
    {
     "name": "stdout",
     "output_type": "stream",
     "text": [
      "\n",
      "\n",
      "-------------\n",
      "Column Name:  trans_date \n",
      "--------------\n",
      "Numerical: Divided by Quartile\n",
      " -  5 bins\n"
     ]
    },
    {
     "data": {
      "text/markdown": [
       "|                                                      |   trans_date |\n",
       "|:-----------------------------------------------------|-------------:|\n",
       "| (2016-12-31 17:35:31.199999999, 2017-02-23 09:36:00] |        11821 |\n",
       "| (2017-02-23 09:36:00, 2017-04-17 19:12:00]           |        14857 |\n",
       "| (2017-04-17 19:12:00, 2017-06-10 04:48:00]           |        17848 |\n",
       "| (2017-06-10 04:48:00, 2017-08-02 14:24:00]           |        17879 |\n",
       "| (2017-08-02 14:24:00, 2017-09-25]                    |        14116 |"
      ],
      "text/plain": [
       "<IPython.core.display.Markdown object>"
      ]
     },
     "metadata": {},
     "output_type": "display_data"
    },
    {
     "name": "stdout",
     "output_type": "stream",
     "text": [
      "\n",
      "\n",
      "-------------\n",
      "Column Name:  ac_type \n",
      "--------------\n",
      "Categorical:\n",
      " -  6 Categories\n"
     ]
    },
    {
     "data": {
      "text/markdown": [
       "|               |   ac_type |\n",
       "|:--------------|----------:|\n",
       "|               |     51738 |\n",
       "| Central       |     22969 |\n",
       "| Yes           |      1568 |\n",
       "| None          |       167 |\n",
       "| Wall Unit     |        53 |\n",
       "| Refrigeration |        26 |"
      ],
      "text/plain": [
       "<IPython.core.display.Markdown object>"
      ]
     },
     "metadata": {},
     "output_type": "display_data"
    },
    {
     "name": "stdout",
     "output_type": "stream",
     "text": [
      "\n",
      "\n",
      "-------------\n",
      "Column Name:  arch_type \n",
      "--------------\n",
      "Categorical:\n",
      " -  6 Categories\n"
     ]
    },
    {
     "data": {
      "text/markdown": [
       "|               |   arch_type |\n",
       "|:--------------|------------:|\n",
       "|               |       76315 |\n",
       "| Contemporary  |         172 |\n",
       "| Conventional  |          19 |\n",
       "| Ranch/Rambler |           7 |\n",
       "| Bungalow      |           5 |\n",
       "| Cape Cod      |           3 |"
      ],
      "text/plain": [
       "<IPython.core.display.Markdown object>"
      ]
     },
     "metadata": {},
     "output_type": "display_data"
    },
    {
     "name": "stdout",
     "output_type": "stream",
     "text": [
      "\n",
      "\n",
      "-------------\n",
      "Column Name:  build_type \n",
      "--------------\n",
      "Categorical:\n",
      " -  1 Categories\n"
     ]
    },
    {
     "data": {
      "text/markdown": [
       "|    |   build_type |\n",
       "|:---|-------------:|\n",
       "|    |        76521 |"
      ],
      "text/plain": [
       "<IPython.core.display.Markdown object>"
      ]
     },
     "metadata": {},
     "output_type": "display_data"
    },
    {
     "name": "stdout",
     "output_type": "stream",
     "text": [
      "\n",
      "\n",
      "-------------\n",
      "Column Name:  heat_type \n",
      "--------------\n",
      "Categorical:\n",
      " -  11 Categories\n"
     ]
    },
    {
     "data": {
      "text/markdown": [
       "|            |   heat_type |\n",
       "|:-----------|------------:|\n",
       "| Central    |       33353 |\n",
       "|            |       27336 |\n",
       "| Floor/Wall |       14008 |\n",
       "| Yes        |         846 |\n",
       "| Forced air |         775 |\n",
       "| Solar      |         104 |\n",
       "| None       |          59 |\n",
       "| Radiant    |          23 |\n",
       "| Baseboard  |          13 |\n",
       "| Gravity    |           3 |\n",
       "| Heat Pump  |           1 |"
      ],
      "text/plain": [
       "<IPython.core.display.Markdown object>"
      ]
     },
     "metadata": {},
     "output_type": "display_data"
    },
    {
     "name": "stdout",
     "output_type": "stream",
     "text": [
      "\n",
      "\n",
      "-------------\n",
      "Column Name:  land_use_type \n",
      "--------------\n",
      "Categorical:\n",
      " -  12 Categories\n"
     ]
    },
    {
     "data": {
      "text/markdown": [
       "|                                            |   land_use_type |\n",
       "|:-------------------------------------------|----------------:|\n",
       "| Single Family Residential                  |           52160 |\n",
       "| Condominium                                |           19006 |\n",
       "| Planned Unit Development                   |            1940 |\n",
       "| Duplex (2 Units, Any Combination)          |            1843 |\n",
       "| Quadruplex (4 Units, Any Combination)      |             615 |\n",
       "| Triplex (3 Units, Any Combination)         |             485 |\n",
       "| Cluster Home                               |             333 |\n",
       "| Mobile Home                                |              59 |\n",
       "| Manufactured, Modular, Prefabricated Homes |              35 |\n",
       "| Cooperative                                |              29 |\n",
       "| Residential General                        |              10 |\n",
       "| Townhouse                                  |               6 |"
      ],
      "text/plain": [
       "<IPython.core.display.Markdown object>"
      ]
     },
     "metadata": {},
     "output_type": "display_data"
    },
    {
     "name": "stdout",
     "output_type": "stream",
     "text": [
      "\n",
      "\n",
      "-------------\n",
      "Column Name:  story_type \n",
      "--------------\n",
      "Categorical:\n",
      " -  2 Categories\n"
     ]
    },
    {
     "data": {
      "text/markdown": [
       "|          |   story_type |\n",
       "|:---------|-------------:|\n",
       "|          |        76471 |\n",
       "| Basement |           50 |"
      ],
      "text/plain": [
       "<IPython.core.display.Markdown object>"
      ]
     },
     "metadata": {},
     "output_type": "display_data"
    },
    {
     "name": "stdout",
     "output_type": "stream",
     "text": [
      "\n",
      "\n",
      "-------------\n",
      "Column Name:  construction_type \n",
      "--------------\n",
      "Categorical:\n",
      " -  5 Categories\n"
     ]
    },
    {
     "data": {
      "text/markdown": [
       "|          |   construction_type |\n",
       "|:---------|--------------------:|\n",
       "|          |               76299 |\n",
       "| Frame    |                 219 |\n",
       "| Masonry  |                   1 |\n",
       "| Metal    |                   1 |\n",
       "| Concrete |                   1 |"
      ],
      "text/plain": [
       "<IPython.core.display.Markdown object>"
      ]
     },
     "metadata": {},
     "output_type": "display_data"
    },
    {
     "name": "stdout",
     "output_type": "stream",
     "text": [
      "\n",
      "\n",
      "-------------\n",
      "Column Name:  basementsqft \n",
      "--------------\n",
      "Numerical: Divided by Quartile\n",
      " -  5 bins\n"
     ]
    },
    {
     "data": {
      "text/markdown": [
       "|                             |   basementsqft |\n",
       "|:----------------------------|---------------:|\n",
       "| (34.477000000000004, 742.4] |             36 |\n",
       "| (742.4, 1446.8]             |             10 |\n",
       "| (1446.8, 2151.2]            |              2 |\n",
       "| (2151.2, 2855.6]            |              0 |\n",
       "| (2855.6, 3560.0]            |              2 |"
      ],
      "text/plain": [
       "<IPython.core.display.Markdown object>"
      ]
     },
     "metadata": {},
     "output_type": "display_data"
    },
    {
     "name": "stdout",
     "output_type": "stream",
     "text": [
      "\n",
      "\n",
      "-------------\n",
      "Column Name:  bathrooms \n",
      "--------------\n",
      "Numerical: Divided by Quartile\n",
      " -  5 bins\n"
     ]
    },
    {
     "data": {
      "text/markdown": [
       "|              |   bathrooms |\n",
       "|:-------------|------------:|\n",
       "| (0.982, 4.4] |       73839 |\n",
       "| (4.4, 7.8]   |        2536 |\n",
       "| (7.8, 11.2]  |         144 |\n",
       "| (11.2, 14.6] |           1 |\n",
       "| (14.6, 18.0] |           1 |"
      ],
      "text/plain": [
       "<IPython.core.display.Markdown object>"
      ]
     },
     "metadata": {},
     "output_type": "display_data"
    },
    {
     "name": "stdout",
     "output_type": "stream",
     "text": [
      "\n",
      "\n",
      "-------------\n",
      "Column Name:  bedrooms \n",
      "--------------\n",
      "Numerical: Divided by Quartile\n",
      " -  5 bins\n"
     ]
    },
    {
     "data": {
      "text/markdown": [
       "|              |   bedrooms |\n",
       "|:-------------|-----------:|\n",
       "| (0.984, 4.0] |      70394 |\n",
       "| (4.0, 7.0]   |       5748 |\n",
       "| (7.0, 10.0]  |        353 |\n",
       "| (10.0, 13.0] |         24 |\n",
       "| (13.0, 16.0] |          2 |"
      ],
      "text/plain": [
       "<IPython.core.display.Markdown object>"
      ]
     },
     "metadata": {},
     "output_type": "display_data"
    },
    {
     "name": "stdout",
     "output_type": "stream",
     "text": [
      "\n",
      "\n",
      "-------------\n",
      "Column Name:  quality_type \n",
      "--------------\n",
      "Numerical: Divided by Quartile\n",
      " -  5 bins\n"
     ]
    },
    {
     "data": {
      "text/markdown": [
       "|              |   quality_type |\n",
       "|:-------------|---------------:|\n",
       "| (0.988, 3.2] |            354 |\n",
       "| (3.2, 5.4]   |          11514 |\n",
       "| (5.4, 7.6]   |          19344 |\n",
       "| (7.6, 9.8]   |          16859 |\n",
       "| (9.8, 12.0]  |           1351 |"
      ],
      "text/plain": [
       "<IPython.core.display.Markdown object>"
      ]
     },
     "metadata": {},
     "output_type": "display_data"
    },
    {
     "name": "stdout",
     "output_type": "stream",
     "text": [
      "\n",
      "\n",
      "-------------\n",
      "Column Name:  calc_bath_n_bed \n",
      "--------------\n",
      "Numerical: Divided by Quartile\n",
      " -  5 bins\n"
     ]
    },
    {
     "data": {
      "text/markdown": [
       "|              |   calc_bath_n_bed |\n",
       "|:-------------|------------------:|\n",
       "| (0.982, 4.4] |             73824 |\n",
       "| (4.4, 7.8]   |              2535 |\n",
       "| (7.8, 11.2]  |               144 |\n",
       "| (11.2, 14.6] |                 1 |\n",
       "| (14.6, 18.0] |                 1 |"
      ],
      "text/plain": [
       "<IPython.core.display.Markdown object>"
      ]
     },
     "metadata": {},
     "output_type": "display_data"
    },
    {
     "name": "stdout",
     "output_type": "stream",
     "text": [
      "\n",
      "\n",
      "-------------\n",
      "Column Name:  deck_type \n",
      "--------------\n",
      "Numerical: Divided by Quartile\n",
      " -  5 bins\n"
     ]
    },
    {
     "data": {
      "text/markdown": [
       "|                            |   deck_type |\n",
       "|:---------------------------|------------:|\n",
       "| (65.93299999999999, 65.96] |           0 |\n",
       "| (65.96, 65.987]            |           0 |\n",
       "| (65.987, 66.013]           |         612 |\n",
       "| (66.013, 66.04]            |           0 |\n",
       "| (66.04, 66.066]            |           0 |"
      ],
      "text/plain": [
       "<IPython.core.display.Markdown object>"
      ]
     },
     "metadata": {},
     "output_type": "display_data"
    },
    {
     "name": "stdout",
     "output_type": "stream",
     "text": [
      "\n",
      "\n",
      "-------------\n",
      "Column Name:  floor_1_sqft \n",
      "--------------\n",
      "Numerical: Divided by Quartile\n",
      " -  5 bins\n"
     ]
    },
    {
     "data": {
      "text/markdown": [
       "|                  |   floor_1_sqft |\n",
       "|:-----------------|---------------:|\n",
       "| (37.131, 1417.6] |           3720 |\n",
       "| (1417.6, 2791.2] |           2065 |\n",
       "| (2791.2, 4164.8] |            174 |\n",
       "| (4164.8, 5538.4] |             37 |\n",
       "| (5538.4, 6912.0] |             10 |"
      ],
      "text/plain": [
       "<IPython.core.display.Markdown object>"
      ]
     },
     "metadata": {},
     "output_type": "display_data"
    },
    {
     "name": "stdout",
     "output_type": "stream",
     "text": [
      "\n",
      "\n",
      "-------------\n",
      "Column Name:  tot_sqft \n",
      "--------------\n",
      "Numerical: Divided by Quartile\n",
      " -  5 bins\n"
     ]
    },
    {
     "data": {
      "text/markdown": [
       "|                    |   tot_sqft |\n",
       "|:-------------------|-----------:|\n",
       "| (130.222, 4507.4]  |      75161 |\n",
       "| (4507.4, 8862.8]   |       1297 |\n",
       "| (8862.8, 13218.2]  |         56 |\n",
       "| (13218.2, 17573.6] |          4 |\n",
       "| (17573.6, 21929.0] |          3 |"
      ],
      "text/plain": [
       "<IPython.core.display.Markdown object>"
      ]
     },
     "metadata": {},
     "output_type": "display_data"
    },
    {
     "name": "stdout",
     "output_type": "stream",
     "text": [
      "\n",
      "\n",
      "-------------\n",
      "Column Name:  sqft_12 \n",
      "--------------\n",
      "Numerical: Divided by Quartile\n",
      " -  5 bins\n"
     ]
    },
    {
     "data": {
      "text/markdown": [
       "|                    |   sqft_12 |\n",
       "|:-------------------|----------:|\n",
       "| (130.222, 4507.4]  |     72131 |\n",
       "| (4507.4, 8862.8]   |      1196 |\n",
       "| (8862.8, 13218.2]  |        56 |\n",
       "| (13218.2, 17573.6] |         4 |\n",
       "| (17573.6, 21929.0] |         3 |"
      ],
      "text/plain": [
       "<IPython.core.display.Markdown object>"
      ]
     },
     "metadata": {},
     "output_type": "display_data"
    },
    {
     "name": "stdout",
     "output_type": "stream",
     "text": [
      "\n",
      "\n",
      "-------------\n",
      "Column Name:  sqft_13 \n",
      "--------------\n",
      "Numerical: Divided by Quartile\n",
      " -  5 bins\n"
     ]
    },
    {
     "data": {
      "text/markdown": [
       "|                              |   sqft_13 |\n",
       "|:-----------------------------|----------:|\n",
       "| (1055.4950000000001, 1156.8] |         3 |\n",
       "| (1156.8, 1257.6]             |         3 |\n",
       "| (1257.6, 1358.4]             |         4 |\n",
       "| (1358.4, 1459.2]             |        11 |\n",
       "| (1459.2, 1560.0]             |         5 |"
      ],
      "text/plain": [
       "<IPython.core.display.Markdown object>"
      ]
     },
     "metadata": {},
     "output_type": "display_data"
    },
    {
     "name": "stdout",
     "output_type": "stream",
     "text": [
      "\n",
      "\n",
      "-------------\n",
      "Column Name:  sqft_15 \n",
      "--------------\n",
      "Numerical: Divided by Quartile\n",
      " -  5 bins\n"
     ]
    },
    {
     "data": {
      "text/markdown": [
       "|                   |   sqft_15 |\n",
       "|:------------------|----------:|\n",
       "| (590.607, 2076.4] |      1435 |\n",
       "| (2076.4, 3554.8]  |      1117 |\n",
       "| (3554.8, 5033.2]  |       332 |\n",
       "| (5033.2, 6511.6]  |        37 |\n",
       "| (6511.6, 7990.0]  |         6 |"
      ],
      "text/plain": [
       "<IPython.core.display.Markdown object>"
      ]
     },
     "metadata": {},
     "output_type": "display_data"
    },
    {
     "name": "stdout",
     "output_type": "stream",
     "text": [
      "\n",
      "\n",
      "-------------\n",
      "Column Name:  sqft_50 \n",
      "--------------\n",
      "Numerical: Divided by Quartile\n",
      " -  5 bins\n"
     ]
    },
    {
     "data": {
      "text/markdown": [
       "|                   |   sqft_50 |\n",
       "|:------------------|----------:|\n",
       "| (31.576, 2528.6]  |      5680 |\n",
       "| (2528.6, 5013.2]  |       298 |\n",
       "| (5013.2, 7497.8]  |        24 |\n",
       "| (7497.8, 9982.4]  |         3 |\n",
       "| (9982.4, 12467.0] |         1 |"
      ],
      "text/plain": [
       "<IPython.core.display.Markdown object>"
      ]
     },
     "metadata": {},
     "output_type": "display_data"
    },
    {
     "name": "stdout",
     "output_type": "stream",
     "text": [
      "\n",
      "\n",
      "-------------\n",
      "Column Name:  sqft_6 \n",
      "--------------\n",
      "Numerical: Divided by Quartile\n",
      " -  5 bins\n"
     ]
    },
    {
     "data": {
      "text/markdown": [
       "|                   |   sqft_6 |\n",
       "|:------------------|---------:|\n",
       "| (374.781, 1423.6] |      141 |\n",
       "| (1423.6, 2467.2]  |       23 |\n",
       "| (2467.2, 3510.8]  |        7 |\n",
       "| (3510.8, 4554.4]  |        6 |\n",
       "| (4554.4, 5598.0]  |        1 |"
      ],
      "text/plain": [
       "<IPython.core.display.Markdown object>"
      ]
     },
     "metadata": {},
     "output_type": "display_data"
    },
    {
     "name": "stdout",
     "output_type": "stream",
     "text": [
      "\n",
      "\n",
      "-------------\n",
      "Column Name:  fips \n",
      "--------------\n",
      "Categorical:\n",
      " -  3 Categories\n"
     ]
    },
    {
     "data": {
      "text/markdown": [
       "|                    |   fips |\n",
       "|:-------------------|-------:|\n",
       "| Los Angeles County |  50135 |\n",
       "| Orange County      |  20276 |\n",
       "| Ventura County     |   6110 |"
      ],
      "text/plain": [
       "<IPython.core.display.Markdown object>"
      ]
     },
     "metadata": {},
     "output_type": "display_data"
    },
    {
     "name": "stdout",
     "output_type": "stream",
     "text": [
      "\n",
      "\n",
      "-------------\n",
      "Column Name:  fireplaces \n",
      "--------------\n",
      "Numerical: Divided by Quartile\n",
      " -  5 bins\n"
     ]
    },
    {
     "data": {
      "text/markdown": [
       "|              |   fireplaces |\n",
       "|:-------------|-------------:|\n",
       "| (0.995, 1.8] |         6990 |\n",
       "| (1.8, 2.6]   |          988 |\n",
       "| (2.6, 3.4]   |          232 |\n",
       "| (3.4, 4.2]   |           34 |\n",
       "| (4.2, 5.0]   |            3 |"
      ],
      "text/plain": [
       "<IPython.core.display.Markdown object>"
      ]
     },
     "metadata": {},
     "output_type": "display_data"
    },
    {
     "name": "stdout",
     "output_type": "stream",
     "text": [
      "\n",
      "\n",
      "-------------\n",
      "Column Name:  full_baths \n",
      "--------------\n",
      "Numerical: Divided by Quartile\n",
      " -  5 bins\n"
     ]
    },
    {
     "data": {
      "text/markdown": [
       "|              |   full_baths |\n",
       "|:-------------|-------------:|\n",
       "| (0.982, 4.4] |        74540 |\n",
       "| (4.4, 7.8]   |         1819 |\n",
       "| (7.8, 11.2]  |          144 |\n",
       "| (11.2, 14.6] |            1 |\n",
       "| (14.6, 18.0] |            1 |"
      ],
      "text/plain": [
       "<IPython.core.display.Markdown object>"
      ]
     },
     "metadata": {},
     "output_type": "display_data"
    },
    {
     "name": "stdout",
     "output_type": "stream",
     "text": [
      "\n",
      "\n",
      "-------------\n",
      "Column Name:  garages \n",
      "--------------\n",
      "Numerical: Divided by Quartile\n",
      " -  5 bins\n"
     ]
    },
    {
     "data": {
      "text/markdown": [
       "|               |   garages |\n",
       "|:--------------|----------:|\n",
       "| (-0.015, 2.8] |     24329 |\n",
       "| (2.8, 5.6]    |       930 |\n",
       "| (5.6, 8.4]    |        20 |\n",
       "| (8.4, 11.2]   |         6 |\n",
       "| (11.2, 14.0]  |         2 |"
      ],
      "text/plain": [
       "<IPython.core.display.Markdown object>"
      ]
     },
     "metadata": {},
     "output_type": "display_data"
    },
    {
     "name": "stdout",
     "output_type": "stream",
     "text": [
      "\n",
      "\n",
      "-------------\n",
      "Column Name:  garage_sqft \n",
      "--------------\n",
      "Numerical: Divided by Quartile\n",
      " -  5 bins\n"
     ]
    },
    {
     "data": {
      "text/markdown": [
       "|                             |   garage_sqft |\n",
       "|:----------------------------|--------------:|\n",
       "| (-4.252000000000001, 850.2] |         24911 |\n",
       "| (850.2, 1700.4]             |           360 |\n",
       "| (1700.4, 2550.6]            |             8 |\n",
       "| (2550.6, 3400.8]            |             6 |\n",
       "| (3400.8, 4251.0]            |             2 |"
      ],
      "text/plain": [
       "<IPython.core.display.Markdown object>"
      ]
     },
     "metadata": {},
     "output_type": "display_data"
    },
    {
     "name": "stdout",
     "output_type": "stream",
     "text": [
      "\n",
      "\n",
      "-------------\n",
      "Column Name:  hot_tub \n",
      "--------------\n",
      "Numerical: Divided by Quartile\n",
      " -  5 bins\n"
     ]
    },
    {
     "data": {
      "text/markdown": [
       "|                  |   hot_tub |\n",
       "|:-----------------|----------:|\n",
       "| (0.9989, 0.9994] |         0 |\n",
       "| (0.9994, 0.9998] |         0 |\n",
       "| (0.9998, 1.0002] |      1538 |\n",
       "| (1.0002, 1.0006] |         0 |\n",
       "| (1.0006, 1.001]  |         0 |"
      ],
      "text/plain": [
       "<IPython.core.display.Markdown object>"
      ]
     },
     "metadata": {},
     "output_type": "display_data"
    },
    {
     "name": "stdout",
     "output_type": "stream",
     "text": [
      "\n",
      "\n",
      "-------------\n",
      "Column Name:  lat \n",
      "--------------\n",
      "Numerical: Divided by Quartile\n",
      " -  5 bins\n"
     ]
    },
    {
     "data": {
      "text/markdown": [
       "|                                  |   lat |\n",
       "|:---------------------------------|------:|\n",
       "| (33338047.759000003, 33635375.0] |  6254 |\n",
       "| (33635375.0, 33931223.0]         | 24528 |\n",
       "| (33931223.0, 34227071.0]         | 32754 |\n",
       "| (34227071.0, 34522919.0]         |  9336 |\n",
       "| (34522919.0, 34818767.0]         |  3649 |"
      ],
      "text/plain": [
       "<IPython.core.display.Markdown object>"
      ]
     },
     "metadata": {},
     "output_type": "display_data"
    },
    {
     "name": "stdout",
     "output_type": "stream",
     "text": [
      "\n",
      "\n",
      "-------------\n",
      "Column Name:  lon \n",
      "--------------\n",
      "Numerical: Divided by Quartile\n",
      " -  5 bins\n"
     ]
    },
    {
     "data": {
      "text/markdown": [
       "|                                |   lon |\n",
       "|:-------------------------------|------:|\n",
       "| (-119477336.781, -119091260.0] |  2151 |\n",
       "| (-119091260.0, -118707104.0]   |  4089 |\n",
       "| (-118707104.0, -118322948.0]   | 21193 |\n",
       "| (-118322948.0, -117938792.0]   | 29266 |\n",
       "| (-117938792.0, -117554636.0]   | 19822 |"
      ],
      "text/plain": [
       "<IPython.core.display.Markdown object>"
      ]
     },
     "metadata": {},
     "output_type": "display_data"
    },
    {
     "name": "stdout",
     "output_type": "stream",
     "text": [
      "\n",
      "\n",
      "-------------\n",
      "Column Name:  lot_sqft \n",
      "--------------\n",
      "Numerical: Divided by Quartile\n",
      " -  5 bins\n"
     ]
    },
    {
     "data": {
      "text/markdown": [
       "|                                 |   lot_sqft |\n",
       "|:--------------------------------|-----------:|\n",
       "| (-6734.775000000001, 1394390.8] |      68333 |\n",
       "| (1394390.8, 2788545.6]          |         40 |\n",
       "| (2788545.6, 4182700.4]          |         10 |\n",
       "| (4182700.4, 5576855.2]          |          0 |\n",
       "| (5576855.2, 6971010.0]          |          7 |"
      ],
      "text/plain": [
       "<IPython.core.display.Markdown object>"
      ]
     },
     "metadata": {},
     "output_type": "display_data"
    },
    {
     "name": "stdout",
     "output_type": "stream",
     "text": [
      "\n",
      "\n",
      "-------------\n",
      "Column Name:  pools \n",
      "--------------\n",
      "Numerical: Divided by Quartile\n",
      " -  5 bins\n"
     ]
    },
    {
     "data": {
      "text/markdown": [
       "|                  |   pools |\n",
       "|:-----------------|--------:|\n",
       "| (0.9989, 0.9994] |       0 |\n",
       "| (0.9994, 0.9998] |       0 |\n",
       "| (0.9998, 1.0002] |   16048 |\n",
       "| (1.0002, 1.0006] |       0 |\n",
       "| (1.0006, 1.001]  |       0 |"
      ],
      "text/plain": [
       "<IPython.core.display.Markdown object>"
      ]
     },
     "metadata": {},
     "output_type": "display_data"
    },
    {
     "name": "stdout",
     "output_type": "stream",
     "text": [
      "\n",
      "\n",
      "-------------\n",
      "Column Name:  pool_sqft \n",
      "--------------\n",
      "Numerical: Divided by Quartile\n",
      " -  5 bins\n"
     ]
    },
    {
     "data": {
      "text/markdown": [
       "|                  |   pool_sqft |\n",
       "|:-----------------|------------:|\n",
       "| (22.523, 319.2]  |          53 |\n",
       "| (319.2, 614.4]   |         626 |\n",
       "| (614.4, 909.6]   |         169 |\n",
       "| (909.6, 1204.8]  |          12 |\n",
       "| (1204.8, 1500.0] |           2 |"
      ],
      "text/plain": [
       "<IPython.core.display.Markdown object>"
      ]
     },
     "metadata": {},
     "output_type": "display_data"
    },
    {
     "name": "stdout",
     "output_type": "stream",
     "text": [
      "\n",
      "\n",
      "-------------\n",
      "Column Name:  pool_id10 \n",
      "--------------\n",
      "Numerical: Divided by Quartile\n",
      " -  5 bins\n"
     ]
    },
    {
     "data": {
      "text/markdown": [
       "|                  |   pool_id10 |\n",
       "|:-----------------|------------:|\n",
       "| (0.9989, 0.9994] |           0 |\n",
       "| (0.9994, 0.9998] |           0 |\n",
       "| (0.9998, 1.0002] |         464 |\n",
       "| (1.0002, 1.0006] |           0 |\n",
       "| (1.0006, 1.001]  |           0 |"
      ],
      "text/plain": [
       "<IPython.core.display.Markdown object>"
      ]
     },
     "metadata": {},
     "output_type": "display_data"
    },
    {
     "name": "stdout",
     "output_type": "stream",
     "text": [
      "\n",
      "\n",
      "-------------\n",
      "Column Name:  pool_id2 \n",
      "--------------\n",
      "Numerical: Divided by Quartile\n",
      " -  5 bins\n"
     ]
    },
    {
     "data": {
      "text/markdown": [
       "|                  |   pool_id2 |\n",
       "|:-----------------|-----------:|\n",
       "| (0.9989, 0.9994] |          0 |\n",
       "| (0.9994, 0.9998] |          0 |\n",
       "| (0.9998, 1.0002] |       1074 |\n",
       "| (1.0002, 1.0006] |          0 |\n",
       "| (1.0006, 1.001]  |          0 |"
      ],
      "text/plain": [
       "<IPython.core.display.Markdown object>"
      ]
     },
     "metadata": {},
     "output_type": "display_data"
    },
    {
     "name": "stdout",
     "output_type": "stream",
     "text": [
      "\n",
      "\n",
      "-------------\n",
      "Column Name:  pool_id7 \n",
      "--------------\n",
      "Numerical: Divided by Quartile\n",
      " -  5 bins\n"
     ]
    },
    {
     "data": {
      "text/markdown": [
       "|                  |   pool_id7 |\n",
       "|:-----------------|-----------:|\n",
       "| (0.9989, 0.9994] |          0 |\n",
       "| (0.9994, 0.9998] |          0 |\n",
       "| (0.9998, 1.0002] |      14953 |\n",
       "| (1.0002, 1.0006] |          0 |\n",
       "| (1.0006, 1.001]  |          0 |"
      ],
      "text/plain": [
       "<IPython.core.display.Markdown object>"
      ]
     },
     "metadata": {},
     "output_type": "display_data"
    },
    {
     "name": "stdout",
     "output_type": "stream",
     "text": [
      "\n",
      "\n",
      "-------------\n",
      "Column Name:  county_landuse \n",
      "--------------\n",
      "Categorical:\n",
      " -  61 Categories\n",
      "\n",
      " 0100    26675\n",
      "122     13011\n",
      "010C     8701\n",
      "0101     6398\n",
      "34       4888\n",
      "        ...  \n",
      "0301        1\n",
      "0133        1\n",
      "0204        1\n",
      "0131        1\n",
      "020E        1\n",
      "Name: county_landuse, Length: 61, dtype: int64\n",
      "\n",
      "\n",
      "-------------\n",
      "Column Name:  zoning \n",
      "--------------\n",
      "Categorical:\n",
      " -  1894 Categories\n",
      "\n",
      " None         26604\n",
      "LAR1          6731\n",
      "LAR3          2409\n",
      "LARS          1389\n",
      "LBR1N         1219\n",
      "             ...  \n",
      "AHPRD10*         1\n",
      "RBR4             1\n",
      "HAC2YY           1\n",
      "LCR17500         1\n",
      "BFA15000*        1\n",
      "Name: zoning, Length: 1894, dtype: int64\n",
      "\n",
      "\n",
      "-------------\n",
      "Column Name:  raw_tract_and_block \n",
      "--------------\n",
      "Numerical: Divided by Quartile\n",
      " -  5 bins\n"
     ]
    },
    {
     "data": {
      "text/markdown": [
       "|                                    |   raw_tract_and_block |\n",
       "|:-----------------------------------|----------------------:|\n",
       "| (60370272.019999996, 60518827.081] |                 50135 |\n",
       "| (60518827.081, 60666643.061]       |                 20276 |\n",
       "| (60666643.061, 60814459.041]       |                     0 |\n",
       "| (60814459.041, 60962275.021]       |                     0 |\n",
       "| (60962275.021, 61110091.001]       |                  6110 |"
      ],
      "text/plain": [
       "<IPython.core.display.Markdown object>"
      ]
     },
     "metadata": {},
     "output_type": "display_data"
    },
    {
     "name": "stdout",
     "output_type": "stream",
     "text": [
      "\n",
      "\n",
      "-------------\n",
      "Column Name:  city_id \n",
      "--------------\n",
      "Numerical: Divided by Quartile\n",
      " -  5 bins\n"
     ]
    },
    {
     "data": {
      "text/markdown": [
       "|                               |   city_id |\n",
       "|:------------------------------|----------:|\n",
       "| (3097.9339999999997, 82104.0] |     72958 |\n",
       "| (82104.0, 160717.0]           |      1046 |\n",
       "| (160717.0, 239330.0]          |         0 |\n",
       "| (239330.0, 317943.0]          |        24 |\n",
       "| (317943.0, 396556.0]          |      1047 |"
      ],
      "text/plain": [
       "<IPython.core.display.Markdown object>"
      ]
     },
     "metadata": {},
     "output_type": "display_data"
    },
    {
     "name": "stdout",
     "output_type": "stream",
     "text": [
      "\n",
      "\n",
      "-------------\n",
      "Column Name:  county_id \n",
      "--------------\n",
      "Numerical: Divided by Quartile\n",
      " -  5 bins\n"
     ]
    },
    {
     "data": {
      "text/markdown": [
       "|                    |   county_id |\n",
       "|:-------------------|------------:|\n",
       "| (1284.184, 1649.0] |       20276 |\n",
       "| (1649.0, 2012.0]   |           0 |\n",
       "| (2012.0, 2375.0]   |        6110 |\n",
       "| (2375.0, 2738.0]   |           0 |\n",
       "| (2738.0, 3101.0]   |       50135 |"
      ],
      "text/plain": [
       "<IPython.core.display.Markdown object>"
      ]
     },
     "metadata": {},
     "output_type": "display_data"
    },
    {
     "name": "stdout",
     "output_type": "stream",
     "text": [
      "\n",
      "\n",
      "-------------\n",
      "Column Name:  neighborhood \n",
      "--------------\n",
      "Numerical: Divided by Quartile\n",
      " -  5 bins\n"
     ]
    },
    {
     "data": {
      "text/markdown": [
       "|                      |   neighborhood |\n",
       "|:---------------------|---------------:|\n",
       "| (6194.784, 158395.0] |          16024 |\n",
       "| (158395.0, 309838.0] |          11403 |\n",
       "| (309838.0, 461281.0] |           1970 |\n",
       "| (461281.0, 612724.0] |              0 |\n",
       "| (612724.0, 764167.0] |           1129 |"
      ],
      "text/plain": [
       "<IPython.core.display.Markdown object>"
      ]
     },
     "metadata": {},
     "output_type": "display_data"
    },
    {
     "name": "stdout",
     "output_type": "stream",
     "text": [
      "\n",
      "\n",
      "-------------\n",
      "Column Name:  zip_code \n",
      "--------------\n",
      "Numerical: Divided by Quartile\n",
      " -  5 bins\n"
     ]
    },
    {
     "data": {
      "text/markdown": [
       "|                       |   zip_code |\n",
       "|:----------------------|-----------:|\n",
       "| (95678.306, 156720.6] |      76465 |\n",
       "| (156720.6, 217459.2]  |          0 |\n",
       "| (217459.2, 278197.8]  |          0 |\n",
       "| (278197.8, 338936.4]  |          0 |\n",
       "| (338936.4, 399675.0]  |         12 |"
      ],
      "text/plain": [
       "<IPython.core.display.Markdown object>"
      ]
     },
     "metadata": {},
     "output_type": "display_data"
    },
    {
     "name": "stdout",
     "output_type": "stream",
     "text": [
      "\n",
      "\n",
      "-------------\n",
      "Column Name:  num_rooms \n",
      "--------------\n",
      "Numerical: Divided by Quartile\n",
      " -  5 bins\n"
     ]
    },
    {
     "data": {
      "text/markdown": [
       "|               |   num_rooms |\n",
       "|:--------------|------------:|\n",
       "| (-0.016, 3.0] |       59196 |\n",
       "| (3.0, 6.0]    |        8934 |\n",
       "| (6.0, 9.0]    |        7894 |\n",
       "| (9.0, 12.0]   |         480 |\n",
       "| (12.0, 15.0]  |          17 |"
      ],
      "text/plain": [
       "<IPython.core.display.Markdown object>"
      ]
     },
     "metadata": {},
     "output_type": "display_data"
    },
    {
     "name": "stdout",
     "output_type": "stream",
     "text": [
      "\n",
      "\n",
      "-------------\n",
      "Column Name:  stories_type \n",
      "--------------\n",
      "Numerical: Divided by Quartile\n",
      " -  5 bins\n"
     ]
    },
    {
     "data": {
      "text/markdown": [
       "|                |   stories_type |\n",
       "|:---------------|---------------:|\n",
       "| (6.992, 6.996] |              0 |\n",
       "| (6.996, 6.999] |              0 |\n",
       "| (6.999, 7.001] |             50 |\n",
       "| (7.001, 7.004] |              0 |\n",
       "| (7.004, 7.007] |              0 |"
      ],
      "text/plain": [
       "<IPython.core.display.Markdown object>"
      ]
     },
     "metadata": {},
     "output_type": "display_data"
    },
    {
     "name": "stdout",
     "output_type": "stream",
     "text": [
      "\n",
      "\n",
      "-------------\n",
      "Column Name:  three_quarter_baths \n",
      "--------------\n",
      "Numerical: Divided by Quartile\n",
      " -  5 bins\n"
     ]
    },
    {
     "data": {
      "text/markdown": [
       "|              |   three_quarter_baths |\n",
       "|:-------------|----------------------:|\n",
       "| (0.993, 2.2] |                 10085 |\n",
       "| (2.2, 3.4]   |                     8 |\n",
       "| (3.4, 4.6]   |                     0 |\n",
       "| (4.6, 5.8]   |                     0 |\n",
       "| (5.8, 7.0]   |                     1 |"
      ],
      "text/plain": [
       "<IPython.core.display.Markdown object>"
      ]
     },
     "metadata": {},
     "output_type": "display_data"
    },
    {
     "name": "stdout",
     "output_type": "stream",
     "text": [
      "\n",
      "\n",
      "-------------\n",
      "Column Name:  units \n",
      "--------------\n",
      "Numerical: Divided by Quartile\n",
      " -  5 bins\n"
     ]
    },
    {
     "data": {
      "text/markdown": [
       "|              |   units |\n",
       "|:-------------|--------:|\n",
       "| (0.994, 2.0] |   48890 |\n",
       "| (2.0, 3.0]   |     480 |\n",
       "| (3.0, 4.0]   |     614 |\n",
       "| (4.0, 5.0]   |       0 |\n",
       "| (5.0, 6.0]   |       1 |"
      ],
      "text/plain": [
       "<IPython.core.display.Markdown object>"
      ]
     },
     "metadata": {},
     "output_type": "display_data"
    },
    {
     "name": "stdout",
     "output_type": "stream",
     "text": [
      "\n",
      "\n",
      "-------------\n",
      "Column Name:  yard_sqft_17 \n",
      "--------------\n",
      "Numerical: Divided by Quartile\n",
      " -  5 bins\n"
     ]
    },
    {
     "data": {
      "text/markdown": [
       "|                  |   yard_sqft_17 |\n",
       "|:-----------------|---------------:|\n",
       "| (7.819, 647.0]   |           2232 |\n",
       "| (647.0, 1283.0]  |            128 |\n",
       "| (1283.0, 1919.0] |             10 |\n",
       "| (1919.0, 2555.0] |              4 |\n",
       "| (2555.0, 3191.0] |              3 |"
      ],
      "text/plain": [
       "<IPython.core.display.Markdown object>"
      ]
     },
     "metadata": {},
     "output_type": "display_data"
    },
    {
     "name": "stdout",
     "output_type": "stream",
     "text": [
      "\n",
      "\n",
      "-------------\n",
      "Column Name:  yard_sqft_26 \n",
      "--------------\n",
      "Numerical: Divided by Quartile\n",
      " -  5 bins\n"
     ]
    },
    {
     "data": {
      "text/markdown": [
       "|                 |   yard_sqft_26 |\n",
       "|:----------------|---------------:|\n",
       "| (11.143, 183.2] |             38 |\n",
       "| (183.2, 354.4]  |             17 |\n",
       "| (354.4, 525.6]  |             10 |\n",
       "| (525.6, 696.8]  |              3 |\n",
       "| (696.8, 868.0]  |              2 |"
      ],
      "text/plain": [
       "<IPython.core.display.Markdown object>"
      ]
     },
     "metadata": {},
     "output_type": "display_data"
    },
    {
     "name": "stdout",
     "output_type": "stream",
     "text": [
      "\n",
      "\n",
      "-------------\n",
      "Column Name:  year_built \n",
      "--------------\n",
      "Categorical:\n",
      " -  137 Categories\n",
      "\n",
      " 1955.0    1956\n",
      "1989.0    1786\n",
      "1950.0    1663\n",
      "1964.0    1611\n",
      "1954.0    1580\n",
      "          ... \n",
      "1866.0       1\n",
      "1824.0       1\n",
      "1882.0       1\n",
      "1894.0       1\n",
      "1880.0       1\n",
      "Name: year_built, Length: 137, dtype: int64\n",
      "\n",
      "\n",
      "-------------\n",
      "Column Name:  num_stories \n",
      "--------------\n",
      "Numerical: Divided by Quartile\n",
      " -  5 bins\n"
     ]
    },
    {
     "data": {
      "text/markdown": [
       "|              |   num_stories |\n",
       "|:-------------|--------------:|\n",
       "| (0.994, 2.0] |         16900 |\n",
       "| (2.0, 3.0]   |           435 |\n",
       "| (3.0, 4.0]   |             0 |\n",
       "| (4.0, 5.0]   |             0 |\n",
       "| (5.0, 6.0]   |             1 |"
      ],
      "text/plain": [
       "<IPython.core.display.Markdown object>"
      ]
     },
     "metadata": {},
     "output_type": "display_data"
    },
    {
     "name": "stdout",
     "output_type": "stream",
     "text": [
      "\n",
      "\n",
      "-------------\n",
      "Column Name:  fireplace_flag \n",
      "--------------\n",
      "Numerical: Divided by Quartile\n",
      " -  5 bins\n"
     ]
    },
    {
     "data": {
      "text/markdown": [
       "|                  |   fireplace_flag |\n",
       "|:-----------------|-----------------:|\n",
       "| (0.9989, 0.9994] |                0 |\n",
       "| (0.9994, 0.9998] |                0 |\n",
       "| (0.9998, 1.0002] |              172 |\n",
       "| (1.0002, 1.0006] |                0 |\n",
       "| (1.0006, 1.001]  |                0 |"
      ],
      "text/plain": [
       "<IPython.core.display.Markdown object>"
      ]
     },
     "metadata": {},
     "output_type": "display_data"
    },
    {
     "name": "stdout",
     "output_type": "stream",
     "text": [
      "\n",
      "\n",
      "-------------\n",
      "Column Name:  building_tax_value \n",
      "--------------\n",
      "Numerical: Divided by Quartile\n",
      " -  5 bins\n"
     ]
    },
    {
     "data": {
      "text/markdown": [
       "|                        |   building_tax_value |\n",
       "|:-----------------------|---------------------:|\n",
       "| (-9120.858, 1833015.4] |                76265 |\n",
       "| (1833015.4, 3665986.8] |                  147 |\n",
       "| (3665986.8, 5498958.2] |                   16 |\n",
       "| (5498958.2, 7331929.6] |                    4 |\n",
       "| (7331929.6, 9164901.0] |                    5 |"
      ],
      "text/plain": [
       "<IPython.core.display.Markdown object>"
      ]
     },
     "metadata": {},
     "output_type": "display_data"
    },
    {
     "name": "stdout",
     "output_type": "stream",
     "text": [
      "\n",
      "\n",
      "-------------\n",
      "Column Name:  tax_value \n",
      "--------------\n",
      "Numerical: Divided by Quartile\n",
      " -  5 bins\n"
     ]
    },
    {
     "data": {
      "text/markdown": [
       "|                                  |   tax_value |\n",
       "|:---------------------------------|------------:|\n",
       "| (-48060.236999999994, 9813047.2] |       76483 |\n",
       "| (9813047.2, 19625094.4]          |          32 |\n",
       "| (19625094.4, 29437141.6]         |           5 |\n",
       "| (29437141.6, 39249188.8]         |           0 |\n",
       "| (39249188.8, 49061236.0]         |           1 |"
      ],
      "text/plain": [
       "<IPython.core.display.Markdown object>"
      ]
     },
     "metadata": {},
     "output_type": "display_data"
    },
    {
     "name": "stdout",
     "output_type": "stream",
     "text": [
      "\n",
      "\n",
      "-------------\n",
      "Column Name:  year_assesed \n",
      "--------------\n",
      "Numerical: Divided by Quartile\n",
      " -  5 bins\n"
     ]
    },
    {
     "data": {
      "text/markdown": [
       "|                      |   year_assesed |\n",
       "|:---------------------|---------------:|\n",
       "| (2013.983, 2014.79]  |              0 |\n",
       "| (2014.79, 2015.597]  |              0 |\n",
       "| (2015.597, 2016.403] |          76521 |\n",
       "| (2016.403, 2017.21]  |              0 |\n",
       "| (2017.21, 2018.016]  |              0 |"
      ],
      "text/plain": [
       "<IPython.core.display.Markdown object>"
      ]
     },
     "metadata": {},
     "output_type": "display_data"
    },
    {
     "name": "stdout",
     "output_type": "stream",
     "text": [
      "\n",
      "\n",
      "-------------\n",
      "Column Name:  land_tax_value \n",
      "--------------\n",
      "Numerical: Divided by Quartile\n",
      " -  5 bins\n"
     ]
    },
    {
     "data": {
      "text/markdown": [
       "|                                 |   land_tax_value |\n",
       "|:--------------------------------|-----------------:|\n",
       "| (-48791.03799999999, 9790568.4] |            76500 |\n",
       "| (9790568.4, 19580975.8]         |               19 |\n",
       "| (19580975.8, 29371383.2]        |                1 |\n",
       "| (29371383.2, 39161790.6]        |                0 |\n",
       "| (39161790.6, 48952198.0]        |                1 |"
      ],
      "text/plain": [
       "<IPython.core.display.Markdown object>"
      ]
     },
     "metadata": {},
     "output_type": "display_data"
    },
    {
     "name": "stdout",
     "output_type": "stream",
     "text": [
      "\n",
      "\n",
      "-------------\n",
      "Column Name:  tax_amount \n",
      "--------------\n",
      "Numerical: Divided by Quartile\n",
      " -  5 bins\n"
     ]
    },
    {
     "data": {
      "text/markdown": [
       "|                                  |   tax_amount |\n",
       "|:---------------------------------|-------------:|\n",
       "| (-566.6999999999999, 117343.796] |        76482 |\n",
       "| (117343.796, 234667.672]         |           29 |\n",
       "| (234667.672, 351991.548]         |            4 |\n",
       "| (351991.548, 469315.424]         |            0 |\n",
       "| (469315.424, 586639.3]           |            1 |"
      ],
      "text/plain": [
       "<IPython.core.display.Markdown object>"
      ]
     },
     "metadata": {},
     "output_type": "display_data"
    },
    {
     "name": "stdout",
     "output_type": "stream",
     "text": [
      "\n",
      "\n",
      "-------------\n",
      "Column Name:  tax_delinquency_flag \n",
      "--------------\n",
      "Categorical:\n",
      " -  2 Categories\n"
     ]
    },
    {
     "data": {
      "text/markdown": [
       "|    |   tax_delinquency_flag |\n",
       "|:---|-----------------------:|\n",
       "|    |                  73669 |\n",
       "| Y  |                   2852 |"
      ],
      "text/plain": [
       "<IPython.core.display.Markdown object>"
      ]
     },
     "metadata": {},
     "output_type": "display_data"
    },
    {
     "name": "stdout",
     "output_type": "stream",
     "text": [
      "\n",
      "\n",
      "-------------\n",
      "Column Name:  tax_delinquency_year \n",
      "--------------\n",
      "Numerical: Divided by Quartile\n",
      " -  5 bins\n"
     ]
    },
    {
     "data": {
      "text/markdown": [
       "|               |   tax_delinquency_year |\n",
       "|:--------------|-----------------------:|\n",
       "| (2.903, 22.2] |                   2851 |\n",
       "| (22.2, 41.4]  |                      0 |\n",
       "| (41.4, 60.6]  |                      0 |\n",
       "| (60.6, 79.8]  |                      0 |\n",
       "| (79.8, 99.0]  |                      1 |"
      ],
      "text/plain": [
       "<IPython.core.display.Markdown object>"
      ]
     },
     "metadata": {},
     "output_type": "display_data"
    },
    {
     "name": "stdout",
     "output_type": "stream",
     "text": [
      "\n",
      "\n",
      "-------------\n",
      "Column Name:  tract_and_block \n",
      "--------------\n",
      "Numerical: Divided by Quartile\n",
      " -  5 bins\n"
     ]
    },
    {
     "data": {
      "text/markdown": [
       "|                                         |   tract_and_block |\n",
       "|:----------------------------------------|------------------:|\n",
       "| (59948352007016.984, 144902829897603.0] |             76300 |\n",
       "| (144902829897603.0, 229434648694206.03] |                 0 |\n",
       "| (229434648694206.03, 313966467490809.0] |                 0 |\n",
       "| (313966467490809.0, 398498286287411.94] |                 0 |\n",
       "| (398498286287411.94, 483030105084015.0] |                 1 |"
      ],
      "text/plain": [
       "<IPython.core.display.Markdown object>"
      ]
     },
     "metadata": {},
     "output_type": "display_data"
    },
    {
     "name": "stdout",
     "output_type": "stream",
     "text": [
      "\n",
      "\n",
      "-------------\n",
      "-----------------\n",
      "---End of Line---\n"
     ]
    }
   ],
   "source": [
    "summarize(df, too_long= 15, q=5)"
   ]
  },
  {
   "cell_type": "code",
   "execution_count": 44,
   "id": "c7b0ee73",
   "metadata": {},
   "outputs": [
    {
     "data": {
      "text/plain": [
       "49295"
      ]
     },
     "execution_count": 44,
     "metadata": {},
     "output_type": "execute_result"
    }
   ],
   "source": [
    "len(df.zoning.value_counts(dropna=False).to_markdown())"
   ]
  },
  {
   "cell_type": "code",
   "execution_count": 45,
   "id": "991bb7d7",
   "metadata": {},
   "outputs": [
    {
     "data": {
      "text/plain": [
       "1894"
      ]
     },
     "execution_count": 45,
     "metadata": {},
     "output_type": "execute_result"
    }
   ],
   "source": [
    "len(df.zoning.value_counts(dropna=False))"
   ]
  },
  {
   "cell_type": "code",
   "execution_count": 47,
   "id": "ef982a74",
   "metadata": {},
   "outputs": [
    {
     "data": {
      "text/plain": [
       "26.026927138331573"
      ]
     },
     "execution_count": 47,
     "metadata": {},
     "output_type": "execute_result"
    }
   ],
   "source": [
    "len(df.zoning.value_counts(dropna=False).to_markdown())/\\\n",
    "len(df.zoning.value_counts(dropna=False))"
   ]
  },
  {
   "cell_type": "code",
   "execution_count": 51,
   "id": "856408eb",
   "metadata": {
    "scrolled": true
   },
   "outputs": [
    {
     "data": {
      "text/plain": [
       "1763"
      ]
     },
     "execution_count": 51,
     "metadata": {},
     "output_type": "execute_result"
    }
   ],
   "source": [
    "len(df.county_landuse.value_counts(dropna=False).to_markdown())"
   ]
  },
  {
   "cell_type": "code",
   "execution_count": 52,
   "id": "f45f024c",
   "metadata": {},
   "outputs": [
    {
     "data": {
      "text/plain": [
       "61"
      ]
     },
     "execution_count": 52,
     "metadata": {},
     "output_type": "execute_result"
    }
   ],
   "source": [
    "len(df.county_landuse.value_counts(dropna=False))"
   ]
  },
  {
   "cell_type": "code",
   "execution_count": 53,
   "id": "89521bd1",
   "metadata": {},
   "outputs": [
    {
     "data": {
      "text/plain": [
       "28.901639344262296"
      ]
     },
     "execution_count": 53,
     "metadata": {},
     "output_type": "execute_result"
    }
   ],
   "source": [
    "len(df.county_landuse.value_counts(dropna=False).to_markdown())/\\\n",
    "len(df.county_landuse.value_counts(dropna=False))"
   ]
  },
  {
   "cell_type": "code",
   "execution_count": 29,
   "id": "fda28f53",
   "metadata": {},
   "outputs": [],
   "source": [
    "from wrangle import nulls_by_col, nulls_by_row"
   ]
  },
  {
   "cell_type": "code",
   "execution_count": 41,
   "id": "cd68ad09",
   "metadata": {
    "scrolled": true
   },
   "outputs": [
    {
     "data": {
      "text/markdown": [
       "\n",
       "    DataFrame .head():\n",
       "    -----------------\n",
       "|    |   id |   parcel |    logerror | trans_date          | ac_type   | arch_type   | build_type   | heat_type   | land_use_type             | story_type   | construction_type   |   basementsqft |   bathrooms |   bedrooms |   quality_type |   calc_bath_n_bed |   deck_type |   floor_1_sqft |   tot_sqft |   sqft_12 |   sqft_13 |   sqft_15 |   sqft_50 |   sqft_6 | fips               |   fireplaces |   full_baths |   garages |   garage_sqft |   hot_tub |         lat |          lon |   lot_sqft |   pools |   pool_sqft |   pool_id10 |   pool_id2 |   pool_id7 | county_landuse   | zoning     |   raw_tract_and_block |   city_id |   county_id |   neighborhood |   zip_code |   num_rooms |   stories_type |   three_quarter_baths |   units |   yard_sqft_17 |   yard_sqft_26 |   year_built |   num_stories |   fireplace_flag |   building_tax_value |        tax_value |   year_assesed |   land_tax_value |   tax_amount | tax_delinquency_flag   |   tax_delinquency_year |   tract_and_block |\n",
       "|---:|-----:|---------:|------------:|:--------------------|:----------|:------------|:-------------|:------------|:--------------------------|:-------------|:--------------------|---------------:|------------:|-----------:|---------------:|------------------:|------------:|---------------:|-----------:|----------:|----------:|----------:|----------:|---------:|:-------------------|-------------:|-------------:|----------:|--------------:|----------:|------------:|-------------:|-----------:|--------:|------------:|------------:|-----------:|-----------:|:-----------------|:-----------|----------------------:|----------:|------------:|---------------:|-----------:|------------:|---------------:|----------------------:|--------:|---------------:|---------------:|-------------:|--------------:|-----------------:|---------------------:|-----------------:|---------------:|-----------------:|-------------:|:-----------------------|-----------------------:|------------------:|\n",
       "|  0 |    0 | 14297519 |  0.0255949  | 2017-01-01 00:00:00 |           |             |              |             | Single Family Residential |              |                     |            nan |         3.5 |          4 |            nan |               3.5 |         nan |            nan |       3100 |      3100 |       nan |       nan |       nan |      nan | Orange County      |          nan |            3 |         2 |           633 |       nan | 3.36349e+07 | -1.17869e+08 |       4506 |     nan |         nan |         nan |        nan |        nan | 122              |            |           6.05906e+07 |     53571 |        1286 |            nan |      96978 |           0 |            nan |                     1 |     nan |            nan |            nan |         1998 |           nan |              nan |               485713 |      1.02328e+06 |           2016 |           537569 |     11013.7  |                        |                    nan |       6.05906e+13 |\n",
       "|  1 |    1 | 17052889 |  0.0556191  | 2017-01-01 00:00:00 |           |             |              |             | Single Family Residential |              |                     |            nan |         1   |          2 |            nan |               1   |         nan |           1465 |       1465 |      1465 |       nan |       nan |      1465 |      nan | Ventura County     |            1 |            1 |         1 |             0 |       nan | 3.44493e+07 | -1.19282e+08 |      12647 |     nan |         nan |         nan |        nan |        nan | 1110             |            |           6.111e+07   |     13091 |        2061 |            nan |      97099 |           5 |            nan |                   nan |     nan |            nan |            nan |         1967 |             1 |              nan |                88000 | 464000           |           2016 |           376000 |      5672.48 |                        |                    nan |       6.111e+13   |\n",
       "|  2 |    2 | 14186244 |  0.00538285 | 2017-01-01 00:00:00 |           |             |              |             | Single Family Residential |              |                     |            nan |         2   |          3 |            nan |               2   |         nan |            nan |       1243 |      1243 |       nan |       nan |       nan |      nan | Orange County      |          nan |            2 |         2 |           440 |       nan | 3.38862e+07 | -1.17823e+08 |       8432 |       1 |         nan |         nan |        nan |          1 | 122              |            |           6.05902e+07 |     21412 |        1286 |            nan |      97078 |           6 |            nan |                   nan |     nan |            nan |            nan |         1962 |             1 |              nan |                85289 | 564778           |           2016 |           479489 |      6488.3  |                        |                    nan |       6.05902e+13 |\n",
       "|  3 |    3 | 12177905 | -0.10341    | 2017-01-01 00:00:00 |           |             |              | Central     | Single Family Residential |              |                     |            nan |         3   |          4 |              8 |               3   |         nan |            nan |       2376 |      2376 |       nan |       nan |       nan |      nan | Los Angeles County |          nan |            3 |       nan |           nan |       nan | 3.42452e+07 | -1.18241e+08 |      13038 |       1 |         nan |         nan |        nan |          1 | 0101             | LCR110000* |           6.0373e+07  |    396551 |        3101 |            nan |      96330 |           0 |            nan |                   nan |       1 |            nan |            nan |         1970 |           nan |              nan |               108918 | 145143           |           2016 |            36225 |      1777.51 |                        |                    nan |       6.0373e+13  |\n",
       "|  4 |    4 | 10887214 |  0.00694036 | 2017-01-01 00:00:00 | Central   |             |              | Central     | Condominium               |              |                     |            nan |         3   |          3 |              8 |               3   |         nan |            nan |       1312 |      1312 |       nan |       nan |       nan |      nan | Los Angeles County |          nan |            3 |       nan |           nan |       nan | 3.41851e+07 | -1.18415e+08 |     278581 |       1 |         nan |         nan |        nan |          1 | 010C             | LAR3       |           6.03712e+07 |     12447 |        3101 |         268548 |      96451 |           0 |            nan |                   nan |       1 |            nan |            nan |         1964 |           nan |              nan |                73681 | 119407           |           2016 |            45726 |      1533.89 |                        |                    nan |       6.03712e+13 |\n",
       "    \n",
       "    DataFrame .info():\n",
       "    -----------------\n"
      ],
      "text/plain": [
       "<IPython.core.display.Markdown object>"
      ]
     },
     "metadata": {},
     "output_type": "display_data"
    },
    {
     "name": "stdout",
     "output_type": "stream",
     "text": [
      "<class 'pandas.core.frame.DataFrame'>\n",
      "Int64Index: 76521 entries, 0 to 76711\n",
      "Data columns (total 62 columns):\n",
      " #   Column                Non-Null Count  Dtype         \n",
      "---  ------                --------------  -----         \n",
      " 0   id                    76521 non-null  int64         \n",
      " 1   parcel                76521 non-null  int64         \n",
      " 2   logerror              76521 non-null  float64       \n",
      " 3   trans_date            76521 non-null  datetime64[ns]\n",
      " 4   ac_type               24783 non-null  object        \n",
      " 5   arch_type             206 non-null    object        \n",
      " 6   build_type            0 non-null      object        \n",
      " 7   heat_type             49185 non-null  object        \n",
      " 8   land_use_type         76521 non-null  object        \n",
      " 9   story_type            50 non-null     object        \n",
      " 10  construction_type     222 non-null    object        \n",
      " 11  basementsqft          50 non-null     float64       \n",
      " 12  bathrooms             76521 non-null  float64       \n",
      " 13  bedrooms              76521 non-null  float64       \n",
      " 14  quality_type          49422 non-null  float64       \n",
      " 15  calc_bath_n_bed       76505 non-null  float64       \n",
      " 16  deck_type             612 non-null    float64       \n",
      " 17  floor_1_sqft          6006 non-null   float64       \n",
      " 18  tot_sqft              76521 non-null  float64       \n",
      " 19  sqft_12               73390 non-null  float64       \n",
      " 20  sqft_13               26 non-null     float64       \n",
      " 21  sqft_15               2927 non-null   float64       \n",
      " 22  sqft_50               6006 non-null   float64       \n",
      " 23  sqft_6                178 non-null    float64       \n",
      " 24  fips                  76521 non-null  object        \n",
      " 25  fireplaces            8247 non-null   float64       \n",
      " 26  full_baths            76505 non-null  float64       \n",
      " 27  garages               25287 non-null  float64       \n",
      " 28  garage_sqft           25287 non-null  float64       \n",
      " 29  hot_tub               1538 non-null   float64       \n",
      " 30  lat                   76521 non-null  float64       \n",
      " 31  lon                   76521 non-null  float64       \n",
      " 32  lot_sqft              68390 non-null  float64       \n",
      " 33  pools                 16048 non-null  float64       \n",
      " 34  pool_sqft             862 non-null    float64       \n",
      " 35  pool_id10             464 non-null    float64       \n",
      " 36  pool_id2              1074 non-null   float64       \n",
      " 37  pool_id7              14953 non-null  float64       \n",
      " 38  county_landuse        76521 non-null  object        \n",
      " 39  zoning                49917 non-null  object        \n",
      " 40  raw_tract_and_block   76521 non-null  float64       \n",
      " 41  city_id               75075 non-null  float64       \n",
      " 42  county_id             76521 non-null  float64       \n",
      " 43  neighborhood          30526 non-null  float64       \n",
      " 44  zip_code              76477 non-null  float64       \n",
      " 45  num_rooms             76521 non-null  float64       \n",
      " 46  stories_type          50 non-null     float64       \n",
      " 47  three_quarter_baths   10094 non-null  float64       \n",
      " 48  units                 49985 non-null  float64       \n",
      " 49  yard_sqft_17          2377 non-null   float64       \n",
      " 50  yard_sqft_26          70 non-null     float64       \n",
      " 51  year_built            76464 non-null  object        \n",
      " 52  num_stories           17336 non-null  float64       \n",
      " 53  fireplace_flag        172 non-null    float64       \n",
      " 54  building_tax_value    76437 non-null  float64       \n",
      " 55  tax_value             76521 non-null  float64       \n",
      " 56  year_assesed          76521 non-null  float64       \n",
      " 57  land_tax_value        76521 non-null  float64       \n",
      " 58  tax_amount            76516 non-null  float64       \n",
      " 59  tax_delinquency_flag  2852 non-null   object        \n",
      " 60  tax_delinquency_year  2852 non-null   float64       \n",
      " 61  tract_and_block       76301 non-null  float64       \n",
      "dtypes: datetime64[ns](1), float64(47), int64(2), object(12)\n",
      "memory usage: 36.8+ MB\n",
      "None\n",
      "Number of Columns with nulls: 44\n"
     ]
    },
    {
     "data": {
      "text/markdown": [
       "\n",
       "    \n",
       "    DataFrame .describe():\n",
       "    -----------------\n",
       "|       |      id |          parcel |      logerror |   basementsqft |    bathrooms |    bedrooms |   quality_type |   calc_bath_n_bed |   deck_type |   floor_1_sqft |   tot_sqft |   sqft_12 |   sqft_13 |   sqft_15 |   sqft_50 |   sqft_6 |   fireplaces |   full_baths |      garages |   garage_sqft |   hot_tub |              lat |              lon |         lot_sqft |   pools |   pool_sqft |   pool_id10 |   pool_id2 |   pool_id7 |   raw_tract_and_block |   city_id |   county_id |   neighborhood |   zip_code |   num_rooms |   stories_type |   three_quarter_baths |        units |   yard_sqft_17 |   yard_sqft_26 |   num_stories |   fireplace_flag |   building_tax_value |        tax_value |   year_assesed |   land_tax_value |   tax_amount |   tax_delinquency_year |   tract_and_block |\n",
       "|:------|--------:|----------------:|--------------:|---------------:|-------------:|------------:|---------------:|------------------:|------------:|---------------:|-----------:|----------:|----------:|----------:|----------:|---------:|-------------:|-------------:|-------------:|--------------:|----------:|-----------------:|-----------------:|-----------------:|--------:|------------:|------------:|-----------:|-----------:|----------------------:|----------:|------------:|---------------:|-----------:|------------:|---------------:|----------------------:|-------------:|---------------:|---------------:|--------------:|-----------------:|---------------------:|-----------------:|---------------:|-----------------:|-------------:|-----------------------:|------------------:|\n",
       "| count | 76521   | 76521           | 76521         |         50     | 76521        | 76521       |    49422       |      76505        |         612 |       6006     |  76521     | 73390     |    26     |  2927     |  6006     |  178     |  8247        | 76505        | 25287        |     25287     |      1538 |  76521           |  76521           |  68390           |   16048 |     862     |         464 |       1074 |      14953 |       76521           |   75075   |   76521     |          30526 |   76477    | 76521       |             50 |          10094        | 49985        |       2377     |         70     |  17336        |              172 |       76437          |  76521           |          76521 |  76521           |     76516    |             2852       |   76301           |\n",
       "| mean  | 38851.4 |     1.29929e+07 |     0.016456  |        679.72  |     2.32044  |     3.08681 |        6.53428 |          2.32044  |          66 |       1364.5   |   1784.13  |  1763.08  |  1375.38  |  2347.84  |  1379.8   | 1250.69  |     1.18989  |     2.25384  |     1.82667  |       352.331 |         1 |      3.40092e+07 |     -1.18203e+08 |  29820.3         |       1 |     518.092 |           1 |          1 |          1 |           6.04905e+07 |   33674   |    2537.03  |         187034 |   96587    |     1.49141 |              7 |              1.00961  |     1.09327  |        305.218 |        216.386 |      1.42957  |                1 |      188788          | 488694           |           2016 | 300114           |      5979.33 |               14.087   |       6.0496e+13  |\n",
       "| std   | 22404.5 |     3.31108e+06 |     0.168209  |        689.704 |     0.978789 |     1.09967 |        1.7211  |          0.978795 |           0 |        668.634 |    940.759 |   932.694 |   128.218 |   968.766 |   724.192 |  809.124 |     0.489105 |     0.965785 |     0.572833 |       260.98  |         0 | 265422           | 358549           | 123294           |       0 |     156.166 |           0 |          0 |          0 |      205236           |   47227.3 |     800.745 |         165175 |    3819.19 |     2.83431 |              0 |              0.118642 |     0.421759 |        238.711 |        190.178 |      0.544421 |                0 |      223511          | 647844           |              0 | 490350           |      7554.89 |                2.19198 |       1.54339e+12 |\n",
       "| min   |     0   |     1.07119e+07 |    -4.65542   |         38     |     1        |     1       |        1       |          1        |          66 |         44     |    152     |   152     |  1056     |   598     |    44     |  380     |     1        |     1        |     0        |         0     |         1 |      3.33395e+07 |     -1.19475e+08 |    236           |       1 |      24     |           1 |          1 |          1 |           6.0371e+07  |    3491   |    1286     |           6952 |   95982    |     0       |              7 |              1        |     1        |         11     |         12     |      1        |                1 |          44          |   1000           |           2016 |    161           |        19.92 |                3       |       6.0371e+13  |\n",
       "| 25%   | 19465   |     1.15321e+07 |    -0.0242734 |        273     |     2        |     2       |        6       |          2        |          66 |        954.25  |   1184     |  1175     |  1344     |  1629.5   |   956     |  790.75  |     1        |     2        |     2        |         0     |         1 |      3.38157e+07 |     -1.18416e+08 |   5700           |       1 |     424     |           1 |          1 |          1 |           6.03731e+07 |   12447   |    1286     |          41466 |   96193    |     0       |              7 |              1        |     1        |        170     |         61.5   |      1        |                1 |       84476          | 207172           |           2016 |  85504           |      2720.42 |               14       |       6.03731e+13 |\n",
       "| 50%   | 38894   |     1.25273e+07 |     0.0066161 |        515     |     2        |     3       |        6       |          2        |          66 |       1256     |   1543     |  1525     |  1440     |  2100     |  1259     |  982.5   |     1        |     2        |     2        |       437     |         1 |      3.40225e+07 |     -1.1818e+08  |   7201           |       1 |     500     |           1 |          1 |          1 |           6.0376e+07  |   25218   |    3101     |         118825 |   96389    |     0       |              7 |              1        |     1        |        250     |        164.5   |      1        |                1 |      136734          | 359000           |           2016 | 203559           |      4451.27 |               15       |       6.0376e+13  |\n",
       "| 75%   | 58255   |     1.42094e+07 |     0.0390554 |        796.5   |     3        |     4       |        8       |          3        |          66 |       1614.75  |   2109     |  2077     |  1440     |  2839.5   |  1618.75  | 1318.25  |     1        |     3        |     2        |       493     |         1 |      3.4175e+07  |     -1.17929e+08 |  11744.5         |       1 |     600     |           1 |          1 |          1 |           6.05904e+07 |   45457   |    3101     |         274765 |   96986    |     0       |              7 |              1        |     1        |        364     |        310.5   |      2        |                1 |      218767          | 568540           |           2016 | 366162           |      6922    |               15       |       6.05904e+13 |\n",
       "| max   | 77612   |     1.67689e+08 |     5.263     |       3560     |    18        |    16       |       12       |         18        |          66 |       6912     |  21929     | 21929     |  1560     |  7990     | 12467     | 5598     |     5        |    18        |    14        |      4251     |         1 |      3.48188e+07 |     -1.17555e+08 |      6.97101e+06 |       1 |    1500     |           1 |          1 |          1 |           6.11101e+07 |  396556   |    3101     |         764167 |  399675    |    15       |              7 |              7        |     6        |       3191     |        868     |      6        |                1 |           9.1649e+06 |      4.90612e+07 |           2016 |      4.89522e+07 |    586639    |               99       |       4.8303e+14  |\n",
       "    \n",
       "    Null Value Assessments:\n",
       "    -----------------\n",
       "        \n",
       "        Nulls By Column:\n",
       "|                      |   num_rows_missing |   percent_missing |\n",
       "|:---------------------|-------------------:|------------------:|\n",
       "| ac_type              |              51738 |       67.6128     |\n",
       "| arch_type            |              76315 |       99.7308     |\n",
       "| build_type           |              76521 |      100          |\n",
       "| heat_type            |              27336 |       35.7235     |\n",
       "| story_type           |              76471 |       99.9347     |\n",
       "| construction_type    |              76299 |       99.7099     |\n",
       "| basementsqft         |              76471 |       99.9347     |\n",
       "| quality_type         |              27099 |       35.4138     |\n",
       "| calc_bath_n_bed      |                 16 |        0.0209093  |\n",
       "| deck_type            |              75909 |       99.2002     |\n",
       "| floor_1_sqft         |              70515 |       92.1512     |\n",
       "| sqft_12              |               3131 |        4.09169    |\n",
       "| sqft_13              |              76495 |       99.966      |\n",
       "| sqft_15              |              73594 |       96.1749     |\n",
       "| sqft_50              |              70515 |       92.1512     |\n",
       "| sqft_6               |              76343 |       99.7674     |\n",
       "| fireplaces           |              68274 |       89.2226     |\n",
       "| full_baths           |                 16 |        0.0209093  |\n",
       "| garages              |              51234 |       66.9542     |\n",
       "| garage_sqft          |              51234 |       66.9542     |\n",
       "| hot_tub              |              74983 |       97.9901     |\n",
       "| lot_sqft             |               8131 |       10.6258     |\n",
       "| pools                |              60473 |       79.028      |\n",
       "| pool_sqft            |              75659 |       98.8735     |\n",
       "| pool_id10            |              76057 |       99.3936     |\n",
       "| pool_id2             |              75447 |       98.5965     |\n",
       "| pool_id7             |              61568 |       80.459      |\n",
       "| zoning               |              26604 |       34.7669     |\n",
       "| city_id              |               1446 |        1.88968    |\n",
       "| neighborhood         |              45995 |       60.1077     |\n",
       "| zip_code             |                 44 |        0.0575006  |\n",
       "| stories_type         |              76471 |       99.9347     |\n",
       "| three_quarter_baths  |              66427 |       86.8088     |\n",
       "| units                |              26536 |       34.6781     |\n",
       "| yard_sqft_17         |              74144 |       96.8937     |\n",
       "| yard_sqft_26         |              76451 |       99.9085     |\n",
       "| year_built           |                 57 |        0.0744894  |\n",
       "| num_stories          |              59185 |       77.3448     |\n",
       "| fireplace_flag       |              76349 |       99.7752     |\n",
       "| building_tax_value   |                 84 |        0.109774   |\n",
       "| tax_amount           |                  5 |        0.00653415 |\n",
       "| tax_delinquency_flag |              73669 |       96.2729     |\n",
       "| tax_delinquency_year |              73669 |       96.2729     |\n",
       "| tract_and_block      |                220 |        0.287503   |\n",
       "    -----------------\n",
       "        \n",
       "        Nulls By Row:\n",
       "|    |   num_cols_missing |   percent_missing |   count |\n",
       "|---:|-------------------:|------------------:|--------:|\n",
       "|  0 |                 19 |           30.6452 |       2 |\n",
       "|  1 |                 20 |           32.2581 |       3 |\n",
       "|  2 |                 21 |           33.871  |      13 |\n",
       "|  3 |                 22 |           35.4839 |      79 |\n",
       "|  4 |                 23 |           37.0968 |     265 |\n",
       "|  5 |                 24 |           38.7097 |     606 |\n",
       "|  6 |                 25 |           40.3226 |     656 |\n",
       "|  7 |                 26 |           41.9355 |    5740 |\n",
       "|  8 |                 27 |           43.5484 |    7939 |\n",
       "|  9 |                 28 |           45.1613 |   12352 |\n",
       "| 10 |                 29 |           46.7742 |   20596 |\n",
       "| 11 |                 30 |           48.3871 |   16035 |\n",
       "| 12 |                 31 |           50      |    6314 |\n",
       "| 13 |                 32 |           51.6129 |    3458 |\n",
       "| 14 |                 33 |           53.2258 |    2043 |\n",
       "| 15 |                 34 |           54.8387 |     246 |\n",
       "| 16 |                 35 |           56.4516 |     168 |\n",
       "| 17 |                 36 |           58.0645 |       6 |\n",
       "    \n",
       "    DataFrame .value_counts():\n",
       "    -----------------\n",
       "    \n",
       "    "
      ],
      "text/plain": [
       "<IPython.core.display.Markdown object>"
      ]
     },
     "metadata": {},
     "output_type": "display_data"
    },
    {
     "name": "stdout",
     "output_type": "stream",
     "text": [
      "Column Name:  id \n",
      "--------------\n"
     ]
    },
    {
     "data": {
      "text/markdown": [
       "|                    |   id |\n",
       "|:-------------------|-----:|\n",
       "| (-77.613, 7761.2]  | 7640 |\n",
       "| (7761.2, 15522.4]  | 7626 |\n",
       "| (15522.4, 23283.6] | 7632 |\n",
       "| (23283.6, 31044.8] | 7642 |\n",
       "| (31044.8, 38806.0] | 7636 |\n",
       "| (38806.0, 46567.2] | 7661 |\n",
       "| (46567.2, 54328.4] | 7673 |\n",
       "| (54328.4, 62089.6] | 7671 |\n",
       "| (62089.6, 69850.8] | 7673 |\n",
       "| (69850.8, 77612.0] | 7667 |"
      ],
      "text/plain": [
       "<IPython.core.display.Markdown object>"
      ]
     },
     "metadata": {},
     "output_type": "display_data"
    },
    {
     "name": "stdout",
     "output_type": "stream",
     "text": [
      "\n",
      "\n",
      "-------------\n",
      "Column Name:  parcel \n",
      "--------------\n"
     ]
    },
    {
     "data": {
      "text/markdown": [
       "|                            |   parcel |\n",
       "|:---------------------------|---------:|\n",
       "| (10554878.322, 26409522.7] |    76494 |\n",
       "| (26409522.7, 42107190.4]   |        0 |\n",
       "| (42107190.4, 57804858.1]   |        0 |\n",
       "| (57804858.1, 73502525.8]   |        0 |\n",
       "| (73502525.8, 89200193.5]   |        1 |\n",
       "| (89200193.5, 104897861.2]  |        1 |\n",
       "| (104897861.2, 120595528.9] |        0 |\n",
       "| (120595528.9, 136293196.6] |        0 |\n",
       "| (136293196.6, 151990864.3] |        0 |\n",
       "| (151990864.3, 167688532.0] |       25 |"
      ],
      "text/plain": [
       "<IPython.core.display.Markdown object>"
      ]
     },
     "metadata": {},
     "output_type": "display_data"
    },
    {
     "name": "stdout",
     "output_type": "stream",
     "text": [
      "\n",
      "\n",
      "-------------\n",
      "Column Name:  logerror \n",
      "--------------\n"
     ]
    },
    {
     "data": {
      "text/markdown": [
       "|                  |   logerror |\n",
       "|:-----------------|-----------:|\n",
       "| (-4.666, -3.664] |          3 |\n",
       "| (-3.664, -2.672] |          1 |\n",
       "| (-2.672, -1.68]  |         36 |\n",
       "| (-1.68, -0.688]  |        135 |\n",
       "| (-0.688, 0.304]  |      74544 |\n",
       "| (0.304, 1.296]   |       1637 |\n",
       "| (1.296, 2.287]   |         95 |\n",
       "| (2.287, 3.279]   |         68 |\n",
       "| (3.279, 4.271]   |          1 |\n",
       "| (4.271, 5.263]   |          1 |"
      ],
      "text/plain": [
       "<IPython.core.display.Markdown object>"
      ]
     },
     "metadata": {},
     "output_type": "display_data"
    },
    {
     "name": "stdout",
     "output_type": "stream",
     "text": [
      "\n",
      "\n",
      "-------------\n",
      "Column Name:  trans_date \n",
      "--------------\n"
     ]
    },
    {
     "data": {
      "text/markdown": [
       "|                                                      |   trans_date |\n",
       "|:-----------------------------------------------------|-------------:|\n",
       "| (2016-12-31 17:35:31.199999999, 2017-01-27 16:48:00] |         6049 |\n",
       "| (2017-01-27 16:48:00, 2017-02-23 09:36:00]           |         5772 |\n",
       "| (2017-02-23 09:36:00, 2017-03-22 02:24:00]           |         7140 |\n",
       "| (2017-03-22 02:24:00, 2017-04-17 19:12:00]           |         7717 |\n",
       "| (2017-04-17 19:12:00, 2017-05-14 12:00:00]           |         8637 |\n",
       "| (2017-05-14 12:00:00, 2017-06-10 04:48:00]           |         9211 |\n",
       "| (2017-06-10 04:48:00, 2017-07-06 21:36:00]           |         9200 |\n",
       "| (2017-07-06 21:36:00, 2017-08-02 14:24:00]           |         8679 |\n",
       "| (2017-08-02 14:24:00, 2017-08-29 07:12:00]           |         8063 |\n",
       "| (2017-08-29 07:12:00, 2017-09-25]                    |         6053 |"
      ],
      "text/plain": [
       "<IPython.core.display.Markdown object>"
      ]
     },
     "metadata": {},
     "output_type": "display_data"
    },
    {
     "name": "stdout",
     "output_type": "stream",
     "text": [
      "\n",
      "\n",
      "-------------\n",
      "Column Name:  ac_type \n",
      "--------------\n"
     ]
    },
    {
     "data": {
      "text/markdown": [
       "|               |   ac_type |\n",
       "|:--------------|----------:|\n",
       "|               |     51738 |\n",
       "| Central       |     22969 |\n",
       "| Yes           |      1568 |\n",
       "| None          |       167 |\n",
       "| Wall Unit     |        53 |\n",
       "| Refrigeration |        26 |"
      ],
      "text/plain": [
       "<IPython.core.display.Markdown object>"
      ]
     },
     "metadata": {},
     "output_type": "display_data"
    },
    {
     "name": "stdout",
     "output_type": "stream",
     "text": [
      "\n",
      "\n",
      "-------------\n",
      "Column Name:  arch_type \n",
      "--------------\n"
     ]
    },
    {
     "data": {
      "text/markdown": [
       "|               |   arch_type |\n",
       "|:--------------|------------:|\n",
       "|               |       76315 |\n",
       "| Contemporary  |         172 |\n",
       "| Conventional  |          19 |\n",
       "| Ranch/Rambler |           7 |\n",
       "| Bungalow      |           5 |\n",
       "| Cape Cod      |           3 |"
      ],
      "text/plain": [
       "<IPython.core.display.Markdown object>"
      ]
     },
     "metadata": {},
     "output_type": "display_data"
    },
    {
     "name": "stdout",
     "output_type": "stream",
     "text": [
      "\n",
      "\n",
      "-------------\n",
      "Column Name:  build_type \n",
      "--------------\n"
     ]
    },
    {
     "data": {
      "text/markdown": [
       "|    |   build_type |\n",
       "|:---|-------------:|\n",
       "|    |        76521 |"
      ],
      "text/plain": [
       "<IPython.core.display.Markdown object>"
      ]
     },
     "metadata": {},
     "output_type": "display_data"
    },
    {
     "name": "stdout",
     "output_type": "stream",
     "text": [
      "\n",
      "\n",
      "-------------\n",
      "Column Name:  heat_type \n",
      "--------------\n"
     ]
    },
    {
     "data": {
      "text/markdown": [
       "|            |   heat_type |\n",
       "|:-----------|------------:|\n",
       "| Central    |       33353 |\n",
       "|            |       27336 |\n",
       "| Floor/Wall |       14008 |\n",
       "| Yes        |         846 |\n",
       "| Forced air |         775 |\n",
       "| Solar      |         104 |\n",
       "| None       |          59 |\n",
       "| Radiant    |          23 |\n",
       "| Baseboard  |          13 |\n",
       "| Gravity    |           3 |\n",
       "| Heat Pump  |           1 |"
      ],
      "text/plain": [
       "<IPython.core.display.Markdown object>"
      ]
     },
     "metadata": {},
     "output_type": "display_data"
    },
    {
     "name": "stdout",
     "output_type": "stream",
     "text": [
      "\n",
      "\n",
      "-------------\n",
      "Column Name:  land_use_type \n",
      "--------------\n"
     ]
    },
    {
     "data": {
      "text/markdown": [
       "|                                            |   land_use_type |\n",
       "|:-------------------------------------------|----------------:|\n",
       "| Single Family Residential                  |           52160 |\n",
       "| Condominium                                |           19006 |\n",
       "| Planned Unit Development                   |            1940 |\n",
       "| Duplex (2 Units, Any Combination)          |            1843 |\n",
       "| Quadruplex (4 Units, Any Combination)      |             615 |\n",
       "| Triplex (3 Units, Any Combination)         |             485 |\n",
       "| Cluster Home                               |             333 |\n",
       "| Mobile Home                                |              59 |\n",
       "| Manufactured, Modular, Prefabricated Homes |              35 |\n",
       "| Cooperative                                |              29 |\n",
       "| Residential General                        |              10 |\n",
       "| Townhouse                                  |               6 |"
      ],
      "text/plain": [
       "<IPython.core.display.Markdown object>"
      ]
     },
     "metadata": {},
     "output_type": "display_data"
    },
    {
     "name": "stdout",
     "output_type": "stream",
     "text": [
      "\n",
      "\n",
      "-------------\n",
      "Column Name:  story_type \n",
      "--------------\n"
     ]
    },
    {
     "data": {
      "text/markdown": [
       "|          |   story_type |\n",
       "|:---------|-------------:|\n",
       "|          |        76471 |\n",
       "| Basement |           50 |"
      ],
      "text/plain": [
       "<IPython.core.display.Markdown object>"
      ]
     },
     "metadata": {},
     "output_type": "display_data"
    },
    {
     "name": "stdout",
     "output_type": "stream",
     "text": [
      "\n",
      "\n",
      "-------------\n",
      "Column Name:  construction_type \n",
      "--------------\n"
     ]
    },
    {
     "data": {
      "text/markdown": [
       "|          |   construction_type |\n",
       "|:---------|--------------------:|\n",
       "|          |               76299 |\n",
       "| Frame    |                 219 |\n",
       "| Masonry  |                   1 |\n",
       "| Metal    |                   1 |\n",
       "| Concrete |                   1 |"
      ],
      "text/plain": [
       "<IPython.core.display.Markdown object>"
      ]
     },
     "metadata": {},
     "output_type": "display_data"
    },
    {
     "name": "stdout",
     "output_type": "stream",
     "text": [
      "\n",
      "\n",
      "-------------\n",
      "Column Name:  basementsqft \n",
      "--------------\n"
     ]
    },
    {
     "data": {
      "text/markdown": [
       "|                             |   basementsqft |\n",
       "|:----------------------------|---------------:|\n",
       "| (34.477000000000004, 390.2] |             20 |\n",
       "| (390.2, 742.4]              |             16 |\n",
       "| (742.4, 1094.6]             |              7 |\n",
       "| (1094.6, 1446.8]            |              3 |\n",
       "| (1446.8, 1799.0]            |              0 |\n",
       "| (1799.0, 2151.2]            |              2 |\n",
       "| (2151.2, 2503.4]            |              0 |\n",
       "| (2503.4, 2855.6]            |              0 |\n",
       "| (2855.6, 3207.8]            |              1 |\n",
       "| (3207.8, 3560.0]            |              1 |"
      ],
      "text/plain": [
       "<IPython.core.display.Markdown object>"
      ]
     },
     "metadata": {},
     "output_type": "display_data"
    },
    {
     "name": "stdout",
     "output_type": "stream",
     "text": [
      "\n",
      "\n",
      "-------------\n",
      "Column Name:  bathrooms \n",
      "--------------\n"
     ]
    },
    {
     "data": {
      "text/markdown": [
       "|              |   bathrooms |\n",
       "|:-------------|------------:|\n",
       "| (0.982, 2.7] |       52153 |\n",
       "| (2.7, 4.4]   |       21686 |\n",
       "| (4.4, 6.1]   |        2360 |\n",
       "| (6.1, 7.8]   |         176 |\n",
       "| (7.8, 9.5]   |         134 |\n",
       "| (9.5, 11.2]  |          10 |\n",
       "| (11.2, 12.9] |           0 |\n",
       "| (12.9, 14.6] |           1 |\n",
       "| (14.6, 16.3] |           0 |\n",
       "| (16.3, 18.0] |           1 |"
      ],
      "text/plain": [
       "<IPython.core.display.Markdown object>"
      ]
     },
     "metadata": {},
     "output_type": "display_data"
    },
    {
     "name": "stdout",
     "output_type": "stream",
     "text": [
      "\n",
      "\n",
      "-------------\n",
      "Column Name:  bedrooms \n",
      "--------------\n"
     ]
    },
    {
     "data": {
      "text/markdown": [
       "|              |   bedrooms |\n",
       "|:-------------|-----------:|\n",
       "| (0.984, 2.5] |      22534 |\n",
       "| (2.5, 4.0]   |      47860 |\n",
       "| (4.0, 5.5]   |       4542 |\n",
       "| (5.5, 7.0]   |       1206 |\n",
       "| (7.0, 8.5]   |        252 |\n",
       "| (8.5, 10.0]  |        101 |\n",
       "| (10.0, 11.5] |          8 |\n",
       "| (11.5, 13.0] |         16 |\n",
       "| (13.0, 14.5] |          1 |\n",
       "| (14.5, 16.0] |          1 |"
      ],
      "text/plain": [
       "<IPython.core.display.Markdown object>"
      ]
     },
     "metadata": {},
     "output_type": "display_data"
    },
    {
     "name": "stdout",
     "output_type": "stream",
     "text": [
      "\n",
      "\n",
      "-------------\n",
      "Column Name:  quality_type \n",
      "--------------\n"
     ]
    },
    {
     "data": {
      "text/markdown": [
       "|              |   quality_type |\n",
       "|:-------------|---------------:|\n",
       "| (0.988, 2.1] |             32 |\n",
       "| (2.1, 3.2]   |            322 |\n",
       "| (3.2, 4.3]   |           9443 |\n",
       "| (4.3, 5.4]   |           2071 |\n",
       "| (5.4, 6.5]   |          13421 |\n",
       "| (6.5, 7.6]   |           5923 |\n",
       "| (7.6, 8.7]   |          14582 |\n",
       "| (8.7, 9.8]   |           2277 |\n",
       "| (9.8, 10.9]  |            308 |\n",
       "| (10.9, 12.0] |           1043 |"
      ],
      "text/plain": [
       "<IPython.core.display.Markdown object>"
      ]
     },
     "metadata": {},
     "output_type": "display_data"
    },
    {
     "name": "stdout",
     "output_type": "stream",
     "text": [
      "\n",
      "\n",
      "-------------\n",
      "Column Name:  calc_bath_n_bed \n",
      "--------------\n"
     ]
    },
    {
     "data": {
      "text/markdown": [
       "|              |   calc_bath_n_bed |\n",
       "|:-------------|------------------:|\n",
       "| (0.982, 2.7] |             52138 |\n",
       "| (2.7, 4.4]   |             21686 |\n",
       "| (4.4, 6.1]   |              2359 |\n",
       "| (6.1, 7.8]   |               176 |\n",
       "| (7.8, 9.5]   |               134 |\n",
       "| (9.5, 11.2]  |                10 |\n",
       "| (11.2, 12.9] |                 0 |\n",
       "| (12.9, 14.6] |                 1 |\n",
       "| (14.6, 16.3] |                 0 |\n",
       "| (16.3, 18.0] |                 1 |"
      ],
      "text/plain": [
       "<IPython.core.display.Markdown object>"
      ]
     },
     "metadata": {},
     "output_type": "display_data"
    },
    {
     "name": "stdout",
     "output_type": "stream",
     "text": [
      "\n",
      "\n",
      "-------------\n",
      "Column Name:  deck_type \n",
      "--------------\n"
     ]
    },
    {
     "data": {
      "text/markdown": [
       "|                             |   deck_type |\n",
       "|:----------------------------|------------:|\n",
       "| (65.93299999999999, 65.947] |           0 |\n",
       "| (65.947, 65.96]             |           0 |\n",
       "| (65.96, 65.974]             |           0 |\n",
       "| (65.974, 65.987]            |           0 |\n",
       "| (65.987, 66.0]              |         612 |\n",
       "| (66.0, 66.013]              |           0 |\n",
       "| (66.013, 66.026]            |           0 |\n",
       "| (66.026, 66.04]             |           0 |\n",
       "| (66.04, 66.053]             |           0 |\n",
       "| (66.053, 66.066]            |           0 |"
      ],
      "text/plain": [
       "<IPython.core.display.Markdown object>"
      ]
     },
     "metadata": {},
     "output_type": "display_data"
    },
    {
     "name": "stdout",
     "output_type": "stream",
     "text": [
      "\n",
      "\n",
      "-------------\n",
      "Column Name:  floor_1_sqft \n",
      "--------------\n"
     ]
    },
    {
     "data": {
      "text/markdown": [
       "|                  |   floor_1_sqft |\n",
       "|:-----------------|---------------:|\n",
       "| (37.131, 730.8]  |            701 |\n",
       "| (730.8, 1417.6]  |           3019 |\n",
       "| (1417.6, 2104.4] |           1730 |\n",
       "| (2104.4, 2791.2] |            335 |\n",
       "| (2791.2, 3478.0] |            132 |\n",
       "| (3478.0, 4164.8] |             42 |\n",
       "| (4164.8, 4851.6] |             25 |\n",
       "| (4851.6, 5538.4] |             12 |\n",
       "| (5538.4, 6225.2] |              6 |\n",
       "| (6225.2, 6912.0] |              4 |"
      ],
      "text/plain": [
       "<IPython.core.display.Markdown object>"
      ]
     },
     "metadata": {},
     "output_type": "display_data"
    },
    {
     "name": "stdout",
     "output_type": "stream",
     "text": [
      "\n",
      "\n",
      "-------------\n",
      "Column Name:  tot_sqft \n",
      "--------------\n"
     ]
    },
    {
     "data": {
      "text/markdown": [
       "|                    |   tot_sqft |\n",
       "|:-------------------|-----------:|\n",
       "| (130.222, 2329.7]  |      61531 |\n",
       "| (2329.7, 4507.4]   |      13630 |\n",
       "| (4507.4, 6685.1]   |       1132 |\n",
       "| (6685.1, 8862.8]   |        165 |\n",
       "| (8862.8, 11040.5]  |         44 |\n",
       "| (11040.5, 13218.2] |         12 |\n",
       "| (13218.2, 15395.9] |          2 |\n",
       "| (15395.9, 17573.6] |          2 |\n",
       "| (17573.6, 19751.3] |          1 |\n",
       "| (19751.3, 21929.0] |          2 |"
      ],
      "text/plain": [
       "<IPython.core.display.Markdown object>"
      ]
     },
     "metadata": {},
     "output_type": "display_data"
    },
    {
     "name": "stdout",
     "output_type": "stream",
     "text": [
      "\n",
      "\n",
      "-------------\n",
      "Column Name:  sqft_12 \n",
      "--------------\n"
     ]
    },
    {
     "data": {
      "text/markdown": [
       "|                    |   sqft_12 |\n",
       "|:-------------------|----------:|\n",
       "| (130.222, 2329.7]  |     59610 |\n",
       "| (2329.7, 4507.4]   |     12521 |\n",
       "| (4507.4, 6685.1]   |      1037 |\n",
       "| (6685.1, 8862.8]   |       159 |\n",
       "| (8862.8, 11040.5]  |        44 |\n",
       "| (11040.5, 13218.2] |        12 |\n",
       "| (13218.2, 15395.9] |         2 |\n",
       "| (15395.9, 17573.6] |         2 |\n",
       "| (17573.6, 19751.3] |         1 |\n",
       "| (19751.3, 21929.0] |         2 |"
      ],
      "text/plain": [
       "<IPython.core.display.Markdown object>"
      ]
     },
     "metadata": {},
     "output_type": "display_data"
    },
    {
     "name": "stdout",
     "output_type": "stream",
     "text": [
      "\n",
      "\n",
      "-------------\n",
      "Column Name:  sqft_13 \n",
      "--------------\n"
     ]
    },
    {
     "data": {
      "text/markdown": [
       "|                              |   sqft_13 |\n",
       "|:-----------------------------|----------:|\n",
       "| (1055.4950000000001, 1106.4] |         1 |\n",
       "| (1106.4, 1156.8]             |         2 |\n",
       "| (1156.8, 1207.2]             |         1 |\n",
       "| (1207.2, 1257.6]             |         2 |\n",
       "| (1257.6, 1308.0]             |         0 |\n",
       "| (1308.0, 1358.4]             |         4 |\n",
       "| (1358.4, 1408.8]             |         2 |\n",
       "| (1408.8, 1459.2]             |         9 |\n",
       "| (1459.2, 1509.6]             |         2 |\n",
       "| (1509.6, 1560.0]             |         3 |"
      ],
      "text/plain": [
       "<IPython.core.display.Markdown object>"
      ]
     },
     "metadata": {},
     "output_type": "display_data"
    },
    {
     "name": "stdout",
     "output_type": "stream",
     "text": [
      "\n",
      "\n",
      "-------------\n",
      "Column Name:  sqft_15 \n",
      "--------------\n"
     ]
    },
    {
     "data": {
      "text/markdown": [
       "|                   |   sqft_15 |\n",
       "|:------------------|----------:|\n",
       "| (590.607, 1337.2] |       253 |\n",
       "| (1337.2, 2076.4]  |      1182 |\n",
       "| (2076.4, 2815.6]  |       740 |\n",
       "| (2815.6, 3554.8]  |       377 |\n",
       "| (3554.8, 4294.0]  |       232 |\n",
       "| (4294.0, 5033.2]  |       100 |\n",
       "| (5033.2, 5772.4]  |        32 |\n",
       "| (5772.4, 6511.6]  |         5 |\n",
       "| (6511.6, 7250.8]  |         4 |\n",
       "| (7250.8, 7990.0]  |         2 |"
      ],
      "text/plain": [
       "<IPython.core.display.Markdown object>"
      ]
     },
     "metadata": {},
     "output_type": "display_data"
    },
    {
     "name": "stdout",
     "output_type": "stream",
     "text": [
      "\n",
      "\n",
      "-------------\n",
      "Column Name:  sqft_50 \n",
      "--------------\n"
     ]
    },
    {
     "data": {
      "text/markdown": [
       "|                    |   sqft_50 |\n",
       "|:-------------------|----------:|\n",
       "| (31.576, 1286.3]   |      3132 |\n",
       "| (1286.3, 2528.6]   |      2548 |\n",
       "| (2528.6, 3770.9]   |       237 |\n",
       "| (3770.9, 5013.2]   |        61 |\n",
       "| (5013.2, 6255.5]   |        17 |\n",
       "| (6255.5, 7497.8]   |         7 |\n",
       "| (7497.8, 8740.1]   |         2 |\n",
       "| (8740.1, 9982.4]   |         1 |\n",
       "| (9982.4, 11224.7]  |         0 |\n",
       "| (11224.7, 12467.0] |         1 |"
      ],
      "text/plain": [
       "<IPython.core.display.Markdown object>"
      ]
     },
     "metadata": {},
     "output_type": "display_data"
    },
    {
     "name": "stdout",
     "output_type": "stream",
     "text": [
      "\n",
      "\n",
      "-------------\n",
      "Column Name:  sqft_6 \n",
      "--------------\n"
     ]
    },
    {
     "data": {
      "text/markdown": [
       "|                  |   sqft_6 |\n",
       "|:-----------------|---------:|\n",
       "| (374.781, 901.8] |       61 |\n",
       "| (901.8, 1423.6]  |       80 |\n",
       "| (1423.6, 1945.4] |       15 |\n",
       "| (1945.4, 2467.2] |        8 |\n",
       "| (2467.2, 2989.0] |        4 |\n",
       "| (2989.0, 3510.8] |        3 |\n",
       "| (3510.8, 4032.6] |        3 |\n",
       "| (4032.6, 4554.4] |        3 |\n",
       "| (4554.4, 5076.2] |        0 |\n",
       "| (5076.2, 5598.0] |        1 |"
      ],
      "text/plain": [
       "<IPython.core.display.Markdown object>"
      ]
     },
     "metadata": {},
     "output_type": "display_data"
    },
    {
     "name": "stdout",
     "output_type": "stream",
     "text": [
      "\n",
      "\n",
      "-------------\n",
      "Column Name:  fips \n",
      "--------------\n"
     ]
    },
    {
     "data": {
      "text/markdown": [
       "|                    |   fips |\n",
       "|:-------------------|-------:|\n",
       "| Los Angeles County |  50135 |\n",
       "| Orange County      |  20276 |\n",
       "| Ventura County     |   6110 |"
      ],
      "text/plain": [
       "<IPython.core.display.Markdown object>"
      ]
     },
     "metadata": {},
     "output_type": "display_data"
    },
    {
     "name": "stdout",
     "output_type": "stream",
     "text": [
      "\n",
      "\n",
      "-------------\n",
      "Column Name:  fireplaces \n",
      "--------------\n"
     ]
    },
    {
     "data": {
      "text/markdown": [
       "|              |   fireplaces |\n",
       "|:-------------|-------------:|\n",
       "| (0.995, 1.4] |         6990 |\n",
       "| (1.4, 1.8]   |            0 |\n",
       "| (1.8, 2.2]   |          988 |\n",
       "| (2.2, 2.6]   |            0 |\n",
       "| (2.6, 3.0]   |          232 |\n",
       "| (3.0, 3.4]   |            0 |\n",
       "| (3.4, 3.8]   |            0 |\n",
       "| (3.8, 4.2]   |           34 |\n",
       "| (4.2, 4.6]   |            0 |\n",
       "| (4.6, 5.0]   |            3 |"
      ],
      "text/plain": [
       "<IPython.core.display.Markdown object>"
      ]
     },
     "metadata": {},
     "output_type": "display_data"
    },
    {
     "name": "stdout",
     "output_type": "stream",
     "text": [
      "\n",
      "\n",
      "-------------\n",
      "Column Name:  full_baths \n",
      "--------------\n"
     ]
    },
    {
     "data": {
      "text/markdown": [
       "|              |   full_baths |\n",
       "|:-------------|-------------:|\n",
       "| (0.982, 2.7] |        52155 |\n",
       "| (2.7, 4.4]   |        22385 |\n",
       "| (4.4, 6.1]   |         1698 |\n",
       "| (6.1, 7.8]   |          121 |\n",
       "| (7.8, 9.5]   |          134 |\n",
       "| (9.5, 11.2]  |           10 |\n",
       "| (11.2, 12.9] |            0 |\n",
       "| (12.9, 14.6] |            1 |\n",
       "| (14.6, 16.3] |            0 |\n",
       "| (16.3, 18.0] |            1 |"
      ],
      "text/plain": [
       "<IPython.core.display.Markdown object>"
      ]
     },
     "metadata": {},
     "output_type": "display_data"
    },
    {
     "name": "stdout",
     "output_type": "stream",
     "text": [
      "\n",
      "\n",
      "-------------\n",
      "Column Name:  garages \n",
      "--------------\n"
     ]
    },
    {
     "data": {
      "text/markdown": [
       "|               |   garages |\n",
       "|:--------------|----------:|\n",
       "| (-0.015, 1.4] |      5736 |\n",
       "| (1.4, 2.8]    |     18593 |\n",
       "| (2.8, 4.2]    |       885 |\n",
       "| (4.2, 5.6]    |        45 |\n",
       "| (5.6, 7.0]    |        18 |\n",
       "| (7.0, 8.4]    |         2 |\n",
       "| (8.4, 9.8]    |         2 |\n",
       "| (9.8, 11.2]   |         4 |\n",
       "| (11.2, 12.6]  |         0 |\n",
       "| (12.6, 14.0]  |         2 |"
      ],
      "text/plain": [
       "<IPython.core.display.Markdown object>"
      ]
     },
     "metadata": {},
     "output_type": "display_data"
    },
    {
     "name": "stdout",
     "output_type": "stream",
     "text": [
      "\n",
      "\n",
      "-------------\n",
      "Column Name:  garage_sqft \n",
      "--------------\n"
     ]
    },
    {
     "data": {
      "text/markdown": [
       "|                             |   garage_sqft |\n",
       "|:----------------------------|--------------:|\n",
       "| (-4.252000000000001, 425.1] |         11763 |\n",
       "| (425.1, 850.2]              |         13148 |\n",
       "| (850.2, 1275.3]             |           322 |\n",
       "| (1275.3, 1700.4]            |            38 |\n",
       "| (1700.4, 2125.5]            |             6 |\n",
       "| (2125.5, 2550.6]            |             2 |\n",
       "| (2550.6, 2975.7]            |             4 |\n",
       "| (2975.7, 3400.8]            |             2 |\n",
       "| (3400.8, 3825.9]            |             1 |\n",
       "| (3825.9, 4251.0]            |             1 |"
      ],
      "text/plain": [
       "<IPython.core.display.Markdown object>"
      ]
     },
     "metadata": {},
     "output_type": "display_data"
    },
    {
     "name": "stdout",
     "output_type": "stream",
     "text": [
      "\n",
      "\n",
      "-------------\n",
      "Column Name:  hot_tub \n",
      "--------------\n"
     ]
    },
    {
     "data": {
      "text/markdown": [
       "|                  |   hot_tub |\n",
       "|:-----------------|----------:|\n",
       "| (0.9989, 0.9992] |         0 |\n",
       "| (0.9992, 0.9994] |         0 |\n",
       "| (0.9994, 0.9996] |         0 |\n",
       "| (0.9996, 0.9998] |         0 |\n",
       "| (0.9998, 1.0]    |      1538 |\n",
       "| (1.0, 1.0002]    |         0 |\n",
       "| (1.0002, 1.0004] |         0 |\n",
       "| (1.0004, 1.0006] |         0 |\n",
       "| (1.0006, 1.0008] |         0 |\n",
       "| (1.0008, 1.001]  |         0 |"
      ],
      "text/plain": [
       "<IPython.core.display.Markdown object>"
      ]
     },
     "metadata": {},
     "output_type": "display_data"
    },
    {
     "name": "stdout",
     "output_type": "stream",
     "text": [
      "\n",
      "\n",
      "-------------\n",
      "Column Name:  lat \n",
      "--------------\n"
     ]
    },
    {
     "data": {
      "text/markdown": [
       "|                                  |   lat |\n",
       "|:---------------------------------|------:|\n",
       "| (33338047.759000003, 33487451.0] |  1000 |\n",
       "| (33487451.0, 33635375.0]         |  5254 |\n",
       "| (33635375.0, 33783299.0]         |  9870 |\n",
       "| (33783299.0, 33931223.0]         | 14658 |\n",
       "| (33931223.0, 34079147.0]         | 14031 |\n",
       "| (34079147.0, 34227071.0]         | 18723 |\n",
       "| (34227071.0, 34374995.0]         |  6208 |\n",
       "| (34374995.0, 34522919.0]         |  3128 |\n",
       "| (34522919.0, 34670843.0]         |  2318 |\n",
       "| (34670843.0, 34818767.0]         |  1331 |"
      ],
      "text/plain": [
       "<IPython.core.display.Markdown object>"
      ]
     },
     "metadata": {},
     "output_type": "display_data"
    },
    {
     "name": "stdout",
     "output_type": "stream",
     "text": [
      "\n",
      "\n",
      "-------------\n",
      "Column Name:  lon \n",
      "--------------\n"
     ]
    },
    {
     "data": {
      "text/markdown": [
       "|                                |   lon |\n",
       "|:-------------------------------|------:|\n",
       "| (-119477336.781, -119283338.0] |   211 |\n",
       "| (-119283338.0, -119091260.0]   |  1940 |\n",
       "| (-119091260.0, -118899182.0]   |  1445 |\n",
       "| (-118899182.0, -118707104.0]   |  2644 |\n",
       "| (-118707104.0, -118515026.0]   |  5911 |\n",
       "| (-118515026.0, -118322948.0]   | 15282 |\n",
       "| (-118322948.0, -118130870.0]   | 15150 |\n",
       "| (-118130870.0, -117938792.0]   | 14116 |\n",
       "| (-117938792.0, -117746714.0]   | 12500 |\n",
       "| (-117746714.0, -117554636.0]   |  7322 |"
      ],
      "text/plain": [
       "<IPython.core.display.Markdown object>"
      ]
     },
     "metadata": {},
     "output_type": "display_data"
    },
    {
     "name": "stdout",
     "output_type": "stream",
     "text": [
      "\n",
      "\n",
      "-------------\n",
      "Column Name:  lot_sqft \n",
      "--------------\n"
     ]
    },
    {
     "data": {
      "text/markdown": [
       "|                                |   lot_sqft |\n",
       "|:-------------------------------|-----------:|\n",
       "| (-6734.775000000001, 697313.4] |      68112 |\n",
       "| (697313.4, 1394390.8]          |        221 |\n",
       "| (1394390.8, 2091468.2]         |         38 |\n",
       "| (2091468.2, 2788545.6]         |          2 |\n",
       "| (2788545.6, 3485623.0]         |          1 |\n",
       "| (3485623.0, 4182700.4]         |          9 |\n",
       "| (4182700.4, 4879777.8]         |          0 |\n",
       "| (4879777.8, 5576855.2]         |          0 |\n",
       "| (5576855.2, 6273932.6]         |          0 |\n",
       "| (6273932.6, 6971010.0]         |          7 |"
      ],
      "text/plain": [
       "<IPython.core.display.Markdown object>"
      ]
     },
     "metadata": {},
     "output_type": "display_data"
    },
    {
     "name": "stdout",
     "output_type": "stream",
     "text": [
      "\n",
      "\n",
      "-------------\n",
      "Column Name:  pools \n",
      "--------------\n"
     ]
    },
    {
     "data": {
      "text/markdown": [
       "|                  |   pools |\n",
       "|:-----------------|--------:|\n",
       "| (0.9989, 0.9992] |       0 |\n",
       "| (0.9992, 0.9994] |       0 |\n",
       "| (0.9994, 0.9996] |       0 |\n",
       "| (0.9996, 0.9998] |       0 |\n",
       "| (0.9998, 1.0]    |   16048 |\n",
       "| (1.0, 1.0002]    |       0 |\n",
       "| (1.0002, 1.0004] |       0 |\n",
       "| (1.0004, 1.0006] |       0 |\n",
       "| (1.0006, 1.0008] |       0 |\n",
       "| (1.0008, 1.001]  |       0 |"
      ],
      "text/plain": [
       "<IPython.core.display.Markdown object>"
      ]
     },
     "metadata": {},
     "output_type": "display_data"
    },
    {
     "name": "stdout",
     "output_type": "stream",
     "text": [
      "\n",
      "\n",
      "-------------\n",
      "Column Name:  pool_sqft \n",
      "--------------\n"
     ]
    },
    {
     "data": {
      "text/markdown": [
       "|                  |   pool_sqft |\n",
       "|:-----------------|------------:|\n",
       "| (22.523, 171.6]  |           6 |\n",
       "| (171.6, 319.2]   |          47 |\n",
       "| (319.2, 466.8]   |         321 |\n",
       "| (466.8, 614.4]   |         305 |\n",
       "| (614.4, 762.0]   |         121 |\n",
       "| (762.0, 909.6]   |          48 |\n",
       "| (909.6, 1057.2]  |           7 |\n",
       "| (1057.2, 1204.8] |           5 |\n",
       "| (1204.8, 1352.4] |           0 |\n",
       "| (1352.4, 1500.0] |           2 |"
      ],
      "text/plain": [
       "<IPython.core.display.Markdown object>"
      ]
     },
     "metadata": {},
     "output_type": "display_data"
    },
    {
     "name": "stdout",
     "output_type": "stream",
     "text": [
      "\n",
      "\n",
      "-------------\n",
      "Column Name:  pool_id10 \n",
      "--------------\n"
     ]
    },
    {
     "data": {
      "text/markdown": [
       "|                  |   pool_id10 |\n",
       "|:-----------------|------------:|\n",
       "| (0.9989, 0.9992] |           0 |\n",
       "| (0.9992, 0.9994] |           0 |\n",
       "| (0.9994, 0.9996] |           0 |\n",
       "| (0.9996, 0.9998] |           0 |\n",
       "| (0.9998, 1.0]    |         464 |\n",
       "| (1.0, 1.0002]    |           0 |\n",
       "| (1.0002, 1.0004] |           0 |\n",
       "| (1.0004, 1.0006] |           0 |\n",
       "| (1.0006, 1.0008] |           0 |\n",
       "| (1.0008, 1.001]  |           0 |"
      ],
      "text/plain": [
       "<IPython.core.display.Markdown object>"
      ]
     },
     "metadata": {},
     "output_type": "display_data"
    },
    {
     "name": "stdout",
     "output_type": "stream",
     "text": [
      "\n",
      "\n",
      "-------------\n",
      "Column Name:  pool_id2 \n",
      "--------------\n"
     ]
    },
    {
     "data": {
      "text/markdown": [
       "|                  |   pool_id2 |\n",
       "|:-----------------|-----------:|\n",
       "| (0.9989, 0.9992] |          0 |\n",
       "| (0.9992, 0.9994] |          0 |\n",
       "| (0.9994, 0.9996] |          0 |\n",
       "| (0.9996, 0.9998] |          0 |\n",
       "| (0.9998, 1.0]    |       1074 |\n",
       "| (1.0, 1.0002]    |          0 |\n",
       "| (1.0002, 1.0004] |          0 |\n",
       "| (1.0004, 1.0006] |          0 |\n",
       "| (1.0006, 1.0008] |          0 |\n",
       "| (1.0008, 1.001]  |          0 |"
      ],
      "text/plain": [
       "<IPython.core.display.Markdown object>"
      ]
     },
     "metadata": {},
     "output_type": "display_data"
    },
    {
     "name": "stdout",
     "output_type": "stream",
     "text": [
      "\n",
      "\n",
      "-------------\n",
      "Column Name:  pool_id7 \n",
      "--------------\n"
     ]
    },
    {
     "data": {
      "text/markdown": [
       "|                  |   pool_id7 |\n",
       "|:-----------------|-----------:|\n",
       "| (0.9989, 0.9992] |          0 |\n",
       "| (0.9992, 0.9994] |          0 |\n",
       "| (0.9994, 0.9996] |          0 |\n",
       "| (0.9996, 0.9998] |          0 |\n",
       "| (0.9998, 1.0]    |      14953 |\n",
       "| (1.0, 1.0002]    |          0 |\n",
       "| (1.0002, 1.0004] |          0 |\n",
       "| (1.0004, 1.0006] |          0 |\n",
       "| (1.0006, 1.0008] |          0 |\n",
       "| (1.0008, 1.001]  |          0 |"
      ],
      "text/plain": [
       "<IPython.core.display.Markdown object>"
      ]
     },
     "metadata": {},
     "output_type": "display_data"
    },
    {
     "name": "stdout",
     "output_type": "stream",
     "text": [
      "\n",
      "\n",
      "-------------\n",
      "Column Name:  county_landuse \n",
      "--------------\n"
     ]
    },
    {
     "data": {
      "text/markdown": [
       "|      |   county_landuse |\n",
       "|:-----|-----------------:|\n",
       "| 0100 |            26675 |\n",
       "| 122  |            13011 |\n",
       "| 010C |             8701 |\n",
       "| 0101 |             6398 |\n",
       "| 34   |             4888 |\n",
       "| 1111 |             3347 |\n",
       "| 1    |             2353 |\n",
       "| 010D |             1940 |\n",
       "| 010E |             1933 |\n",
       "| 0200 |             1800 |\n",
       "| 1129 |             1378 |\n",
       "| 1110 |             1007 |\n",
       "| 0400 |              606 |\n",
       "| 0300 |              475 |\n",
       "| 012C |              383 |\n",
       "| 0104 |              367 |\n",
       "| 1128 |              333 |\n",
       "| 01DC |              211 |\n",
       "| 01HC |              135 |\n",
       "| 0103 |               91 |\n",
       "| 010G |               75 |\n",
       "| 0108 |               57 |\n",
       "| 010H |               57 |\n",
       "| 010M |               52 |\n",
       "| 0700 |               50 |\n",
       "| 1117 |               32 |\n",
       "| 010F |               29 |\n",
       "| 0201 |               23 |\n",
       "| 38   |               13 |\n",
       "| 010V |               10 |\n",
       "| 01HE |                9 |\n",
       "| 0109 |                8 |\n",
       "| 135  |                8 |\n",
       "| 1116 |                7 |\n",
       "| 0110 |                6 |\n",
       "| 0113 |                6 |\n",
       "| 012E |                5 |\n",
       "| 0141 |                4 |\n",
       "| 0401 |                4 |\n",
       "| 1120 |                3 |\n",
       "| 96   |                3 |\n",
       "| 0102 |                3 |\n",
       "| 0105 |                3 |\n",
       "| 1222 |                2 |\n",
       "| 0111 |                2 |\n",
       "| 0130 |                2 |\n",
       "| 070D |                2 |\n",
       "| 040G |                1 |\n",
       "| 020M |                1 |\n",
       "| 020G |                1 |\n",
       "| 030G |                1 |\n",
       "| 0203 |                1 |\n",
       "| 0114 |                1 |\n",
       "| 1112 |                1 |\n",
       "| 012D |                1 |\n",
       "| 040B |                1 |\n",
       "| 0301 |                1 |\n",
       "| 0133 |                1 |\n",
       "| 0204 |                1 |\n",
       "| 0131 |                1 |\n",
       "| 020E |                1 |"
      ],
      "text/plain": [
       "<IPython.core.display.Markdown object>"
      ]
     },
     "metadata": {},
     "output_type": "display_data"
    },
    {
     "name": "stdout",
     "output_type": "stream",
     "text": [
      "\n",
      "\n",
      "-------------\n",
      "Column Name:  zoning \n",
      "--------------\n"
     ]
    },
    {
     "data": {
      "text/markdown": [
       "|            |   zoning |\n",
       "|:-----------|---------:|\n",
       "|            |    26604 |\n",
       "| LAR1       |     6731 |\n",
       "| LAR3       |     2409 |\n",
       "| LARS       |     1389 |\n",
       "| LBR1N      |     1219 |\n",
       "| LARD1.5    |     1117 |\n",
       "| LAR2       |     1023 |\n",
       "| SCUR2      |      956 |\n",
       "| LARD2      |      838 |\n",
       "| LARA       |      652 |\n",
       "| LARE11     |      628 |\n",
       "| LARE15     |      569 |\n",
       "| TORR-LO    |      543 |\n",
       "| LCR1YY     |      490 |\n",
       "| SCUR3      |      461 |\n",
       "| LAR4       |      391 |\n",
       "| LKR1YY     |      381 |\n",
       "| LARD3      |      373 |\n",
       "| PSR6       |      343 |\n",
       "| LCR1*      |      309 |\n",
       "| LCA11*     |      293 |\n",
       "| LCA22*     |      290 |\n",
       "| PDR1*      |      287 |\n",
       "| GLR1YY     |      286 |\n",
       "| CARS*      |      252 |\n",
       "| LCA21*     |      244 |\n",
       "| BUR1YY     |      241 |\n",
       "| MNRS       |      228 |\n",
       "| LBR2N      |      220 |\n",
       "| NOR1YY     |      220 |\n",
       "| LAC2       |      216 |\n",
       "| CORL*      |      210 |\n",
       "| LCR3*      |      200 |\n",
       "| LCA25*     |      199 |\n",
       "| WDR4*      |      198 |\n",
       "| PRSF*      |      198 |\n",
       "| SCSP       |      191 |\n",
       "| LCA106     |      190 |\n",
       "| LAR5       |      182 |\n",
       "| LMR1*      |      181 |\n",
       "| ALRPD*     |      177 |\n",
       "| SMR2*      |      174 |\n",
       "| PSR4       |      172 |\n",
       "| LRA22*     |      172 |\n",
       "| LCR2*      |      167 |\n",
       "| LCR175     |      159 |\n",
       "| LRR7000*   |      158 |\n",
       "| GLR4*      |      157 |\n",
       "| GDR1       |      157 |\n",
       "| SCUR1      |      156 |\n",
       "| DOR105     |      150 |\n",
       "| LKR1*      |      149 |\n",
       "| BPR1*      |      148 |\n",
       "| WCR1YY     |      147 |\n",
       "| LBR4R      |      145 |\n",
       "| SMR1*      |      145 |\n",
       "| LCR17500*  |      143 |\n",
       "| LAWC       |      141 |\n",
       "| POR17200*  |      140 |\n",
       "| LARE40     |      140 |\n",
       "| CERS5000   |      139 |\n",
       "| LCRA7000*  |      139 |\n",
       "| PSR3       |      139 |\n",
       "| PSR1       |      139 |\n",
       "| LCA110000* |      133 |\n",
       "| LARE9      |      131 |\n",
       "| BUR1*      |      129 |\n",
       "| GAR1       |      129 |\n",
       "| BUR4*      |      125 |\n",
       "| LCA16000*  |      125 |\n",
       "| LRRA7000*  |      125 |\n",
       "| GLR1*      |      122 |\n",
       "| TORR-MD    |      121 |\n",
       "| RBR-1      |      117 |\n",
       "| LBPD1      |      114 |\n",
       "| LRRA7500*  |      112 |\n",
       "| LCR2YY     |      112 |\n",
       "| GLR4YY     |      110 |\n",
       "| LCRA06     |      110 |\n",
       "| LARE20     |      110 |\n",
       "| RPRS10000* |      106 |\n",
       "| LRRA6500*  |      102 |\n",
       "| LARD5      |      102 |\n",
       "| LCA1*      |      100 |\n",
       "| WCPCD1*    |      100 |\n",
       "| LCR18000*  |       99 |\n",
       "| CLRS10000* |       97 |\n",
       "| HAR1YY     |       97 |\n",
       "| WHR1YY     |       95 |\n",
       "| NOR1*      |       95 |\n",
       "| LRR17000*  |       94 |\n",
       "| BHR1*      |       93 |\n",
       "| SCUR4      |       92 |\n",
       "| LCR106     |       90 |\n",
       "| LCR110000* |       90 |\n",
       "| LBR4N      |       89 |\n",
       "| LARD6      |       89 |\n",
       "| LCRPD10000 |       88 |\n",
       "| LCA1YY     |       88 |\n",
       "| MPR1YY     |       87 |\n",
       "| RBR-2      |       87 |\n",
       "| PVR1*      |       85 |\n",
       "| WHR106     |       84 |\n",
       "| MNR1YY     |       84 |\n",
       "| ARR1YY     |       82 |\n",
       "| WCR1*      |       81 |\n",
       "| PARM*      |       79 |\n",
       "| SLR1YY     |       78 |\n",
       "| PDR17000*  |       77 |\n",
       "| LCR105     |       77 |\n",
       "| WCR17500*  |       74 |\n",
       "| INR1YY     |       72 |\n",
       "| LBPD6      |       72 |\n",
       "| LCR3YY     |       72 |\n",
       "| LAC2(PV)   |       71 |\n",
       "| LCR171/2   |       70 |\n",
       "| SCUR5      |       70 |\n",
       "| GAR3       |       70 |\n",
       "| MORL*      |       69 |\n",
       "| CVR17500*  |       69 |\n",
       "| BFR1*      |       69 |\n",
       "| LPR1YY     |       68 |\n",
       "| LCR320U*   |       67 |\n",
       "| MORH*      |       67 |\n",
       "| CCR3*      |       67 |\n",
       "| CARM25U&D* |       67 |\n",
       "| ARR3*      |       66 |\n",
       "| RBR-3      |       66 |\n",
       "| NOR105     |       65 |\n",
       "| LMPUD*     |       65 |\n",
       "| POPRD*     |       64 |\n",
       "| LBR1S      |       64 |\n",
       "| POR16000*  |       63 |\n",
       "| LOR1*      |       63 |\n",
       "| LARD4      |       63 |\n",
       "| LFR115000* |       62 |\n",
       "| LYR1YY     |       61 |\n",
       "| LNR2YY     |       61 |\n",
       "| LBPD5      |       61 |\n",
       "| SPR110000* |       61 |\n",
       "| PVR1YY     |       60 |\n",
       "| GDE4       |       60 |\n",
       "| LAC4       |       60 |\n",
       "| DOR15000*  |       60 |\n",
       "| LCRA1*     |       59 |\n",
       "| AHR17000*  |       59 |\n",
       "| WAR17200*  |       57 |\n",
       "| SFR1*      |       57 |\n",
       "| MPR3*      |       56 |\n",
       "| INR2YY     |       56 |\n",
       "| CCR1YY     |       56 |\n",
       "| RPRS-4*    |       56 |\n",
       "| PDSP       |       55 |\n",
       "| LCA2       |       55 |\n",
       "| SGR3YY     |       55 |\n",
       "| ALR1YY     |       53 |\n",
       "| CORM*      |       53 |\n",
       "| LBR3T      |       53 |\n",
       "| LBR3S      |       53 |\n",
       "| LCC2*      |       53 |\n",
       "| LCR3800030 |       52 |\n",
       "| LCRA6000*  |       52 |\n",
       "| SGR1YY     |       52 |\n",
       "| PSC-       |       52 |\n",
       "| LCR4YY     |       52 |\n",
       "| ARR1*      |       51 |\n",
       "| LCRPD20000 |       51 |\n",
       "| DUR16500*  |       51 |\n",
       "| RBR-1A     |       51 |\n",
       "| BHR4*      |       50 |\n",
       "| TCR172     |       49 |\n",
       "| LVPR4.5D*  |       49 |\n",
       "| LRR16500*  |       48 |\n",
       "| PDA21*     |       48 |\n",
       "| TORR-LM    |       48 |\n",
       "| INR3YY     |       48 |\n",
       "| POR3*      |       47 |\n",
       "| LRR16000*  |       47 |\n",
       "| TOPR-MD    |       46 |\n",
       "| ESR1YY     |       46 |\n",
       "| LCRA10000* |       46 |\n",
       "| LBR2S      |       46 |\n",
       "| INR3*      |       46 |\n",
       "| BPR3*      |       45 |\n",
       "| LRR7000    |       45 |\n",
       "| EMR3*      |       45 |\n",
       "| SMOP2*     |       44 |\n",
       "| LRRA10000* |       44 |\n",
       "| LCR16000*  |       44 |\n",
       "| ATR16000*  |       44 |\n",
       "| RMR1YY     |       44 |\n",
       "| MPR1*      |       44 |\n",
       "| LHRA1*     |       43 |\n",
       "| ESCM*      |       43 |\n",
       "| LCRA30000* |       42 |\n",
       "| SHR4*      |       42 |\n",
       "| MORM*      |       42 |\n",
       "| PSR2       |       42 |\n",
       "| CCPD*      |       42 |\n",
       "| SMR3*      |       41 |\n",
       "| RPRS8000*  |       41 |\n",
       "| WHR1*      |       41 |\n",
       "| LRRA6000*  |       41 |\n",
       "| PDRPD-1-12 |       40 |\n",
       "| LRR17500*  |       40 |\n",
       "| CORH*      |       40 |\n",
       "| BUR3*      |       40 |\n",
       "| BFR1YY     |       39 |\n",
       "| LCR110     |       39 |\n",
       "| LAC4(OX)   |       39 |\n",
       "| PDA1*      |       39 |\n",
       "| LCR11L     |       39 |\n",
       "| RPRS20000* |       38 |\n",
       "| POR106     |       38 |\n",
       "| GLR3*      |       38 |\n",
       "| LBPD10     |       38 |\n",
       "| SDSF7500*  |       37 |\n",
       "| DOR175     |       37 |\n",
       "| CVR171/2   |       37 |\n",
       "| LCRA40000* |       37 |\n",
       "| HBR1YY     |       37 |\n",
       "| CVR1*      |       37 |\n",
       "| SER1*      |       36 |\n",
       "| EMR3YY     |       36 |\n",
       "| NOR15000*  |       36 |\n",
       "| ALR1*      |       36 |\n",
       "| LRR6000*   |       36 |\n",
       "| CLRS13000* |       36 |\n",
       "| MNRM       |       36 |\n",
       "| LVPR3D*    |       36 |\n",
       "| LCRA20000* |       36 |\n",
       "| RBMDR*     |       35 |\n",
       "| CLRS8000*  |       35 |\n",
       "| PDR1       |       35 |\n",
       "| PDRPD12U*  |       35 |\n",
       "| SSR1YY     |       35 |\n",
       "| LBPD14     |       35 |\n",
       "| MNRH       |       34 |\n",
       "| LCRPD60005 |       34 |\n",
       "| LCR3800015 |       34 |\n",
       "| LCA121/2*  |       33 |\n",
       "| BHR1YY     |       33 |\n",
       "| LBR2A      |       33 |\n",
       "| GLR3R*     |       33 |\n",
       "| WDR1B*     |       33 |\n",
       "| WHR4*      |       32 |\n",
       "| LCRA*      |       32 |\n",
       "| GLR1RY     |       32 |\n",
       "| LCC3*      |       31 |\n",
       "| TCR1YY     |       31 |\n",
       "| MNR1*      |       31 |\n",
       "| PSR*       |       31 |\n",
       "| LCR108     |       31 |\n",
       "| POR172     |       31 |\n",
       "| CVR175     |       31 |\n",
       "| PDRPD15U*  |       30 |\n",
       "| LFR110000* |       30 |\n",
       "| WHR16000*  |       30 |\n",
       "| LCR19000*  |       30 |\n",
       "| LKMFR*     |       30 |\n",
       "| AZR1       |       30 |\n",
       "| HBR2YY     |       29 |\n",
       "| GDE6       |       29 |\n",
       "| PDSP*      |       29 |\n",
       "| CERS6500   |       29 |\n",
       "| ATA10000*  |       28 |\n",
       "| RBPDR*     |       28 |\n",
       "| HBR3YY     |       27 |\n",
       "| AZR3B*     |       27 |\n",
       "| LVPR2D*    |       27 |\n",
       "| MPR2*      |       27 |\n",
       "| LFR17500*  |       27 |\n",
       "| DOR17500*  |       27 |\n",
       "| AZR1C*     |       27 |\n",
       "| RBR4*      |       27 |\n",
       "| EMR1B*     |       27 |\n",
       "| LRR10000*  |       27 |\n",
       "| LCRAYY     |       27 |\n",
       "| HAR3YY     |       27 |\n",
       "| LCR15000*  |       27 |\n",
       "| LCM1*      |       26 |\n",
       "| AZR1CY     |       26 |\n",
       "| SRR1-CUP*  |       26 |\n",
       "| BFR105     |       26 |\n",
       "| LR-R1OOOO  |       26 |\n",
       "| SCNU5      |       26 |\n",
       "| GDE5       |       26 |\n",
       "| SSR1*      |       25 |\n",
       "| LAA1       |       25 |\n",
       "| EMR1A*     |       25 |\n",
       "| SGR1*      |       25 |\n",
       "| SLR1*      |       25 |\n",
       "| AZR3A*     |       25 |\n",
       "| LCA210-A22 |       25 |\n",
       "| RMR1*      |       25 |\n",
       "| LBPD30     |       25 |\n",
       "| LVPR10A*   |       25 |\n",
       "| GAR2       |       25 |\n",
       "| LACM(GM)   |       25 |\n",
       "| GLR1-R*    |       25 |\n",
       "| TCR105     |       25 |\n",
       "| TCR1*      |       25 |\n",
       "| LCA210*    |       25 |\n",
       "| LRD21*     |       24 |\n",
       "| LRR1*      |       24 |\n",
       "| WARPD14800 |       24 |\n",
       "| WDR3C*     |       24 |\n",
       "| POR31000*  |       24 |\n",
       "| LBR34      |       24 |\n",
       "| LRR2*      |       24 |\n",
       "| LCRA1L     |       24 |\n",
       "| LCR120     |       24 |\n",
       "| COCL*      |       24 |\n",
       "| ARROD*     |       24 |\n",
       "| LCR1       |       24 |\n",
       "| LCR305     |       24 |\n",
       "| LCA12*     |       24 |\n",
       "| SOR109     |       24 |\n",
       "| LFR120*    |       24 |\n",
       "| POR17500*  |       24 |\n",
       "| LCR120000* |       24 |\n",
       "| RBR2YY     |       24 |\n",
       "| BHR4YY     |       23 |\n",
       "| PDRPD1OU*  |       23 |\n",
       "| SOR112     |       23 |\n",
       "| HGR2*      |       23 |\n",
       "| LBR1L      |       23 |\n",
       "| HHRAS1*    |       23 |\n",
       "| LBCNR      |       23 |\n",
       "| CASP-4*    |       22 |\n",
       "| LBR2L      |       22 |\n",
       "| LCA105     |       22 |\n",
       "| SGR3*      |       22 |\n",
       "| CCR2YY     |       22 |\n",
       "| LCR4*      |       22 |\n",
       "| BLR3YY     |       22 |\n",
       "| LRSP80-01* |       22 |\n",
       "| EMR1BY     |       22 |\n",
       "| BFR3*      |       22 |\n",
       "| CEADP3     |       22 |\n",
       "| HBR3*      |       22 |\n",
       "| BFA1*      |       22 |\n",
       "| LCRPD80009 |       21 |\n",
       "| LYR3YY     |       21 |\n",
       "| WHR2YY     |       21 |\n",
       "| RERPD6U*   |       21 |\n",
       "| LAR4(PV)   |       21 |\n",
       "| PDA2*      |       21 |\n",
       "| LCRA75     |       21 |\n",
       "| WDR2*      |       21 |\n",
       "| LBPD11     |       20 |\n",
       "| LCA15000*  |       20 |\n",
       "| WHRE20000* |       20 |\n",
       "| PDR1-7000  |       20 |\n",
       "| LCRA15000* |       20 |\n",
       "| RPRS13000* |       20 |\n",
       "| SCOS       |       20 |\n",
       "| SGR17500SI |       20 |\n",
       "| RMR2*      |       20 |\n",
       "| PAR1YY     |       20 |\n",
       "| CLRS*      |       19 |\n",
       "| WAC3-RPD28 |       19 |\n",
       "| AZR3C*     |       19 |\n",
       "| HPR3*      |       19 |\n",
       "| LCC1*      |       19 |\n",
       "| RERA20000* |       19 |\n",
       "| POR2*      |       19 |\n",
       "| TCR2*      |       19 |\n",
       "| DOR110000* |       19 |\n",
       "| LYR1*      |       19 |\n",
       "| SPR310000* |       19 |\n",
       "| BFR2PD*    |       19 |\n",
       "| AHRPD51U*  |       19 |\n",
       "| GLR1R*     |       19 |\n",
       "| LCA11L     |       19 |\n",
       "| PDR2*      |       19 |\n",
       "| LBCO       |       19 |\n",
       "| SRR1YY     |       18 |\n",
       "| PDRPD10U*  |       18 |\n",
       "| WCR120000* |       18 |\n",
       "| BLR3*      |       18 |\n",
       "| BGR3*      |       18 |\n",
       "| EMR1AY     |       18 |\n",
       "| CERM       |       18 |\n",
       "| LCA171/2   |       18 |\n",
       "| PDR16000*  |       18 |\n",
       "| LFR140000* |       18 |\n",
       "| LMR1AWH*   |       18 |\n",
       "| DOR1&HFB*  |       18 |\n",
       "| DOR106     |       18 |\n",
       "| PDR17000   |       18 |\n",
       "| LCRA7500*  |       18 |\n",
       "| SHCTC*     |       18 |\n",
       "| HPR3YY     |       17 |\n",
       "| MNRPD      |       17 |\n",
       "| COPRH*     |       17 |\n",
       "| LARZ4      |       17 |\n",
       "| LCRPD50003 |       17 |\n",
       "| WCR19450*  |       17 |\n",
       "| MPR2YY     |       17 |\n",
       "| CCR4*      |       17 |\n",
       "| RPRM5400*  |       17 |\n",
       "| SDSFH*     |       16 |\n",
       "| MNR4D46PD* |       16 |\n",
       "| CLRA1*     |       16 |\n",
       "| RBR4YY     |       16 |\n",
       "| LCRA10     |       16 |\n",
       "| PDR17500*  |       16 |\n",
       "| LACM       |       16 |\n",
       "| LRRPD10000 |       16 |\n",
       "| GDR2       |       16 |\n",
       "| LNR2*      |       16 |\n",
       "| LPR1*      |       16 |\n",
       "| LCRA05     |       16 |\n",
       "| PAR1*      |       16 |\n",
       "| SDAP*      |       16 |\n",
       "| MYR3YY     |       16 |\n",
       "| LFR120000* |       16 |\n",
       "| HAM2*      |       16 |\n",
       "| LRSRR*     |       16 |\n",
       "| HAR2*      |       16 |\n",
       "| ESR3*      |       15 |\n",
       "| CLRM4000*  |       15 |\n",
       "| PDA2       |       15 |\n",
       "| WARPD16800 |       15 |\n",
       "| BFR2*      |       15 |\n",
       "| LCRA62     |       15 |\n",
       "| ARR3YY     |       15 |\n",
       "| LCRPD50002 |       15 |\n",
       "| LCRR*      |       15 |\n",
       "| LPR106     |       15 |\n",
       "| SHR3*      |       15 |\n",
       "| RPRS20000& |       15 |\n",
       "| DOR171/2   |       15 |\n",
       "| LRRI-7000  |       15 |\n",
       "| LCR112000* |       14 |\n",
       "| LAA2       |       14 |\n",
       "| CVR110000* |       14 |\n",
       "| LCA22      |       14 |\n",
       "| NOR3*      |       14 |\n",
       "| WCR1AD1*   |       14 |\n",
       "| DOR1*      |       14 |\n",
       "| LASED      |       14 |\n",
       "| LAC5       |       14 |\n",
       "| LCR317UDP* |       14 |\n",
       "| SCCR       |       14 |\n",
       "| LRR110000* |       14 |\n",
       "| PAR2*      |       14 |\n",
       "| WCPCD110DU |       14 |\n",
       "| SOR110     |       14 |\n",
       "| LCA11OOOO* |       14 |\n",
       "| WHR171/2   |       14 |\n",
       "| GAR4       |       14 |\n",
       "| CCR1AY     |       14 |\n",
       "| MORPD*     |       14 |\n",
       "| EMR1YY     |       14 |\n",
       "| WVRPD12U*  |       14 |\n",
       "| PDR1 7000  |       14 |\n",
       "| MORF*      |       14 |\n",
       "| RMR2YY     |       14 |\n",
       "| WHR172     |       14 |\n",
       "| GDR_GA_PD  |       14 |\n",
       "| HAR3*      |       13 |\n",
       "| SCNU4      |       13 |\n",
       "| RBR2*      |       13 |\n",
       "| SSR3PD*    |       13 |\n",
       "| LPR3*      |       13 |\n",
       "| SDSF7500RP |       13 |\n",
       "| WVR16000*  |       13 |\n",
       "| MNR3YY     |       13 |\n",
       "| WCR3-MF15* |       13 |\n",
       "| TOPR-LM    |       13 |\n",
       "| RBR-3A     |       13 |\n",
       "| MPR3YY     |       13 |\n",
       "| WCRA*      |       13 |\n",
       "| TODC-CTR   |       13 |\n",
       "| LARE       |       13 |\n",
       "| LCR115000- |       13 |\n",
       "| DUR17500*  |       13 |\n",
       "| MNR3*      |       13 |\n",
       "| LCA15*     |       13 |\n",
       "| LCRA07     |       13 |\n",
       "| LACW       |       13 |\n",
       "| POR1YY     |       13 |\n",
       "| LKPDSF*    |       13 |\n",
       "| LYR2YY     |       13 |\n",
       "| LCRA7OOO   |       13 |\n",
       "| CARM18U&D* |       12 |\n",
       "| HBR1*      |       12 |\n",
       "| LYR3*      |       12 |\n",
       "| LAC1       |       12 |\n",
       "| WHR109     |       12 |\n",
       "| LCRA71/2   |       12 |\n",
       "| PDRPD-3U*  |       12 |\n",
       "| PRRM*      |       12 |\n",
       "| AHRPD10000 |       12 |\n",
       "| LCRPD60002 |       12 |\n",
       "| SPR1E*     |       12 |\n",
       "| HBR2*      |       12 |\n",
       "| SMR4*      |       12 |\n",
       "| LCRPD-5000 |       12 |\n",
       "| LORVD1500* |       12 |\n",
       "| LCR330U*   |       12 |\n",
       "| GLR2*      |       12 |\n",
       "| PDRPD7OOO6 |       12 |\n",
       "| LCR172     |       12 |\n",
       "| PDA22*     |       12 |\n",
       "| LCR315U*   |       12 |\n",
       "| PDR3*      |       12 |\n",
       "| POM*       |       11 |\n",
       "| LBPD29     |       11 |\n",
       "| LVR1-PR6A* |       11 |\n",
       "| COR1*      |       11 |\n",
       "| LRR1       |       11 |\n",
       "| LCA210000* |       11 |\n",
       "| BFR106     |       11 |\n",
       "| SRR175     |       11 |\n",
       "| CCR1*      |       11 |\n",
       "| DUR4*      |       11 |\n",
       "| SLR3*      |       11 |\n",
       "| SLR2YY     |       11 |\n",
       "| WVR3       |       11 |\n",
       "| LMC4*      |       11 |\n",
       "| LAM3       |       11 |\n",
       "| DOR3*      |       11 |\n",
       "| ARR0YY     |       11 |\n",
       "| DUR3*      |       11 |\n",
       "| AVR3*      |       11 |\n",
       "| HPR1YY     |       11 |\n",
       "| LAM1       |       11 |\n",
       "| LRRA1OOOO- |       11 |\n",
       "| ARR110000D |       11 |\n",
       "| ARR2YY     |       11 |\n",
       "| POC3*      |       11 |\n",
       "| LR-R1OOOO* |       11 |\n",
       "| PDRPD6.6U* |       11 |\n",
       "| WDR3A*     |       11 |\n",
       "| DOR2*      |       11 |\n",
       "| SDSFA10000 |       11 |\n",
       "| LCR17OOO*  |       10 |\n",
       "| SDMFD*     |       10 |\n",
       "| RBR3YY     |       10 |\n",
       "| GDR3       |       10 |\n",
       "| LRR17000   |       10 |\n",
       "| ARR1D*     |       10 |\n",
       "| SDRPD10*   |       10 |\n",
       "| LCRPD50001 |       10 |\n",
       "| BPR3       |       10 |\n",
       "| LCA120000* |       10 |\n",
       "| SDSF9000*  |       10 |\n",
       "| BUR2*      |       10 |\n",
       "| WVRPD17U*  |       10 |\n",
       "| LCRPD15000 |       10 |\n",
       "| AHRPD70006 |       10 |\n",
       "| SFR2*      |       10 |\n",
       "| WVRPD18U*  |       10 |\n",
       "| LCR17000*  |       10 |\n",
       "| ESR3YY     |       10 |\n",
       "| ALCBD/DRD* |       10 |\n",
       "| SGR2YY     |       10 |\n",
       "| RBR3*      |       10 |\n",
       "| LCA1       |       10 |\n",
       "| SCCP       |       10 |\n",
       "| BHR475     |       10 |\n",
       "| LAOS       |       10 |\n",
       "| RHRAS1     |       10 |\n",
       "| CMR3*      |       10 |\n",
       "| PDR17500-C |       10 |\n",
       "| WAR18500*  |       10 |\n",
       "| LCR140000* |       10 |\n",
       "| WCR3-MF15( |       10 |\n",
       "| LCRA15     |        9 |\n",
       "| LOA1*      |        9 |\n",
       "| ARR2*      |        9 |\n",
       "| LCA115000* |        9 |\n",
       "| LBPD       |        9 |\n",
       "| MPSP*      |        9 |\n",
       "| LBR1M      |        9 |\n",
       "| LCR19500*  |        9 |\n",
       "| PRRE-SF*   |        9 |\n",
       "| LCRA2L     |        9 |\n",
       "| HPR2YY     |        9 |\n",
       "| LCR18500*  |        9 |\n",
       "| LCA210     |        9 |\n",
       "| COML*      |        9 |\n",
       "| AHR17500*  |        9 |\n",
       "| POR2S*     |        9 |\n",
       "| SDSF8000*  |        9 |\n",
       "| AHR3*      |        9 |\n",
       "| POR3 1500  |        9 |\n",
       "| ARR11000D* |        9 |\n",
       "| LBCB*      |        9 |\n",
       "| TORR-MH    |        9 |\n",
       "| ESR1*      |        9 |\n",
       "| LRR16OOO*  |        9 |\n",
       "| LKR17500*  |        9 |\n",
       "| LCR320UDP* |        9 |\n",
       "| EMR3F*     |        9 |\n",
       "| WCR140000& |        9 |\n",
       "| WHR110     |        9 |\n",
       "| PAM1       |        9 |\n",
       "| LMR110000- |        9 |\n",
       "| BPRG*      |        9 |\n",
       "| POR3YY     |        9 |\n",
       "| HGR4*      |        9 |\n",
       "| SHR2*      |        9 |\n",
       "| LBR4H      |        9 |\n",
       "| SDSF15000* |        9 |\n",
       "| LOCG*      |        9 |\n",
       "| LCR17500ED |        9 |\n",
       "| LRR3*      |        9 |\n",
       "| CVR3-RD300 |        8 |\n",
       "| LCRPD11.4U |        8 |\n",
       "| DOHM*      |        8 |\n",
       "| CCR4YY     |        8 |\n",
       "| LCC1YY     |        8 |\n",
       "| SER3*      |        8 |\n",
       "| AHR335U*   |        8 |\n",
       "| LBR2I      |        8 |\n",
       "| POR32000*  |        8 |\n",
       "| AVU*       |        8 |\n",
       "| WVR19500*  |        8 |\n",
       "| LAC1.5     |        8 |\n",
       "| LRRA75OO*  |        8 |\n",
       "| RMPD*      |        8 |\n",
       "| POR31500S* |        8 |\n",
       "| TOCC-GEN   |        8 |\n",
       "| LBPD17     |        8 |\n",
       "| LARD       |        8 |\n",
       "| WCR16000*  |        8 |\n",
       "| CUR3*      |        8 |\n",
       "| CARM12U&D* |        8 |\n",
       "| ARRO*      |        8 |\n",
       "| LCR120000- |        8 |\n",
       "| RBP1*      |        8 |\n",
       "| AHRPD70005 |        8 |\n",
       "| EMC3*      |        8 |\n",
       "| SPR1YY     |        8 |\n",
       "| MYR3*      |        8 |\n",
       "| LCRPD60001 |        8 |\n",
       "| INR1*      |        8 |\n",
       "| WVRPD4OOOO |        8 |\n",
       "| WHC2       |        8 |\n",
       "| LCC1-RA100 |        8 |\n",
       "| LCA11Y     |        8 |\n",
       "| RPRM3600*  |        8 |\n",
       "| RERPD8U*   |        8 |\n",
       "| RERA10000* |        8 |\n",
       "| CARM25U*   |        8 |\n",
       "| TCR3*      |        8 |\n",
       "| LAM2       |        8 |\n",
       "| LCRPD6000  |        8 |\n",
       "| ESR3       |        8 |\n",
       "| SDSF7500(R |        8 |\n",
       "| POR4*      |        8 |\n",
       "| CVR181/2   |        8 |\n",
       "| RBC1*      |        8 |\n",
       "| LRD22*     |        8 |\n",
       "| LVPR8A*    |        8 |\n",
       "| WAR18500RU |        7 |\n",
       "| LCR3DP*    |        7 |\n",
       "| LRRR1*     |        7 |\n",
       "| LAMR1      |        7 |\n",
       "| HAR1*      |        7 |\n",
       "| SDSF6000*  |        7 |\n",
       "| SDR115000* |        7 |\n",
       "| LCR110000- |        7 |\n",
       "| LCRPD1OOOO |        7 |\n",
       "| LCRA12000* |        7 |\n",
       "| LVPR6A*    |        7 |\n",
       "| LCRA1OOOO- |        7 |\n",
       "| POR1*      |        7 |\n",
       "| POR32000-S |        7 |\n",
       "| LCRA9000*  |        7 |\n",
       "| RMR3*      |        7 |\n",
       "| WHRE*      |        7 |\n",
       "| LCR115000* |        7 |\n",
       "| LPR2*      |        7 |\n",
       "| GLC3*      |        7 |\n",
       "| LCRPD10U60 |        7 |\n",
       "| CVRD2000*  |        7 |\n",
       "| DOR16000*  |        7 |\n",
       "| BFER3*     |        7 |\n",
       "| CVR3-RD150 |        7 |\n",
       "| RESIDENTIA |        7 |\n",
       "| BUR1HY     |        7 |\n",
       "| BUC1*      |        7 |\n",
       "| WVA21*     |        7 |\n",
       "| DOR110     |        7 |\n",
       "| WCR3-MF25* |        7 |\n",
       "| BGR3PD*    |        7 |\n",
       "| WCR1-PCD1* |        7 |\n",
       "| PDA11*     |        7 |\n",
       "| CLHC*      |        7 |\n",
       "| PRRE*      |        7 |\n",
       "| CEADP4     |        7 |\n",
       "| LORVD1200* |        7 |\n",
       "| WHR17500*  |        7 |\n",
       "| LCR17200*  |        7 |\n",
       "| PVRM*      |        7 |\n",
       "| LARAS4     |        7 |\n",
       "| TCR3YY     |        7 |\n",
       "| AHR26250*  |        7 |\n",
       "| LFR1*      |        7 |\n",
       "| RPRAIA     |        7 |\n",
       "| WVRPD112U* |        7 |\n",
       "| LCR16500*  |        7 |\n",
       "| LNR3YY     |        7 |\n",
       "| AHR110000* |        7 |\n",
       "| HAH*       |        7 |\n",
       "| LCRPD12U*  |        7 |\n",
       "| BLR1YY     |        7 |\n",
       "| AZR3C1200* |        7 |\n",
       "| AZW-CF*    |        7 |\n",
       "| LMR110000* |        7 |\n",
       "| LCA15Y     |        7 |\n",
       "| SMOP1*     |        6 |\n",
       "| SHCO*      |        6 |\n",
       "| DUC4*      |        6 |\n",
       "| SLR2*      |        6 |\n",
       "| BUR5*      |        6 |\n",
       "| LNR1YY     |        6 |\n",
       "| LRCM*      |        6 |\n",
       "| LCC2-RA*   |        6 |\n",
       "| CASP-9*    |        6 |\n",
       "| BFR15000*  |        6 |\n",
       "| SHR5*      |        6 |\n",
       "| LM PUD*    |        6 |\n",
       "| WHR2PP*    |        6 |\n",
       "| PDRA7000*  |        6 |\n",
       "| SDR171/2   |        6 |\n",
       "| TOPR-LO    |        6 |\n",
       "| PSRM32*    |        6 |\n",
       "| LCRA1-A21* |        6 |\n",
       "| LACR       |        6 |\n",
       "| LCR113000* |        6 |\n",
       "| LCRA10000- |        6 |\n",
       "| AHRPD10*   |        6 |\n",
       "| ARR3HY     |        6 |\n",
       "| POR2YY     |        6 |\n",
       "| LBPPD1     |        6 |\n",
       "| LCA21-A11* |        6 |\n",
       "| CUR03000*  |        6 |\n",
       "| PSC*       |        6 |\n",
       "| HPCP*      |        6 |\n",
       "| LPR16000*  |        6 |\n",
       "| RERA2L     |        6 |\n",
       "| GDE3       |        6 |\n",
       "| LCRA8000*  |        6 |\n",
       "| LORVD1452* |        6 |\n",
       "| WAR120000R |        6 |\n",
       "| PDA120000* |        6 |\n",
       "| LCA17500*  |        6 |\n",
       "| POR31500*  |        6 |\n",
       "| SCRM       |        6 |\n",
       "| LMR1B15AWH |        6 |\n",
       "| AZRA       |        6 |\n",
       "| AZR3B-CF*  |        6 |\n",
       "| DOR2&HFB*  |        6 |\n",
       "| LRR16000DP |        6 |\n",
       "| LCM1DP*    |        6 |\n",
       "| AZR1B*     |        6 |\n",
       "| WCMF8*     |        6 |\n",
       "| DOR3-P*    |        6 |\n",
       "| GDR_GA     |        6 |\n",
       "| CORA*      |        6 |\n",
       "| LCR12L     |        6 |\n",
       "| LRR7       |        6 |\n",
       "| POT3*      |        6 |\n",
       "| LRR36.6UDP |        6 |\n",
       "| NOSP3-SP4- |        6 |\n",
       "| RERPD2U*   |        6 |\n",
       "| WCR114400* |        6 |\n",
       "| WHR110000* |        6 |\n",
       "| RPRSIRPD*  |        6 |\n",
       "| CMR1YY     |        6 |\n",
       "| LCA175     |        6 |\n",
       "| WHR120000* |        6 |\n",
       "| POR171/2   |        6 |\n",
       "| WHR16000PD |        6 |\n",
       "| LRRPD70001 |        6 |\n",
       "| LBCCA      |        6 |\n",
       "| MOM*       |        6 |\n",
       "| WCRA       |        6 |\n",
       "| WASP1*     |        6 |\n",
       "| SDRA10000* |        6 |\n",
       "| SPR1*      |        6 |\n",
       "| WHR2*      |        6 |\n",
       "| EMR1*      |        6 |\n",
       "| SMOP4*     |        6 |\n",
       "| SDSF10000* |        6 |\n",
       "| COPRM*     |        6 |\n",
       "| CVR18500*  |        6 |\n",
       "| LVRSP87-19 |        6 |\n",
       "| LKR1-OS*   |        6 |\n",
       "| BUR1H*     |        6 |\n",
       "| RPRS20000- |        6 |\n",
       "| SFR3*      |        6 |\n",
       "| TCR4*      |        5 |\n",
       "| AZR1C6000* |        5 |\n",
       "| WAC3*      |        5 |\n",
       "| WARPD28500 |        5 |\n",
       "| AZCBD*     |        5 |\n",
       "| SOR120     |        5 |\n",
       "| TOHC-CTR   |        5 |\n",
       "| LCR318U*   |        5 |\n",
       "| PDMPD-RPD1 |        5 |\n",
       "| LNC4       |        5 |\n",
       "| HPCG*      |        5 |\n",
       "| SHSP       |        5 |\n",
       "| LRRPD75OO2 |        5 |\n",
       "| CEADP11    |        5 |\n",
       "| SRR1*      |        5 |\n",
       "| BFA106     |        5 |\n",
       "| LCRPD80002 |        5 |\n",
       "| LCA110000D |        5 |\n",
       "| LAP        |        5 |\n",
       "| LCR18000-R |        5 |\n",
       "| MPR3PD*    |        5 |\n",
       "| RBCI*      |        5 |\n",
       "| SDA110000* |        5 |\n",
       "| LCRA09     |        5 |\n",
       "| RBRMD      |        5 |\n",
       "| TCR2YY     |        5 |\n",
       "| SDSP4*     |        5 |\n",
       "| HGR3U25*   |        5 |\n",
       "| 1NR1*      |        5 |\n",
       "| AZRZ       |        5 |\n",
       "| LCR35000*  |        5 |\n",
       "| LRR1-7000  |        5 |\n",
       "| LCA12L     |        5 |\n",
       "| AHRPD51U-R |        5 |\n",
       "| WCMF-15*   |        5 |\n",
       "| GDRHR      |        5 |\n",
       "| LVAP*      |        5 |\n",
       "| PDMA*      |        5 |\n",
       "| AHRA20000* |        5 |\n",
       "| LCRPD60006 |        5 |\n",
       "| LCRPD60007 |        5 |\n",
       "| LRRA7500   |        5 |\n",
       "| PDR3-8U*   |        5 |\n",
       "| LYR2*      |        5 |\n",
       "| WHR19000*  |        5 |\n",
       "| LCRPD90006 |        5 |\n",
       "| RBPDC*     |        5 |\n",
       "| WCPCD1&H*  |        5 |\n",
       "| LCR111000* |        5 |\n",
       "| POR311/2   |        5 |\n",
       "| AH RM-CD*  |        5 |\n",
       "| CVC3APCD*  |        5 |\n",
       "| LCA22-A25* |        5 |\n",
       "| SCMX-C     |        5 |\n",
       "| PDA1       |        5 |\n",
       "| MOPD*      |        5 |\n",
       "| POR110000* |        5 |\n",
       "| DOM1       |        5 |\n",
       "| GLR2YY     |        5 |\n",
       "| SGCR*      |        5 |\n",
       "| RPRM2000*  |        5 |\n",
       "| LCR36U*    |        5 |\n",
       "| AZR3*      |        5 |\n",
       "| BHR4       |        5 |\n",
       "| LAC15000*  |        5 |\n",
       "| LCRPD 1000 |        5 |\n",
       "| LCRPD90005 |        5 |\n",
       "| WCR3*      |        5 |\n",
       "| WARPD12300 |        5 |\n",
       "| LCCI       |        5 |\n",
       "| GLR4P*     |        5 |\n",
       "| GDE7-20,00 |        5 |\n",
       "| NOSPA1*    |        5 |\n",
       "| GAESSP     |        5 |\n",
       "| WVRPD12U-R |        5 |\n",
       "| GAASP      |        5 |\n",
       "| SDRA71/2   |        5 |\n",
       "| LCA140000* |        5 |\n",
       "| PSCD       |        5 |\n",
       "| WAR115000R |        5 |\n",
       "| LCR14L     |        5 |\n",
       "| CVC3*      |        5 |\n",
       "| INCR*      |        5 |\n",
       "| LRRPD14U*  |        4 |\n",
       "| ALR17500*  |        4 |\n",
       "| CVR3-RD200 |        4 |\n",
       "| RERPD6.8U* |        4 |\n",
       "| CLCP-E*    |        4 |\n",
       "| BFCG*      |        4 |\n",
       "| MPC4*      |        4 |\n",
       "| RBR4**     |        4 |\n",
       "| SHCG*      |        4 |\n",
       "| CA&MUR&D*  |        4 |\n",
       "| POC4*      |        4 |\n",
       "| ARR17500*  |        4 |\n",
       "| LRC3-RA650 |        4 |\n",
       "| BPR1YY     |        4 |\n",
       "| PDR1-7000* |        4 |\n",
       "| HPR4YY     |        4 |\n",
       "| LMUD*      |        4 |\n",
       "| LRRPD75007 |        4 |\n",
       "| RECL*      |        4 |\n",
       "| DUR39000*  |        4 |\n",
       "| LVPI       |        4 |\n",
       "| LCA16000   |        4 |\n",
       "| SRR3CC*    |        4 |\n",
       "| PDR3       |        4 |\n",
       "| LCRA08     |        4 |\n",
       "| SOR122500* |        4 |\n",
       "| CLRM4000-R |        4 |\n",
       "| LCR3-M11/2 |        4 |\n",
       "| RMR16000*  |        4 |\n",
       "| LORVD2500* |        4 |\n",
       "| LARW1      |        4 |\n",
       "| ALCP       |        4 |\n",
       "| AZR2-RIA*  |        4 |\n",
       "| DUCR*      |        4 |\n",
       "| LCRA6200*  |        4 |\n",
       "| LACR(PKM)  |        4 |\n",
       "| WDR1A*     |        4 |\n",
       "| LCRPD72001 |        4 |\n",
       "| LRRPD13U*  |        4 |\n",
       "| INGLEWOOD  |        4 |\n",
       "| POAPYY     |        4 |\n",
       "| BFCG       |        4 |\n",
       "| LCC3       |        4 |\n",
       "| CLRS20000* |        4 |\n",
       "| CEADP6     |        4 |\n",
       "| SOR19000*  |        4 |\n",
       "| LOMC*      |        4 |\n",
       "| GDE7-40,00 |        4 |\n",
       "| COR3*      |        4 |\n",
       "| LCR110000D |        4 |\n",
       "| SDRA7500*  |        4 |\n",
       "| TOR3*      |        4 |\n",
       "| HBR2B*     |        4 |\n",
       "| SDM1*      |        4 |\n",
       "| ESR2YY     |        4 |\n",
       "| LRRPD75002 |        4 |\n",
       "| LNR3*      |        4 |\n",
       "| LRRA7000-R |        4 |\n",
       "| MNR3PD*    |        4 |\n",
       "| LCR2DP*    |        4 |\n",
       "| DOC2*      |        4 |\n",
       "| LCRPD70001 |        4 |\n",
       "| LARZ5      |        4 |\n",
       "| CLRM*      |        4 |\n",
       "| BGCMHPD*   |        4 |\n",
       "| DUR410000* |        4 |\n",
       "| PDR110000D |        4 |\n",
       "| BRR120000* |        4 |\n",
       "| CVM1       |        4 |\n",
       "| LCR11*     |        4 |\n",
       "| LCRA5000*  |        4 |\n",
       "| LCA17000*  |        4 |\n",
       "| PAM1*      |        4 |\n",
       "| COR1YY     |        4 |\n",
       "| SDSFA16000 |        4 |\n",
       "| ESM1*      |        4 |\n",
       "| PDRPD*     |        4 |\n",
       "| SSR3       |        4 |\n",
       "| EMC2*      |        4 |\n",
       "| HAR4*      |        4 |\n",
       "| WHR1L2     |        4 |\n",
       "| POAP*      |        4 |\n",
       "| WHR3*      |        4 |\n",
       "| LCR315UDP* |        4 |\n",
       "| EMR1C*     |        4 |\n",
       "| LRR17OOO*  |        4 |\n",
       "| EMR2YY     |        4 |\n",
       "| SDSF10000- |        4 |\n",
       "| SOR115000* |        4 |\n",
       "| TCR17200*  |        4 |\n",
       "| POR301     |        4 |\n",
       "| LRRA 7000  |        4 |\n",
       "| CVC2*      |        4 |\n",
       "| WHC0*      |        4 |\n",
       "| PRRM-P*    |        4 |\n",
       "| BRA2*      |        4 |\n",
       "| PDR110000* |        4 |\n",
       "| LRRR-1*    |        4 |\n",
       "| LCRA20     |        4 |\n",
       "| EMR4*      |        4 |\n",
       "| LRR1-7500* |        3 |\n",
       "| MORE*      |        3 |\n",
       "| PDR3DP*    |        3 |\n",
       "| SGR4*      |        3 |\n",
       "| DOR2PUD*   |        3 |\n",
       "| SDR110000R |        3 |\n",
       "| WCMF20*    |        3 |\n",
       "| LRRI0000   |        3 |\n",
       "| POT3YY     |        3 |\n",
       "| SDSF10000& |        3 |\n",
       "| SDR17500*  |        3 |\n",
       "| SOR112000* |        3 |\n",
       "| LCR14Y     |        3 |\n",
       "| MOP/QP*    |        3 |\n",
       "| SDRA08     |        3 |\n",
       "| WVRPD12000 |        3 |\n",
       "| WHR17200*  |        3 |\n",
       "| SMR2B*     |        3 |\n",
       "| PSC        |        3 |\n",
       "| PRD*       |        3 |\n",
       "| LRMDR*     |        3 |\n",
       "| LKR115000* |        3 |\n",
       "| GLR1(PRD)* |        3 |\n",
       "| PSR-       |        3 |\n",
       "| GLR3YY     |        3 |\n",
       "| AHRPD15000 |        3 |\n",
       "| SHR4       |        3 |\n",
       "| PSCD8*     |        3 |\n",
       "| MNRS-D3    |        3 |\n",
       "| LRMDR1*    |        3 |\n",
       "| LRR326.5U* |        3 |\n",
       "| CMR1*      |        3 |\n",
       "| AHRPD75009 |        3 |\n",
       "| LAPF       |        3 |\n",
       "| LCR140     |        3 |\n",
       "| SDSP27U*   |        3 |\n",
       "| BFR16000*  |        3 |\n",
       "| CCC3       |        3 |\n",
       "| LCR107     |        3 |\n",
       "| LRR366UDP* |        3 |\n",
       "| LCRA       |        3 |\n",
       "| LR 6000    |        3 |\n",
       "| SDSP10*    |        3 |\n",
       "| BPI*       |        3 |\n",
       "| SFC2*      |        3 |\n",
       "| HPCN*      |        3 |\n",
       "| WDR3B*     |        3 |\n",
       "| SRR3*      |        3 |\n",
       "| SEM*       |        3 |\n",
       "| RBGC*      |        3 |\n",
       "| WVR115000* |        3 |\n",
       "| AHRPD1O*   |        3 |\n",
       "| LOR3*      |        3 |\n",
       "| LBPD2      |        3 |\n",
       "| AHRPD11.6U |        3 |\n",
       "| CLCP*      |        3 |\n",
       "| SCBP       |        3 |\n",
       "| GACSP      |        3 |\n",
       "| POR4YY     |        3 |\n",
       "| SDSP9*     |        3 |\n",
       "| LNR2PY     |        3 |\n",
       "| WVRPD56*   |        3 |\n",
       "| WVR320U*   |        3 |\n",
       "| LCR312UDP* |        3 |\n",
       "| LPR175     |        3 |\n",
       "| PACM*      |        3 |\n",
       "| SPR2A*     |        3 |\n",
       "| HPR1*      |        3 |\n",
       "| AZC2YY     |        3 |\n",
       "| LCR175*    |        3 |\n",
       "| GAGVSP     |        3 |\n",
       "| LCRAL5     |        3 |\n",
       "| LCR28000*  |        3 |\n",
       "| INP1YY     |        3 |\n",
       "| SD7500*    |        3 |\n",
       "| WARPD37000 |        3 |\n",
       "| ESR2*      |        3 |\n",
       "| 1NR3*      |        3 |\n",
       "| POR23000*  |        3 |\n",
       "| SGR4YY     |        3 |\n",
       "| COR2*      |        3 |\n",
       "| SLR165     |        3 |\n",
       "| RPRS       |        3 |\n",
       "| HPCM*      |        3 |\n",
       "| SDSFA20000 |        3 |\n",
       "| GACPSP     |        3 |\n",
       "| RECG       |        3 |\n",
       "| LCD21*     |        3 |\n",
       "| SDSF5000*  |        3 |\n",
       "| SLR3YY     |        3 |\n",
       "| SPR210000* |        3 |\n",
       "| EMRIB*     |        3 |\n",
       "| LMRI       |        3 |\n",
       "| PDRI*      |        3 |\n",
       "| LCR326UDP* |        3 |\n",
       "| DOR18500*  |        3 |\n",
       "| SHR1*      |        3 |\n",
       "| RHRAS2     |        3 |\n",
       "| MORH-P/QP* |        3 |\n",
       "| MNR4*      |        3 |\n",
       "| POM1*      |        3 |\n",
       "| LBCMR      |        3 |\n",
       "| RPRS1-RS20 |        3 |\n",
       "| ARR3H*     |        3 |\n",
       "| AHR3-R325U |        3 |\n",
       "| LCA11-M1 1 |        3 |\n",
       "| WHM1*      |        3 |\n",
       "| PDA12*     |        3 |\n",
       "| LCR313UDP* |        3 |\n",
       "| LCR440U*   |        3 |\n",
       "| CVR120000* |        3 |\n",
       "| POR110000H |        3 |\n",
       "| GLR4L*     |        3 |\n",
       "| NOR1(R3)*  |        3 |\n",
       "| CVC4*      |        3 |\n",
       "| WHHR*      |        3 |\n",
       "| PAR105     |        3 |\n",
       "| PDR1-10000 |        3 |\n",
       "| CLI-       |        3 |\n",
       "| LAR2-1     |        3 |\n",
       "| LCR11OOOO* |        3 |\n",
       "| CVRD3000*  |        3 |\n",
       "| LRRA6500   |        3 |\n",
       "| LCR140000& |        3 |\n",
       "| GDR_LGA    |        3 |\n",
       "| LVSP814*   |        3 |\n",
       "| LPR4*      |        3 |\n",
       "| MNRS-D4    |        3 |\n",
       "| LBPPD5     |        3 |\n",
       "| LRRPD70006 |        3 |\n",
       "| POT4*      |        3 |\n",
       "| ARR112500* |        3 |\n",
       "| NOR1       |        3 |\n",
       "| LVPR15A*   |        3 |\n",
       "| TOR3       |        3 |\n",
       "| GDM1A*     |        3 |\n",
       "| POT2*      |        3 |\n",
       "| EMR3PRD*   |        3 |\n",
       "| LCA21-A110 |        3 |\n",
       "| WHRE15000( |        3 |\n",
       "| SLR3-M1*   |        2 |\n",
       "| LRRA7OOO*  |        2 |\n",
       "| MYR3PY     |        2 |\n",
       "| PRCG*      |        2 |\n",
       "| LCRA7500E* |        2 |\n",
       "| BFCG&TC*   |        2 |\n",
       "| LKMHP*     |        2 |\n",
       "| RHRAS1*    |        2 |\n",
       "| CEADP8     |        2 |\n",
       "| LPRE10000* |        2 |\n",
       "| LBPD1*     |        2 |\n",
       "| LCC4*      |        2 |\n",
       "| RBC-2      |        2 |\n",
       "| DUR1D*     |        2 |\n",
       "| SRRPCC*    |        2 |\n",
       "| LCA 22*    |        2 |\n",
       "| LARAS3     |        2 |\n",
       "| SPR2B*     |        2 |\n",
       "| HASP       |        2 |\n",
       "| ATMRV*     |        2 |\n",
       "| LOR1P*     |        2 |\n",
       "| CVCP-PCD*  |        2 |\n",
       "| LCA22-R170 |        2 |\n",
       "| PD SFR-3   |        2 |\n",
       "| RERA20000H |        2 |\n",
       "| NOR320U*   |        2 |\n",
       "| DUR4-C4*   |        2 |\n",
       "| LCR1-R3*   |        2 |\n",
       "| POR2-R1600 |        2 |\n",
       "| COPRL*     |        2 |\n",
       "| CVA1PCD*   |        2 |\n",
       "| LCR3       |        2 |\n",
       "| SCOS-A     |        2 |\n",
       "| POR1EY     |        2 |\n",
       "| PRRM3200PU |        2 |\n",
       "| BUR-1*     |        2 |\n",
       "| AZP*       |        2 |\n",
       "| LCP*       |        2 |\n",
       "| LVA1*      |        2 |\n",
       "| LMR1B10AWH |        2 |\n",
       "| SRR2YY     |        2 |\n",
       "| LCR303     |        2 |\n",
       "| MNR1**     |        2 |\n",
       "| PRPUD*     |        2 |\n",
       "| RPRS10000- |        2 |\n",
       "| DOR1       |        2 |\n",
       "| LRC3*      |        2 |\n",
       "| DUPUD      |        2 |\n",
       "| SOR105     |        2 |\n",
       "| CMR3YY     |        2 |\n",
       "| RERA15000* |        2 |\n",
       "| ATMR1800*  |        2 |\n",
       "| BFR105000* |        2 |\n",
       "| SMBCD*     |        2 |\n",
       "| LBCCN      |        2 |\n",
       "| NOSP2*     |        2 |\n",
       "| EMC2YY     |        2 |\n",
       "| HBM*       |        2 |\n",
       "| SGR2*      |        2 |\n",
       "| LCRPD      |        2 |\n",
       "| REA*       |        2 |\n",
       "| LCC2-R2*   |        2 |\n",
       "| SPR3*      |        2 |\n",
       "| LCA2VV     |        2 |\n",
       "| LVCPD*     |        2 |\n",
       "| WARP       |        2 |\n",
       "| NOR3-20U*  |        2 |\n",
       "| LRRPD15UDP |        2 |\n",
       "| AHA11*     |        2 |\n",
       "| LCR110000  |        2 |\n",
       "| SMR2-C4*   |        2 |\n",
       "| PSRD7*     |        2 |\n",
       "| DUR1       |        2 |\n",
       "| SEC*       |        2 |\n",
       "| R 1        |        2 |\n",
       "| INR2*      |        2 |\n",
       "| MBC1YY     |        2 |\n",
       "| BFR3PD*    |        2 |\n",
       "| SDAL*      |        2 |\n",
       "| ARR0*      |        2 |\n",
       "| LRP*       |        2 |\n",
       "| PRRM-OS*   |        2 |\n",
       "| SMR2A*     |        2 |\n",
       "| LRR165OO*  |        2 |\n",
       "| POR310000* |        2 |\n",
       "| LBCCP      |        2 |\n",
       "| LRR35000*  |        2 |\n",
       "| CEADP7     |        2 |\n",
       "| GDE5*      |        2 |\n",
       "| TCR4YY     |        2 |\n",
       "| LPRS7500*  |        2 |\n",
       "| EMR4YY     |        2 |\n",
       "| LRRI-10000 |        2 |\n",
       "| WARPD61700 |        2 |\n",
       "| AHRH-OA-FC |        2 |\n",
       "| WCRAYY     |        2 |\n",
       "| BUC4       |        2 |\n",
       "| LKRA*      |        2 |\n",
       "| LCRA7OOO*  |        2 |\n",
       "| CORL       |        2 |\n",
       "| RPRA1*     |        2 |\n",
       "| CLHC       |        2 |\n",
       "| MPR1CD*    |        2 |\n",
       "| SDAL-SF800 |        2 |\n",
       "| SDRPD12*   |        2 |\n",
       "| LBCB       |        2 |\n",
       "| SRR115     |        2 |\n",
       "| RPRS13000- |        2 |\n",
       "| LBPD*      |        2 |\n",
       "| ESM1       |        2 |\n",
       "| WCR114400& |        2 |\n",
       "| EMR4**     |        2 |\n",
       "| SDSF7500&R |        2 |\n",
       "| SHSP-2     |        2 |\n",
       "| HAR1       |        2 |\n",
       "| RPRS5*     |        2 |\n",
       "| RBRRD*     |        2 |\n",
       "| WCRA40000* |        2 |\n",
       "| POIP       |        2 |\n",
       "| CLRM3000*  |        2 |\n",
       "| LCC4-P*    |        2 |\n",
       "| WHR4UD*    |        2 |\n",
       "| CUR1*      |        2 |\n",
       "| LCR405     |        2 |\n",
       "| HPR4*      |        2 |\n",
       "| LPRE1L     |        2 |\n",
       "| AVM3*      |        2 |\n",
       "| LBRR3S     |        2 |\n",
       "| PRCG-P*    |        2 |\n",
       "| EMRIC*     |        2 |\n",
       "| RPRS10000S |        2 |\n",
       "| HBPDR*     |        2 |\n",
       "| BUR4-C2-C3 |        2 |\n",
       "| LCR3800025 |        2 |\n",
       "| SDSP5*     |        2 |\n",
       "| LCA110000E |        2 |\n",
       "| LOR17000*  |        2 |\n",
       "| PD RPD18U  |        2 |\n",
       "| LARZ3      |        2 |\n",
       "| CLCP       |        2 |\n",
       "| CC-R3      |        2 |\n",
       "| PRR1*      |        2 |\n",
       "| PDR3-R3DP* |        2 |\n",
       "| MNPD       |        2 |\n",
       "| ARR3HV     |        2 |\n",
       "| RERR-LM    |        2 |\n",
       "| WDR4       |        2 |\n",
       "| LRR6OOO*   |        2 |\n",
       "| CCR2*      |        2 |\n",
       "| RERA20     |        2 |\n",
       "| LNR2RPD-R3 |        2 |\n",
       "| LCR316U*   |        2 |\n",
       "| CVR17500PC |        2 |\n",
       "| GDR_VIL_GR |        2 |\n",
       "| GLRIPRD*   |        2 |\n",
       "| MBR2YY     |        2 |\n",
       "| LVPR       |        2 |\n",
       "| BLR1*      |        2 |\n",
       "| LCC3-A1700 |        2 |\n",
       "| LCC3YY     |        2 |\n",
       "| LRR15000*  |        2 |\n",
       "| LCA1-R1100 |        2 |\n",
       "| DOR15OOO*  |        2 |\n",
       "| ARR175     |        2 |\n",
       "| SSR1DY     |        2 |\n",
       "| INR4*      |        2 |\n",
       "| BPC1*      |        2 |\n",
       "| GDE6_PD4   |        2 |\n",
       "| COPR3*     |        2 |\n",
       "| HAR2YY     |        2 |\n",
       "| BGCM*      |        2 |\n",
       "| DUC4YY     |        2 |\n",
       "| LRMDR-2    |        2 |\n",
       "| PDPS       |        2 |\n",
       "| BGR2*      |        2 |\n",
       "| RPOH&E*    |        2 |\n",
       "| LPPUD-C2*  |        2 |\n",
       "| HBRP*      |        2 |\n",
       "| PDM4       |        2 |\n",
       "| LCR1L2     |        2 |\n",
       "| SOR109*    |        2 |\n",
       "| LCRPD50008 |        2 |\n",
       "| LR-R10000  |        2 |\n",
       "| SSR1       |        2 |\n",
       "| TORR-OF    |        2 |\n",
       "| ARR015     |        2 |\n",
       "| LCRR1*     |        2 |\n",
       "| INR11/2-R1 |        2 |\n",
       "| LRRPD7OOO7 |        2 |\n",
       "| SP-13      |        2 |\n",
       "| SPR3A10000 |        2 |\n",
       "| PR-PUD*    |        2 |\n",
       "| HGR1*      |        2 |\n",
       "| MNRS-D1    |        2 |\n",
       "| CECC       |        2 |\n",
       "| BHR475*    |        2 |\n",
       "| WCMF15*    |        2 |\n",
       "| LFR110*    |        2 |\n",
       "| INP1*      |        2 |\n",
       "| WVRR1-RPD1 |        2 |\n",
       "| AZW*       |        2 |\n",
       "| BURBANK R- |        2 |\n",
       "| AHR17000-C |        2 |\n",
       "| LUCPD*     |        2 |\n",
       "| PDR17OOO*  |        2 |\n",
       "| MNR4D46*   |        2 |\n",
       "| PDR120000* |        2 |\n",
       "| SPR2A10000 |        2 |\n",
       "| LCM1YY     |        2 |\n",
       "| HGR3*      |        2 |\n",
       "| LCRPD11.2U |        2 |\n",
       "| LARZ2.5    |        2 |\n",
       "| DOR1YY     |        2 |\n",
       "| LCA10000*  |        2 |\n",
       "| TCRI7200*  |        2 |\n",
       "| CVR110     |        2 |\n",
       "| NOR3P*     |        2 |\n",
       "| CVR185     |        2 |\n",
       "| LCRPD13.8U |        2 |\n",
       "| LBR1N*     |        2 |\n",
       "| CVR17500&P |        2 |\n",
       "| NOR3YY     |        2 |\n",
       "| WARPD148OO |        2 |\n",
       "| CORAYY     |        2 |\n",
       "| WH R1*     |        2 |\n",
       "| POOH*      |        2 |\n",
       "| AZR1BY     |        2 |\n",
       "| AZPYYY     |        2 |\n",
       "| LNR1*      |        2 |\n",
       "| WCOS&H*    |        2 |\n",
       "| LCM2*      |        2 |\n",
       "| LCR15500*  |        2 |\n",
       "| LCR15OOO*  |        2 |\n",
       "| AZM2*      |        2 |\n",
       "| GDC2CC*    |        2 |\n",
       "| DUC4       |        1 |\n",
       "| PDC3*      |        1 |\n",
       "| LBCCO/     |        1 |\n",
       "| RBR1       |        1 |\n",
       "| LKRAYY     |        1 |\n",
       "| LCR2000*   |        1 |\n",
       "| WCRA20000* |        1 |\n",
       "| LCR112     |        1 |\n",
       "| CLSP2*     |        1 |\n",
       "| SGCM-R4*   |        1 |\n",
       "| ARR3PH*    |        1 |\n",
       "| GDR2_PD    |        1 |\n",
       "| BLR2YY     |        1 |\n",
       "| LRCR*      |        1 |\n",
       "| ATCO*      |        1 |\n",
       "| LCRA6000ED |        1 |\n",
       "| WHR120     |        1 |\n",
       "| SMOP3*     |        1 |\n",
       "| PDR3-C3*   |        1 |\n",
       "| PDM2*      |        1 |\n",
       "| CSRS       |        1 |\n",
       "| SMCM4*     |        1 |\n",
       "| RB4*       |        1 |\n",
       "| GLMIA*     |        1 |\n",
       "| POAPTY     |        1 |\n",
       "| TCR172*    |        1 |\n",
       "| LCC2YY     |        1 |\n",
       "| PDC4       |        1 |\n",
       "| IMR3*      |        1 |\n",
       "| LRR1-10000 |        1 |\n",
       "| LCR4       |        1 |\n",
       "| DUR1A*     |        1 |\n",
       "| CVM1YY     |        1 |\n",
       "| LCR12000*  |        1 |\n",
       "| LARD15     |        1 |\n",
       "| LCR3-R1200 |        1 |\n",
       "| SDCG*      |        1 |\n",
       "| SPR2B10000 |        1 |\n",
       "| LCR11OOOOD |        1 |\n",
       "| SLR3-R3D*  |        1 |\n",
       "| DOR3-M2*   |        1 |\n",
       "| TOPD*      |        1 |\n",
       "| BGC4-R3PD* |        1 |\n",
       "| LCD22*     |        1 |\n",
       "| LCR-A-1*   |        1 |\n",
       "| LRHI       |        1 |\n",
       "| EMM1*      |        1 |\n",
       "| CUR18500*  |        1 |\n",
       "| INC2D*     |        1 |\n",
       "| WD4*       |        1 |\n",
       "| PDR1-13000 |        1 |\n",
       "| R7000      |        1 |\n",
       "| GLRI-R*    |        1 |\n",
       "| LARU       |        1 |\n",
       "| SDCH*      |        1 |\n",
       "| GLR4-R3R*  |        1 |\n",
       "| LVMHP*     |        1 |\n",
       "| LCA12 1/2* |        1 |\n",
       "| RPCN*      |        1 |\n",
       "| LBCP       |        1 |\n",
       "| TOPD       |        1 |\n",
       "| LCRA6OOO   |        1 |\n",
       "| RPD-5000   |        1 |\n",
       "| SDR175     |        1 |\n",
       "| LBRR2N     |        1 |\n",
       "| ARRO30000& |        1 |\n",
       "| BPR1       |        1 |\n",
       "| COR3YY     |        1 |\n",
       "| MORM-P/QP* |        1 |\n",
       "| WHR112000* |        1 |\n",
       "| LFR130000* |        1 |\n",
       "| LCRA02     |        1 |\n",
       "| LRRA7OOO   |        1 |\n",
       "| MA-SF-M*   |        1 |\n",
       "| ALR3*      |        1 |\n",
       "| GAC3       |        1 |\n",
       "| LAA1-1     |        1 |\n",
       "| RPRS8000-O |        1 |\n",
       "| CSRS*      |        1 |\n",
       "| SSC4-BP*   |        1 |\n",
       "| RMPD       |        1 |\n",
       "| WCRIAD1*   |        1 |\n",
       "| DORI05*    |        1 |\n",
       "| TCRI*      |        1 |\n",
       "| SMR2A-R2*  |        1 |\n",
       "| GLR4       |        1 |\n",
       "| LRMPD*     |        1 |\n",
       "| SOR1L2     |        1 |\n",
       "| GDE4*      |        1 |\n",
       "| DUR18*     |        1 |\n",
       "| SDR110000* |        1 |\n",
       "| LCR2000020 |        1 |\n",
       "| LCR1-P*    |        1 |\n",
       "| CASP-7*    |        1 |\n",
       "| GAM1       |        1 |\n",
       "| COUNT ON # |        1 |\n",
       "| MOR1*      |        1 |\n",
       "| POC4-R3200 |        1 |\n",
       "| GLM2YY     |        1 |\n",
       "| WV RPD56*  |        1 |\n",
       "| SOR115*    |        1 |\n",
       "| IRA1*      |        1 |\n",
       "| LAR1*      |        1 |\n",
       "| CUR 3      |        1 |\n",
       "| PAR2YY     |        1 |\n",
       "| ESR3VV     |        1 |\n",
       "| POR31OOO   |        1 |\n",
       "| SRR17500   |        1 |\n",
       "| SRR1L1     |        1 |\n",
       "| RBR-1 (PLD |        1 |\n",
       "| PDR2DP*    |        1 |\n",
       "| CCR-1*     |        1 |\n",
       "| MOCG*      |        1 |\n",
       "| CLRS1000*  |        1 |\n",
       "| EMR2*      |        1 |\n",
       "| SFR2       |        1 |\n",
       "| PDC1DP*    |        1 |\n",
       "| DOR3-R1500 |        1 |\n",
       "| LCA101     |        1 |\n",
       "| AZR1A*     |        1 |\n",
       "| CLCH       |        1 |\n",
       "| LCC2       |        1 |\n",
       "| LCA25-A11* |        1 |\n",
       "| LCR-1-2000 |        1 |\n",
       "| PSP*       |        1 |\n",
       "| DOR175OO*  |        1 |\n",
       "| RM3*       |        1 |\n",
       "| LARW2      |        1 |\n",
       "| CCC3*      |        1 |\n",
       "| POR115000H |        1 |\n",
       "| LKMF       |        1 |\n",
       "| PD R1      |        1 |\n",
       "| SRR17500*  |        1 |\n",
       "| POR4-R2*   |        1 |\n",
       "| GARR-MD    |        1 |\n",
       "| LCA11000*  |        1 |\n",
       "| WNR110000* |        1 |\n",
       "| LBCO*      |        1 |\n",
       "| LRMDR-1*   |        1 |\n",
       "| AHRA10000* |        1 |\n",
       "| LCRPD5000  |        1 |\n",
       "| DUR120000* |        1 |\n",
       "| BFA1YY     |        1 |\n",
       "| MOPD       |        1 |\n",
       "| CVRD4000*  |        1 |\n",
       "| TCR105*    |        1 |\n",
       "| RPOH-RS1*  |        1 |\n",
       "| MPR3       |        1 |\n",
       "| BRA1*      |        1 |\n",
       "| LCRPD14U-R |        1 |\n",
       "| DOR 2&HFB  |        1 |\n",
       "| CMR3       |        1 |\n",
       "| POAPS*     |        1 |\n",
       "| LRRA 7000* |        1 |\n",
       "| LRA11*     |        1 |\n",
       "| LCA12OOOO* |        1 |\n",
       "| LCR27500*  |        1 |\n",
       "| AZCFR3BC2* |        1 |\n",
       "| SRRPYY     |        1 |\n",
       "| LAR1P      |        1 |\n",
       "| AZR1AY     |        1 |\n",
       "| LCRPD6OO5. |        1 |\n",
       "| LCPYVV     |        1 |\n",
       "| LCRPD 1 2  |        1 |\n",
       "| POT1YY     |        1 |\n",
       "| BPR3PD*    |        1 |\n",
       "| SRR111000* |        1 |\n",
       "| TCR310000* |        1 |\n",
       "| LCR175000  |        1 |\n",
       "| HAR4-R2*   |        1 |\n",
       "| RBGC       |        1 |\n",
       "| DUR18000*  |        1 |\n",
       "| LRA12*     |        1 |\n",
       "| GAHB       |        1 |\n",
       "| MNR2YY     |        1 |\n",
       "| BUR1-1*    |        1 |\n",
       "| RPRSIRPD-O |        1 |\n",
       "| ATM1-CG*   |        1 |\n",
       "| RBPDRY     |        1 |\n",
       "| DOR105*    |        1 |\n",
       "| RERR-MD    |        1 |\n",
       "| LCR*       |        1 |\n",
       "| LRR16500   |        1 |\n",
       "| GLR1-*     |        1 |\n",
       "| PDR17*     |        1 |\n",
       "| LBCNP      |        1 |\n",
       "| LCR1 6000* |        1 |\n",
       "| BLR2*      |        1 |\n",
       "| LCR3800012 |        1 |\n",
       "| WCOP*      |        1 |\n",
       "| WHC2*      |        1 |\n",
       "| LCC2-R320U |        1 |\n",
       "| LCC3BE*    |        1 |\n",
       "| WVRPD40000 |        1 |\n",
       "| LBR1*      |        1 |\n",
       "| LCR1VV     |        1 |\n",
       "| DOR3       |        1 |\n",
       "| LVRSP89-21 |        1 |\n",
       "| POC4YY     |        1 |\n",
       "| LRRI 7000  |        1 |\n",
       "| SRR171/2   |        1 |\n",
       "| SDSF&H&PH* |        1 |\n",
       "| LCRPD80005 |        1 |\n",
       "| LRR7000V   |        1 |\n",
       "| LCA22-CPD* |        1 |\n",
       "| ALCPD*     |        1 |\n",
       "| AH RS-(3)- |        1 |\n",
       "| LCA12000*  |        1 |\n",
       "| AZC3*      |        1 |\n",
       "| SLR16500*  |        1 |\n",
       "| G1R3*      |        1 |\n",
       "| LFR175000* |        1 |\n",
       "| LNC4YY     |        1 |\n",
       "| HBRP**     |        1 |\n",
       "| LCRA 7500* |        1 |\n",
       "| LCR1-7500  |        1 |\n",
       "| LMR3*      |        1 |\n",
       "| LCC4-R1600 |        1 |\n",
       "| DUR10000*  |        1 |\n",
       "| LKR*       |        1 |\n",
       "| PSR1YY     |        1 |\n",
       "| ARR105     |        1 |\n",
       "| WHR2VV     |        1 |\n",
       "| INR1       |        1 |\n",
       "| IRA15000*  |        1 |\n",
       "| LCR2DP     |        1 |\n",
       "| CCR3A*     |        1 |\n",
       "| LCRA7000-R |        1 |\n",
       "| HAM1       |        1 |\n",
       "| LRM1-RA100 |        1 |\n",
       "| LCR 2      |        1 |\n",
       "| PDRI-7000  |        1 |\n",
       "| HBR1-R2*   |        1 |\n",
       "| CVR11L     |        1 |\n",
       "| LCRPD12U   |        1 |\n",
       "| SFP*       |        1 |\n",
       "| LCR110*    |        1 |\n",
       "| BUR4       |        1 |\n",
       "| MNM1*      |        1 |\n",
       "| AH RM-CD-F |        1 |\n",
       "| DOR1O5OO*  |        1 |\n",
       "| WHR175     |        1 |\n",
       "| TCC2*      |        1 |\n",
       "| BUR-3      |        1 |\n",
       "| LCRAL1     |        1 |\n",
       "| SFR1-1     |        1 |\n",
       "| DOR1O5*    |        1 |\n",
       "| LRMDR 2*   |        1 |\n",
       "| WVRR       |        1 |\n",
       "| CCR1Z*     |        1 |\n",
       "| RBMD       |        1 |\n",
       "| LBIL       |        1 |\n",
       "| POT4YY     |        1 |\n",
       "| LCR16000-R |        1 |\n",
       "| NOR1PF*    |        1 |\n",
       "| LCA1600*   |        1 |\n",
       "| BLC3R*     |        1 |\n",
       "| LBCCH      |        1 |\n",
       "| PDRI-13000 |        1 |\n",
       "| CL         |        1 |\n",
       "| LCC3-R1*   |        1 |\n",
       "| AZR1YY     |        1 |\n",
       "| HAMZ       |        1 |\n",
       "| LCRPD80020 |        1 |\n",
       "| LRRR2.5    |        1 |\n",
       "| DOR17500   |        1 |\n",
       "| LCRAL2     |        1 |\n",
       "| MPR2PD*    |        1 |\n",
       "| NORA5000*  |        1 |\n",
       "| LNC3*      |        1 |\n",
       "| LPR2YY     |        1 |\n",
       "| HPR3       |        1 |\n",
       "| INM1L*     |        1 |\n",
       "| WHR1       |        1 |\n",
       "| SPCM       |        1 |\n",
       "| SPR2A1OOOO |        1 |\n",
       "| BUR15000*  |        1 |\n",
       "| RBPDI*     |        1 |\n",
       "| GLR1HY     |        1 |\n",
       "| WCCN*      |        1 |\n",
       "| DOR1-10000 |        1 |\n",
       "| BGR3HPD*   |        1 |\n",
       "| DOR11000*  |        1 |\n",
       "| SGCMYY     |        1 |\n",
       "| LRRI*      |        1 |\n",
       "| NORI       |        1 |\n",
       "| WCR1       |        1 |\n",
       "| GLR-4      |        1 |\n",
       "| HBR1       |        1 |\n",
       "| SHSP2      |        1 |\n",
       "| DUR165OO*  |        1 |\n",
       "| TORC-CTR   |        1 |\n",
       "| POCIND*    |        1 |\n",
       "| HAR3       |        1 |\n",
       "| LCA120     |        1 |\n",
       "| MNC2*      |        1 |\n",
       "| LCA125000* |        1 |\n",
       "| LCA1L5     |        1 |\n",
       "| LKC4*      |        1 |\n",
       "| LARA-1*    |        1 |\n",
       "| CLR18000*  |        1 |\n",
       "| CASP-6*    |        1 |\n",
       "| LBRI       |        1 |\n",
       "| POC4-R3100 |        1 |\n",
       "| LCR130     |        1 |\n",
       "| HBRPYY     |        1 |\n",
       "| CVR1       |        1 |\n",
       "| LCR40000*  |        1 |\n",
       "| AZR1*      |        1 |\n",
       "| DOR1-5000* |        1 |\n",
       "| PRCC-CG*   |        1 |\n",
       "| CVRD03*    |        1 |\n",
       "| RPRM7300*  |        1 |\n",
       "| WCRA9450*  |        1 |\n",
       "| PDR112000* |        1 |\n",
       "| G1R1*      |        1 |\n",
       "| PAC3YY     |        1 |\n",
       "| LVPID*     |        1 |\n",
       "| R3         |        1 |\n",
       "| HBR3       |        1 |\n",
       "| LRM11/2-B1 |        1 |\n",
       "| EMC4*      |        1 |\n",
       "| LAR1-1(T)- |        1 |\n",
       "| POC4       |        1 |\n",
       "| WAR3*      |        1 |\n",
       "| R1         |        1 |\n",
       "| SRC1CC*    |        1 |\n",
       "| WHR175OO*  |        1 |\n",
       "| SOR1L0     |        1 |\n",
       "| DOCP*      |        1 |\n",
       "| NORI YY    |        1 |\n",
       "| POR3       |        1 |\n",
       "| WHR105     |        1 |\n",
       "| PDRI 7000  |        1 |\n",
       "| LRMD2      |        1 |\n",
       "| BGA1*      |        1 |\n",
       "| DUC1YY     |        1 |\n",
       "| INC2*      |        1 |\n",
       "| LCPR*      |        1 |\n",
       "| NOR1VV     |        1 |\n",
       "| GDR4*      |        1 |\n",
       "| GLRA*      |        1 |\n",
       "| COML       |        1 |\n",
       "| RPRS20000S |        1 |\n",
       "| NOC1*      |        1 |\n",
       "| MNR3D17H25 |        1 |\n",
       "| SRR2*      |        1 |\n",
       "| INP1VV     |        1 |\n",
       "| LBRR2I     |        1 |\n",
       "| PAR16000*  |        1 |\n",
       "| CVA1       |        1 |\n",
       "| RPRAIA*    |        1 |\n",
       "| PDRI       |        1 |\n",
       "| WCR19450-R |        1 |\n",
       "| LCC2-CH*   |        1 |\n",
       "| LRMPD-VM*  |        1 |\n",
       "| LCR16000   |        1 |\n",
       "| WAR120000* |        1 |\n",
       "| LNR3PY     |        1 |\n",
       "| LMPP*      |        1 |\n",
       "| WHR112     |        1 |\n",
       "| WHR16OOO*  |        1 |\n",
       "| ATM1*      |        1 |\n",
       "| SDSP27U-RA |        1 |\n",
       "| LBCT       |        1 |\n",
       "| LBR4R*     |        1 |\n",
       "| MYR3       |        1 |\n",
       "| LKOS*      |        1 |\n",
       "| LVRSP86-16 |        1 |\n",
       "| AHRS-2-200 |        1 |\n",
       "| RBPI       |        1 |\n",
       "| CVC3       |        1 |\n",
       "| NOC3-SPA6* |        1 |\n",
       "| LR16OOO*   |        1 |\n",
       "| MPO/       |        1 |\n",
       "| LR7000     |        1 |\n",
       "| WHC1*      |        1 |\n",
       "| LCRPD1-2U* |        1 |\n",
       "| SLR1A*     |        1 |\n",
       "| LCRPD6OOO5 |        1 |\n",
       "| WHR11L     |        1 |\n",
       "| LCC3VV     |        1 |\n",
       "| PSR6*      |        1 |\n",
       "| LRRPD70008 |        1 |\n",
       "| LCR101     |        1 |\n",
       "| LBCC       |        1 |\n",
       "| EBR1B*     |        1 |\n",
       "| PDA12 1/2* |        1 |\n",
       "| HHRAS1     |        1 |\n",
       "| SOR110*    |        1 |\n",
       "| MOCG-RH*   |        1 |\n",
       "| LCR120000& |        1 |\n",
       "| DOC1*      |        1 |\n",
       "| PSI*       |        1 |\n",
       "| LBPD25     |        1 |\n",
       "| SMC3*      |        1 |\n",
       "| MNR1PD*    |        1 |\n",
       "| LAR1-1*    |        1 |\n",
       "| SPRU*      |        1 |\n",
       "| SOR1*      |        1 |\n",
       "| COCM*      |        1 |\n",
       "| POR2       |        1 |\n",
       "| LCRPD6OOO2 |        1 |\n",
       "| LCA11-R110 |        1 |\n",
       "| WVR112000* |        1 |\n",
       "| LCR1-*     |        1 |\n",
       "| B F R 2    |        1 |\n",
       "| LNR2VV     |        1 |\n",
       "| RPOH-RS200 |        1 |\n",
       "| GLR1**     |        1 |\n",
       "| CLRS13000& |        1 |\n",
       "| HAR3PY     |        1 |\n",
       "| TORR       |        1 |\n",
       "| PRR1YY     |        1 |\n",
       "| HB M*      |        1 |\n",
       "| PDCPD*     |        1 |\n",
       "| LCA110000- |        1 |\n",
       "| ARR 2      |        1 |\n",
       "| AVR2*      |        1 |\n",
       "| PD SP      |        1 |\n",
       "| PSR47200*  |        1 |\n",
       "| PDR 1 1000 |        1 |\n",
       "| DOR3-C1*   |        1 |\n",
       "| LRR114000* |        1 |\n",
       "| INC3*      |        1 |\n",
       "| BRR17500*  |        1 |\n",
       "| PDRPD1SU   |        1 |\n",
       "| LCRAVV     |        1 |\n",
       "| LYP1YY     |        1 |\n",
       "| LCR220000* |        1 |\n",
       "| WHP*       |        1 |\n",
       "| ALCPD-RPD* |        1 |\n",
       "| DOR175*    |        1 |\n",
       "| AZR2YY     |        1 |\n",
       "| MOR3*      |        1 |\n",
       "| TCRPD*     |        1 |\n",
       "| BGM1*      |        1 |\n",
       "| LCM1BE-RA* |        1 |\n",
       "| MOR4*      |        1 |\n",
       "| MORMPD*    |        1 |\n",
       "| MNR1-RAO*  |        1 |\n",
       "| WHR172OO*  |        1 |\n",
       "| SRM1CC*    |        1 |\n",
       "| LCM11/2-C3 |        1 |\n",
       "| LCR3-C1*   |        1 |\n",
       "| CCR4       |        1 |\n",
       "| LCA11      |        1 |\n",
       "| PDRPD151*  |        1 |\n",
       "| POAPVV     |        1 |\n",
       "| LR7OOO*    |        1 |\n",
       "| ARR110000* |        1 |\n",
       "| INC2YY     |        1 |\n",
       "| LCRA05*    |        1 |\n",
       "| CVR1YY     |        1 |\n",
       "| PAM2*      |        1 |\n",
       "| LCRPD 1 2U |        1 |\n",
       "| CLRM2000*  |        1 |\n",
       "| GACP       |        1 |\n",
       "| PDC2*      |        1 |\n",
       "| CMR2YY     |        1 |\n",
       "| LCA22 1/2* |        1 |\n",
       "| LKC4-PDSF* |        1 |\n",
       "| SHCO       |        1 |\n",
       "| MNCL       |        1 |\n",
       "| WAR1       |        1 |\n",
       "| CVR3-RD125 |        1 |\n",
       "| RBR2R*     |        1 |\n",
       "| CVM1-C3A*  |        1 |\n",
       "| LKR1**     |        1 |\n",
       "| LCRA1Y     |        1 |\n",
       "| PVR1       |        1 |\n",
       "| LARE 15-1- |        1 |\n",
       "| LCR105000* |        1 |\n",
       "| SRR3YY     |        1 |\n",
       "| LRRA 6000  |        1 |\n",
       "| GLR1-1*    |        1 |\n",
       "| LCRY*      |        1 |\n",
       "| RBGCYY     |        1 |\n",
       "| LCR210000* |        1 |\n",
       "| SLR1AY     |        1 |\n",
       "| SSM2       |        1 |\n",
       "| LCRA110000 |        1 |\n",
       "| AHRA2OOOO* |        1 |\n",
       "| AHPPD1O*   |        1 |\n",
       "| DUR110000* |        1 |\n",
       "| LCRA81/2   |        1 |\n",
       "| POOP*      |        1 |\n",
       "| SFC2-P*    |        1 |\n",
       "| SD75OO*    |        1 |\n",
       "| CMR2*      |        1 |\n",
       "| LCR1 5000  |        1 |\n",
       "| SOR1YY     |        1 |\n",
       "| LHRA1      |        1 |\n",
       "| SMOP2-CM2* |        1 |\n",
       "| MORM       |        1 |\n",
       "| SCNU3      |        1 |\n",
       "| LVPR7A*    |        1 |\n",
       "| LCR3-15UC3 |        1 |\n",
       "| WAR110000* |        1 |\n",
       "| DOR3PUD*   |        1 |\n",
       "| LCAR15000* |        1 |\n",
       "| LFR3*      |        1 |\n",
       "| LCC3-A2100 |        1 |\n",
       "| MNRAYY     |        1 |\n",
       "| LPRS*      |        1 |\n",
       "| LCCM*      |        1 |\n",
       "| BFA16000*  |        1 |\n",
       "| LYR2       |        1 |\n",
       "| LCA022*    |        1 |\n",
       "| LCA12Y     |        1 |\n",
       "| LNC3YY     |        1 |\n",
       "| TOCR-MH    |        1 |\n",
       "| WHR3YY     |        1 |\n",
       "| NORA50     |        1 |\n",
       "| CVCP*      |        1 |\n",
       "| RECG*      |        1 |\n",
       "| LCA1**     |        1 |\n",
       "| AHRS-(3)10 |        1 |\n",
       "| AZRA20000* |        1 |\n",
       "| LYR1       |        1 |\n",
       "| HAR2       |        1 |\n",
       "| CVRD3600PC |        1 |\n",
       "| AHR115000* |        1 |\n",
       "| PDR2       |        1 |\n",
       "| CARM8U&D*  |        1 |\n",
       "| LBPD3      |        1 |\n",
       "| HBC3*      |        1 |\n",
       "| LRAA6500*  |        1 |\n",
       "| PDR16OOOO* |        1 |\n",
       "| SGC3*      |        1 |\n",
       "| LOMC-R1*   |        1 |\n",
       "| LBR4*      |        1 |\n",
       "| SHSP5*     |        1 |\n",
       "| AHPRD10*   |        1 |\n",
       "| RBR4       |        1 |\n",
       "| HAC2YY     |        1 |\n",
       "| LCR17500   |        1 |\n",
       "| BFA15000*  |        1 |"
      ],
      "text/plain": [
       "<IPython.core.display.Markdown object>"
      ]
     },
     "metadata": {},
     "output_type": "display_data"
    },
    {
     "name": "stdout",
     "output_type": "stream",
     "text": [
      "\n",
      "\n",
      "-------------\n",
      "Column Name:  raw_tract_and_block \n",
      "--------------\n"
     ]
    },
    {
     "data": {
      "text/markdown": [
       "|                                    |   raw_tract_and_block |\n",
       "|:-----------------------------------|----------------------:|\n",
       "| (60370272.019999996, 60444919.091] |                 50135 |\n",
       "| (60444919.091, 60518827.081]       |                     0 |\n",
       "| (60518827.081, 60592735.071]       |                 20276 |\n",
       "| (60592735.071, 60666643.061]       |                     0 |\n",
       "| (60666643.061, 60740551.051]       |                     0 |\n",
       "| (60740551.051, 60814459.041]       |                     0 |\n",
       "| (60814459.041, 60888367.031]       |                     0 |\n",
       "| (60888367.031, 60962275.021]       |                     0 |\n",
       "| (60962275.021, 61036183.011]       |                     0 |\n",
       "| (61036183.011, 61110091.001]       |                  6110 |"
      ],
      "text/plain": [
       "<IPython.core.display.Markdown object>"
      ]
     },
     "metadata": {},
     "output_type": "display_data"
    },
    {
     "name": "stdout",
     "output_type": "stream",
     "text": [
      "\n",
      "\n",
      "-------------\n",
      "Column Name:  city_id \n",
      "--------------\n"
     ]
    },
    {
     "data": {
      "text/markdown": [
       "|                               |   city_id |\n",
       "|:------------------------------|----------:|\n",
       "| (3097.9339999999997, 42797.5] |     55080 |\n",
       "| (42797.5, 82104.0]            |     17878 |\n",
       "| (82104.0, 121410.5]           |      1046 |\n",
       "| (121410.5, 160717.0]          |         0 |\n",
       "| (160717.0, 200023.5]          |         0 |\n",
       "| (200023.5, 239330.0]          |         0 |\n",
       "| (239330.0, 278636.5]          |        24 |\n",
       "| (278636.5, 317943.0]          |         0 |\n",
       "| (317943.0, 357249.5]          |         0 |\n",
       "| (357249.5, 396556.0]          |      1047 |"
      ],
      "text/plain": [
       "<IPython.core.display.Markdown object>"
      ]
     },
     "metadata": {},
     "output_type": "display_data"
    },
    {
     "name": "stdout",
     "output_type": "stream",
     "text": [
      "\n",
      "\n",
      "-------------\n",
      "Column Name:  county_id \n",
      "--------------\n"
     ]
    },
    {
     "data": {
      "text/markdown": [
       "|                    |   county_id |\n",
       "|:-------------------|------------:|\n",
       "| (1284.184, 1467.5] |       20276 |\n",
       "| (1467.5, 1649.0]   |           0 |\n",
       "| (1649.0, 1830.5]   |           0 |\n",
       "| (1830.5, 2012.0]   |           0 |\n",
       "| (2012.0, 2193.5]   |        6110 |\n",
       "| (2193.5, 2375.0]   |           0 |\n",
       "| (2375.0, 2556.5]   |           0 |\n",
       "| (2556.5, 2738.0]   |           0 |\n",
       "| (2738.0, 2919.5]   |           0 |\n",
       "| (2919.5, 3101.0]   |       50135 |"
      ],
      "text/plain": [
       "<IPython.core.display.Markdown object>"
      ]
     },
     "metadata": {},
     "output_type": "display_data"
    },
    {
     "name": "stdout",
     "output_type": "stream",
     "text": [
      "\n",
      "\n",
      "-------------\n",
      "Column Name:  neighborhood \n",
      "--------------\n"
     ]
    },
    {
     "data": {
      "text/markdown": [
       "|                      |   neighborhood |\n",
       "|:---------------------|---------------:|\n",
       "| (6194.784, 82673.5]  |          11481 |\n",
       "| (82673.5, 158395.0]  |           4543 |\n",
       "| (158395.0, 234116.5] |             43 |\n",
       "| (234116.5, 309838.0] |          11360 |\n",
       "| (309838.0, 385559.5] |             72 |\n",
       "| (385559.5, 461281.0] |           1898 |\n",
       "| (461281.0, 537002.5] |              0 |\n",
       "| (537002.5, 612724.0] |              0 |\n",
       "| (612724.0, 688445.5] |             66 |\n",
       "| (688445.5, 764167.0] |           1063 |"
      ],
      "text/plain": [
       "<IPython.core.display.Markdown object>"
      ]
     },
     "metadata": {},
     "output_type": "display_data"
    },
    {
     "name": "stdout",
     "output_type": "stream",
     "text": [
      "\n",
      "\n",
      "-------------\n",
      "Column Name:  zip_code \n",
      "--------------\n"
     ]
    },
    {
     "data": {
      "text/markdown": [
       "|                       |   zip_code |\n",
       "|:----------------------|-----------:|\n",
       "| (95678.306, 126351.3] |      76465 |\n",
       "| (126351.3, 156720.6]  |          0 |\n",
       "| (156720.6, 187089.9]  |          0 |\n",
       "| (187089.9, 217459.2]  |          0 |\n",
       "| (217459.2, 247828.5]  |          0 |\n",
       "| (247828.5, 278197.8]  |          0 |\n",
       "| (278197.8, 308567.1]  |          0 |\n",
       "| (308567.1, 338936.4]  |          0 |\n",
       "| (338936.4, 369305.7]  |          0 |\n",
       "| (369305.7, 399675.0]  |         12 |"
      ],
      "text/plain": [
       "<IPython.core.display.Markdown object>"
      ]
     },
     "metadata": {},
     "output_type": "display_data"
    },
    {
     "name": "stdout",
     "output_type": "stream",
     "text": [
      "\n",
      "\n",
      "-------------\n",
      "Column Name:  num_rooms \n",
      "--------------\n"
     ]
    },
    {
     "data": {
      "text/markdown": [
       "|               |   num_rooms |\n",
       "|:--------------|------------:|\n",
       "| (-0.016, 1.5] |       58978 |\n",
       "| (1.5, 3.0]    |         218 |\n",
       "| (3.0, 4.5]    |        1413 |\n",
       "| (4.5, 6.0]    |        7521 |\n",
       "| (6.0, 7.5]    |        3834 |\n",
       "| (7.5, 9.0]    |        4060 |\n",
       "| (9.0, 10.5]   |         339 |\n",
       "| (10.5, 12.0]  |         141 |\n",
       "| (12.0, 13.5]  |          10 |\n",
       "| (13.5, 15.0]  |           7 |"
      ],
      "text/plain": [
       "<IPython.core.display.Markdown object>"
      ]
     },
     "metadata": {},
     "output_type": "display_data"
    },
    {
     "name": "stdout",
     "output_type": "stream",
     "text": [
      "\n",
      "\n",
      "-------------\n",
      "Column Name:  stories_type \n",
      "--------------\n"
     ]
    },
    {
     "data": {
      "text/markdown": [
       "|                |   stories_type |\n",
       "|:---------------|---------------:|\n",
       "| (6.992, 6.994] |              0 |\n",
       "| (6.994, 6.996] |              0 |\n",
       "| (6.996, 6.997] |              0 |\n",
       "| (6.997, 6.999] |              0 |\n",
       "| (6.999, 7.0]   |             50 |\n",
       "| (7.0, 7.001]   |              0 |\n",
       "| (7.001, 7.003] |              0 |\n",
       "| (7.003, 7.004] |              0 |\n",
       "| (7.004, 7.006] |              0 |\n",
       "| (7.006, 7.007] |              0 |"
      ],
      "text/plain": [
       "<IPython.core.display.Markdown object>"
      ]
     },
     "metadata": {},
     "output_type": "display_data"
    },
    {
     "name": "stdout",
     "output_type": "stream",
     "text": [
      "\n",
      "\n",
      "-------------\n",
      "Column Name:  three_quarter_baths \n",
      "--------------\n"
     ]
    },
    {
     "data": {
      "text/markdown": [
       "|              |   three_quarter_baths |\n",
       "|:-------------|----------------------:|\n",
       "| (0.993, 1.6] |                 10010 |\n",
       "| (1.6, 2.2]   |                    75 |\n",
       "| (2.2, 2.8]   |                     0 |\n",
       "| (2.8, 3.4]   |                     8 |\n",
       "| (3.4, 4.0]   |                     0 |\n",
       "| (4.0, 4.6]   |                     0 |\n",
       "| (4.6, 5.2]   |                     0 |\n",
       "| (5.2, 5.8]   |                     0 |\n",
       "| (5.8, 6.4]   |                     0 |\n",
       "| (6.4, 7.0]   |                     1 |"
      ],
      "text/plain": [
       "<IPython.core.display.Markdown object>"
      ]
     },
     "metadata": {},
     "output_type": "display_data"
    },
    {
     "name": "stdout",
     "output_type": "stream",
     "text": [
      "\n",
      "\n",
      "-------------\n",
      "Column Name:  units \n",
      "--------------\n"
     ]
    },
    {
     "data": {
      "text/markdown": [
       "|              |   units |\n",
       "|:-------------|--------:|\n",
       "| (0.994, 1.5] |   47035 |\n",
       "| (1.5, 2.0]   |    1855 |\n",
       "| (2.0, 2.5]   |       0 |\n",
       "| (2.5, 3.0]   |     480 |\n",
       "| (3.0, 3.5]   |       0 |\n",
       "| (3.5, 4.0]   |     614 |\n",
       "| (4.0, 4.5]   |       0 |\n",
       "| (4.5, 5.0]   |       0 |\n",
       "| (5.0, 5.5]   |       0 |\n",
       "| (5.5, 6.0]   |       1 |"
      ],
      "text/plain": [
       "<IPython.core.display.Markdown object>"
      ]
     },
     "metadata": {},
     "output_type": "display_data"
    },
    {
     "name": "stdout",
     "output_type": "stream",
     "text": [
      "\n",
      "\n",
      "-------------\n",
      "Column Name:  yard_sqft_17 \n",
      "--------------\n"
     ]
    },
    {
     "data": {
      "text/markdown": [
       "|                  |   yard_sqft_17 |\n",
       "|:-----------------|---------------:|\n",
       "| (7.819, 329.0]   |           1629 |\n",
       "| (329.0, 647.0]   |            603 |\n",
       "| (647.0, 965.0]   |             94 |\n",
       "| (965.0, 1283.0]  |             34 |\n",
       "| (1283.0, 1601.0] |              9 |\n",
       "| (1601.0, 1919.0] |              1 |\n",
       "| (1919.0, 2237.0] |              2 |\n",
       "| (2237.0, 2555.0] |              2 |\n",
       "| (2555.0, 2873.0] |              1 |\n",
       "| (2873.0, 3191.0] |              2 |"
      ],
      "text/plain": [
       "<IPython.core.display.Markdown object>"
      ]
     },
     "metadata": {},
     "output_type": "display_data"
    },
    {
     "name": "stdout",
     "output_type": "stream",
     "text": [
      "\n",
      "\n",
      "-------------\n",
      "Column Name:  yard_sqft_26 \n",
      "--------------\n"
     ]
    },
    {
     "data": {
      "text/markdown": [
       "|                |   yard_sqft_26 |\n",
       "|:---------------|---------------:|\n",
       "| (11.143, 97.6] |             24 |\n",
       "| (97.6, 183.2]  |             14 |\n",
       "| (183.2, 268.8] |             10 |\n",
       "| (268.8, 354.4] |              7 |\n",
       "| (354.4, 440.0] |              4 |\n",
       "| (440.0, 525.6] |              6 |\n",
       "| (525.6, 611.2] |              2 |\n",
       "| (611.2, 696.8] |              1 |\n",
       "| (696.8, 782.4] |              1 |\n",
       "| (782.4, 868.0] |              1 |"
      ],
      "text/plain": [
       "<IPython.core.display.Markdown object>"
      ]
     },
     "metadata": {},
     "output_type": "display_data"
    },
    {
     "name": "stdout",
     "output_type": "stream",
     "text": [
      "\n",
      "\n",
      "-------------\n",
      "Column Name:  year_built \n",
      "--------------\n"
     ]
    },
    {
     "data": {
      "text/markdown": [
       "|      |   year_built |\n",
       "|-----:|-------------:|\n",
       "| 1955 |         1956 |\n",
       "| 1989 |         1786 |\n",
       "| 1950 |         1663 |\n",
       "| 1964 |         1611 |\n",
       "| 1954 |         1580 |\n",
       "| 1953 |         1540 |\n",
       "| 1973 |         1526 |\n",
       "| 1956 |         1437 |\n",
       "| 1987 |         1429 |\n",
       "| 1979 |         1422 |\n",
       "| 1990 |         1390 |\n",
       "| 1980 |         1372 |\n",
       "| 1963 |         1311 |\n",
       "| 1977 |         1270 |\n",
       "| 1952 |         1251 |\n",
       "| 1965 |         1241 |\n",
       "| 1951 |         1236 |\n",
       "| 1986 |         1234 |\n",
       "| 1972 |         1220 |\n",
       "| 1974 |         1219 |\n",
       "| 1978 |         1195 |\n",
       "| 1981 |         1153 |\n",
       "| 1959 |         1141 |\n",
       "| 1985 |         1133 |\n",
       "| 1962 |         1126 |\n",
       "| 1971 |         1107 |\n",
       "| 1984 |         1090 |\n",
       "| 1947 |         1086 |\n",
       "| 1957 |         1068 |\n",
       "| 1949 |         1067 |\n",
       "| 1988 |         1047 |\n",
       "| 1976 |         1043 |\n",
       "| 1948 |         1027 |\n",
       "| 2006 |          946 |\n",
       "| 1960 |          940 |\n",
       "| 2005 |          934 |\n",
       "| 1969 |          917 |\n",
       "| 1961 |          904 |\n",
       "| 1983 |          850 |\n",
       "| 2003 |          849 |\n",
       "| 2007 |          845 |\n",
       "| 1958 |          834 |\n",
       "| 2004 |          832 |\n",
       "| 1975 |          791 |\n",
       "| 2001 |          778 |\n",
       "| 1970 |          771 |\n",
       "| 1968 |          732 |\n",
       "| 1923 |          721 |\n",
       "| 1999 |          705 |\n",
       "| 1982 |          690 |\n",
       "| 1966 |          688 |\n",
       "| 2002 |          677 |\n",
       "| 2000 |          676 |\n",
       "| 1924 |          649 |\n",
       "| 1998 |          624 |\n",
       "| 1997 |          581 |\n",
       "| 1991 |          577 |\n",
       "| 1941 |          571 |\n",
       "| 1994 |          570 |\n",
       "| 1992 |          559 |\n",
       "| 1940 |          558 |\n",
       "| 1925 |          556 |\n",
       "| 1996 |          543 |\n",
       "| 1995 |          539 |\n",
       "| 1967 |          534 |\n",
       "| 1922 |          510 |\n",
       "| 1926 |          507 |\n",
       "| 1939 |          478 |\n",
       "| 1993 |          478 |\n",
       "| 1946 |          438 |\n",
       "| 2008 |          405 |\n",
       "| 1927 |          401 |\n",
       "| 1938 |          398 |\n",
       "| 1928 |          384 |\n",
       "| 1944 |          347 |\n",
       "| 1942 |          339 |\n",
       "| 1937 |          337 |\n",
       "| 2009 |          330 |\n",
       "| 2010 |          315 |\n",
       "| 1929 |          299 |\n",
       "| 2013 |          297 |\n",
       "| 1921 |          281 |\n",
       "| 1936 |          262 |\n",
       "| 1930 |          260 |\n",
       "| 2014 |          252 |\n",
       "| 2012 |          245 |\n",
       "| 1920 |          219 |\n",
       "| 2011 |          206 |\n",
       "| 1945 |          186 |\n",
       "| 1912 |          168 |\n",
       "| 1943 |          167 |\n",
       "| 1910 |          159 |\n",
       "| 1931 |          144 |\n",
       "| 1935 |          137 |\n",
       "| 1913 |          126 |\n",
       "| 1911 |          108 |\n",
       "| 1932 |          102 |\n",
       "| 1915 |           97 |\n",
       "| 2015 |           95 |\n",
       "| 1914 |           89 |\n",
       "| 1905 |           88 |\n",
       "| 1919 |           88 |\n",
       "| 1908 |           86 |\n",
       "| 1909 |           84 |\n",
       "| 1933 |           78 |\n",
       "| 1906 |           70 |\n",
       "| 1907 |           62 |\n",
       "| 1934 |           62 |\n",
       "| 1918 |           60 |\n",
       "|  nan |           57 |\n",
       "| 1916 |           55 |\n",
       "| 1917 |           55 |\n",
       "| 1904 |           34 |\n",
       "| 1903 |           31 |\n",
       "| 1895 |           20 |\n",
       "| 1901 |           19 |\n",
       "| 1900 |           15 |\n",
       "| 1902 |           14 |\n",
       "| 1890 |           10 |\n",
       "| 1898 |            7 |\n",
       "| 1885 |            6 |\n",
       "| 1893 |            5 |\n",
       "| 1896 |            5 |\n",
       "| 2016 |            4 |\n",
       "| 1888 |            4 |\n",
       "| 1887 |            3 |\n",
       "| 1897 |            3 |\n",
       "| 1892 |            2 |\n",
       "| 1899 |            2 |\n",
       "| 1883 |            1 |\n",
       "| 1889 |            1 |\n",
       "| 1878 |            1 |\n",
       "| 1866 |            1 |\n",
       "| 1824 |            1 |\n",
       "| 1882 |            1 |\n",
       "| 1894 |            1 |\n",
       "| 1880 |            1 |"
      ],
      "text/plain": [
       "<IPython.core.display.Markdown object>"
      ]
     },
     "metadata": {},
     "output_type": "display_data"
    },
    {
     "name": "stdout",
     "output_type": "stream",
     "text": [
      "\n",
      "\n",
      "-------------\n",
      "Column Name:  num_stories \n",
      "--------------\n"
     ]
    },
    {
     "data": {
      "text/markdown": [
       "|              |   num_stories |\n",
       "|:-------------|--------------:|\n",
       "| (0.994, 1.5] |         10328 |\n",
       "| (1.5, 2.0]   |          6572 |\n",
       "| (2.0, 2.5]   |             0 |\n",
       "| (2.5, 3.0]   |           435 |\n",
       "| (3.0, 3.5]   |             0 |\n",
       "| (3.5, 4.0]   |             0 |\n",
       "| (4.0, 4.5]   |             0 |\n",
       "| (4.5, 5.0]   |             0 |\n",
       "| (5.0, 5.5]   |             0 |\n",
       "| (5.5, 6.0]   |             1 |"
      ],
      "text/plain": [
       "<IPython.core.display.Markdown object>"
      ]
     },
     "metadata": {},
     "output_type": "display_data"
    },
    {
     "name": "stdout",
     "output_type": "stream",
     "text": [
      "\n",
      "\n",
      "-------------\n",
      "Column Name:  fireplace_flag \n",
      "--------------\n"
     ]
    },
    {
     "data": {
      "text/markdown": [
       "|                  |   fireplace_flag |\n",
       "|:-----------------|-----------------:|\n",
       "| (0.9989, 0.9992] |                0 |\n",
       "| (0.9992, 0.9994] |                0 |\n",
       "| (0.9994, 0.9996] |                0 |\n",
       "| (0.9996, 0.9998] |                0 |\n",
       "| (0.9998, 1.0]    |              172 |\n",
       "| (1.0, 1.0002]    |                0 |\n",
       "| (1.0002, 1.0004] |                0 |\n",
       "| (1.0004, 1.0006] |                0 |\n",
       "| (1.0006, 1.0008] |                0 |\n",
       "| (1.0008, 1.001]  |                0 |"
      ],
      "text/plain": [
       "<IPython.core.display.Markdown object>"
      ]
     },
     "metadata": {},
     "output_type": "display_data"
    },
    {
     "name": "stdout",
     "output_type": "stream",
     "text": [
      "\n",
      "\n",
      "-------------\n",
      "Column Name:  building_tax_value \n",
      "--------------\n"
     ]
    },
    {
     "data": {
      "text/markdown": [
       "|                        |   building_tax_value |\n",
       "|:-----------------------|---------------------:|\n",
       "| (-9120.858, 916529.7]  |                75431 |\n",
       "| (916529.7, 1833015.4]  |                  834 |\n",
       "| (1833015.4, 2749501.1] |                  109 |\n",
       "| (2749501.1, 3665986.8] |                   38 |\n",
       "| (3665986.8, 4582472.5] |                    9 |\n",
       "| (4582472.5, 5498958.2] |                    7 |\n",
       "| (5498958.2, 6415443.9] |                    2 |\n",
       "| (6415443.9, 7331929.6] |                    2 |\n",
       "| (7331929.6, 8248415.3] |                    4 |\n",
       "| (8248415.3, 9164901.0] |                    1 |"
      ],
      "text/plain": [
       "<IPython.core.display.Markdown object>"
      ]
     },
     "metadata": {},
     "output_type": "display_data"
    },
    {
     "name": "stdout",
     "output_type": "stream",
     "text": [
      "\n",
      "\n",
      "-------------\n",
      "Column Name:  tax_value \n",
      "--------------\n"
     ]
    },
    {
     "data": {
      "text/markdown": [
       "|                                  |   tax_value |\n",
       "|:---------------------------------|------------:|\n",
       "| (-48060.236999999994, 4907023.6] |       76311 |\n",
       "| (4907023.6, 9813047.2]           |         172 |\n",
       "| (9813047.2, 14719070.8]          |          24 |\n",
       "| (14719070.8, 19625094.4]         |           8 |\n",
       "| (19625094.4, 24531118.0]         |           4 |\n",
       "| (24531118.0, 29437141.6]         |           1 |\n",
       "| (29437141.6, 34343165.2]         |           0 |\n",
       "| (34343165.2, 39249188.8]         |           0 |\n",
       "| (39249188.8, 44155212.4]         |           0 |\n",
       "| (44155212.4, 49061236.0]         |           1 |"
      ],
      "text/plain": [
       "<IPython.core.display.Markdown object>"
      ]
     },
     "metadata": {},
     "output_type": "display_data"
    },
    {
     "name": "stdout",
     "output_type": "stream",
     "text": [
      "\n",
      "\n",
      "-------------\n",
      "Column Name:  year_assesed \n",
      "--------------\n"
     ]
    },
    {
     "data": {
      "text/markdown": [
       "|                      |   year_assesed |\n",
       "|:---------------------|---------------:|\n",
       "| (2013.983, 2014.387] |              0 |\n",
       "| (2014.387, 2014.79]  |              0 |\n",
       "| (2014.79, 2015.194]  |              0 |\n",
       "| (2015.194, 2015.597] |              0 |\n",
       "| (2015.597, 2016.0]   |          76521 |\n",
       "| (2016.0, 2016.403]   |              0 |\n",
       "| (2016.403, 2016.806] |              0 |\n",
       "| (2016.806, 2017.21]  |              0 |\n",
       "| (2017.21, 2017.613]  |              0 |\n",
       "| (2017.613, 2018.016] |              0 |"
      ],
      "text/plain": [
       "<IPython.core.display.Markdown object>"
      ]
     },
     "metadata": {},
     "output_type": "display_data"
    },
    {
     "name": "stdout",
     "output_type": "stream",
     "text": [
      "\n",
      "\n",
      "-------------\n",
      "Column Name:  land_tax_value \n",
      "--------------\n"
     ]
    },
    {
     "data": {
      "text/markdown": [
       "|                                 |   land_tax_value |\n",
       "|:--------------------------------|-----------------:|\n",
       "| (-48791.03799999999, 4895364.7] |            76414 |\n",
       "| (4895364.7, 9790568.4]          |               86 |\n",
       "| (9790568.4, 14685772.1]         |               14 |\n",
       "| (14685772.1, 19580975.8]        |                5 |\n",
       "| (19580975.8, 24476179.5]        |                1 |\n",
       "| (24476179.5, 29371383.2]        |                0 |\n",
       "| (29371383.2, 34266586.9]        |                0 |\n",
       "| (34266586.9, 39161790.6]        |                0 |\n",
       "| (39161790.6, 44056994.3]        |                0 |\n",
       "| (44056994.3, 48952198.0]        |                1 |"
      ],
      "text/plain": [
       "<IPython.core.display.Markdown object>"
      ]
     },
     "metadata": {},
     "output_type": "display_data"
    },
    {
     "name": "stdout",
     "output_type": "stream",
     "text": [
      "\n",
      "\n",
      "-------------\n",
      "Column Name:  tax_amount \n",
      "--------------\n"
     ]
    },
    {
     "data": {
      "text/markdown": [
       "|                                 |   tax_amount |\n",
       "|:--------------------------------|-------------:|\n",
       "| (-566.6999999999999, 58681.858] |        76315 |\n",
       "| (58681.858, 117343.796]         |          167 |\n",
       "| (117343.796, 176005.734]        |           20 |\n",
       "| (176005.734, 234667.672]        |            9 |\n",
       "| (234667.672, 293329.61]         |            4 |\n",
       "| (293329.61, 351991.548]         |            0 |\n",
       "| (351991.548, 410653.486]        |            0 |\n",
       "| (410653.486, 469315.424]        |            0 |\n",
       "| (469315.424, 527977.362]        |            0 |\n",
       "| (527977.362, 586639.3]          |            1 |"
      ],
      "text/plain": [
       "<IPython.core.display.Markdown object>"
      ]
     },
     "metadata": {},
     "output_type": "display_data"
    },
    {
     "name": "stdout",
     "output_type": "stream",
     "text": [
      "\n",
      "\n",
      "-------------\n",
      "Column Name:  tax_delinquency_flag \n",
      "--------------\n"
     ]
    },
    {
     "data": {
      "text/markdown": [
       "|    |   tax_delinquency_flag |\n",
       "|:---|-----------------------:|\n",
       "|    |                  73669 |\n",
       "| Y  |                   2852 |"
      ],
      "text/plain": [
       "<IPython.core.display.Markdown object>"
      ]
     },
     "metadata": {},
     "output_type": "display_data"
    },
    {
     "name": "stdout",
     "output_type": "stream",
     "text": [
      "\n",
      "\n",
      "-------------\n",
      "Column Name:  tax_delinquency_year \n",
      "--------------\n"
     ]
    },
    {
     "data": {
      "text/markdown": [
       "|               |   tax_delinquency_year |\n",
       "|:--------------|-----------------------:|\n",
       "| (2.903, 12.6] |                    348 |\n",
       "| (12.6, 22.2]  |                   2503 |\n",
       "| (22.2, 31.8]  |                      0 |\n",
       "| (31.8, 41.4]  |                      0 |\n",
       "| (41.4, 51.0]  |                      0 |\n",
       "| (51.0, 60.6]  |                      0 |\n",
       "| (60.6, 70.2]  |                      0 |\n",
       "| (70.2, 79.8]  |                      0 |\n",
       "| (79.8, 89.4]  |                      0 |\n",
       "| (89.4, 99.0]  |                      1 |"
      ],
      "text/plain": [
       "<IPython.core.display.Markdown object>"
      ]
     },
     "metadata": {},
     "output_type": "display_data"
    },
    {
     "name": "stdout",
     "output_type": "stream",
     "text": [
      "\n",
      "\n",
      "-------------\n",
      "Column Name:  tract_and_block \n",
      "--------------\n"
     ]
    },
    {
     "data": {
      "text/markdown": [
       "|                                         |   tract_and_block |\n",
       "|:----------------------------------------|------------------:|\n",
       "| (59948352007016.984, 102636920499301.5] |             76300 |\n",
       "| (102636920499301.5, 144902829897603.0]  |                 0 |\n",
       "| (144902829897603.0, 187168739295904.5]  |                 0 |\n",
       "| (187168739295904.5, 229434648694206.03] |                 0 |\n",
       "| (229434648694206.03, 271700558092507.5] |                 0 |\n",
       "| (271700558092507.5, 313966467490809.0]  |                 0 |\n",
       "| (313966467490809.0, 356232376889110.5]  |                 0 |\n",
       "| (356232376889110.5, 398498286287411.94] |                 0 |\n",
       "| (398498286287411.94, 440764195685713.5] |                 0 |\n",
       "| (440764195685713.5, 483030105084015.0]  |                 1 |"
      ],
      "text/plain": [
       "<IPython.core.display.Markdown object>"
      ]
     },
     "metadata": {},
     "output_type": "display_data"
    },
    {
     "name": "stdout",
     "output_type": "stream",
     "text": [
      "\n",
      "\n",
      "-------------\n",
      "-----------------\n",
      "---End of Line---\n"
     ]
    }
   ],
   "source": [
    "summarize(df)"
   ]
  },
  {
   "cell_type": "markdown",
   "id": "ffca1d94",
   "metadata": {},
   "source": [
    "# FINAL CELL\n",
    "<br><br><br><br><br><br><br><br><br><br><br><br><br><br><br><br><br><br><br><br><br><br><br><br><br><br><br><br><br><br><br><br><br><br><br><br><br><br><br><br><br><br><br><br><br><br><br><br><br><br><br><br><br><br>"
   ]
  }
 ],
 "metadata": {
  "kernelspec": {
   "display_name": "Python 3 (ipykernel)",
   "language": "python",
   "name": "python3"
  },
  "language_info": {
   "codemirror_mode": {
    "name": "ipython",
    "version": 3
   },
   "file_extension": ".py",
   "mimetype": "text/x-python",
   "name": "python",
   "nbconvert_exporter": "python",
   "pygments_lexer": "ipython3",
   "version": "3.9.12"
  }
 },
 "nbformat": 4,
 "nbformat_minor": 5
}
